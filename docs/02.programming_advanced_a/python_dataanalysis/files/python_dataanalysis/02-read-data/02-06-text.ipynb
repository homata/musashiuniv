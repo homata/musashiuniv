{
 "cells": [
  {
   "cell_type": "markdown",
   "id": "a83b0231",
   "metadata": {},
   "source": [
    "# 文書データ"
   ]
  },
  {
   "cell_type": "markdown",
   "id": "eb36a9a9",
   "metadata": {},
   "source": [
    "## 青空文庫のデータをDataFrame化"
   ]
  },
  {
   "cell_type": "code",
   "execution_count": 1,
   "id": "d8be46a6",
   "metadata": {
    "execution": {
     "iopub.execute_input": "2025-08-31T17:18:03.463133Z",
     "iopub.status.busy": "2025-08-31T17:18:03.462056Z",
     "iopub.status.idle": "2025-08-31T17:18:03.486052Z",
     "shell.execute_reply": "2025-08-31T17:18:03.484415Z"
    }
   },
   "outputs": [
    {
     "data": {
      "text/plain": [
       "{'org': '\\u3000私《わたくし》はその人を常に先生と呼んでいた。だからここでもただ先生と書くだけで本名は打ち明けない。これは世間を憚《はば》かる遠慮というよりも、その方が私にとって自然だからである。私はその人の記憶を呼び起すごとに、すぐ「先生」といいたくなる。筆を執《と》っても心持は同じ事である。よそよそしい頭文字《かしらもじ》などはとても使う気にならない。\\n',\n",
       " 'length': 173}"
      ]
     },
     "execution_count": 1,
     "metadata": {},
     "output_type": "execute_result"
    }
   ],
   "source": [
    "out = []\n",
    "with open(\"data/kokoro-1.txt\", \"r\", encoding=\"utf-8\") as f:  # ・・①\n",
    "    for line in f:  # ・・②\n",
    "        if not line.strip():  # ・・③\n",
    "            continue\n",
    "        data = {}\n",
    "        data[\"org\"] = line\n",
    "        data[\"length\"] = len(line)\n",
    "        out.append(data)  # ・・④\n",
    "out[0]"
   ]
  },
  {
   "cell_type": "code",
   "execution_count": 2,
   "id": "d0f55457",
   "metadata": {
    "execution": {
     "iopub.execute_input": "2025-08-31T17:18:03.491274Z",
     "iopub.status.busy": "2025-08-31T17:18:03.490728Z",
     "iopub.status.idle": "2025-08-31T17:18:04.156416Z",
     "shell.execute_reply": "2025-08-31T17:18:04.153834Z"
    }
   },
   "outputs": [],
   "source": [
    "import pandas as pd\n",
    "\n",
    "df = pd.DataFrame(out)"
   ]
  },
  {
   "cell_type": "code",
   "execution_count": 3,
   "id": "7ac172d4",
   "metadata": {
    "execution": {
     "iopub.execute_input": "2025-08-31T17:18:04.165057Z",
     "iopub.status.busy": "2025-08-31T17:18:04.163658Z",
     "iopub.status.idle": "2025-08-31T17:18:04.189666Z",
     "shell.execute_reply": "2025-08-31T17:18:04.187226Z"
    }
   },
   "outputs": [
    {
     "data": {
      "text/html": [
       "<div>\n",
       "<style scoped>\n",
       "    .dataframe tbody tr th:only-of-type {\n",
       "        vertical-align: middle;\n",
       "    }\n",
       "\n",
       "    .dataframe tbody tr th {\n",
       "        vertical-align: top;\n",
       "    }\n",
       "\n",
       "    .dataframe thead th {\n",
       "        text-align: right;\n",
       "    }\n",
       "</style>\n",
       "<table border=\"1\" class=\"dataframe\">\n",
       "  <thead>\n",
       "    <tr style=\"text-align: right;\">\n",
       "      <th></th>\n",
       "      <th>org</th>\n",
       "      <th>length</th>\n",
       "    </tr>\n",
       "  </thead>\n",
       "  <tbody>\n",
       "    <tr>\n",
       "      <th>0</th>\n",
       "      <td>私《わたくし》はその人を常に先生と呼んでいた。だからここでもただ先生と書くだけで本名は打ち...</td>\n",
       "      <td>173</td>\n",
       "    </tr>\n",
       "    <tr>\n",
       "      <th>1</th>\n",
       "      <td>私が先生と知り合いになったのは鎌倉《かまくら》である。その時私はまだ若々しい書生であった。...</td>\n",
       "      <td>476</td>\n",
       "    </tr>\n",
       "    <tr>\n",
       "      <th>2</th>\n",
       "      <td>学校の授業が始まるにはまだ大分《だいぶ》日数《ひかず》があるので鎌倉におってもよし、帰って...</td>\n",
       "      <td>201</td>\n",
       "    </tr>\n",
       "    <tr>\n",
       "      <th>3</th>\n",
       "      <td>宿は鎌倉でも辺鄙《へんぴ》な方角にあった。玉突《たまつ》きだのアイスクリームだのというハイ...</td>\n",
       "      <td>157</td>\n",
       "    </tr>\n",
       "    <tr>\n",
       "      <th>4</th>\n",
       "      <td>私は毎日海へはいりに出掛けた。古い燻《くす》ぶり返った藁葺《わらぶき》の間《あいだ》を通り...</td>\n",
       "      <td>252</td>\n",
       "    </tr>\n",
       "    <tr>\n",
       "      <th>5</th>\n",
       "      <td>私は実に先生をこの雑沓《ざっとう》の間《あいだ》に見付け出したのである。その時海岸には掛茶...</td>\n",
       "      <td>356</td>\n",
       "    </tr>\n",
       "  </tbody>\n",
       "</table>\n",
       "</div>"
      ],
      "text/plain": [
       "                                                 org  length\n",
       "0  　私《わたくし》はその人を常に先生と呼んでいた。だからここでもただ先生と書くだけで本名は打ち...     173\n",
       "1  　私が先生と知り合いになったのは鎌倉《かまくら》である。その時私はまだ若々しい書生であった。...     476\n",
       "2  　学校の授業が始まるにはまだ大分《だいぶ》日数《ひかず》があるので鎌倉におってもよし、帰って...     201\n",
       "3  　宿は鎌倉でも辺鄙《へんぴ》な方角にあった。玉突《たまつ》きだのアイスクリームだのというハイ...     157\n",
       "4  　私は毎日海へはいりに出掛けた。古い燻《くす》ぶり返った藁葺《わらぶき》の間《あいだ》を通り...     252\n",
       "5  　私は実に先生をこの雑沓《ざっとう》の間《あいだ》に見付け出したのである。その時海岸には掛茶...     356"
      ]
     },
     "execution_count": 3,
     "metadata": {},
     "output_type": "execute_result"
    }
   ],
   "source": [
    "df"
   ]
  }
 ],
 "metadata": {
  "language_info": {
   "codemirror_mode": {
    "name": "ipython",
    "version": 3
   },
   "file_extension": ".py",
   "mimetype": "text/x-python",
   "name": "python",
   "nbconvert_exporter": "python",
   "pygments_lexer": "ipython3",
   "version": "3.12.3"
  }
 },
 "nbformat": 4,
 "nbformat_minor": 5
}
