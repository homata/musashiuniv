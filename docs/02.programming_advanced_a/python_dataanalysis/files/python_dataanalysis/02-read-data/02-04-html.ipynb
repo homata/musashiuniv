{
 "cells": [
  {
   "cell_type": "markdown",
   "id": "35bbac95",
   "metadata": {},
   "source": [
    "# HTML形式"
   ]
  },
  {
   "cell_type": "markdown",
   "id": "8ae306b4",
   "metadata": {},
   "source": [
    "## Webスクレイピング"
   ]
  },
  {
   "cell_type": "markdown",
   "id": "f954a47a",
   "metadata": {},
   "source": [
    "## データサンプル"
   ]
  },
  {
   "cell_type": "markdown",
   "id": "cb491c09",
   "metadata": {},
   "source": [
    "## データの取得方法"
   ]
  },
  {
   "cell_type": "markdown",
   "id": "707ab982",
   "metadata": {},
   "source": [
    "### HTMLを取得してタグを解析する方法"
   ]
  },
  {
   "cell_type": "code",
   "execution_count": 1,
   "id": "7e40f619",
   "metadata": {
    "execution": {
     "iopub.execute_input": "2025-08-31T17:17:54.690559Z",
     "iopub.status.busy": "2025-08-31T17:17:54.689721Z",
     "iopub.status.idle": "2025-08-31T17:17:55.617270Z",
     "shell.execute_reply": "2025-08-31T17:17:55.616226Z"
    }
   },
   "outputs": [
    {
     "name": "stdout",
     "output_type": "stream",
     "text": [
      "{'type-status': 'PS', 'number': '5', 'title': 'Guidelines for Language Evolution', 'authors': 'Paul Prescod'}\n"
     ]
    }
   ],
   "source": [
    "from urllib.request import urlopen\n",
    "from bs4 import BeautifulSoup\n",
    "\n",
    "url = \"https://peps.python.org/\"  # WebサイトのURL\n",
    "attrs = (\n",
    "    \"type-status\",\n",
    "    \"number\",\n",
    "    \"title\",\n",
    "    \"authors\",\n",
    ")  # 取得するデータの属性名\n",
    "\n",
    "with urlopen(url) as f:  # urllibでWebサイトにアクセス・・①\n",
    "    html = f.read()\n",
    "\n",
    "# 取得したHTMLデータを BeautifulSoup で解析\n",
    "soup = BeautifulSoup(html, \"html.parser\")  # ・・②\n",
    "# HTML内のidを指定してデータを取得\n",
    "table = soup.find(id=\"historical-meta-peps-and-informational-peps\").table  # ・・③\n",
    "\n",
    "out = []\n",
    "for tr in table.tbody.find_all(\"tr\"):  # HTML tableタグ内の `tr` タグのすべてを取得・・④\n",
    "    line = []\n",
    "    for td in tr.find_all(\"td\"):  # trタグ内の `td` タグのすべてを取得・・⑤\n",
    "        text = td.text  # tdタグの文字列を取得\n",
    "        line.append(text)  # 中間データ用ののリストに追加\n",
    "\n",
    "    # 出力用のリストに取得した1行分のデータを辞書型で追加\n",
    "    out.append({k: v for k, v in zip(attrs, line)})  # ・・⑥\n",
    "\n",
    "print(out[0])"
   ]
  },
  {
   "cell_type": "code",
   "execution_count": 2,
   "id": "a067bf36",
   "metadata": {
    "execution": {
     "iopub.execute_input": "2025-08-31T17:17:55.620141Z",
     "iopub.status.busy": "2025-08-31T17:17:55.619827Z",
     "iopub.status.idle": "2025-08-31T17:17:56.221305Z",
     "shell.execute_reply": "2025-08-31T17:17:56.219451Z"
    }
   },
   "outputs": [
    {
     "data": {
      "text/html": [
       "<div>\n",
       "<style scoped>\n",
       "    .dataframe tbody tr th:only-of-type {\n",
       "        vertical-align: middle;\n",
       "    }\n",
       "\n",
       "    .dataframe tbody tr th {\n",
       "        vertical-align: top;\n",
       "    }\n",
       "\n",
       "    .dataframe thead th {\n",
       "        text-align: right;\n",
       "    }\n",
       "</style>\n",
       "<table border=\"1\" class=\"dataframe\">\n",
       "  <thead>\n",
       "    <tr style=\"text-align: right;\">\n",
       "      <th></th>\n",
       "      <th>type-status</th>\n",
       "      <th>number</th>\n",
       "      <th>title</th>\n",
       "      <th>authors</th>\n",
       "    </tr>\n",
       "  </thead>\n",
       "  <tbody>\n",
       "    <tr>\n",
       "      <th>0</th>\n",
       "      <td>PS</td>\n",
       "      <td>5</td>\n",
       "      <td>Guidelines for Language Evolution</td>\n",
       "      <td>Paul Prescod</td>\n",
       "    </tr>\n",
       "    <tr>\n",
       "      <th>1</th>\n",
       "      <td>PS</td>\n",
       "      <td>6</td>\n",
       "      <td>Bug Fix Releases</td>\n",
       "      <td>Aahz, Anthony Baxter</td>\n",
       "    </tr>\n",
       "    <tr>\n",
       "      <th>2</th>\n",
       "      <td>IF</td>\n",
       "      <td>160</td>\n",
       "      <td>Python 1.6 Release Schedule</td>\n",
       "      <td>Fred L. Drake, Jr.</td>\n",
       "    </tr>\n",
       "    <tr>\n",
       "      <th>3</th>\n",
       "      <td>IF</td>\n",
       "      <td>200</td>\n",
       "      <td>Python 2.0 Release Schedule</td>\n",
       "      <td>Jeremy Hylton</td>\n",
       "    </tr>\n",
       "    <tr>\n",
       "      <th>4</th>\n",
       "      <td>IF</td>\n",
       "      <td>226</td>\n",
       "      <td>Python 2.1 Release Schedule</td>\n",
       "      <td>Jeremy Hylton</td>\n",
       "    </tr>\n",
       "  </tbody>\n",
       "</table>\n",
       "</div>"
      ],
      "text/plain": [
       "  type-status number                              title               authors\n",
       "0          PS      5  Guidelines for Language Evolution          Paul Prescod\n",
       "1          PS      6                   Bug Fix Releases  Aahz, Anthony Baxter\n",
       "2          IF    160        Python 1.6 Release Schedule    Fred L. Drake, Jr.\n",
       "3          IF    200        Python 2.0 Release Schedule         Jeremy Hylton\n",
       "4          IF    226        Python 2.1 Release Schedule         Jeremy Hylton"
      ]
     },
     "execution_count": 2,
     "metadata": {},
     "output_type": "execute_result"
    }
   ],
   "source": [
    "import pandas as pd\n",
    "\n",
    "df_html_parse = pd.DataFrame(out)\n",
    "df_html_parse.head()"
   ]
  },
  {
   "cell_type": "code",
   "execution_count": 3,
   "id": "17da071b",
   "metadata": {
    "execution": {
     "iopub.execute_input": "2025-08-31T17:17:56.226724Z",
     "iopub.status.busy": "2025-08-31T17:17:56.225336Z",
     "iopub.status.idle": "2025-08-31T17:17:56.236566Z",
     "shell.execute_reply": "2025-08-31T17:17:56.235115Z"
    }
   },
   "outputs": [
    {
     "data": {
      "text/plain": [
       "(37, 4)"
      ]
     },
     "execution_count": 3,
     "metadata": {},
     "output_type": "execute_result"
    }
   ],
   "source": [
    "df_html_parse.shape"
   ]
  },
  {
   "cell_type": "markdown",
   "id": "ad56fb78",
   "metadata": {},
   "source": [
    "## pandasでテーブルタグを取得する方法"
   ]
  },
  {
   "cell_type": "code",
   "execution_count": 4,
   "id": "3f1a72bf",
   "metadata": {
    "execution": {
     "iopub.execute_input": "2025-08-31T17:17:56.242211Z",
     "iopub.status.busy": "2025-08-31T17:17:56.241634Z",
     "iopub.status.idle": "2025-08-31T17:17:57.134039Z",
     "shell.execute_reply": "2025-08-31T17:17:57.132196Z"
    }
   },
   "outputs": [
    {
     "ename": "ImportError",
     "evalue": "Missing optional dependency 'lxml'.  Use pip or conda to install lxml.",
     "output_type": "error",
     "traceback": [
      "\u001b[31m---------------------------------------------------------------------------\u001b[39m",
      "\u001b[31mModuleNotFoundError\u001b[39m                       Traceback (most recent call last)",
      "\u001b[36mFile \u001b[39m\u001b[32m~/workspace/musashiuniv/musashiuniv_manuscript/.venv/lib/python3.12/site-packages/pandas/compat/_optional.py:135\u001b[39m, in \u001b[36mimport_optional_dependency\u001b[39m\u001b[34m(name, extra, errors, min_version)\u001b[39m\n\u001b[32m    134\u001b[39m \u001b[38;5;28;01mtry\u001b[39;00m:\n\u001b[32m--> \u001b[39m\u001b[32m135\u001b[39m     module = \u001b[43mimportlib\u001b[49m\u001b[43m.\u001b[49m\u001b[43mimport_module\u001b[49m\u001b[43m(\u001b[49m\u001b[43mname\u001b[49m\u001b[43m)\u001b[49m\n\u001b[32m    136\u001b[39m \u001b[38;5;28;01mexcept\u001b[39;00m \u001b[38;5;167;01mImportError\u001b[39;00m:\n",
      "\u001b[36mFile \u001b[39m\u001b[32m/usr/lib/python3.12/importlib/__init__.py:90\u001b[39m, in \u001b[36mimport_module\u001b[39m\u001b[34m(name, package)\u001b[39m\n\u001b[32m     89\u001b[39m         level += \u001b[32m1\u001b[39m\n\u001b[32m---> \u001b[39m\u001b[32m90\u001b[39m \u001b[38;5;28;01mreturn\u001b[39;00m \u001b[43m_bootstrap\u001b[49m\u001b[43m.\u001b[49m\u001b[43m_gcd_import\u001b[49m\u001b[43m(\u001b[49m\u001b[43mname\u001b[49m\u001b[43m[\u001b[49m\u001b[43mlevel\u001b[49m\u001b[43m:\u001b[49m\u001b[43m]\u001b[49m\u001b[43m,\u001b[49m\u001b[43m \u001b[49m\u001b[43mpackage\u001b[49m\u001b[43m,\u001b[49m\u001b[43m \u001b[49m\u001b[43mlevel\u001b[49m\u001b[43m)\u001b[49m\n",
      "\u001b[36mFile \u001b[39m\u001b[32m<frozen importlib._bootstrap>:1387\u001b[39m, in \u001b[36m_gcd_import\u001b[39m\u001b[34m(name, package, level)\u001b[39m\n",
      "\u001b[36mFile \u001b[39m\u001b[32m<frozen importlib._bootstrap>:1360\u001b[39m, in \u001b[36m_find_and_load\u001b[39m\u001b[34m(name, import_)\u001b[39m\n",
      "\u001b[36mFile \u001b[39m\u001b[32m<frozen importlib._bootstrap>:1310\u001b[39m, in \u001b[36m_find_and_load_unlocked\u001b[39m\u001b[34m(name, import_)\u001b[39m\n",
      "\u001b[36mFile \u001b[39m\u001b[32m<frozen importlib._bootstrap>:488\u001b[39m, in \u001b[36m_call_with_frames_removed\u001b[39m\u001b[34m(f, *args, **kwds)\u001b[39m\n",
      "\u001b[36mFile \u001b[39m\u001b[32m<frozen importlib._bootstrap>:1387\u001b[39m, in \u001b[36m_gcd_import\u001b[39m\u001b[34m(name, package, level)\u001b[39m\n",
      "\u001b[36mFile \u001b[39m\u001b[32m<frozen importlib._bootstrap>:1360\u001b[39m, in \u001b[36m_find_and_load\u001b[39m\u001b[34m(name, import_)\u001b[39m\n",
      "\u001b[36mFile \u001b[39m\u001b[32m<frozen importlib._bootstrap>:1324\u001b[39m, in \u001b[36m_find_and_load_unlocked\u001b[39m\u001b[34m(name, import_)\u001b[39m\n",
      "\u001b[31mModuleNotFoundError\u001b[39m: No module named 'lxml'",
      "\nDuring handling of the above exception, another exception occurred:\n",
      "\u001b[31mImportError\u001b[39m                               Traceback (most recent call last)",
      "\u001b[36mCell\u001b[39m\u001b[36m \u001b[39m\u001b[32mIn[4]\u001b[39m\u001b[32m, line 5\u001b[39m\n\u001b[32m      1\u001b[39m \u001b[38;5;28;01mimport\u001b[39;00m\u001b[38;5;250m \u001b[39m\u001b[34;01mpandas\u001b[39;00m\u001b[38;5;250m \u001b[39m\u001b[38;5;28;01mas\u001b[39;00m\u001b[38;5;250m \u001b[39m\u001b[34;01mpd\u001b[39;00m\n\u001b[32m      3\u001b[39m url = \u001b[33m\"\u001b[39m\u001b[33mhttps://peps.python.org/\u001b[39m\u001b[33m\"\u001b[39m\n\u001b[32m----> \u001b[39m\u001b[32m5\u001b[39m tables = \u001b[43mpd\u001b[49m\u001b[43m.\u001b[49m\u001b[43mread_html\u001b[49m\u001b[43m(\u001b[49m\u001b[43murl\u001b[49m\u001b[43m)\u001b[49m\n\u001b[32m      6\u001b[39m \u001b[38;5;28mprint\u001b[39m(\u001b[38;5;28mlen\u001b[39m(tables))\n",
      "\u001b[36mFile \u001b[39m\u001b[32m~/workspace/musashiuniv/musashiuniv_manuscript/.venv/lib/python3.12/site-packages/pandas/io/html.py:1240\u001b[39m, in \u001b[36mread_html\u001b[39m\u001b[34m(io, match, flavor, header, index_col, skiprows, attrs, parse_dates, thousands, encoding, decimal, converters, na_values, keep_default_na, displayed_only, extract_links, dtype_backend, storage_options)\u001b[39m\n\u001b[32m   1224\u001b[39m \u001b[38;5;28;01mif\u001b[39;00m \u001b[38;5;28misinstance\u001b[39m(io, \u001b[38;5;28mstr\u001b[39m) \u001b[38;5;129;01mand\u001b[39;00m \u001b[38;5;129;01mnot\u001b[39;00m \u001b[38;5;28many\u001b[39m(\n\u001b[32m   1225\u001b[39m     [\n\u001b[32m   1226\u001b[39m         is_file_like(io),\n\u001b[32m   (...)\u001b[39m\u001b[32m   1230\u001b[39m     ]\n\u001b[32m   1231\u001b[39m ):\n\u001b[32m   1232\u001b[39m     warnings.warn(\n\u001b[32m   1233\u001b[39m         \u001b[33m\"\u001b[39m\u001b[33mPassing literal html to \u001b[39m\u001b[33m'\u001b[39m\u001b[33mread_html\u001b[39m\u001b[33m'\u001b[39m\u001b[33m is deprecated and \u001b[39m\u001b[33m\"\u001b[39m\n\u001b[32m   1234\u001b[39m         \u001b[33m\"\u001b[39m\u001b[33mwill be removed in a future version. To read from a \u001b[39m\u001b[33m\"\u001b[39m\n\u001b[32m   (...)\u001b[39m\u001b[32m   1237\u001b[39m         stacklevel=find_stack_level(),\n\u001b[32m   1238\u001b[39m     )\n\u001b[32m-> \u001b[39m\u001b[32m1240\u001b[39m \u001b[38;5;28;01mreturn\u001b[39;00m \u001b[43m_parse\u001b[49m\u001b[43m(\u001b[49m\n\u001b[32m   1241\u001b[39m \u001b[43m    \u001b[49m\u001b[43mflavor\u001b[49m\u001b[43m=\u001b[49m\u001b[43mflavor\u001b[49m\u001b[43m,\u001b[49m\n\u001b[32m   1242\u001b[39m \u001b[43m    \u001b[49m\u001b[43mio\u001b[49m\u001b[43m=\u001b[49m\u001b[43mio\u001b[49m\u001b[43m,\u001b[49m\n\u001b[32m   1243\u001b[39m \u001b[43m    \u001b[49m\u001b[43mmatch\u001b[49m\u001b[43m=\u001b[49m\u001b[43mmatch\u001b[49m\u001b[43m,\u001b[49m\n\u001b[32m   1244\u001b[39m \u001b[43m    \u001b[49m\u001b[43mheader\u001b[49m\u001b[43m=\u001b[49m\u001b[43mheader\u001b[49m\u001b[43m,\u001b[49m\n\u001b[32m   1245\u001b[39m \u001b[43m    \u001b[49m\u001b[43mindex_col\u001b[49m\u001b[43m=\u001b[49m\u001b[43mindex_col\u001b[49m\u001b[43m,\u001b[49m\n\u001b[32m   1246\u001b[39m \u001b[43m    \u001b[49m\u001b[43mskiprows\u001b[49m\u001b[43m=\u001b[49m\u001b[43mskiprows\u001b[49m\u001b[43m,\u001b[49m\n\u001b[32m   1247\u001b[39m \u001b[43m    \u001b[49m\u001b[43mparse_dates\u001b[49m\u001b[43m=\u001b[49m\u001b[43mparse_dates\u001b[49m\u001b[43m,\u001b[49m\n\u001b[32m   1248\u001b[39m \u001b[43m    \u001b[49m\u001b[43mthousands\u001b[49m\u001b[43m=\u001b[49m\u001b[43mthousands\u001b[49m\u001b[43m,\u001b[49m\n\u001b[32m   1249\u001b[39m \u001b[43m    \u001b[49m\u001b[43mattrs\u001b[49m\u001b[43m=\u001b[49m\u001b[43mattrs\u001b[49m\u001b[43m,\u001b[49m\n\u001b[32m   1250\u001b[39m \u001b[43m    \u001b[49m\u001b[43mencoding\u001b[49m\u001b[43m=\u001b[49m\u001b[43mencoding\u001b[49m\u001b[43m,\u001b[49m\n\u001b[32m   1251\u001b[39m \u001b[43m    \u001b[49m\u001b[43mdecimal\u001b[49m\u001b[43m=\u001b[49m\u001b[43mdecimal\u001b[49m\u001b[43m,\u001b[49m\n\u001b[32m   1252\u001b[39m \u001b[43m    \u001b[49m\u001b[43mconverters\u001b[49m\u001b[43m=\u001b[49m\u001b[43mconverters\u001b[49m\u001b[43m,\u001b[49m\n\u001b[32m   1253\u001b[39m \u001b[43m    \u001b[49m\u001b[43mna_values\u001b[49m\u001b[43m=\u001b[49m\u001b[43mna_values\u001b[49m\u001b[43m,\u001b[49m\n\u001b[32m   1254\u001b[39m \u001b[43m    \u001b[49m\u001b[43mkeep_default_na\u001b[49m\u001b[43m=\u001b[49m\u001b[43mkeep_default_na\u001b[49m\u001b[43m,\u001b[49m\n\u001b[32m   1255\u001b[39m \u001b[43m    \u001b[49m\u001b[43mdisplayed_only\u001b[49m\u001b[43m=\u001b[49m\u001b[43mdisplayed_only\u001b[49m\u001b[43m,\u001b[49m\n\u001b[32m   1256\u001b[39m \u001b[43m    \u001b[49m\u001b[43mextract_links\u001b[49m\u001b[43m=\u001b[49m\u001b[43mextract_links\u001b[49m\u001b[43m,\u001b[49m\n\u001b[32m   1257\u001b[39m \u001b[43m    \u001b[49m\u001b[43mdtype_backend\u001b[49m\u001b[43m=\u001b[49m\u001b[43mdtype_backend\u001b[49m\u001b[43m,\u001b[49m\n\u001b[32m   1258\u001b[39m \u001b[43m    \u001b[49m\u001b[43mstorage_options\u001b[49m\u001b[43m=\u001b[49m\u001b[43mstorage_options\u001b[49m\u001b[43m,\u001b[49m\n\u001b[32m   1259\u001b[39m \u001b[43m\u001b[49m\u001b[43m)\u001b[49m\n",
      "\u001b[36mFile \u001b[39m\u001b[32m~/workspace/musashiuniv/musashiuniv_manuscript/.venv/lib/python3.12/site-packages/pandas/io/html.py:971\u001b[39m, in \u001b[36m_parse\u001b[39m\u001b[34m(flavor, io, match, attrs, encoding, displayed_only, extract_links, storage_options, **kwargs)\u001b[39m\n\u001b[32m    969\u001b[39m retained = \u001b[38;5;28;01mNone\u001b[39;00m\n\u001b[32m    970\u001b[39m \u001b[38;5;28;01mfor\u001b[39;00m flav \u001b[38;5;129;01min\u001b[39;00m flavor:\n\u001b[32m--> \u001b[39m\u001b[32m971\u001b[39m     parser = \u001b[43m_parser_dispatch\u001b[49m\u001b[43m(\u001b[49m\u001b[43mflav\u001b[49m\u001b[43m)\u001b[49m\n\u001b[32m    972\u001b[39m     p = parser(\n\u001b[32m    973\u001b[39m         io,\n\u001b[32m    974\u001b[39m         compiled_match,\n\u001b[32m   (...)\u001b[39m\u001b[32m    979\u001b[39m         storage_options,\n\u001b[32m    980\u001b[39m     )\n\u001b[32m    982\u001b[39m     \u001b[38;5;28;01mtry\u001b[39;00m:\n",
      "\u001b[36mFile \u001b[39m\u001b[32m~/workspace/musashiuniv/musashiuniv_manuscript/.venv/lib/python3.12/site-packages/pandas/io/html.py:918\u001b[39m, in \u001b[36m_parser_dispatch\u001b[39m\u001b[34m(flavor)\u001b[39m\n\u001b[32m    916\u001b[39m     import_optional_dependency(\u001b[33m\"\u001b[39m\u001b[33mbs4\u001b[39m\u001b[33m\"\u001b[39m)\n\u001b[32m    917\u001b[39m \u001b[38;5;28;01melse\u001b[39;00m:\n\u001b[32m--> \u001b[39m\u001b[32m918\u001b[39m     \u001b[43mimport_optional_dependency\u001b[49m\u001b[43m(\u001b[49m\u001b[33;43m\"\u001b[39;49m\u001b[33;43mlxml.etree\u001b[39;49m\u001b[33;43m\"\u001b[39;49m\u001b[43m)\u001b[49m\n\u001b[32m    919\u001b[39m \u001b[38;5;28;01mreturn\u001b[39;00m _valid_parsers[flavor]\n",
      "\u001b[36mFile \u001b[39m\u001b[32m~/workspace/musashiuniv/musashiuniv_manuscript/.venv/lib/python3.12/site-packages/pandas/compat/_optional.py:138\u001b[39m, in \u001b[36mimport_optional_dependency\u001b[39m\u001b[34m(name, extra, errors, min_version)\u001b[39m\n\u001b[32m    136\u001b[39m \u001b[38;5;28;01mexcept\u001b[39;00m \u001b[38;5;167;01mImportError\u001b[39;00m:\n\u001b[32m    137\u001b[39m     \u001b[38;5;28;01mif\u001b[39;00m errors == \u001b[33m\"\u001b[39m\u001b[33mraise\u001b[39m\u001b[33m\"\u001b[39m:\n\u001b[32m--> \u001b[39m\u001b[32m138\u001b[39m         \u001b[38;5;28;01mraise\u001b[39;00m \u001b[38;5;167;01mImportError\u001b[39;00m(msg)\n\u001b[32m    139\u001b[39m     \u001b[38;5;28;01mreturn\u001b[39;00m \u001b[38;5;28;01mNone\u001b[39;00m\n\u001b[32m    141\u001b[39m \u001b[38;5;66;03m# Handle submodules: if we have submodule, grab parent module from sys.modules\u001b[39;00m\n",
      "\u001b[31mImportError\u001b[39m: Missing optional dependency 'lxml'.  Use pip or conda to install lxml."
     ]
    }
   ],
   "source": [
    "import pandas as pd\n",
    "\n",
    "url = \"https://peps.python.org/\"\n",
    "\n",
    "tables = pd.read_html(url)\n",
    "print(len(tables))"
   ]
  },
  {
   "cell_type": "code",
   "execution_count": 5,
   "id": "9316c0f6",
   "metadata": {
    "execution": {
     "iopub.execute_input": "2025-08-31T17:17:57.138798Z",
     "iopub.status.busy": "2025-08-31T17:17:57.138286Z",
     "iopub.status.idle": "2025-08-31T17:17:57.184573Z",
     "shell.execute_reply": "2025-08-31T17:17:57.183014Z"
    }
   },
   "outputs": [
    {
     "ename": "NameError",
     "evalue": "name 'tables' is not defined",
     "output_type": "error",
     "traceback": [
      "\u001b[31m---------------------------------------------------------------------------\u001b[39m",
      "\u001b[31mNameError\u001b[39m                                 Traceback (most recent call last)",
      "\u001b[36mCell\u001b[39m\u001b[36m \u001b[39m\u001b[32mIn[5]\u001b[39m\u001b[32m, line 1\u001b[39m\n\u001b[32m----> \u001b[39m\u001b[32m1\u001b[39m \u001b[38;5;28mprint\u001b[39m(\u001b[38;5;28mtype\u001b[39m(\u001b[43mtables\u001b[49m))\n\u001b[32m      2\u001b[39m \u001b[38;5;28mprint\u001b[39m([\u001b[38;5;28mtype\u001b[39m(table) \u001b[38;5;28;01mfor\u001b[39;00m table \u001b[38;5;129;01min\u001b[39;00m tables])\n",
      "\u001b[31mNameError\u001b[39m: name 'tables' is not defined"
     ]
    }
   ],
   "source": [
    "print(type(tables))\n",
    "print([type(table) for table in tables])"
   ]
  },
  {
   "cell_type": "code",
   "execution_count": 6,
   "id": "efd8d8b0",
   "metadata": {
    "execution": {
     "iopub.execute_input": "2025-08-31T17:17:57.189436Z",
     "iopub.status.busy": "2025-08-31T17:17:57.188942Z",
     "iopub.status.idle": "2025-08-31T17:17:57.243352Z",
     "shell.execute_reply": "2025-08-31T17:17:57.239891Z"
    }
   },
   "outputs": [
    {
     "ename": "NameError",
     "evalue": "name 'tables' is not defined",
     "output_type": "error",
     "traceback": [
      "\u001b[31m---------------------------------------------------------------------------\u001b[39m",
      "\u001b[31mNameError\u001b[39m                                 Traceback (most recent call last)",
      "\u001b[36mCell\u001b[39m\u001b[36m \u001b[39m\u001b[32mIn[6]\u001b[39m\u001b[32m, line 1\u001b[39m\n\u001b[32m----> \u001b[39m\u001b[32m1\u001b[39m df_table = \u001b[43mtables\u001b[49m[\u001b[32m5\u001b[39m]\n\u001b[32m      2\u001b[39m df_table.head()\n",
      "\u001b[31mNameError\u001b[39m: name 'tables' is not defined"
     ]
    }
   ],
   "source": [
    "df_table = tables[5]\n",
    "df_table.head()"
   ]
  },
  {
   "cell_type": "code",
   "execution_count": 7,
   "id": "ba98357f",
   "metadata": {
    "execution": {
     "iopub.execute_input": "2025-08-31T17:17:57.250674Z",
     "iopub.status.busy": "2025-08-31T17:17:57.250164Z",
     "iopub.status.idle": "2025-08-31T17:17:57.291425Z",
     "shell.execute_reply": "2025-08-31T17:17:57.289884Z"
    }
   },
   "outputs": [
    {
     "ename": "NameError",
     "evalue": "name 'df_table' is not defined",
     "output_type": "error",
     "traceback": [
      "\u001b[31m---------------------------------------------------------------------------\u001b[39m",
      "\u001b[31mNameError\u001b[39m                                 Traceback (most recent call last)",
      "\u001b[36mCell\u001b[39m\u001b[36m \u001b[39m\u001b[32mIn[7]\u001b[39m\u001b[32m, line 1\u001b[39m\n\u001b[32m----> \u001b[39m\u001b[32m1\u001b[39m \u001b[43mdf_table\u001b[49m.shape\n",
      "\u001b[31mNameError\u001b[39m: name 'df_table' is not defined"
     ]
    }
   ],
   "source": [
    "df_table.shape"
   ]
  },
  {
   "cell_type": "code",
   "execution_count": 8,
   "id": "888d0af0",
   "metadata": {
    "execution": {
     "iopub.execute_input": "2025-08-31T17:17:57.296346Z",
     "iopub.status.busy": "2025-08-31T17:17:57.295401Z",
     "iopub.status.idle": "2025-08-31T17:17:57.339496Z",
     "shell.execute_reply": "2025-08-31T17:17:57.337820Z"
    }
   },
   "outputs": [
    {
     "ename": "NameError",
     "evalue": "name 'df_table' is not defined",
     "output_type": "error",
     "traceback": [
      "\u001b[31m---------------------------------------------------------------------------\u001b[39m",
      "\u001b[31mNameError\u001b[39m                                 Traceback (most recent call last)",
      "\u001b[36mCell\u001b[39m\u001b[36m \u001b[39m\u001b[32mIn[8]\u001b[39m\u001b[32m, line 7\u001b[39m\n\u001b[32m      1\u001b[39m attrs = (\n\u001b[32m      2\u001b[39m     \u001b[33m\"\u001b[39m\u001b[33mtype-status\u001b[39m\u001b[33m\"\u001b[39m,\n\u001b[32m      3\u001b[39m     \u001b[33m\"\u001b[39m\u001b[33mnumber\u001b[39m\u001b[33m\"\u001b[39m,\n\u001b[32m      4\u001b[39m     \u001b[33m\"\u001b[39m\u001b[33mtitle\u001b[39m\u001b[33m\"\u001b[39m,\n\u001b[32m      5\u001b[39m     \u001b[33m\"\u001b[39m\u001b[33mauthors\u001b[39m\u001b[33m\"\u001b[39m,\n\u001b[32m      6\u001b[39m )\n\u001b[32m----> \u001b[39m\u001b[32m7\u001b[39m \u001b[43mdf_table\u001b[49m.columns = attrs\n\u001b[32m      8\u001b[39m df_table.head()\n",
      "\u001b[31mNameError\u001b[39m: name 'df_table' is not defined"
     ]
    }
   ],
   "source": [
    "attrs = (\n",
    "    \"type-status\",\n",
    "    \"number\",\n",
    "    \"title\",\n",
    "    \"authors\",\n",
    ")\n",
    "df_table.columns = attrs\n",
    "df_table.head()"
   ]
  }
 ],
 "metadata": {
  "language_info": {
   "codemirror_mode": {
    "name": "ipython",
    "version": 3
   },
   "file_extension": ".py",
   "mimetype": "text/x-python",
   "name": "python",
   "nbconvert_exporter": "python",
   "pygments_lexer": "ipython3",
   "version": "3.12.3"
  }
 },
 "nbformat": 4,
 "nbformat_minor": 5
}
