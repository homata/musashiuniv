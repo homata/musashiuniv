{
 "cells": [
  {
   "cell_type": "markdown",
   "id": "5ba8b931",
   "metadata": {},
   "source": [
    "# XML形式"
   ]
  },
  {
   "cell_type": "markdown",
   "id": "807084d0",
   "metadata": {},
   "source": [
    "## データサンプル"
   ]
  },
  {
   "cell_type": "markdown",
   "id": "551e614f",
   "metadata": {},
   "source": [
    "## XML形式のデータを読み込む"
   ]
  },
  {
   "cell_type": "code",
   "execution_count": 1,
   "id": "fb61397c",
   "metadata": {
    "execution": {
     "iopub.execute_input": "2025-08-31T17:17:59.809072Z",
     "iopub.status.busy": "2025-08-31T17:17:59.808609Z",
     "iopub.status.idle": "2025-08-31T17:17:59.823276Z",
     "shell.execute_reply": "2025-08-31T17:17:59.822030Z"
    }
   },
   "outputs": [],
   "source": [
    "import xml.etree.ElementTree as ET\n",
    "\n",
    "tree = ET.parse(\"data/ueno-map.kml\")\n",
    "root = tree.getroot()"
   ]
  },
  {
   "cell_type": "code",
   "execution_count": 2,
   "id": "867af5a0",
   "metadata": {
    "execution": {
     "iopub.execute_input": "2025-08-31T17:17:59.826414Z",
     "iopub.status.busy": "2025-08-31T17:17:59.826053Z",
     "iopub.status.idle": "2025-08-31T17:17:59.835525Z",
     "shell.execute_reply": "2025-08-31T17:17:59.834398Z"
    }
   },
   "outputs": [
    {
     "data": {
      "text/plain": [
       "'上野駅周辺飲食店'"
      ]
     },
     "execution_count": 2,
     "metadata": {},
     "output_type": "execute_result"
    }
   ],
   "source": [
    "namespace = \"{http://www.opengis.net/kml/2.2}\"\n",
    "name = root[0].find(f\"{namespace}name\").text\n",
    "name"
   ]
  },
  {
   "cell_type": "code",
   "execution_count": 3,
   "id": "476d04e4",
   "metadata": {
    "execution": {
     "iopub.execute_input": "2025-08-31T17:17:59.839078Z",
     "iopub.status.busy": "2025-08-31T17:17:59.838297Z",
     "iopub.status.idle": "2025-08-31T17:17:59.852596Z",
     "shell.execute_reply": "2025-08-31T17:17:59.851373Z"
    }
   },
   "outputs": [
    {
     "data": {
      "text/plain": [
       "[{'id': 1,\n",
       "  'name': 'ラーメン屋',\n",
       "  'shops': [{'name': '東京じゃんがら ecute上野店',\n",
       "    'lon': '139.7771312',\n",
       "    'lat': '35.7140434',\n",
       "    'alt': '0'},\n",
       "   {'name': '博多ラーメン 長浜や 上野店',\n",
       "    'lon': '139.7775269',\n",
       "    'lat': '35.7124554',\n",
       "    'alt': '0'},\n",
       "   {'name': \"T'sたんたん エキュート上野店\",\n",
       "    'lon': '139.7771408',\n",
       "    'lat': '35.7140681',\n",
       "    'alt': '0'},\n",
       "   {'name': '鯛塩そば灯花 アトレ上野店',\n",
       "    'lon': '139.7770178',\n",
       "    'lat': '35.7133078',\n",
       "    'alt': '0'},\n",
       "   {'name': '横浜家系ラーメン 壱角家 上野店',\n",
       "    'lon': '139.7778759',\n",
       "    'lat': '35.7123833',\n",
       "    'alt': '0'},\n",
       "   {'name': '麺屋 天王', 'lon': '139.7797678', 'lat': '35.7141222', 'alt': '0'},\n",
       "   {'name': '一蘭 アトレ上野山下口店',\n",
       "    'lon': '139.7752174',\n",
       "    'lat': '35.7124196',\n",
       "    'alt': '0'},\n",
       "   {'name': 'らーめん花の華 上野店',\n",
       "    'lon': '139.7788319',\n",
       "    'lat': '35.7121706',\n",
       "    'alt': '0'},\n",
       "   {'name': '六厘舎 上野店', 'lon': '139.7750484', 'lat': '35.7121834', 'alt': '0'},\n",
       "   {'name': '横浜家系ラーメン希家 上野店',\n",
       "    'lon': '139.7786098',\n",
       "    'lat': '35.7118269',\n",
       "    'alt': '0'}]},\n",
       " {'id': 2,\n",
       "  'name': 'カレー屋',\n",
       "  'shops': [{'name': 'シターラ ダイナー エキュート上野店（SITAARA DINER）',\n",
       "    'lon': '139.776792',\n",
       "    'lat': '35.7132653',\n",
       "    'alt': '0'},\n",
       "   {'name': 'マイカリー食堂 上野店',\n",
       "    'lon': '139.778374',\n",
       "    'lat': '35.712958',\n",
       "    'alt': '0'},\n",
       "   {'name': 'インド・ネパール料理&バー ナマステ上野キッチン（Namaste UENO Kitchen）',\n",
       "    'lon': '139.779736',\n",
       "    'lat': '35.714079',\n",
       "    'alt': '0'},\n",
       "   {'name': 'カレー専門店 クラウンエース 上野アメ横店',\n",
       "    'lon': '139.7750854',\n",
       "    'lat': '35.7112609',\n",
       "    'alt': '0'},\n",
       "   {'name': 'スルタン 東上野店',\n",
       "    'lon': '139.7828001',\n",
       "    'lat': '35.7155242',\n",
       "    'alt': '0'},\n",
       "   {'name': 'Re Nepaka(ネパカ)上野店',\n",
       "    'lon': '139.7802984',\n",
       "    'lat': '35.7107611',\n",
       "    'alt': '0'},\n",
       "   {'name': 'カレーの店 サカエヤ',\n",
       "    'lon': '139.7800917',\n",
       "    'lat': '35.7073677',\n",
       "    'alt': '0'},\n",
       "   {'name': 'カレー clover(くろーばー)',\n",
       "    'lon': '139.7709038',\n",
       "    'lat': '35.7062837',\n",
       "    'alt': '0'},\n",
       "   {'name': 'ゴーゴーカレー 上野御徒町店',\n",
       "    'lon': '139.7754455',\n",
       "    'lat': '35.708453',\n",
       "    'alt': '0'},\n",
       "   {'name': 'ラッフルズカリー',\n",
       "    'lon': '139.778286',\n",
       "    'lat': '35.7073153',\n",
       "    'alt': '0'}]},\n",
       " {'id': 3,\n",
       "  'name': '焼肉屋',\n",
       "  'shops': [{'name': 'ブ厚い焼肉 焼肉フジ 上野駅前本店',\n",
       "    'lon': '139.7790501',\n",
       "    'lat': '35.7138809',\n",
       "    'alt': '0'},\n",
       "   {'name': '焼肉 USHIHACHI 上野店',\n",
       "    'lon': '139.777376',\n",
       "    'lat': '35.712613',\n",
       "    'alt': '0'},\n",
       "   {'name': '絵のある街 上野店',\n",
       "    'lon': '139.7755379',\n",
       "    'lat': '35.7109052',\n",
       "    'alt': '0'},\n",
       "   {'name': '焼肉陽山道 上野駅前店',\n",
       "    'lon': '139.7755765',\n",
       "    'lat': '35.7098862',\n",
       "    'alt': '0'},\n",
       "   {'name': '和家 NAGOMIYA 上野店',\n",
       "    'lon': '139.7751193',\n",
       "    'lat': '35.7107406',\n",
       "    'alt': '0'},\n",
       "   {'name': '焼肉ホルモン本舗 炎 上野駅前店',\n",
       "    'lon': '139.7762069',\n",
       "    'lat': '35.7112493',\n",
       "    'alt': '0'},\n",
       "   {'name': '肉の街 上野本店', 'lon': '139.775175', 'lat': '35.711006', 'alt': '0'},\n",
       "   {'name': '太昌園上野駅前店', 'lon': '139.7754445', 'lat': '35.7104037', 'alt': '0'},\n",
       "   {'name': '焼肉ひだり', 'lon': '139.7810698', 'lat': '35.711169', 'alt': '0'},\n",
       "   {'name': '土古里 上野バンブーガーデン店',\n",
       "    'lon': '139.7745426',\n",
       "    'lat': '35.7124233',\n",
       "    'alt': '0'}]}]"
      ]
     },
     "execution_count": 3,
     "metadata": {},
     "output_type": "execute_result"
    }
   ],
   "source": [
    "folders = root[0].findall(f\"{namespace}Folder\")  # Folderノードを取得  # ・・①\n",
    "out = []\n",
    "for i, folder in enumerate(folders):  # Folderノードを繰り返し処理\n",
    "    folder_name = folder.find(\n",
    "        f\"{namespace}name\"\n",
    "    ).text  # Folderノードのnameがカテゴリー名  # ・・②\n",
    "\n",
    "    shops = folder.findall(f\"{namespace}Placemark\")  # 店舗の情報にアクセス\n",
    "    shops_list = []\n",
    "    for shop in shops:  # ・・③\n",
    "        shop_name = shop.find(f\"{namespace}name\").text  # 店舗の名称を取得\n",
    "        coordinates = (\n",
    "            shop.find(f\"{namespace}Point\")\n",
    "            .find(f\"{namespace}coordinates\")\n",
    "            .text  # ・・④\n",
    "        )  # 経度、緯度、高度の情報を取得\n",
    "        lon, lat, alt = [\n",
    "            s.strip() for s in coordinates.split(\",\", 2)  # ・・⑤\n",
    "        ]  # 情報を分割\n",
    "        # 店舗の情報を辞書にしてリストに追記\n",
    "        shops_list.append(  # ・・⑥\n",
    "            {\n",
    "                \"name\": shop_name,\n",
    "                \"lon\": lon,\n",
    "                \"lat\": lat,\n",
    "                \"alt\": alt,\n",
    "            }\n",
    "        )\n",
    "\n",
    "    # カテゴリーごとの情報を辞書型にして、リストに追記\n",
    "    out.append(  # ・・⑦\n",
    "        {\n",
    "            \"id\": i + 1,\n",
    "            \"name\": folder_name,\n",
    "            \"shops\": shops_list,\n",
    "        }\n",
    "    )\n",
    "out"
   ]
  },
  {
   "cell_type": "markdown",
   "id": "15f2c900",
   "metadata": {},
   "source": [
    "## pandasのオブジェクトに変換する"
   ]
  },
  {
   "cell_type": "code",
   "execution_count": 4,
   "id": "a34c85fd",
   "metadata": {
    "execution": {
     "iopub.execute_input": "2025-08-31T17:17:59.856511Z",
     "iopub.status.busy": "2025-08-31T17:17:59.855539Z",
     "iopub.status.idle": "2025-08-31T17:18:00.506477Z",
     "shell.execute_reply": "2025-08-31T17:18:00.504693Z"
    }
   },
   "outputs": [],
   "source": [
    "import pandas as pd\n",
    "\n",
    "df = pd.json_normalize(\n",
    "    out,\n",
    "    record_path=\"shops\",\n",
    "    meta=[\"name\"],\n",
    "    record_prefix=\"shop.\",\n",
    ")"
   ]
  },
  {
   "cell_type": "code",
   "execution_count": 5,
   "id": "bc11276a",
   "metadata": {
    "execution": {
     "iopub.execute_input": "2025-08-31T17:18:00.511290Z",
     "iopub.status.busy": "2025-08-31T17:18:00.510320Z",
     "iopub.status.idle": "2025-08-31T17:18:00.531344Z",
     "shell.execute_reply": "2025-08-31T17:18:00.529291Z"
    }
   },
   "outputs": [
    {
     "data": {
      "text/html": [
       "<div>\n",
       "<style scoped>\n",
       "    .dataframe tbody tr th:only-of-type {\n",
       "        vertical-align: middle;\n",
       "    }\n",
       "\n",
       "    .dataframe tbody tr th {\n",
       "        vertical-align: top;\n",
       "    }\n",
       "\n",
       "    .dataframe thead th {\n",
       "        text-align: right;\n",
       "    }\n",
       "</style>\n",
       "<table border=\"1\" class=\"dataframe\">\n",
       "  <thead>\n",
       "    <tr style=\"text-align: right;\">\n",
       "      <th></th>\n",
       "      <th>shop.name</th>\n",
       "      <th>shop.lon</th>\n",
       "      <th>shop.lat</th>\n",
       "      <th>shop.alt</th>\n",
       "      <th>name</th>\n",
       "    </tr>\n",
       "  </thead>\n",
       "  <tbody>\n",
       "    <tr>\n",
       "      <th>0</th>\n",
       "      <td>東京じゃんがら ecute上野店</td>\n",
       "      <td>139.7771312</td>\n",
       "      <td>35.7140434</td>\n",
       "      <td>0</td>\n",
       "      <td>ラーメン屋</td>\n",
       "    </tr>\n",
       "    <tr>\n",
       "      <th>1</th>\n",
       "      <td>博多ラーメン 長浜や 上野店</td>\n",
       "      <td>139.7775269</td>\n",
       "      <td>35.7124554</td>\n",
       "      <td>0</td>\n",
       "      <td>ラーメン屋</td>\n",
       "    </tr>\n",
       "    <tr>\n",
       "      <th>2</th>\n",
       "      <td>T'sたんたん エキュート上野店</td>\n",
       "      <td>139.7771408</td>\n",
       "      <td>35.7140681</td>\n",
       "      <td>0</td>\n",
       "      <td>ラーメン屋</td>\n",
       "    </tr>\n",
       "    <tr>\n",
       "      <th>3</th>\n",
       "      <td>鯛塩そば灯花 アトレ上野店</td>\n",
       "      <td>139.7770178</td>\n",
       "      <td>35.7133078</td>\n",
       "      <td>0</td>\n",
       "      <td>ラーメン屋</td>\n",
       "    </tr>\n",
       "    <tr>\n",
       "      <th>4</th>\n",
       "      <td>横浜家系ラーメン 壱角家 上野店</td>\n",
       "      <td>139.7778759</td>\n",
       "      <td>35.7123833</td>\n",
       "      <td>0</td>\n",
       "      <td>ラーメン屋</td>\n",
       "    </tr>\n",
       "  </tbody>\n",
       "</table>\n",
       "</div>"
      ],
      "text/plain": [
       "          shop.name     shop.lon    shop.lat shop.alt   name\n",
       "0  東京じゃんがら ecute上野店  139.7771312  35.7140434        0  ラーメン屋\n",
       "1    博多ラーメン 長浜や 上野店  139.7775269  35.7124554        0  ラーメン屋\n",
       "2  T'sたんたん エキュート上野店  139.7771408  35.7140681        0  ラーメン屋\n",
       "3     鯛塩そば灯花 アトレ上野店  139.7770178  35.7133078        0  ラーメン屋\n",
       "4  横浜家系ラーメン 壱角家 上野店  139.7778759  35.7123833        0  ラーメン屋"
      ]
     },
     "execution_count": 5,
     "metadata": {},
     "output_type": "execute_result"
    }
   ],
   "source": [
    "df.head()"
   ]
  },
  {
   "cell_type": "code",
   "execution_count": 6,
   "id": "f18184f7",
   "metadata": {
    "execution": {
     "iopub.execute_input": "2025-08-31T17:18:00.536112Z",
     "iopub.status.busy": "2025-08-31T17:18:00.535577Z",
     "iopub.status.idle": "2025-08-31T17:18:00.549619Z",
     "shell.execute_reply": "2025-08-31T17:18:00.548066Z"
    }
   },
   "outputs": [
    {
     "data": {
      "text/html": [
       "<div>\n",
       "<style scoped>\n",
       "    .dataframe tbody tr th:only-of-type {\n",
       "        vertical-align: middle;\n",
       "    }\n",
       "\n",
       "    .dataframe tbody tr th {\n",
       "        vertical-align: top;\n",
       "    }\n",
       "\n",
       "    .dataframe thead th {\n",
       "        text-align: right;\n",
       "    }\n",
       "</style>\n",
       "<table border=\"1\" class=\"dataframe\">\n",
       "  <thead>\n",
       "    <tr style=\"text-align: right;\">\n",
       "      <th></th>\n",
       "      <th>shop.name</th>\n",
       "      <th>shop.lon</th>\n",
       "      <th>shop.lat</th>\n",
       "      <th>shop.alt</th>\n",
       "      <th>name</th>\n",
       "    </tr>\n",
       "  </thead>\n",
       "  <tbody>\n",
       "    <tr>\n",
       "      <th>25</th>\n",
       "      <td>焼肉ホルモン本舗 炎 上野駅前店</td>\n",
       "      <td>139.7762069</td>\n",
       "      <td>35.7112493</td>\n",
       "      <td>0</td>\n",
       "      <td>焼肉屋</td>\n",
       "    </tr>\n",
       "    <tr>\n",
       "      <th>26</th>\n",
       "      <td>肉の街 上野本店</td>\n",
       "      <td>139.775175</td>\n",
       "      <td>35.711006</td>\n",
       "      <td>0</td>\n",
       "      <td>焼肉屋</td>\n",
       "    </tr>\n",
       "    <tr>\n",
       "      <th>27</th>\n",
       "      <td>太昌園上野駅前店</td>\n",
       "      <td>139.7754445</td>\n",
       "      <td>35.7104037</td>\n",
       "      <td>0</td>\n",
       "      <td>焼肉屋</td>\n",
       "    </tr>\n",
       "    <tr>\n",
       "      <th>28</th>\n",
       "      <td>焼肉ひだり</td>\n",
       "      <td>139.7810698</td>\n",
       "      <td>35.711169</td>\n",
       "      <td>0</td>\n",
       "      <td>焼肉屋</td>\n",
       "    </tr>\n",
       "    <tr>\n",
       "      <th>29</th>\n",
       "      <td>土古里 上野バンブーガーデン店</td>\n",
       "      <td>139.7745426</td>\n",
       "      <td>35.7124233</td>\n",
       "      <td>0</td>\n",
       "      <td>焼肉屋</td>\n",
       "    </tr>\n",
       "  </tbody>\n",
       "</table>\n",
       "</div>"
      ],
      "text/plain": [
       "           shop.name     shop.lon    shop.lat shop.alt name\n",
       "25  焼肉ホルモン本舗 炎 上野駅前店  139.7762069  35.7112493        0  焼肉屋\n",
       "26          肉の街 上野本店   139.775175   35.711006        0  焼肉屋\n",
       "27          太昌園上野駅前店  139.7754445  35.7104037        0  焼肉屋\n",
       "28             焼肉ひだり  139.7810698   35.711169        0  焼肉屋\n",
       "29   土古里 上野バンブーガーデン店  139.7745426  35.7124233        0  焼肉屋"
      ]
     },
     "execution_count": 6,
     "metadata": {},
     "output_type": "execute_result"
    }
   ],
   "source": [
    "df.tail()"
   ]
  },
  {
   "cell_type": "markdown",
   "id": "22fd0476",
   "metadata": {},
   "source": [
    "### Note: RSS"
   ]
  },
  {
   "cell_type": "code",
   "execution_count": 7,
   "id": "f07dd981",
   "metadata": {
    "execution": {
     "iopub.execute_input": "2025-08-31T17:18:00.553327Z",
     "iopub.status.busy": "2025-08-31T17:18:00.552932Z",
     "iopub.status.idle": "2025-08-31T17:18:00.834331Z",
     "shell.execute_reply": "2025-08-31T17:18:00.832988Z"
    }
   },
   "outputs": [
    {
     "ename": "ModuleNotFoundError",
     "evalue": "No module named 'feedparser'",
     "output_type": "error",
     "traceback": [
      "\u001b[31m---------------------------------------------------------------------------\u001b[39m",
      "\u001b[31mModuleNotFoundError\u001b[39m                       Traceback (most recent call last)",
      "\u001b[36mCell\u001b[39m\u001b[36m \u001b[39m\u001b[32mIn[7]\u001b[39m\u001b[32m, line 1\u001b[39m\n\u001b[32m----> \u001b[39m\u001b[32m1\u001b[39m \u001b[38;5;28;01mimport\u001b[39;00m\u001b[38;5;250m \u001b[39m\u001b[34;01mfeedparser\u001b[39;00m\n\u001b[32m      3\u001b[39m url = \u001b[33m\"\u001b[39m\u001b[33mhttps://blog.python.org/feeds/posts/default?alt=rss\u001b[39m\u001b[33m\"\u001b[39m\n\u001b[32m      4\u001b[39m d = feedparser.parse(url)\n",
      "\u001b[31mModuleNotFoundError\u001b[39m: No module named 'feedparser'"
     ]
    }
   ],
   "source": [
    "import feedparser\n",
    "\n",
    "url = \"https://blog.python.org/feeds/posts/default?alt=rss\"\n",
    "d = feedparser.parse(url)"
   ]
  },
  {
   "cell_type": "code",
   "execution_count": 8,
   "id": "a3b555f8",
   "metadata": {
    "execution": {
     "iopub.execute_input": "2025-08-31T17:18:00.838163Z",
     "iopub.status.busy": "2025-08-31T17:18:00.837222Z",
     "iopub.status.idle": "2025-08-31T17:18:00.869075Z",
     "shell.execute_reply": "2025-08-31T17:18:00.867922Z"
    }
   },
   "outputs": [
    {
     "ename": "NameError",
     "evalue": "name 'd' is not defined",
     "output_type": "error",
     "traceback": [
      "\u001b[31m---------------------------------------------------------------------------\u001b[39m",
      "\u001b[31mNameError\u001b[39m                                 Traceback (most recent call last)",
      "\u001b[36mCell\u001b[39m\u001b[36m \u001b[39m\u001b[32mIn[8]\u001b[39m\u001b[32m, line 1\u001b[39m\n\u001b[32m----> \u001b[39m\u001b[32m1\u001b[39m \u001b[43md\u001b[49m[\u001b[33m\"\u001b[39m\u001b[33mfeed\u001b[39m\u001b[33m\"\u001b[39m][\u001b[33m\"\u001b[39m\u001b[33mtitle\u001b[39m\u001b[33m\"\u001b[39m]  \u001b[38;5;66;03m# RSSのタイトルを取得\u001b[39;00m\n",
      "\u001b[31mNameError\u001b[39m: name 'd' is not defined"
     ]
    }
   ],
   "source": [
    "d[\"feed\"][\"title\"]  # RSSのタイトルを取得"
   ]
  },
  {
   "cell_type": "code",
   "execution_count": 9,
   "id": "0ea91869",
   "metadata": {
    "execution": {
     "iopub.execute_input": "2025-08-31T17:18:00.872381Z",
     "iopub.status.busy": "2025-08-31T17:18:00.872021Z",
     "iopub.status.idle": "2025-08-31T17:18:00.906703Z",
     "shell.execute_reply": "2025-08-31T17:18:00.905217Z"
    }
   },
   "outputs": [
    {
     "ename": "NameError",
     "evalue": "name 'd' is not defined",
     "output_type": "error",
     "traceback": [
      "\u001b[31m---------------------------------------------------------------------------\u001b[39m",
      "\u001b[31mNameError\u001b[39m                                 Traceback (most recent call last)",
      "\u001b[36mCell\u001b[39m\u001b[36m \u001b[39m\u001b[32mIn[9]\u001b[39m\u001b[32m, line 1\u001b[39m\n\u001b[32m----> \u001b[39m\u001b[32m1\u001b[39m \u001b[38;5;28;01mfor\u001b[39;00m entry \u001b[38;5;129;01min\u001b[39;00m \u001b[43md\u001b[49m.entries:\n\u001b[32m      2\u001b[39m     \u001b[38;5;28mprint\u001b[39m(entry.date, end=\u001b[33m\"\u001b[39m\u001b[33m, \u001b[39m\u001b[33m\"\u001b[39m)  \u001b[38;5;66;03m# エントリーの日付を出力\u001b[39;00m\n\u001b[32m      3\u001b[39m     \u001b[38;5;28mprint\u001b[39m(entry.title)  \u001b[38;5;66;03m# エントリーごとのタイトルを出力\u001b[39;00m\n",
      "\u001b[31mNameError\u001b[39m: name 'd' is not defined"
     ]
    }
   ],
   "source": [
    "for entry in d.entries:\n",
    "    print(entry.date, end=\", \")  # エントリーの日付を出力\n",
    "    print(entry.title)  # エントリーごとのタイトルを出力"
   ]
  }
 ],
 "metadata": {
  "language_info": {
   "codemirror_mode": {
    "name": "ipython",
    "version": 3
   },
   "file_extension": ".py",
   "mimetype": "text/x-python",
   "name": "python",
   "nbconvert_exporter": "python",
   "pygments_lexer": "ipython3",
   "version": "3.12.3"
  }
 },
 "nbformat": 4,
 "nbformat_minor": 5
}
