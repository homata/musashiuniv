{
 "cells": [
  {
   "cell_type": "markdown",
   "id": "ca99070c",
   "metadata": {},
   "source": [
    "# RDBデータ"
   ]
  },
  {
   "cell_type": "markdown",
   "id": "e0ff974a",
   "metadata": {},
   "source": [
    "## SQLite3"
   ]
  },
  {
   "cell_type": "markdown",
   "id": "6b86fd05",
   "metadata": {},
   "source": [
    "## データサンプル"
   ]
  },
  {
   "cell_type": "markdown",
   "id": "f1b22052",
   "metadata": {},
   "source": [
    "# sqlite3モジュールを使う"
   ]
  },
  {
   "cell_type": "code",
   "execution_count": 1,
   "id": "8793d951",
   "metadata": {
    "execution": {
     "iopub.execute_input": "2025-08-31T17:18:17.296358Z",
     "iopub.status.busy": "2025-08-31T17:18:17.294292Z",
     "iopub.status.idle": "2025-08-31T17:18:17.307927Z",
     "shell.execute_reply": "2025-08-31T17:18:17.305487Z"
    }
   },
   "outputs": [],
   "source": [
    "import sqlite3\n",
    "\n",
    "con = sqlite3.connect(\"data/sakila-sqlite3/sakila_master.db\")  # ・・①"
   ]
  },
  {
   "cell_type": "code",
   "execution_count": 2,
   "id": "950556be",
   "metadata": {
    "execution": {
     "iopub.execute_input": "2025-08-31T17:18:17.315160Z",
     "iopub.status.busy": "2025-08-31T17:18:17.313590Z",
     "iopub.status.idle": "2025-08-31T17:18:17.330271Z",
     "shell.execute_reply": "2025-08-31T17:18:17.328048Z"
    }
   },
   "outputs": [
    {
     "name": "stdout",
     "output_type": "stream",
     "text": [
      "actor\n",
      "country\n",
      "city\n",
      "address\n",
      "language\n",
      "category\n",
      "customer\n",
      "film\n",
      "film_actor\n",
      "film_category\n",
      "film_text\n",
      "inventory\n",
      "staff\n",
      "store\n",
      "payment\n",
      "rental\n"
     ]
    }
   ],
   "source": [
    "cur = con.cursor()  # コネクションからカーソルオブジェクトを取得 ・・②\n",
    "# select文を実行してfor文で順次データを取得\n",
    "for table in cur.execute(  #  ・・③\n",
    "    \"SELECT name FROM sqlite_master WHERE type='table';\"\n",
    "):\n",
    "    print(table[0])  # ・・④"
   ]
  },
  {
   "cell_type": "code",
   "execution_count": 3,
   "id": "3c0c33dc",
   "metadata": {
    "execution": {
     "iopub.execute_input": "2025-08-31T17:18:17.335098Z",
     "iopub.status.busy": "2025-08-31T17:18:17.334586Z",
     "iopub.status.idle": "2025-08-31T17:18:17.350794Z",
     "shell.execute_reply": "2025-08-31T17:18:17.348510Z"
    }
   },
   "outputs": [
    {
     "data": {
      "text/plain": [
       "[(1000,)]"
      ]
     },
     "execution_count": 3,
     "metadata": {},
     "output_type": "execute_result"
    }
   ],
   "source": [
    "cur.execute(\"SELECT count(*) FROM film;\")\n",
    "cur.fetchall()"
   ]
  },
  {
   "cell_type": "code",
   "execution_count": 4,
   "id": "bc94c377",
   "metadata": {
    "execution": {
     "iopub.execute_input": "2025-08-31T17:18:17.355126Z",
     "iopub.status.busy": "2025-08-31T17:18:17.354643Z",
     "iopub.status.idle": "2025-08-31T17:18:17.365392Z",
     "shell.execute_reply": "2025-08-31T17:18:17.364190Z"
    }
   },
   "outputs": [
    {
     "name": "stdout",
     "output_type": "stream",
     "text": [
      "(1, 'ACADEMY DINOSAUR', '2006', 86, '2020-12-23 07:12:31')\n",
      "(2, 'ACE GOLDFINGER', '2006', 48, '2020-12-23 07:12:31')\n",
      "(3, 'ADAPTATION HOLES', '2006', 50, '2020-12-23 07:12:31')\n",
      "(4, 'AFFAIR PREJUDICE', '2006', 117, '2020-12-23 07:12:31')\n",
      "(5, 'AFRICAN EGG', '2006', 130, '2020-12-23 07:12:31')\n",
      "(6, 'AGENT TRUMAN', '2006', 169, '2020-12-23 07:12:31')\n",
      "(7, 'AIRPLANE SIERRA', '2006', 62, '2020-12-23 07:12:31')\n",
      "(8, 'AIRPORT POLLOCK', '2006', 54, '2020-12-23 07:12:31')\n",
      "(9, 'ALABAMA DEVIL', '2006', 114, '2020-12-23 07:12:31')\n",
      "(10, 'ALADDIN CALENDAR', '2006', 63, '2020-12-23 07:12:31')\n"
     ]
    }
   ],
   "source": [
    "for data in cur.execute(\n",
    "    \"SELECT FILM_ID, TITLE, RELEASE_YEAR, LENGTH, LAST_UPDATE FROM film LIMIT 10;\"\n",
    "):\n",
    "    print(data)"
   ]
  },
  {
   "cell_type": "code",
   "execution_count": 5,
   "id": "ef453765",
   "metadata": {
    "execution": {
     "iopub.execute_input": "2025-08-31T17:18:17.369942Z",
     "iopub.status.busy": "2025-08-31T17:18:17.369366Z",
     "iopub.status.idle": "2025-08-31T17:18:17.378288Z",
     "shell.execute_reply": "2025-08-31T17:18:17.376322Z"
    }
   },
   "outputs": [
    {
     "name": "stdout",
     "output_type": "stream",
     "text": [
      "(1, 'ACADEMY DINOSAUR', '2006', 86, '2020-12-23 07:12:31')\n",
      "(2, 'ACE GOLDFINGER', '2006', 48, '2020-12-23 07:12:31')\n",
      "(3, 'ADAPTATION HOLES', '2006', 50, '2020-12-23 07:12:31')\n",
      "(4, 'AFFAIR PREJUDICE', '2006', 117, '2020-12-23 07:12:31')\n",
      "(5, 'AFRICAN EGG', '2006', 130, '2020-12-23 07:12:31')\n"
     ]
    }
   ],
   "source": [
    "limit = 5\n",
    "\n",
    "for data in cur.execute(\n",
    "    \"SELECT FILM_ID, TITLE, RELEASE_YEAR, LENGTH, LAST_UPDATE\"\n",
    "    \" FROM film LIMIT (?);\",\n",
    "    (limit,),\n",
    "):\n",
    "    print(data)"
   ]
  },
  {
   "cell_type": "code",
   "execution_count": 6,
   "id": "8bcc5522",
   "metadata": {
    "execution": {
     "iopub.execute_input": "2025-08-31T17:18:17.382718Z",
     "iopub.status.busy": "2025-08-31T17:18:17.382209Z",
     "iopub.status.idle": "2025-08-31T17:18:17.396758Z",
     "shell.execute_reply": "2025-08-31T17:18:17.394943Z"
    }
   },
   "outputs": [
    {
     "name": "stdout",
     "output_type": "stream",
     "text": [
      "(1, 'ACADEMY DINOSAUR', '2006', 86, '2020-12-23 07:12:31', 'Documentary')\n",
      "(2, 'ACE GOLDFINGER', '2006', 48, '2020-12-23 07:12:31', 'Horror')\n",
      "(3, 'ADAPTATION HOLES', '2006', 50, '2020-12-23 07:12:31', 'Documentary')\n",
      "(4, 'AFFAIR PREJUDICE', '2006', 117, '2020-12-23 07:12:31', 'Horror')\n",
      "(5, 'AFRICAN EGG', '2006', 130, '2020-12-23 07:12:31', 'Family')\n",
      "(6, 'AGENT TRUMAN', '2006', 169, '2020-12-23 07:12:31', 'Foreign')\n",
      "(7, 'AIRPLANE SIERRA', '2006', 62, '2020-12-23 07:12:31', 'Comedy')\n",
      "(8, 'AIRPORT POLLOCK', '2006', 54, '2020-12-23 07:12:31', 'Horror')\n",
      "(9, 'ALABAMA DEVIL', '2006', 114, '2020-12-23 07:12:31', 'Horror')\n",
      "(10, 'ALADDIN CALENDAR', '2006', 63, '2020-12-23 07:12:31', 'Sports')\n",
      "(11, 'ALAMO VIDEOTAPE', '2006', 126, '2020-12-23 07:12:31', 'Foreign')\n",
      "(12, 'ALASKA PHANTOM', '2006', 136, '2020-12-23 07:12:31', 'Music')\n",
      "(13, 'ALI FOREVER', '2006', 150, '2020-12-23 07:12:31', 'Horror')\n",
      "(14, 'ALICE FANTASIA', '2006', 94, '2020-12-23 07:12:32', 'Classics')\n",
      "(15, 'ALIEN CENTER', '2006', 46, '2020-12-23 07:12:32', 'Foreign')\n",
      "(16, 'ALLEY EVOLUTION', '2006', 180, '2020-12-23 07:12:32', 'Foreign')\n",
      "(17, 'ALONE TRIP', '2006', 82, '2020-12-23 07:12:32', 'Music')\n",
      "(18, 'ALTER VICTORY', '2006', 57, '2020-12-23 07:12:32', 'Animation')\n",
      "(19, 'AMADEUS HOLY', '2006', 113, '2020-12-23 07:12:32', 'Action')\n",
      "(20, 'AMELIE HELLFIGHTERS', '2006', 79, '2020-12-23 07:12:32', 'Music')\n"
     ]
    }
   ],
   "source": [
    "limit = 20\n",
    "\n",
    "for data in cur.execute(\n",
    "    \"SELECT F.FILM_ID, F.TITLE, F.RELEASE_YEAR, F.LENGTH, F.LAST_UPDATE, C.NAME\"\n",
    "    \" FROM film as F\"\n",
    "    \" LEFT JOIN film_category as FC ON F.FILM_ID = FC.FILM_ID\"\n",
    "    \" LEFT JOIN category as C ON FC.CATEGORY_ID = C.CATEGORY_ID\"\n",
    "    \" ORDER BY F.TITLE\"\n",
    "    \" LIMIT (?);\",\n",
    "    (limit,),\n",
    "):\n",
    "    print(data)"
   ]
  },
  {
   "cell_type": "markdown",
   "id": "a34dcb7a",
   "metadata": {},
   "source": [
    "# pandasを使う"
   ]
  },
  {
   "cell_type": "code",
   "execution_count": 7,
   "id": "da081d40",
   "metadata": {
    "execution": {
     "iopub.execute_input": "2025-08-31T17:18:17.401057Z",
     "iopub.status.busy": "2025-08-31T17:18:17.400608Z",
     "iopub.status.idle": "2025-08-31T17:18:18.016780Z",
     "shell.execute_reply": "2025-08-31T17:18:18.015176Z"
    }
   },
   "outputs": [
    {
     "data": {
      "text/html": [
       "<div>\n",
       "<style scoped>\n",
       "    .dataframe tbody tr th:only-of-type {\n",
       "        vertical-align: middle;\n",
       "    }\n",
       "\n",
       "    .dataframe tbody tr th {\n",
       "        vertical-align: top;\n",
       "    }\n",
       "\n",
       "    .dataframe thead th {\n",
       "        text-align: right;\n",
       "    }\n",
       "</style>\n",
       "<table border=\"1\" class=\"dataframe\">\n",
       "  <thead>\n",
       "    <tr style=\"text-align: right;\">\n",
       "      <th></th>\n",
       "      <th>film_id</th>\n",
       "      <th>title</th>\n",
       "      <th>release_year</th>\n",
       "      <th>length</th>\n",
       "      <th>last_update</th>\n",
       "      <th>name</th>\n",
       "    </tr>\n",
       "  </thead>\n",
       "  <tbody>\n",
       "    <tr>\n",
       "      <th>0</th>\n",
       "      <td>1</td>\n",
       "      <td>ACADEMY DINOSAUR</td>\n",
       "      <td>2006</td>\n",
       "      <td>86</td>\n",
       "      <td>2020-12-23 07:12:31</td>\n",
       "      <td>Documentary</td>\n",
       "    </tr>\n",
       "    <tr>\n",
       "      <th>1</th>\n",
       "      <td>2</td>\n",
       "      <td>ACE GOLDFINGER</td>\n",
       "      <td>2006</td>\n",
       "      <td>48</td>\n",
       "      <td>2020-12-23 07:12:31</td>\n",
       "      <td>Horror</td>\n",
       "    </tr>\n",
       "    <tr>\n",
       "      <th>2</th>\n",
       "      <td>3</td>\n",
       "      <td>ADAPTATION HOLES</td>\n",
       "      <td>2006</td>\n",
       "      <td>50</td>\n",
       "      <td>2020-12-23 07:12:31</td>\n",
       "      <td>Documentary</td>\n",
       "    </tr>\n",
       "    <tr>\n",
       "      <th>3</th>\n",
       "      <td>4</td>\n",
       "      <td>AFFAIR PREJUDICE</td>\n",
       "      <td>2006</td>\n",
       "      <td>117</td>\n",
       "      <td>2020-12-23 07:12:31</td>\n",
       "      <td>Horror</td>\n",
       "    </tr>\n",
       "    <tr>\n",
       "      <th>4</th>\n",
       "      <td>5</td>\n",
       "      <td>AFRICAN EGG</td>\n",
       "      <td>2006</td>\n",
       "      <td>130</td>\n",
       "      <td>2020-12-23 07:12:31</td>\n",
       "      <td>Family</td>\n",
       "    </tr>\n",
       "  </tbody>\n",
       "</table>\n",
       "</div>"
      ],
      "text/plain": [
       "   film_id             title release_year  length         last_update  \\\n",
       "0        1  ACADEMY DINOSAUR         2006      86 2020-12-23 07:12:31   \n",
       "1        2    ACE GOLDFINGER         2006      48 2020-12-23 07:12:31   \n",
       "2        3  ADAPTATION HOLES         2006      50 2020-12-23 07:12:31   \n",
       "3        4  AFFAIR PREJUDICE         2006     117 2020-12-23 07:12:31   \n",
       "4        5       AFRICAN EGG         2006     130 2020-12-23 07:12:31   \n",
       "\n",
       "          name  \n",
       "0  Documentary  \n",
       "1       Horror  \n",
       "2  Documentary  \n",
       "3       Horror  \n",
       "4       Family  "
      ]
     },
     "execution_count": 7,
     "metadata": {},
     "output_type": "execute_result"
    }
   ],
   "source": [
    "import pandas as pd\n",
    "\n",
    "df = pd.read_sql(\n",
    "    \"SELECT F.FILM_ID, F.TITLE, F.RELEASE_YEAR, F.LENGTH, F.LAST_UPDATE, C.NAME\"\n",
    "    \" FROM film as F\"\n",
    "    \" LEFT JOIN film_category as FC ON F.FILM_ID = FC.FILM_ID\"\n",
    "    \" LEFT JOIN category as C ON FC.CATEGORY_ID = C.CATEGORY_ID\",\n",
    "    con=con,\n",
    "    parse_dates=[\"last_update\"],\n",
    ")\n",
    "df.head()"
   ]
  },
  {
   "cell_type": "code",
   "execution_count": 8,
   "id": "02fe6f8e",
   "metadata": {
    "execution": {
     "iopub.execute_input": "2025-08-31T17:18:18.021031Z",
     "iopub.status.busy": "2025-08-31T17:18:18.020515Z",
     "iopub.status.idle": "2025-08-31T17:18:18.033113Z",
     "shell.execute_reply": "2025-08-31T17:18:18.031449Z"
    }
   },
   "outputs": [
    {
     "data": {
      "text/plain": [
       "(1000, 6)"
      ]
     },
     "execution_count": 8,
     "metadata": {},
     "output_type": "execute_result"
    }
   ],
   "source": [
    "df.shape"
   ]
  },
  {
   "cell_type": "code",
   "execution_count": 9,
   "id": "39d6929b",
   "metadata": {
    "execution": {
     "iopub.execute_input": "2025-08-31T17:18:18.037140Z",
     "iopub.status.busy": "2025-08-31T17:18:18.036701Z",
     "iopub.status.idle": "2025-08-31T17:18:18.048543Z",
     "shell.execute_reply": "2025-08-31T17:18:18.046712Z"
    }
   },
   "outputs": [
    {
     "data": {
      "text/plain": [
       "film_id                  int64\n",
       "title                   object\n",
       "release_year            object\n",
       "length                   int64\n",
       "last_update     datetime64[ns]\n",
       "name                    object\n",
       "dtype: object"
      ]
     },
     "execution_count": 9,
     "metadata": {},
     "output_type": "execute_result"
    }
   ],
   "source": [
    "df.dtypes"
   ]
  },
  {
   "cell_type": "code",
   "execution_count": 10,
   "id": "d999bcea",
   "metadata": {
    "execution": {
     "iopub.execute_input": "2025-08-31T17:18:18.052849Z",
     "iopub.status.busy": "2025-08-31T17:18:18.052387Z",
     "iopub.status.idle": "2025-08-31T17:18:18.059945Z",
     "shell.execute_reply": "2025-08-31T17:18:18.058192Z"
    }
   },
   "outputs": [],
   "source": [
    "con.close()  # コネクションを閉じる"
   ]
  }
 ],
 "metadata": {
  "language_info": {
   "codemirror_mode": {
    "name": "ipython",
    "version": 3
   },
   "file_extension": ".py",
   "mimetype": "text/x-python",
   "name": "python",
   "nbconvert_exporter": "python",
   "pygments_lexer": "ipython3",
   "version": "3.12.3"
  }
 },
 "nbformat": 4,
 "nbformat_minor": 5
}
