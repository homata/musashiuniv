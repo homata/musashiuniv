{
 "cells": [
  {
   "cell_type": "markdown",
   "id": "8d4d6fdd",
   "metadata": {},
   "source": [
    "# pickle形式"
   ]
  },
  {
   "cell_type": "markdown",
   "id": "3a7494df",
   "metadata": {},
   "source": [
    "## pickleの注意点"
   ]
  },
  {
   "cell_type": "code",
   "execution_count": 1,
   "id": "61fa7705",
   "metadata": {
    "execution": {
     "iopub.execute_input": "2025-08-31T17:18:20.325941Z",
     "iopub.status.busy": "2025-08-31T17:18:20.325069Z",
     "iopub.status.idle": "2025-08-31T17:18:20.882417Z",
     "shell.execute_reply": "2025-08-31T17:18:20.880511Z"
    }
   },
   "outputs": [],
   "source": [
    "import pickle\n",
    "import pandas as pd"
   ]
  },
  {
   "cell_type": "code",
   "execution_count": 2,
   "id": "165feac9",
   "metadata": {
    "execution": {
     "iopub.execute_input": "2025-08-31T17:18:20.888094Z",
     "iopub.status.busy": "2025-08-31T17:18:20.887457Z",
     "iopub.status.idle": "2025-08-31T17:18:20.925996Z",
     "shell.execute_reply": "2025-08-31T17:18:20.924372Z"
    }
   },
   "outputs": [
    {
     "data": {
      "text/html": [
       "<div>\n",
       "<style scoped>\n",
       "    .dataframe tbody tr th:only-of-type {\n",
       "        vertical-align: middle;\n",
       "    }\n",
       "\n",
       "    .dataframe tbody tr th {\n",
       "        vertical-align: top;\n",
       "    }\n",
       "\n",
       "    .dataframe thead th {\n",
       "        text-align: right;\n",
       "    }\n",
       "</style>\n",
       "<table border=\"1\" class=\"dataframe\">\n",
       "  <thead>\n",
       "    <tr style=\"text-align: right;\">\n",
       "      <th></th>\n",
       "      <th>表章項目</th>\n",
       "      <th>人口</th>\n",
       "      <th>概算値</th>\n",
       "      <th>全国</th>\n",
       "      <th>時間軸（年月日現在）</th>\n",
       "      <th>年齢5歳階級</th>\n",
       "      <th>/男女別</th>\n",
       "      <th>男女計</th>\n",
       "      <th>男</th>\n",
       "      <th>女</th>\n",
       "    </tr>\n",
       "  </thead>\n",
       "  <tbody>\n",
       "    <tr>\n",
       "      <th>0</th>\n",
       "      <td>人口【万人】</td>\n",
       "      <td>総人口</td>\n",
       "      <td>概算値</td>\n",
       "      <td>全国</td>\n",
       "      <td>2021-12-01</td>\n",
       "      <td>総数</td>\n",
       "      <td>NaN</td>\n",
       "      <td>12547</td>\n",
       "      <td>6099</td>\n",
       "      <td>6448</td>\n",
       "    </tr>\n",
       "    <tr>\n",
       "      <th>1</th>\n",
       "      <td>人口【万人】</td>\n",
       "      <td>総人口</td>\n",
       "      <td>概算値</td>\n",
       "      <td>全国</td>\n",
       "      <td>2021-12-01</td>\n",
       "      <td>0～4歳</td>\n",
       "      <td>NaN</td>\n",
       "      <td>437</td>\n",
       "      <td>224</td>\n",
       "      <td>214</td>\n",
       "    </tr>\n",
       "    <tr>\n",
       "      <th>2</th>\n",
       "      <td>人口【万人】</td>\n",
       "      <td>総人口</td>\n",
       "      <td>概算値</td>\n",
       "      <td>全国</td>\n",
       "      <td>2021-12-01</td>\n",
       "      <td>5～9歳</td>\n",
       "      <td>NaN</td>\n",
       "      <td>503</td>\n",
       "      <td>258</td>\n",
       "      <td>245</td>\n",
       "    </tr>\n",
       "    <tr>\n",
       "      <th>3</th>\n",
       "      <td>人口【万人】</td>\n",
       "      <td>総人口</td>\n",
       "      <td>概算値</td>\n",
       "      <td>全国</td>\n",
       "      <td>2021-12-01</td>\n",
       "      <td>10～14歳</td>\n",
       "      <td>NaN</td>\n",
       "      <td>535</td>\n",
       "      <td>274</td>\n",
       "      <td>261</td>\n",
       "    </tr>\n",
       "    <tr>\n",
       "      <th>4</th>\n",
       "      <td>人口【万人】</td>\n",
       "      <td>総人口</td>\n",
       "      <td>概算値</td>\n",
       "      <td>全国</td>\n",
       "      <td>2021-12-01</td>\n",
       "      <td>15～19歳</td>\n",
       "      <td>NaN</td>\n",
       "      <td>559</td>\n",
       "      <td>287</td>\n",
       "      <td>272</td>\n",
       "    </tr>\n",
       "  </tbody>\n",
       "</table>\n",
       "</div>"
      ],
      "text/plain": [
       "     表章項目   人口  概算値  全国 時間軸（年月日現在）  年齢5歳階級  /男女別    男女計     男     女\n",
       "0  人口【万人】  総人口  概算値  全国 2021-12-01      総数   NaN  12547  6099  6448\n",
       "1  人口【万人】  総人口  概算値  全国 2021-12-01    0～4歳   NaN    437   224   214\n",
       "2  人口【万人】  総人口  概算値  全国 2021-12-01    5～9歳   NaN    503   258   245\n",
       "3  人口【万人】  総人口  概算値  全国 2021-12-01  10～14歳   NaN    535   274   261\n",
       "4  人口【万人】  総人口  概算値  全国 2021-12-01  15～19歳   NaN    559   287   272"
      ]
     },
     "execution_count": 2,
     "metadata": {},
     "output_type": "execute_result"
    }
   ],
   "source": [
    "df = pd.read_csv(\n",
    "    \"data/FEH_00200524_230205124938.csv\",\n",
    "    encoding=\"cp932\",\n",
    "    parse_dates=[\"時間軸（年月日現在）\"],\n",
    "    date_format=\"%Y年%m月\",\n",
    "    thousands=\",\",\n",
    ")\n",
    "df.head()"
   ]
  },
  {
   "cell_type": "code",
   "execution_count": 3,
   "id": "8eceacf4",
   "metadata": {
    "execution": {
     "iopub.execute_input": "2025-08-31T17:18:20.930295Z",
     "iopub.status.busy": "2025-08-31T17:18:20.929722Z",
     "iopub.status.idle": "2025-08-31T17:18:20.938399Z",
     "shell.execute_reply": "2025-08-31T17:18:20.936675Z"
    }
   },
   "outputs": [],
   "source": [
    "with open(\"data/csv-to-pickle.pickle\", \"wb\") as f:  # ・・①\n",
    "    pickle.dump(df, f)  # ・・②"
   ]
  },
  {
   "cell_type": "code",
   "execution_count": 4,
   "id": "3b86db1a",
   "metadata": {
    "execution": {
     "iopub.execute_input": "2025-08-31T17:18:20.942702Z",
     "iopub.status.busy": "2025-08-31T17:18:20.942284Z",
     "iopub.status.idle": "2025-08-31T17:18:20.951444Z",
     "shell.execute_reply": "2025-08-31T17:18:20.949611Z"
    }
   },
   "outputs": [],
   "source": [
    "with open(\"data/csv-to-pickle.pickle\", \"rb\") as f:  # ・・③\n",
    "    df_loaded = pickle.load(f)  # ・・④"
   ]
  },
  {
   "cell_type": "code",
   "execution_count": 5,
   "id": "ceffefe0",
   "metadata": {
    "execution": {
     "iopub.execute_input": "2025-08-31T17:18:20.956077Z",
     "iopub.status.busy": "2025-08-31T17:18:20.955096Z",
     "iopub.status.idle": "2025-08-31T17:18:20.975307Z",
     "shell.execute_reply": "2025-08-31T17:18:20.973701Z"
    }
   },
   "outputs": [
    {
     "data": {
      "text/html": [
       "<div>\n",
       "<style scoped>\n",
       "    .dataframe tbody tr th:only-of-type {\n",
       "        vertical-align: middle;\n",
       "    }\n",
       "\n",
       "    .dataframe tbody tr th {\n",
       "        vertical-align: top;\n",
       "    }\n",
       "\n",
       "    .dataframe thead th {\n",
       "        text-align: right;\n",
       "    }\n",
       "</style>\n",
       "<table border=\"1\" class=\"dataframe\">\n",
       "  <thead>\n",
       "    <tr style=\"text-align: right;\">\n",
       "      <th></th>\n",
       "      <th>表章項目</th>\n",
       "      <th>人口</th>\n",
       "      <th>概算値</th>\n",
       "      <th>全国</th>\n",
       "      <th>時間軸（年月日現在）</th>\n",
       "      <th>年齢5歳階級</th>\n",
       "      <th>/男女別</th>\n",
       "      <th>男女計</th>\n",
       "      <th>男</th>\n",
       "      <th>女</th>\n",
       "    </tr>\n",
       "  </thead>\n",
       "  <tbody>\n",
       "    <tr>\n",
       "      <th>0</th>\n",
       "      <td>人口【万人】</td>\n",
       "      <td>総人口</td>\n",
       "      <td>概算値</td>\n",
       "      <td>全国</td>\n",
       "      <td>2021-12-01</td>\n",
       "      <td>総数</td>\n",
       "      <td>NaN</td>\n",
       "      <td>12547</td>\n",
       "      <td>6099</td>\n",
       "      <td>6448</td>\n",
       "    </tr>\n",
       "    <tr>\n",
       "      <th>1</th>\n",
       "      <td>人口【万人】</td>\n",
       "      <td>総人口</td>\n",
       "      <td>概算値</td>\n",
       "      <td>全国</td>\n",
       "      <td>2021-12-01</td>\n",
       "      <td>0～4歳</td>\n",
       "      <td>NaN</td>\n",
       "      <td>437</td>\n",
       "      <td>224</td>\n",
       "      <td>214</td>\n",
       "    </tr>\n",
       "  </tbody>\n",
       "</table>\n",
       "</div>"
      ],
      "text/plain": [
       "     表章項目   人口  概算値  全国 時間軸（年月日現在） 年齢5歳階級  /男女別    男女計     男     女\n",
       "0  人口【万人】  総人口  概算値  全国 2021-12-01     総数   NaN  12547  6099  6448\n",
       "1  人口【万人】  総人口  概算値  全国 2021-12-01   0～4歳   NaN    437   224   214"
      ]
     },
     "execution_count": 5,
     "metadata": {},
     "output_type": "execute_result"
    }
   ],
   "source": [
    "df_loaded.head(2)"
   ]
  },
  {
   "cell_type": "code",
   "execution_count": 6,
   "id": "731ff338",
   "metadata": {
    "execution": {
     "iopub.execute_input": "2025-08-31T17:18:20.979654Z",
     "iopub.status.busy": "2025-08-31T17:18:20.979192Z",
     "iopub.status.idle": "2025-08-31T17:18:20.990679Z",
     "shell.execute_reply": "2025-08-31T17:18:20.989006Z"
    }
   },
   "outputs": [
    {
     "data": {
      "text/plain": [
       "表章項目                  object\n",
       "人口                    object\n",
       "概算値                   object\n",
       "全国                    object\n",
       "時間軸（年月日現在）    datetime64[ns]\n",
       "年齢5歳階級                object\n",
       "/男女別                 float64\n",
       "男女計                    int64\n",
       "男                      int64\n",
       "女                      int64\n",
       "dtype: object"
      ]
     },
     "execution_count": 6,
     "metadata": {},
     "output_type": "execute_result"
    }
   ],
   "source": [
    "df_loaded.dtypes"
   ]
  },
  {
   "cell_type": "code",
   "execution_count": 7,
   "id": "cc503a74",
   "metadata": {
    "execution": {
     "iopub.execute_input": "2025-08-31T17:18:20.994980Z",
     "iopub.status.busy": "2025-08-31T17:18:20.994526Z",
     "iopub.status.idle": "2025-08-31T17:18:21.003125Z",
     "shell.execute_reply": "2025-08-31T17:18:21.001087Z"
    }
   },
   "outputs": [],
   "source": [
    "df.to_pickle(\"data/df-to-pickle.pickle\")"
   ]
  },
  {
   "cell_type": "code",
   "execution_count": 8,
   "id": "0bcef25d",
   "metadata": {
    "execution": {
     "iopub.execute_input": "2025-08-31T17:18:21.007150Z",
     "iopub.status.busy": "2025-08-31T17:18:21.006669Z",
     "iopub.status.idle": "2025-08-31T17:18:21.015343Z",
     "shell.execute_reply": "2025-08-31T17:18:21.013328Z"
    }
   },
   "outputs": [],
   "source": [
    "df_loaded2 = pd.read_pickle(\"data/df-to-pickle.pickle\")"
   ]
  },
  {
   "cell_type": "code",
   "execution_count": 9,
   "id": "b3480f94",
   "metadata": {
    "execution": {
     "iopub.execute_input": "2025-08-31T17:18:21.019945Z",
     "iopub.status.busy": "2025-08-31T17:18:21.019500Z",
     "iopub.status.idle": "2025-08-31T17:18:21.039156Z",
     "shell.execute_reply": "2025-08-31T17:18:21.037295Z"
    }
   },
   "outputs": [
    {
     "data": {
      "text/html": [
       "<div>\n",
       "<style scoped>\n",
       "    .dataframe tbody tr th:only-of-type {\n",
       "        vertical-align: middle;\n",
       "    }\n",
       "\n",
       "    .dataframe tbody tr th {\n",
       "        vertical-align: top;\n",
       "    }\n",
       "\n",
       "    .dataframe thead th {\n",
       "        text-align: right;\n",
       "    }\n",
       "</style>\n",
       "<table border=\"1\" class=\"dataframe\">\n",
       "  <thead>\n",
       "    <tr style=\"text-align: right;\">\n",
       "      <th></th>\n",
       "      <th>表章項目</th>\n",
       "      <th>人口</th>\n",
       "      <th>概算値</th>\n",
       "      <th>全国</th>\n",
       "      <th>時間軸（年月日現在）</th>\n",
       "      <th>年齢5歳階級</th>\n",
       "      <th>/男女別</th>\n",
       "      <th>男女計</th>\n",
       "      <th>男</th>\n",
       "      <th>女</th>\n",
       "    </tr>\n",
       "  </thead>\n",
       "  <tbody>\n",
       "    <tr>\n",
       "      <th>0</th>\n",
       "      <td>人口【万人】</td>\n",
       "      <td>総人口</td>\n",
       "      <td>概算値</td>\n",
       "      <td>全国</td>\n",
       "      <td>2021-12-01</td>\n",
       "      <td>総数</td>\n",
       "      <td>NaN</td>\n",
       "      <td>12547</td>\n",
       "      <td>6099</td>\n",
       "      <td>6448</td>\n",
       "    </tr>\n",
       "    <tr>\n",
       "      <th>1</th>\n",
       "      <td>人口【万人】</td>\n",
       "      <td>総人口</td>\n",
       "      <td>概算値</td>\n",
       "      <td>全国</td>\n",
       "      <td>2021-12-01</td>\n",
       "      <td>0～4歳</td>\n",
       "      <td>NaN</td>\n",
       "      <td>437</td>\n",
       "      <td>224</td>\n",
       "      <td>214</td>\n",
       "    </tr>\n",
       "  </tbody>\n",
       "</table>\n",
       "</div>"
      ],
      "text/plain": [
       "     表章項目   人口  概算値  全国 時間軸（年月日現在） 年齢5歳階級  /男女別    男女計     男     女\n",
       "0  人口【万人】  総人口  概算値  全国 2021-12-01     総数   NaN  12547  6099  6448\n",
       "1  人口【万人】  総人口  概算値  全国 2021-12-01   0～4歳   NaN    437   224   214"
      ]
     },
     "execution_count": 9,
     "metadata": {},
     "output_type": "execute_result"
    }
   ],
   "source": [
    "df_loaded2.head(2)"
   ]
  }
 ],
 "metadata": {
  "language_info": {
   "codemirror_mode": {
    "name": "ipython",
    "version": 3
   },
   "file_extension": ".py",
   "mimetype": "text/x-python",
   "name": "python",
   "nbconvert_exporter": "python",
   "pygments_lexer": "ipython3",
   "version": "3.12.3"
  }
 },
 "nbformat": 4,
 "nbformat_minor": 5
}
