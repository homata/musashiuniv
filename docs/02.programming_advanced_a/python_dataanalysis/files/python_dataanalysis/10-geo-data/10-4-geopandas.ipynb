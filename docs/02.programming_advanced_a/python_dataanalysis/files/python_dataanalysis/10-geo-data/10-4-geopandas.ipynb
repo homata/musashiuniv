{
 "cells": [
  {
   "cell_type": "markdown",
   "id": "cc66d324",
   "metadata": {},
   "source": [
    "# GeoPandas\n",
    "\n",
    "## GeoDataFrame"
   ]
  },
  {
   "cell_type": "code",
   "execution_count": 1,
   "id": "8f78d7b9",
   "metadata": {
    "execution": {
     "iopub.execute_input": "2025-08-31T17:20:00.174483Z",
     "iopub.status.busy": "2025-08-31T17:20:00.173077Z",
     "iopub.status.idle": "2025-08-31T17:20:00.660484Z",
     "shell.execute_reply": "2025-08-31T17:20:00.657786Z"
    }
   },
   "outputs": [
    {
     "ename": "ModuleNotFoundError",
     "evalue": "No module named 'geopandas'",
     "output_type": "error",
     "traceback": [
      "\u001b[31m---------------------------------------------------------------------------\u001b[39m",
      "\u001b[31mModuleNotFoundError\u001b[39m                       Traceback (most recent call last)",
      "\u001b[36mCell\u001b[39m\u001b[36m \u001b[39m\u001b[32mIn[1]\u001b[39m\u001b[32m, line 1\u001b[39m\n\u001b[32m----> \u001b[39m\u001b[32m1\u001b[39m \u001b[38;5;28;01mimport\u001b[39;00m\u001b[38;5;250m \u001b[39m\u001b[34;01mgeopandas\u001b[39;00m\u001b[38;5;250m \u001b[39m\u001b[38;5;28;01mas\u001b[39;00m\u001b[38;5;250m \u001b[39m\u001b[34;01mgpd\u001b[39;00m\n\u001b[32m      3\u001b[39m gdf = gpd.read_file(\u001b[33m\"\u001b[39m\u001b[33m./data/N03-20220101_25_GML/N03-22_25_220101.geojson\u001b[39m\u001b[33m\"\u001b[39m)\n\u001b[32m      4\u001b[39m gdf.head()\n",
      "\u001b[31mModuleNotFoundError\u001b[39m: No module named 'geopandas'"
     ]
    }
   ],
   "source": [
    "import geopandas as gpd\n",
    "\n",
    "gdf = gpd.read_file(\"./data/N03-20220101_25_GML/N03-22_25_220101.geojson\")\n",
    "gdf.head()"
   ]
  },
  {
   "cell_type": "code",
   "execution_count": 2,
   "id": "961b5e51",
   "metadata": {
    "execution": {
     "iopub.execute_input": "2025-08-31T17:20:00.666924Z",
     "iopub.status.busy": "2025-08-31T17:20:00.666418Z",
     "iopub.status.idle": "2025-08-31T17:20:00.714202Z",
     "shell.execute_reply": "2025-08-31T17:20:00.712308Z"
    }
   },
   "outputs": [
    {
     "ename": "NameError",
     "evalue": "name 'gpd' is not defined",
     "output_type": "error",
     "traceback": [
      "\u001b[31m---------------------------------------------------------------------------\u001b[39m",
      "\u001b[31mNameError\u001b[39m                                 Traceback (most recent call last)",
      "\u001b[36mCell\u001b[39m\u001b[36m \u001b[39m\u001b[32mIn[2]\u001b[39m\u001b[32m, line 1\u001b[39m\n\u001b[32m----> \u001b[39m\u001b[32m1\u001b[39m gdf = \u001b[43mgpd\u001b[49m.read_file(\u001b[33m\"\u001b[39m\u001b[33m./data/N03-20220101_25_GML/\u001b[39m\u001b[33m\"\u001b[39m)\n\u001b[32m      2\u001b[39m gdf.head()\n",
      "\u001b[31mNameError\u001b[39m: name 'gpd' is not defined"
     ]
    }
   ],
   "source": [
    "gdf = gpd.read_file(\"./data/N03-20220101_25_GML/\")\n",
    "gdf.head()"
   ]
  },
  {
   "cell_type": "markdown",
   "id": "8418e13a",
   "metadata": {},
   "source": [
    "## .cxインデクサ"
   ]
  },
  {
   "cell_type": "code",
   "execution_count": 3,
   "id": "a4ae8bde",
   "metadata": {
    "execution": {
     "iopub.execute_input": "2025-08-31T17:20:00.719172Z",
     "iopub.status.busy": "2025-08-31T17:20:00.718136Z",
     "iopub.status.idle": "2025-08-31T17:20:00.785574Z",
     "shell.execute_reply": "2025-08-31T17:20:00.782884Z"
    }
   },
   "outputs": [
    {
     "ename": "NameError",
     "evalue": "name 'gdf' is not defined",
     "output_type": "error",
     "traceback": [
      "\u001b[31m---------------------------------------------------------------------------\u001b[39m",
      "\u001b[31mNameError\u001b[39m                                 Traceback (most recent call last)",
      "\u001b[36mCell\u001b[39m\u001b[36m \u001b[39m\u001b[32mIn[3]\u001b[39m\u001b[32m, line 1\u001b[39m\n\u001b[32m----> \u001b[39m\u001b[32m1\u001b[39m \u001b[43mgdf\u001b[49m.cx[\u001b[32m136.2\u001b[39m:\u001b[32m136.4\u001b[39m, \u001b[32m35.5\u001b[39m:\u001b[32m35.6\u001b[39m]\n",
      "\u001b[31mNameError\u001b[39m: name 'gdf' is not defined"
     ]
    }
   ],
   "source": [
    "gdf.cx[136.2:136.4, 35.5:35.6]"
   ]
  },
  {
   "cell_type": "markdown",
   "id": "f911c004",
   "metadata": {},
   "source": [
    "## GeoSeriesの処理"
   ]
  },
  {
   "cell_type": "code",
   "execution_count": 4,
   "id": "a6cacdba",
   "metadata": {
    "execution": {
     "iopub.execute_input": "2025-08-31T17:20:00.792335Z",
     "iopub.status.busy": "2025-08-31T17:20:00.791419Z",
     "iopub.status.idle": "2025-08-31T17:20:00.854704Z",
     "shell.execute_reply": "2025-08-31T17:20:00.852176Z"
    }
   },
   "outputs": [
    {
     "ename": "NameError",
     "evalue": "name 'gdf' is not defined",
     "output_type": "error",
     "traceback": [
      "\u001b[31m---------------------------------------------------------------------------\u001b[39m",
      "\u001b[31mNameError\u001b[39m                                 Traceback (most recent call last)",
      "\u001b[36mCell\u001b[39m\u001b[36m \u001b[39m\u001b[32mIn[4]\u001b[39m\u001b[32m, line 1\u001b[39m\n\u001b[32m----> \u001b[39m\u001b[32m1\u001b[39m \u001b[43mgdf\u001b[49m.dtypes\n",
      "\u001b[31mNameError\u001b[39m: name 'gdf' is not defined"
     ]
    }
   ],
   "source": [
    "gdf.dtypes"
   ]
  },
  {
   "cell_type": "code",
   "execution_count": 5,
   "id": "21eb1fbd",
   "metadata": {
    "execution": {
     "iopub.execute_input": "2025-08-31T17:20:00.860924Z",
     "iopub.status.busy": "2025-08-31T17:20:00.859937Z",
     "iopub.status.idle": "2025-08-31T17:20:00.920740Z",
     "shell.execute_reply": "2025-08-31T17:20:00.918831Z"
    }
   },
   "outputs": [
    {
     "ename": "NameError",
     "evalue": "name 'gdf' is not defined",
     "output_type": "error",
     "traceback": [
      "\u001b[31m---------------------------------------------------------------------------\u001b[39m",
      "\u001b[31mNameError\u001b[39m                                 Traceback (most recent call last)",
      "\u001b[36mCell\u001b[39m\u001b[36m \u001b[39m\u001b[32mIn[5]\u001b[39m\u001b[32m, line 1\u001b[39m\n\u001b[32m----> \u001b[39m\u001b[32m1\u001b[39m geoseries = \u001b[43mgdf\u001b[49m.loc[:, \u001b[33m\"\u001b[39m\u001b[33mgeometry\u001b[39m\u001b[33m\"\u001b[39m]\n\u001b[32m      2\u001b[39m \u001b[38;5;28mtype\u001b[39m(geoseries)\n",
      "\u001b[31mNameError\u001b[39m: name 'gdf' is not defined"
     ]
    }
   ],
   "source": [
    "geoseries = gdf.loc[:, \"geometry\"]\n",
    "type(geoseries)"
   ]
  },
  {
   "cell_type": "code",
   "execution_count": 6,
   "id": "1f0a613c",
   "metadata": {
    "execution": {
     "iopub.execute_input": "2025-08-31T17:20:00.928190Z",
     "iopub.status.busy": "2025-08-31T17:20:00.926558Z",
     "iopub.status.idle": "2025-08-31T17:20:00.984438Z",
     "shell.execute_reply": "2025-08-31T17:20:00.982051Z"
    }
   },
   "outputs": [
    {
     "ename": "NameError",
     "evalue": "name 'geoseries' is not defined",
     "output_type": "error",
     "traceback": [
      "\u001b[31m---------------------------------------------------------------------------\u001b[39m",
      "\u001b[31mNameError\u001b[39m                                 Traceback (most recent call last)",
      "\u001b[36mCell\u001b[39m\u001b[36m \u001b[39m\u001b[32mIn[6]\u001b[39m\u001b[32m, line 1\u001b[39m\n\u001b[32m----> \u001b[39m\u001b[32m1\u001b[39m \u001b[38;5;28mtype\u001b[39m(\u001b[43mgeoseries\u001b[49m[\u001b[32m0\u001b[39m])\n",
      "\u001b[31mNameError\u001b[39m: name 'geoseries' is not defined"
     ]
    }
   ],
   "source": [
    "type(geoseries[0])"
   ]
  },
  {
   "cell_type": "code",
   "execution_count": 7,
   "id": "33654990",
   "metadata": {
    "execution": {
     "iopub.execute_input": "2025-08-31T17:20:00.991217Z",
     "iopub.status.busy": "2025-08-31T17:20:00.990149Z",
     "iopub.status.idle": "2025-08-31T17:20:01.034430Z",
     "shell.execute_reply": "2025-08-31T17:20:01.032807Z"
    }
   },
   "outputs": [
    {
     "ename": "NameError",
     "evalue": "name 'geoseries' is not defined",
     "output_type": "error",
     "traceback": [
      "\u001b[31m---------------------------------------------------------------------------\u001b[39m",
      "\u001b[31mNameError\u001b[39m                                 Traceback (most recent call last)",
      "\u001b[36mCell\u001b[39m\u001b[36m \u001b[39m\u001b[32mIn[7]\u001b[39m\u001b[32m, line 1\u001b[39m\n\u001b[32m----> \u001b[39m\u001b[32m1\u001b[39m \u001b[43mgeoseries\u001b[49m[\u001b[32m0\u001b[39m]\n",
      "\u001b[31mNameError\u001b[39m: name 'geoseries' is not defined"
     ]
    }
   ],
   "source": [
    "geoseries[0]"
   ]
  },
  {
   "cell_type": "code",
   "execution_count": 8,
   "id": "60121453",
   "metadata": {
    "execution": {
     "iopub.execute_input": "2025-08-31T17:20:01.039653Z",
     "iopub.status.busy": "2025-08-31T17:20:01.039099Z",
     "iopub.status.idle": "2025-08-31T17:20:01.097890Z",
     "shell.execute_reply": "2025-08-31T17:20:01.095842Z"
    }
   },
   "outputs": [
    {
     "ename": "NameError",
     "evalue": "name 'geoseries' is not defined",
     "output_type": "error",
     "traceback": [
      "\u001b[31m---------------------------------------------------------------------------\u001b[39m",
      "\u001b[31mNameError\u001b[39m                                 Traceback (most recent call last)",
      "\u001b[36mCell\u001b[39m\u001b[36m \u001b[39m\u001b[32mIn[8]\u001b[39m\u001b[32m, line 1\u001b[39m\n\u001b[32m----> \u001b[39m\u001b[32m1\u001b[39m \u001b[43mgeoseries\u001b[49m[\u001b[32m0\u001b[39m].geom_type\n",
      "\u001b[31mNameError\u001b[39m: name 'geoseries' is not defined"
     ]
    }
   ],
   "source": [
    "geoseries[0].geom_type"
   ]
  },
  {
   "cell_type": "code",
   "execution_count": 9,
   "id": "a8ea1a58",
   "metadata": {
    "execution": {
     "iopub.execute_input": "2025-08-31T17:20:01.104416Z",
     "iopub.status.busy": "2025-08-31T17:20:01.103422Z",
     "iopub.status.idle": "2025-08-31T17:20:01.155836Z",
     "shell.execute_reply": "2025-08-31T17:20:01.153255Z"
    }
   },
   "outputs": [
    {
     "ename": "NameError",
     "evalue": "name 'geoseries' is not defined",
     "output_type": "error",
     "traceback": [
      "\u001b[31m---------------------------------------------------------------------------\u001b[39m",
      "\u001b[31mNameError\u001b[39m                                 Traceback (most recent call last)",
      "\u001b[36mCell\u001b[39m\u001b[36m \u001b[39m\u001b[32mIn[9]\u001b[39m\u001b[32m, line 1\u001b[39m\n\u001b[32m----> \u001b[39m\u001b[32m1\u001b[39m \u001b[43mgeoseries\u001b[49m.geom_type.head()\n",
      "\u001b[31mNameError\u001b[39m: name 'geoseries' is not defined"
     ]
    }
   ],
   "source": [
    "geoseries.geom_type.head()"
   ]
  },
  {
   "cell_type": "code",
   "execution_count": 10,
   "id": "a386074a",
   "metadata": {
    "execution": {
     "iopub.execute_input": "2025-08-31T17:20:01.161745Z",
     "iopub.status.busy": "2025-08-31T17:20:01.160937Z",
     "iopub.status.idle": "2025-08-31T17:20:01.208423Z",
     "shell.execute_reply": "2025-08-31T17:20:01.206206Z"
    }
   },
   "outputs": [
    {
     "ename": "NameError",
     "evalue": "name 'geoseries' is not defined",
     "output_type": "error",
     "traceback": [
      "\u001b[31m---------------------------------------------------------------------------\u001b[39m",
      "\u001b[31mNameError\u001b[39m                                 Traceback (most recent call last)",
      "\u001b[36mCell\u001b[39m\u001b[36m \u001b[39m\u001b[32mIn[10]\u001b[39m\u001b[32m, line 1\u001b[39m\n\u001b[32m----> \u001b[39m\u001b[32m1\u001b[39m \u001b[43mgeoseries\u001b[49m.plot()\n",
      "\u001b[31mNameError\u001b[39m: name 'geoseries' is not defined"
     ]
    }
   ],
   "source": [
    "geoseries.plot()"
   ]
  },
  {
   "cell_type": "code",
   "execution_count": 11,
   "id": "394a25a2",
   "metadata": {
    "execution": {
     "iopub.execute_input": "2025-08-31T17:20:01.213661Z",
     "iopub.status.busy": "2025-08-31T17:20:01.212725Z",
     "iopub.status.idle": "2025-08-31T17:20:01.261179Z",
     "shell.execute_reply": "2025-08-31T17:20:01.259154Z"
    }
   },
   "outputs": [
    {
     "ename": "NameError",
     "evalue": "name 'geoseries' is not defined",
     "output_type": "error",
     "traceback": [
      "\u001b[31m---------------------------------------------------------------------------\u001b[39m",
      "\u001b[31mNameError\u001b[39m                                 Traceback (most recent call last)",
      "\u001b[36mCell\u001b[39m\u001b[36m \u001b[39m\u001b[32mIn[11]\u001b[39m\u001b[32m, line 1\u001b[39m\n\u001b[32m----> \u001b[39m\u001b[32m1\u001b[39m \u001b[43mgeoseries\u001b[49m.length.head(\u001b[32m3\u001b[39m)\n",
      "\u001b[31mNameError\u001b[39m: name 'geoseries' is not defined"
     ]
    }
   ],
   "source": [
    "geoseries.length.head(3)"
   ]
  },
  {
   "cell_type": "code",
   "execution_count": 12,
   "id": "cbdc4ea7",
   "metadata": {
    "execution": {
     "iopub.execute_input": "2025-08-31T17:20:01.268792Z",
     "iopub.status.busy": "2025-08-31T17:20:01.267159Z",
     "iopub.status.idle": "2025-08-31T17:20:01.331757Z",
     "shell.execute_reply": "2025-08-31T17:20:01.330079Z"
    }
   },
   "outputs": [
    {
     "ename": "NameError",
     "evalue": "name 'geoseries' is not defined",
     "output_type": "error",
     "traceback": [
      "\u001b[31m---------------------------------------------------------------------------\u001b[39m",
      "\u001b[31mNameError\u001b[39m                                 Traceback (most recent call last)",
      "\u001b[36mCell\u001b[39m\u001b[36m \u001b[39m\u001b[32mIn[12]\u001b[39m\u001b[32m, line 1\u001b[39m\n\u001b[32m----> \u001b[39m\u001b[32m1\u001b[39m geoseries_transformed = \u001b[43mgeoseries\u001b[49m.to_crs(\u001b[33m\"\u001b[39m\u001b[33mEPSG:6674\u001b[39m\u001b[33m\"\u001b[39m)\n\u001b[32m      2\u001b[39m geoseries_transformed.length.head(\u001b[32m3\u001b[39m)\n",
      "\u001b[31mNameError\u001b[39m: name 'geoseries' is not defined"
     ]
    }
   ],
   "source": [
    "geoseries_transformed = geoseries.to_crs(\"EPSG:6674\")\n",
    "geoseries_transformed.length.head(3)"
   ]
  },
  {
   "cell_type": "code",
   "execution_count": 13,
   "id": "788dd047",
   "metadata": {
    "execution": {
     "iopub.execute_input": "2025-08-31T17:20:01.337252Z",
     "iopub.status.busy": "2025-08-31T17:20:01.336769Z",
     "iopub.status.idle": "2025-08-31T17:20:01.400056Z",
     "shell.execute_reply": "2025-08-31T17:20:01.397708Z"
    }
   },
   "outputs": [
    {
     "ename": "NameError",
     "evalue": "name 'geoseries_transformed' is not defined",
     "output_type": "error",
     "traceback": [
      "\u001b[31m---------------------------------------------------------------------------\u001b[39m",
      "\u001b[31mNameError\u001b[39m                                 Traceback (most recent call last)",
      "\u001b[36mCell\u001b[39m\u001b[36m \u001b[39m\u001b[32mIn[13]\u001b[39m\u001b[32m, line 1\u001b[39m\n\u001b[32m----> \u001b[39m\u001b[32m1\u001b[39m \u001b[43mgeoseries_transformed\u001b[49m.area.head(\u001b[32m3\u001b[39m)\n",
      "\u001b[31mNameError\u001b[39m: name 'geoseries_transformed' is not defined"
     ]
    }
   ],
   "source": [
    "geoseries_transformed.area.head(3)"
   ]
  }
 ],
 "metadata": {
  "kernelspec": {
   "display_name": "Python 3 (ipykernel)",
   "language": "python",
   "name": "python3"
  },
  "language_info": {
   "codemirror_mode": {
    "name": "ipython",
    "version": 3
   },
   "file_extension": ".py",
   "mimetype": "text/x-python",
   "name": "python",
   "nbconvert_exporter": "python",
   "pygments_lexer": "ipython3",
   "version": "3.12.3"
  }
 },
 "nbformat": 4,
 "nbformat_minor": 5
}
