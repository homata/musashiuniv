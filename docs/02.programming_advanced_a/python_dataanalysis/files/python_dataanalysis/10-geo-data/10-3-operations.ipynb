{
 "cells": [
  {
   "cell_type": "markdown",
   "id": "3b69e847",
   "metadata": {},
   "source": [
    "# 地理空間データの操作\n",
    "\n",
    "## Geometricオブジェクト"
   ]
  },
  {
   "cell_type": "code",
   "execution_count": 1,
   "id": "bf2915f2",
   "metadata": {
    "execution": {
     "iopub.execute_input": "2025-08-31T17:19:53.206394Z",
     "iopub.status.busy": "2025-08-31T17:19:53.205728Z",
     "iopub.status.idle": "2025-08-31T17:19:53.448339Z",
     "shell.execute_reply": "2025-08-31T17:19:53.447133Z"
    }
   },
   "outputs": [
    {
     "ename": "ModuleNotFoundError",
     "evalue": "No module named 'shapely'",
     "output_type": "error",
     "traceback": [
      "\u001b[31m---------------------------------------------------------------------------\u001b[39m",
      "\u001b[31mModuleNotFoundError\u001b[39m                       Traceback (most recent call last)",
      "\u001b[36mCell\u001b[39m\u001b[36m \u001b[39m\u001b[32mIn[1]\u001b[39m\u001b[32m, line 1\u001b[39m\n\u001b[32m----> \u001b[39m\u001b[32m1\u001b[39m \u001b[38;5;28;01mfrom\u001b[39;00m\u001b[38;5;250m \u001b[39m\u001b[34;01mshapely\u001b[39;00m\u001b[34;01m.\u001b[39;00m\u001b[34;01mgeometry\u001b[39;00m\u001b[38;5;250m \u001b[39m\u001b[38;5;28;01mimport\u001b[39;00m Point\n\u001b[32m      3\u001b[39m Point(\u001b[32m1\u001b[39m, \u001b[32m1\u001b[39m)\n\u001b[32m      4\u001b[39m \u001b[38;5;66;03m# or\u001b[39;00m\n",
      "\u001b[31mModuleNotFoundError\u001b[39m: No module named 'shapely'"
     ]
    }
   ],
   "source": [
    "from shapely.geometry import Point\n",
    "\n",
    "Point(1, 1)\n",
    "# or\n",
    "Point([1, 1])"
   ]
  },
  {
   "cell_type": "code",
   "execution_count": 2,
   "id": "5c0b3605",
   "metadata": {
    "execution": {
     "iopub.execute_input": "2025-08-31T17:19:53.452060Z",
     "iopub.status.busy": "2025-08-31T17:19:53.451665Z",
     "iopub.status.idle": "2025-08-31T17:19:53.484736Z",
     "shell.execute_reply": "2025-08-31T17:19:53.483152Z"
    }
   },
   "outputs": [
    {
     "ename": "NameError",
     "evalue": "name 'Point' is not defined",
     "output_type": "error",
     "traceback": [
      "\u001b[31m---------------------------------------------------------------------------\u001b[39m",
      "\u001b[31mNameError\u001b[39m                                 Traceback (most recent call last)",
      "\u001b[36mCell\u001b[39m\u001b[36m \u001b[39m\u001b[32mIn[2]\u001b[39m\u001b[32m, line 1\u001b[39m\n\u001b[32m----> \u001b[39m\u001b[32m1\u001b[39m tokyo = \u001b[43mPoint\u001b[49m(\u001b[32m139.766667\u001b[39m, \u001b[32m35.681111\u001b[39m)\n\u001b[32m      2\u001b[39m shinjuku = Point(\u001b[32m139.700278\u001b[39m, \u001b[32m35.690833\u001b[39m)\n\u001b[32m      3\u001b[39m shinagawa = Point(\u001b[32m139.738694\u001b[39m, \u001b[32m35.628222\u001b[39m)\n",
      "\u001b[31mNameError\u001b[39m: name 'Point' is not defined"
     ]
    }
   ],
   "source": [
    "tokyo = Point(139.766667, 35.681111)\n",
    "shinjuku = Point(139.700278, 35.690833)\n",
    "shinagawa = Point(139.738694, 35.628222)"
   ]
  },
  {
   "cell_type": "code",
   "execution_count": 3,
   "id": "afe02165",
   "metadata": {
    "execution": {
     "iopub.execute_input": "2025-08-31T17:19:53.488686Z",
     "iopub.status.busy": "2025-08-31T17:19:53.488232Z",
     "iopub.status.idle": "2025-08-31T17:19:53.528452Z",
     "shell.execute_reply": "2025-08-31T17:19:53.526748Z"
    }
   },
   "outputs": [
    {
     "ename": "ModuleNotFoundError",
     "evalue": "No module named 'shapely'",
     "output_type": "error",
     "traceback": [
      "\u001b[31m---------------------------------------------------------------------------\u001b[39m",
      "\u001b[31mModuleNotFoundError\u001b[39m                       Traceback (most recent call last)",
      "\u001b[36mCell\u001b[39m\u001b[36m \u001b[39m\u001b[32mIn[3]\u001b[39m\u001b[32m, line 1\u001b[39m\n\u001b[32m----> \u001b[39m\u001b[32m1\u001b[39m \u001b[38;5;28;01mfrom\u001b[39;00m\u001b[38;5;250m \u001b[39m\u001b[34;01mshapely\u001b[39;00m\u001b[34;01m.\u001b[39;00m\u001b[34;01mgeometry\u001b[39;00m\u001b[38;5;250m \u001b[39m\u001b[38;5;28;01mimport\u001b[39;00m LineString\n\u001b[32m      3\u001b[39m tokyo_shinjuku = LineString(\n\u001b[32m      4\u001b[39m     [\n\u001b[32m      5\u001b[39m         (\u001b[32m139.766667\u001b[39m, \u001b[32m35.681111\u001b[39m),\n\u001b[32m      6\u001b[39m         (\u001b[32m139.700278\u001b[39m, \u001b[32m35.690833\u001b[39m),\n\u001b[32m      7\u001b[39m     ]\n\u001b[32m      8\u001b[39m )\n\u001b[32m      9\u001b[39m tokyo_shinjuku\n",
      "\u001b[31mModuleNotFoundError\u001b[39m: No module named 'shapely'"
     ]
    }
   ],
   "source": [
    "from shapely.geometry import LineString\n",
    "\n",
    "tokyo_shinjuku = LineString(\n",
    "    [\n",
    "        (139.766667, 35.681111),\n",
    "        (139.700278, 35.690833),\n",
    "    ]\n",
    ")\n",
    "tokyo_shinjuku"
   ]
  },
  {
   "cell_type": "code",
   "execution_count": 4,
   "id": "b8f44ccf",
   "metadata": {
    "execution": {
     "iopub.execute_input": "2025-08-31T17:19:53.532517Z",
     "iopub.status.busy": "2025-08-31T17:19:53.531836Z",
     "iopub.status.idle": "2025-08-31T17:19:53.571399Z",
     "shell.execute_reply": "2025-08-31T17:19:53.569999Z"
    }
   },
   "outputs": [
    {
     "ename": "ModuleNotFoundError",
     "evalue": "No module named 'shapely'",
     "output_type": "error",
     "traceback": [
      "\u001b[31m---------------------------------------------------------------------------\u001b[39m",
      "\u001b[31mModuleNotFoundError\u001b[39m                       Traceback (most recent call last)",
      "\u001b[36mCell\u001b[39m\u001b[36m \u001b[39m\u001b[32mIn[4]\u001b[39m\u001b[32m, line 1\u001b[39m\n\u001b[32m----> \u001b[39m\u001b[32m1\u001b[39m \u001b[38;5;28;01mfrom\u001b[39;00m\u001b[38;5;250m \u001b[39m\u001b[34;01mshapely\u001b[39;00m\u001b[34;01m.\u001b[39;00m\u001b[34;01mgeometry\u001b[39;00m\u001b[38;5;250m \u001b[39m\u001b[38;5;28;01mimport\u001b[39;00m Polygon\n\u001b[32m      3\u001b[39m tokyo_shinjuku_shinagawa = Polygon(\n\u001b[32m      4\u001b[39m     [\n\u001b[32m      5\u001b[39m         (\u001b[32m139.766667\u001b[39m, \u001b[32m35.681111\u001b[39m),\n\u001b[32m   (...)\u001b[39m\u001b[32m      8\u001b[39m     ]\n\u001b[32m      9\u001b[39m )\n\u001b[32m     10\u001b[39m tokyo_shinjuku_shinagawa\n",
      "\u001b[31mModuleNotFoundError\u001b[39m: No module named 'shapely'"
     ]
    }
   ],
   "source": [
    "from shapely.geometry import Polygon\n",
    "\n",
    "tokyo_shinjuku_shinagawa = Polygon(\n",
    "    [\n",
    "        (139.766667, 35.681111),\n",
    "        (139.700278, 35.690833),\n",
    "        (139.738694, 35.628222),\n",
    "    ]\n",
    ")\n",
    "tokyo_shinjuku_shinagawa"
   ]
  },
  {
   "cell_type": "markdown",
   "id": "97d77a78",
   "metadata": {},
   "source": [
    "## Geometricオブジェクトの属性"
   ]
  },
  {
   "cell_type": "code",
   "execution_count": 5,
   "id": "307df6c0",
   "metadata": {
    "execution": {
     "iopub.execute_input": "2025-08-31T17:19:53.575569Z",
     "iopub.status.busy": "2025-08-31T17:19:53.575163Z",
     "iopub.status.idle": "2025-08-31T17:19:53.613738Z",
     "shell.execute_reply": "2025-08-31T17:19:53.611897Z"
    }
   },
   "outputs": [
    {
     "ename": "NameError",
     "evalue": "name 'tokyo' is not defined",
     "output_type": "error",
     "traceback": [
      "\u001b[31m---------------------------------------------------------------------------\u001b[39m",
      "\u001b[31mNameError\u001b[39m                                 Traceback (most recent call last)",
      "\u001b[36mCell\u001b[39m\u001b[36m \u001b[39m\u001b[32mIn[5]\u001b[39m\u001b[32m, line 1\u001b[39m\n\u001b[32m----> \u001b[39m\u001b[32m1\u001b[39m \u001b[43mtokyo\u001b[49m.geom_type\n",
      "\u001b[31mNameError\u001b[39m: name 'tokyo' is not defined"
     ]
    }
   ],
   "source": [
    "tokyo.geom_type"
   ]
  },
  {
   "cell_type": "code",
   "execution_count": 6,
   "id": "73fc0fad",
   "metadata": {
    "execution": {
     "iopub.execute_input": "2025-08-31T17:19:53.618147Z",
     "iopub.status.busy": "2025-08-31T17:19:53.617693Z",
     "iopub.status.idle": "2025-08-31T17:19:53.656999Z",
     "shell.execute_reply": "2025-08-31T17:19:53.655149Z"
    }
   },
   "outputs": [
    {
     "ename": "NameError",
     "evalue": "name 'tokyo_shinjuku' is not defined",
     "output_type": "error",
     "traceback": [
      "\u001b[31m---------------------------------------------------------------------------\u001b[39m",
      "\u001b[31mNameError\u001b[39m                                 Traceback (most recent call last)",
      "\u001b[36mCell\u001b[39m\u001b[36m \u001b[39m\u001b[32mIn[6]\u001b[39m\u001b[32m, line 1\u001b[39m\n\u001b[32m----> \u001b[39m\u001b[32m1\u001b[39m \u001b[43mtokyo_shinjuku\u001b[49m.geom_type\n",
      "\u001b[31mNameError\u001b[39m: name 'tokyo_shinjuku' is not defined"
     ]
    }
   ],
   "source": [
    "tokyo_shinjuku.geom_type"
   ]
  },
  {
   "cell_type": "code",
   "execution_count": 7,
   "id": "33bf476d",
   "metadata": {
    "execution": {
     "iopub.execute_input": "2025-08-31T17:19:53.661317Z",
     "iopub.status.busy": "2025-08-31T17:19:53.660888Z",
     "iopub.status.idle": "2025-08-31T17:19:53.699554Z",
     "shell.execute_reply": "2025-08-31T17:19:53.698107Z"
    }
   },
   "outputs": [
    {
     "ename": "NameError",
     "evalue": "name 'tokyo_shinjuku_shinagawa' is not defined",
     "output_type": "error",
     "traceback": [
      "\u001b[31m---------------------------------------------------------------------------\u001b[39m",
      "\u001b[31mNameError\u001b[39m                                 Traceback (most recent call last)",
      "\u001b[36mCell\u001b[39m\u001b[36m \u001b[39m\u001b[32mIn[7]\u001b[39m\u001b[32m, line 1\u001b[39m\n\u001b[32m----> \u001b[39m\u001b[32m1\u001b[39m \u001b[43mtokyo_shinjuku_shinagawa\u001b[49m.geom_type\n",
      "\u001b[31mNameError\u001b[39m: name 'tokyo_shinjuku_shinagawa' is not defined"
     ]
    }
   ],
   "source": [
    "tokyo_shinjuku_shinagawa.geom_type"
   ]
  },
  {
   "cell_type": "code",
   "execution_count": 8,
   "id": "689098a8",
   "metadata": {
    "execution": {
     "iopub.execute_input": "2025-08-31T17:19:53.704463Z",
     "iopub.status.busy": "2025-08-31T17:19:53.703985Z",
     "iopub.status.idle": "2025-08-31T17:19:53.744847Z",
     "shell.execute_reply": "2025-08-31T17:19:53.742933Z"
    }
   },
   "outputs": [
    {
     "ename": "NameError",
     "evalue": "name 'tokyo_shinjuku' is not defined",
     "output_type": "error",
     "traceback": [
      "\u001b[31m---------------------------------------------------------------------------\u001b[39m",
      "\u001b[31mNameError\u001b[39m                                 Traceback (most recent call last)",
      "\u001b[36mCell\u001b[39m\u001b[36m \u001b[39m\u001b[32mIn[8]\u001b[39m\u001b[32m, line 1\u001b[39m\n\u001b[32m----> \u001b[39m\u001b[32m1\u001b[39m \u001b[43mtokyo_shinjuku\u001b[49m.xy\n",
      "\u001b[31mNameError\u001b[39m: name 'tokyo_shinjuku' is not defined"
     ]
    }
   ],
   "source": [
    "tokyo_shinjuku.xy"
   ]
  },
  {
   "cell_type": "code",
   "execution_count": 9,
   "id": "9a2aecb5",
   "metadata": {
    "execution": {
     "iopub.execute_input": "2025-08-31T17:19:53.749275Z",
     "iopub.status.busy": "2025-08-31T17:19:53.748716Z",
     "iopub.status.idle": "2025-08-31T17:19:53.790990Z",
     "shell.execute_reply": "2025-08-31T17:19:53.789243Z"
    }
   },
   "outputs": [
    {
     "ename": "NameError",
     "evalue": "name 'tokyo_shinjuku' is not defined",
     "output_type": "error",
     "traceback": [
      "\u001b[31m---------------------------------------------------------------------------\u001b[39m",
      "\u001b[31mNameError\u001b[39m                                 Traceback (most recent call last)",
      "\u001b[36mCell\u001b[39m\u001b[36m \u001b[39m\u001b[32mIn[9]\u001b[39m\u001b[32m, line 1\u001b[39m\n\u001b[32m----> \u001b[39m\u001b[32m1\u001b[39m \u001b[38;5;28mlist\u001b[39m(\u001b[43mtokyo_shinjuku\u001b[49m.coords)\n",
      "\u001b[31mNameError\u001b[39m: name 'tokyo_shinjuku' is not defined"
     ]
    }
   ],
   "source": [
    "list(tokyo_shinjuku.coords)"
   ]
  },
  {
   "cell_type": "code",
   "execution_count": 10,
   "id": "600c1113",
   "metadata": {
    "execution": {
     "iopub.execute_input": "2025-08-31T17:19:53.795079Z",
     "iopub.status.busy": "2025-08-31T17:19:53.794637Z",
     "iopub.status.idle": "2025-08-31T17:19:53.834512Z",
     "shell.execute_reply": "2025-08-31T17:19:53.832716Z"
    }
   },
   "outputs": [
    {
     "ename": "NameError",
     "evalue": "name 'tokyo_shinjuku' is not defined",
     "output_type": "error",
     "traceback": [
      "\u001b[31m---------------------------------------------------------------------------\u001b[39m",
      "\u001b[31mNameError\u001b[39m                                 Traceback (most recent call last)",
      "\u001b[36mCell\u001b[39m\u001b[36m \u001b[39m\u001b[32mIn[10]\u001b[39m\u001b[32m, line 1\u001b[39m\n\u001b[32m----> \u001b[39m\u001b[32m1\u001b[39m \u001b[43mtokyo_shinjuku\u001b[49m.coords[:]\n",
      "\u001b[31mNameError\u001b[39m: name 'tokyo_shinjuku' is not defined"
     ]
    }
   ],
   "source": [
    "tokyo_shinjuku.coords[:]"
   ]
  },
  {
   "cell_type": "code",
   "execution_count": 11,
   "id": "ee8e4e6f",
   "metadata": {
    "execution": {
     "iopub.execute_input": "2025-08-31T17:19:53.838548Z",
     "iopub.status.busy": "2025-08-31T17:19:53.838107Z",
     "iopub.status.idle": "2025-08-31T17:19:53.877119Z",
     "shell.execute_reply": "2025-08-31T17:19:53.875031Z"
    }
   },
   "outputs": [
    {
     "ename": "NameError",
     "evalue": "name 'tokyo_shinjuku' is not defined",
     "output_type": "error",
     "traceback": [
      "\u001b[31m---------------------------------------------------------------------------\u001b[39m",
      "\u001b[31mNameError\u001b[39m                                 Traceback (most recent call last)",
      "\u001b[36mCell\u001b[39m\u001b[36m \u001b[39m\u001b[32mIn[11]\u001b[39m\u001b[32m, line 1\u001b[39m\n\u001b[32m----> \u001b[39m\u001b[32m1\u001b[39m \u001b[43mtokyo_shinjuku\u001b[49m.length\n",
      "\u001b[31mNameError\u001b[39m: name 'tokyo_shinjuku' is not defined"
     ]
    }
   ],
   "source": [
    "tokyo_shinjuku.length"
   ]
  },
  {
   "cell_type": "code",
   "execution_count": 12,
   "id": "c9a25b91",
   "metadata": {
    "execution": {
     "iopub.execute_input": "2025-08-31T17:19:53.881189Z",
     "iopub.status.busy": "2025-08-31T17:19:53.880725Z",
     "iopub.status.idle": "2025-08-31T17:19:53.920365Z",
     "shell.execute_reply": "2025-08-31T17:19:53.918368Z"
    }
   },
   "outputs": [
    {
     "ename": "NameError",
     "evalue": "name 'tokyo_shinjuku_shinagawa' is not defined",
     "output_type": "error",
     "traceback": [
      "\u001b[31m---------------------------------------------------------------------------\u001b[39m",
      "\u001b[31mNameError\u001b[39m                                 Traceback (most recent call last)",
      "\u001b[36mCell\u001b[39m\u001b[36m \u001b[39m\u001b[32mIn[12]\u001b[39m\u001b[32m, line 1\u001b[39m\n\u001b[32m----> \u001b[39m\u001b[32m1\u001b[39m \u001b[43mtokyo_shinjuku_shinagawa\u001b[49m.length\n",
      "\u001b[31mNameError\u001b[39m: name 'tokyo_shinjuku_shinagawa' is not defined"
     ]
    }
   ],
   "source": [
    "tokyo_shinjuku_shinagawa.length"
   ]
  },
  {
   "cell_type": "code",
   "execution_count": 13,
   "id": "b592c3ee",
   "metadata": {
    "execution": {
     "iopub.execute_input": "2025-08-31T17:19:53.924851Z",
     "iopub.status.busy": "2025-08-31T17:19:53.924371Z",
     "iopub.status.idle": "2025-08-31T17:19:53.965525Z",
     "shell.execute_reply": "2025-08-31T17:19:53.964067Z"
    }
   },
   "outputs": [
    {
     "ename": "NameError",
     "evalue": "name 'tokyo_shinjuku_shinagawa' is not defined",
     "output_type": "error",
     "traceback": [
      "\u001b[31m---------------------------------------------------------------------------\u001b[39m",
      "\u001b[31mNameError\u001b[39m                                 Traceback (most recent call last)",
      "\u001b[36mCell\u001b[39m\u001b[36m \u001b[39m\u001b[32mIn[13]\u001b[39m\u001b[32m, line 1\u001b[39m\n\u001b[32m----> \u001b[39m\u001b[32m1\u001b[39m \u001b[43mtokyo_shinjuku_shinagawa\u001b[49m.area\n",
      "\u001b[31mNameError\u001b[39m: name 'tokyo_shinjuku_shinagawa' is not defined"
     ]
    }
   ],
   "source": [
    "tokyo_shinjuku_shinagawa.area"
   ]
  },
  {
   "cell_type": "code",
   "execution_count": 14,
   "id": "ad68f5b8",
   "metadata": {
    "execution": {
     "iopub.execute_input": "2025-08-31T17:19:53.969672Z",
     "iopub.status.busy": "2025-08-31T17:19:53.969237Z",
     "iopub.status.idle": "2025-08-31T17:19:54.011621Z",
     "shell.execute_reply": "2025-08-31T17:19:54.009571Z"
    }
   },
   "outputs": [
    {
     "ename": "NameError",
     "evalue": "name 'tokyo_shinjuku' is not defined",
     "output_type": "error",
     "traceback": [
      "\u001b[31m---------------------------------------------------------------------------\u001b[39m",
      "\u001b[31mNameError\u001b[39m                                 Traceback (most recent call last)",
      "\u001b[36mCell\u001b[39m\u001b[36m \u001b[39m\u001b[32mIn[14]\u001b[39m\u001b[32m, line 1\u001b[39m\n\u001b[32m----> \u001b[39m\u001b[32m1\u001b[39m \u001b[43mtokyo_shinjuku\u001b[49m.bounds\n",
      "\u001b[31mNameError\u001b[39m: name 'tokyo_shinjuku' is not defined"
     ]
    }
   ],
   "source": [
    "tokyo_shinjuku.bounds"
   ]
  },
  {
   "cell_type": "code",
   "execution_count": 15,
   "id": "5c83b3f4",
   "metadata": {
    "execution": {
     "iopub.execute_input": "2025-08-31T17:19:54.015927Z",
     "iopub.status.busy": "2025-08-31T17:19:54.015483Z",
     "iopub.status.idle": "2025-08-31T17:19:54.054280Z",
     "shell.execute_reply": "2025-08-31T17:19:54.052562Z"
    }
   },
   "outputs": [
    {
     "ename": "NameError",
     "evalue": "name 'tokyo_shinjuku_shinagawa' is not defined",
     "output_type": "error",
     "traceback": [
      "\u001b[31m---------------------------------------------------------------------------\u001b[39m",
      "\u001b[31mNameError\u001b[39m                                 Traceback (most recent call last)",
      "\u001b[36mCell\u001b[39m\u001b[36m \u001b[39m\u001b[32mIn[15]\u001b[39m\u001b[32m, line 1\u001b[39m\n\u001b[32m----> \u001b[39m\u001b[32m1\u001b[39m \u001b[43mtokyo_shinjuku_shinagawa\u001b[49m.bounds\n",
      "\u001b[31mNameError\u001b[39m: name 'tokyo_shinjuku_shinagawa' is not defined"
     ]
    }
   ],
   "source": [
    "tokyo_shinjuku_shinagawa.bounds"
   ]
  },
  {
   "cell_type": "markdown",
   "id": "a4ff75c1",
   "metadata": {},
   "source": [
    "## 距離の算出"
   ]
  },
  {
   "cell_type": "code",
   "execution_count": 16,
   "id": "6a818330",
   "metadata": {
    "execution": {
     "iopub.execute_input": "2025-08-31T17:19:54.058324Z",
     "iopub.status.busy": "2025-08-31T17:19:54.057877Z",
     "iopub.status.idle": "2025-08-31T17:19:54.097747Z",
     "shell.execute_reply": "2025-08-31T17:19:54.095880Z"
    }
   },
   "outputs": [
    {
     "ename": "NameError",
     "evalue": "name 'tokyo' is not defined",
     "output_type": "error",
     "traceback": [
      "\u001b[31m---------------------------------------------------------------------------\u001b[39m",
      "\u001b[31mNameError\u001b[39m                                 Traceback (most recent call last)",
      "\u001b[36mCell\u001b[39m\u001b[36m \u001b[39m\u001b[32mIn[16]\u001b[39m\u001b[32m, line 1\u001b[39m\n\u001b[32m----> \u001b[39m\u001b[32m1\u001b[39m \u001b[43mtokyo\u001b[49m.distance(shinjuku)\n",
      "\u001b[31mNameError\u001b[39m: name 'tokyo' is not defined"
     ]
    }
   ],
   "source": [
    "tokyo.distance(shinjuku)"
   ]
  },
  {
   "cell_type": "code",
   "execution_count": 17,
   "id": "e12079ed",
   "metadata": {
    "execution": {
     "iopub.execute_input": "2025-08-31T17:19:54.102711Z",
     "iopub.status.busy": "2025-08-31T17:19:54.101651Z",
     "iopub.status.idle": "2025-08-31T17:19:54.146797Z",
     "shell.execute_reply": "2025-08-31T17:19:54.144802Z"
    }
   },
   "outputs": [
    {
     "ename": "ModuleNotFoundError",
     "evalue": "No module named 'geopy'",
     "output_type": "error",
     "traceback": [
      "\u001b[31m---------------------------------------------------------------------------\u001b[39m",
      "\u001b[31mModuleNotFoundError\u001b[39m                       Traceback (most recent call last)",
      "\u001b[36mCell\u001b[39m\u001b[36m \u001b[39m\u001b[32mIn[17]\u001b[39m\u001b[32m, line 1\u001b[39m\n\u001b[32m----> \u001b[39m\u001b[32m1\u001b[39m \u001b[38;5;28;01mfrom\u001b[39;00m\u001b[38;5;250m \u001b[39m\u001b[34;01mgeopy\u001b[39;00m\u001b[38;5;250m \u001b[39m\u001b[38;5;28;01mimport\u001b[39;00m distance\n\u001b[32m      3\u001b[39m tokyo_shinjuku_distance = distance.geodesic(\n\u001b[32m      4\u001b[39m     \u001b[38;5;28mlist\u001b[39m(\u001b[38;5;28mreversed\u001b[39m(tokyo.coords[\u001b[32m0\u001b[39m])),\n\u001b[32m      5\u001b[39m     \u001b[38;5;28mlist\u001b[39m(\u001b[38;5;28mreversed\u001b[39m(shinjuku.coords[\u001b[32m0\u001b[39m])),\n\u001b[32m      6\u001b[39m )\n\u001b[32m      7\u001b[39m tokyo_shinjuku_distance\n",
      "\u001b[31mModuleNotFoundError\u001b[39m: No module named 'geopy'"
     ]
    }
   ],
   "source": [
    "from geopy import distance\n",
    "\n",
    "tokyo_shinjuku_distance = distance.geodesic(\n",
    "    list(reversed(tokyo.coords[0])),\n",
    "    list(reversed(shinjuku.coords[0])),\n",
    ")\n",
    "tokyo_shinjuku_distance"
   ]
  },
  {
   "cell_type": "code",
   "execution_count": 18,
   "id": "a72d4eb7",
   "metadata": {
    "execution": {
     "iopub.execute_input": "2025-08-31T17:19:54.150968Z",
     "iopub.status.busy": "2025-08-31T17:19:54.150487Z",
     "iopub.status.idle": "2025-08-31T17:19:54.194203Z",
     "shell.execute_reply": "2025-08-31T17:19:54.190755Z"
    }
   },
   "outputs": [
    {
     "ename": "NameError",
     "evalue": "name 'tokyo_shinjuku_distance' is not defined",
     "output_type": "error",
     "traceback": [
      "\u001b[31m---------------------------------------------------------------------------\u001b[39m",
      "\u001b[31mNameError\u001b[39m                                 Traceback (most recent call last)",
      "\u001b[36mCell\u001b[39m\u001b[36m \u001b[39m\u001b[32mIn[18]\u001b[39m\u001b[32m, line 1\u001b[39m\n\u001b[32m----> \u001b[39m\u001b[32m1\u001b[39m \u001b[43mtokyo_shinjuku_distance\u001b[49m.meters\n",
      "\u001b[31mNameError\u001b[39m: name 'tokyo_shinjuku_distance' is not defined"
     ]
    }
   ],
   "source": [
    "tokyo_shinjuku_distance.meters"
   ]
  },
  {
   "cell_type": "code",
   "execution_count": 19,
   "id": "cf6dca5b",
   "metadata": {
    "execution": {
     "iopub.execute_input": "2025-08-31T17:19:54.198487Z",
     "iopub.status.busy": "2025-08-31T17:19:54.197964Z",
     "iopub.status.idle": "2025-08-31T17:19:54.241212Z",
     "shell.execute_reply": "2025-08-31T17:19:54.238108Z"
    }
   },
   "outputs": [
    {
     "ename": "NameError",
     "evalue": "name 'tokyo_shinjuku_distance' is not defined",
     "output_type": "error",
     "traceback": [
      "\u001b[31m---------------------------------------------------------------------------\u001b[39m",
      "\u001b[31mNameError\u001b[39m                                 Traceback (most recent call last)",
      "\u001b[36mCell\u001b[39m\u001b[36m \u001b[39m\u001b[32mIn[19]\u001b[39m\u001b[32m, line 1\u001b[39m\n\u001b[32m----> \u001b[39m\u001b[32m1\u001b[39m \u001b[43mtokyo_shinjuku_distance\u001b[49m.km\n",
      "\u001b[31mNameError\u001b[39m: name 'tokyo_shinjuku_distance' is not defined"
     ]
    }
   ],
   "source": [
    "tokyo_shinjuku_distance.km"
   ]
  }
 ],
 "metadata": {
  "kernelspec": {
   "display_name": "Python 3 (ipykernel)",
   "language": "python",
   "name": "python3"
  },
  "language_info": {
   "codemirror_mode": {
    "name": "ipython",
    "version": 3
   },
   "file_extension": ".py",
   "mimetype": "text/x-python",
   "name": "python",
   "nbconvert_exporter": "python",
   "pygments_lexer": "ipython3",
   "version": "3.12.3"
  }
 },
 "nbformat": 4,
 "nbformat_minor": 5
}
