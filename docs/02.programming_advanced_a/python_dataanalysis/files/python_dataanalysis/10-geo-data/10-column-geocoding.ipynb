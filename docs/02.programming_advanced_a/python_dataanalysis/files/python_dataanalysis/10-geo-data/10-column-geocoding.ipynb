{
 "cells": [
  {
   "cell_type": "markdown",
   "id": "102b6775",
   "metadata": {},
   "source": [
    "# コラム: ジオコーディング"
   ]
  },
  {
   "cell_type": "code",
   "execution_count": 1,
   "id": "d4e6fe6a",
   "metadata": {
    "execution": {
     "iopub.execute_input": "2025-08-31T17:20:11.554290Z",
     "iopub.status.busy": "2025-08-31T17:20:11.553021Z",
     "iopub.status.idle": "2025-08-31T17:20:11.859742Z",
     "shell.execute_reply": "2025-08-31T17:20:11.858259Z"
    }
   },
   "outputs": [
    {
     "ename": "ModuleNotFoundError",
     "evalue": "No module named 'folium'",
     "output_type": "error",
     "traceback": [
      "\u001b[31m---------------------------------------------------------------------------\u001b[39m",
      "\u001b[31mModuleNotFoundError\u001b[39m                       Traceback (most recent call last)",
      "\u001b[36mCell\u001b[39m\u001b[36m \u001b[39m\u001b[32mIn[1]\u001b[39m\u001b[32m, line 5\u001b[39m\n\u001b[32m      2\u001b[39m \u001b[38;5;28;01mfrom\u001b[39;00m\u001b[38;5;250m \u001b[39m\u001b[34;01mio\u001b[39;00m\u001b[38;5;250m \u001b[39m\u001b[38;5;28;01mimport\u001b[39;00m StringIO\n\u001b[32m      3\u001b[39m \u001b[38;5;28;01mfrom\u001b[39;00m\u001b[38;5;250m \u001b[39m\u001b[34;01murllib\u001b[39;00m\u001b[38;5;250m \u001b[39m\u001b[38;5;28;01mimport\u001b[39;00m parse, request\n\u001b[32m----> \u001b[39m\u001b[32m5\u001b[39m \u001b[38;5;28;01mimport\u001b[39;00m\u001b[38;5;250m \u001b[39m\u001b[34;01mfolium\u001b[39;00m\n\u001b[32m      6\u001b[39m \u001b[38;5;28;01mimport\u001b[39;00m\u001b[38;5;250m \u001b[39m\u001b[34;01mgeopandas\u001b[39;00m\u001b[38;5;250m \u001b[39m\u001b[38;5;28;01mas\u001b[39;00m\u001b[38;5;250m \u001b[39m\u001b[34;01mgpd\u001b[39;00m\n\u001b[32m      8\u001b[39m place = \u001b[33m\"\u001b[39m\u001b[33m区役所\u001b[39m\u001b[33m\"\u001b[39m\n",
      "\u001b[31mModuleNotFoundError\u001b[39m: No module named 'folium'"
     ]
    }
   ],
   "source": [
    "import json\n",
    "from io import StringIO\n",
    "from urllib import parse, request\n",
    "\n",
    "import folium\n",
    "import geopandas as gpd\n",
    "\n",
    "place = \"区役所\"\n",
    "url = parse.urlunparse(\n",
    "    (\n",
    "        \"https\",\n",
    "        \"msearch.gsi.go.jp\",\n",
    "        \"/address-search/AddressSearch\",\n",
    "        None,\n",
    "        parse.urlencode({\"q\": place}),\n",
    "        None,\n",
    "    )\n",
    ")\n",
    "res = request.urlopen(url)\n",
    "geojson = StringIO(\n",
    "    json.dumps(\n",
    "        {\n",
    "            \"type\": \"FeatureCollection\",\n",
    "            \"features\": json.loads(res.read().decode()),\n",
    "        }\n",
    "    )\n",
    ")\n",
    "gdf = gpd.read_file(geojson)\n",
    "center = (\n",
    "    gdf.loc[:, \"geometry\"].y.mean(),\n",
    "    gdf.loc[:, \"geometry\"].x.mean(),\n",
    ")\n",
    "m = folium.Map(location=center, zoom_start=7)\n",
    "gdf.apply(\n",
    "    lambda s: folium.Marker(\n",
    "        location=[\n",
    "            s[\"geometry\"].y,\n",
    "            s[\"geometry\"].x,\n",
    "        ]\n",
    "    ).add_to(m),\n",
    "    axis=1,\n",
    ")\n",
    "m"
   ]
  }
 ],
 "metadata": {
  "kernelspec": {
   "display_name": "Python 3 (ipykernel)",
   "language": "python",
   "name": "python3"
  },
  "language_info": {
   "codemirror_mode": {
    "name": "ipython",
    "version": 3
   },
   "file_extension": ".py",
   "mimetype": "text/x-python",
   "name": "python",
   "nbconvert_exporter": "python",
   "pygments_lexer": "ipython3",
   "version": "3.12.3"
  }
 },
 "nbformat": 4,
 "nbformat_minor": 5
}
