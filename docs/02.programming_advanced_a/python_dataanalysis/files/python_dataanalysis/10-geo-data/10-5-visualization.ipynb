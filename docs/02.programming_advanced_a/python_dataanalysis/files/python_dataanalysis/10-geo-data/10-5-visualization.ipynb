{
 "cells": [
  {
   "attachments": {},
   "cell_type": "markdown",
   "id": "c609faf4",
   "metadata": {},
   "source": [
    "# 地理空間データの可視化"
   ]
  },
  {
   "attachments": {},
   "cell_type": "markdown",
   "id": "9d16935f",
   "metadata": {},
   "source": [
    "## ポイントの可視化"
   ]
  },
  {
   "cell_type": "code",
   "execution_count": 1,
   "id": "3443e527",
   "metadata": {
    "execution": {
     "iopub.execute_input": "2025-08-31T17:20:04.706835Z",
     "iopub.status.busy": "2025-08-31T17:20:04.701967Z",
     "iopub.status.idle": "2025-08-31T17:20:05.566775Z",
     "shell.execute_reply": "2025-08-31T17:20:05.565095Z"
    }
   },
   "outputs": [
    {
     "data": {
      "text/html": [
       "<div>\n",
       "<style scoped>\n",
       "    .dataframe tbody tr th:only-of-type {\n",
       "        vertical-align: middle;\n",
       "    }\n",
       "\n",
       "    .dataframe tbody tr th {\n",
       "        vertical-align: top;\n",
       "    }\n",
       "\n",
       "    .dataframe thead th {\n",
       "        text-align: right;\n",
       "    }\n",
       "</style>\n",
       "<table border=\"1\" class=\"dataframe\">\n",
       "  <thead>\n",
       "    <tr style=\"text-align: right;\">\n",
       "      <th></th>\n",
       "      <th>名称</th>\n",
       "      <th>名称_カナ</th>\n",
       "      <th>名称_英語</th>\n",
       "      <th>住所</th>\n",
       "      <th>方書</th>\n",
       "      <th>緯度</th>\n",
       "      <th>経度</th>\n",
       "    </tr>\n",
       "  </thead>\n",
       "  <tbody>\n",
       "    <tr>\n",
       "      <th>0</th>\n",
       "      <td>有岡城跡公園</td>\n",
       "      <td>アリオカジョウセキコウエン</td>\n",
       "      <td>Arioka Castle Ruins</td>\n",
       "      <td>兵庫県伊丹市伊丹1-16</td>\n",
       "      <td>NaN</td>\n",
       "      <td>34.780851</td>\n",
       "      <td>135.421042</td>\n",
       "    </tr>\n",
       "    <tr>\n",
       "      <th>1</th>\n",
       "      <td>市バス総合案内所</td>\n",
       "      <td>シバスソウゴウアンナイジョ</td>\n",
       "      <td>City Bus Terminal</td>\n",
       "      <td>兵庫県伊丹市西台1-1-24</td>\n",
       "      <td>NaN</td>\n",
       "      <td>34.780171</td>\n",
       "      <td>135.413086</td>\n",
       "    </tr>\n",
       "    <tr>\n",
       "      <th>2</th>\n",
       "      <td>市立伊丹ミュージアム</td>\n",
       "      <td>シリツイタミミュージアム</td>\n",
       "      <td>Itami City Museum</td>\n",
       "      <td>兵庫県伊丹市宮ノ前2-5</td>\n",
       "      <td>NaN</td>\n",
       "      <td>34.781996</td>\n",
       "      <td>135.417263</td>\n",
       "    </tr>\n",
       "  </tbody>\n",
       "</table>\n",
       "</div>"
      ],
      "text/plain": [
       "           名称          名称_カナ                名称_英語              住所  方書  \\\n",
       "0      有岡城跡公園  アリオカジョウセキコウエン  Arioka Castle Ruins    兵庫県伊丹市伊丹1-16 NaN   \n",
       "1    市バス総合案内所  シバスソウゴウアンナイジョ    City Bus Terminal  兵庫県伊丹市西台1-1-24 NaN   \n",
       "2  市立伊丹ミュージアム   シリツイタミミュージアム    Itami City Museum    兵庫県伊丹市宮ノ前2-5 NaN   \n",
       "\n",
       "          緯度          経度  \n",
       "0  34.780851  135.421042  \n",
       "1  34.780171  135.413086  \n",
       "2  34.781996  135.417263  "
      ]
     },
     "execution_count": 1,
     "metadata": {},
     "output_type": "execute_result"
    }
   ],
   "source": [
    "import pandas as pd\n",
    "\n",
    "itami_wifi = pd.read_csv(\"data/282073publicwirelesslan202204.csv\")\n",
    "itami_wifi.iloc[:3, 3:10]"
   ]
  },
  {
   "cell_type": "code",
   "execution_count": 2,
   "id": "cf3389f6",
   "metadata": {
    "execution": {
     "iopub.execute_input": "2025-08-31T17:20:05.572139Z",
     "iopub.status.busy": "2025-08-31T17:20:05.571004Z",
     "iopub.status.idle": "2025-08-31T17:20:05.592138Z",
     "shell.execute_reply": "2025-08-31T17:20:05.590627Z"
    }
   },
   "outputs": [
    {
     "data": {
      "text/plain": [
       "緯度     34.781261\n",
       "経度    135.422682\n",
       "dtype: float64"
      ]
     },
     "execution_count": 2,
     "metadata": {},
     "output_type": "execute_result"
    }
   ],
   "source": [
    "itami_center = itami_wifi.loc[:, [\"緯度\", \"経度\"]].mean()\n",
    "itami_center"
   ]
  },
  {
   "cell_type": "code",
   "execution_count": 3,
   "id": "22ebc10c",
   "metadata": {
    "execution": {
     "iopub.execute_input": "2025-08-31T17:20:05.596824Z",
     "iopub.status.busy": "2025-08-31T17:20:05.596054Z",
     "iopub.status.idle": "2025-08-31T17:20:06.201919Z",
     "shell.execute_reply": "2025-08-31T17:20:06.199319Z"
    }
   },
   "outputs": [
    {
     "ename": "ModuleNotFoundError",
     "evalue": "No module named 'folium'",
     "output_type": "error",
     "traceback": [
      "\u001b[31m---------------------------------------------------------------------------\u001b[39m",
      "\u001b[31mModuleNotFoundError\u001b[39m                       Traceback (most recent call last)",
      "\u001b[36mCell\u001b[39m\u001b[36m \u001b[39m\u001b[32mIn[3]\u001b[39m\u001b[32m, line 1\u001b[39m\n\u001b[32m----> \u001b[39m\u001b[32m1\u001b[39m \u001b[38;5;28;01mimport\u001b[39;00m\u001b[38;5;250m \u001b[39m\u001b[34;01mfolium\u001b[39;00m\n\u001b[32m      3\u001b[39m itami_wifi_map = folium.Map(\n\u001b[32m      4\u001b[39m     location=itami_center,\n\u001b[32m      5\u001b[39m     zoom_start=\u001b[32m15.2\u001b[39m,\n\u001b[32m      6\u001b[39m     width=\u001b[32m800\u001b[39m,\n\u001b[32m      7\u001b[39m     height=\u001b[32m400\u001b[39m,\n\u001b[32m      8\u001b[39m )\n\u001b[32m      9\u001b[39m itami_wifi_map\n",
      "\u001b[31mModuleNotFoundError\u001b[39m: No module named 'folium'"
     ]
    }
   ],
   "source": [
    "import folium\n",
    "\n",
    "itami_wifi_map = folium.Map(\n",
    "    location=itami_center,\n",
    "    zoom_start=15.2,\n",
    "    width=800,\n",
    "    height=400,\n",
    ")\n",
    "itami_wifi_map"
   ]
  },
  {
   "cell_type": "code",
   "execution_count": 4,
   "id": "436903f0",
   "metadata": {
    "execution": {
     "iopub.execute_input": "2025-08-31T17:20:06.210483Z",
     "iopub.status.busy": "2025-08-31T17:20:06.208461Z",
     "iopub.status.idle": "2025-08-31T17:20:06.264631Z",
     "shell.execute_reply": "2025-08-31T17:20:06.262626Z"
    }
   },
   "outputs": [
    {
     "ename": "NameError",
     "evalue": "name 'folium' is not defined",
     "output_type": "error",
     "traceback": [
      "\u001b[31m---------------------------------------------------------------------------\u001b[39m",
      "\u001b[31mNameError\u001b[39m                                 Traceback (most recent call last)",
      "\u001b[36mCell\u001b[39m\u001b[36m \u001b[39m\u001b[32mIn[4]\u001b[39m\u001b[32m, line 1\u001b[39m\n\u001b[32m----> \u001b[39m\u001b[32m1\u001b[39m marker = \u001b[43mfolium\u001b[49m.Marker(location=itami_wifi.loc[\u001b[32m0\u001b[39m, [\u001b[33m\"\u001b[39m\u001b[33m緯度\u001b[39m\u001b[33m\"\u001b[39m, \u001b[33m\"\u001b[39m\u001b[33m経度\u001b[39m\u001b[33m\"\u001b[39m]])\n\u001b[32m      2\u001b[39m marker.add_to(itami_wifi_map)\n\u001b[32m      3\u001b[39m itami_wifi_map\n",
      "\u001b[31mNameError\u001b[39m: name 'folium' is not defined"
     ]
    }
   ],
   "source": [
    "marker = folium.Marker(location=itami_wifi.loc[0, [\"緯度\", \"経度\"]])\n",
    "marker.add_to(itami_wifi_map)\n",
    "itami_wifi_map"
   ]
  },
  {
   "cell_type": "code",
   "execution_count": 5,
   "id": "7ac8470e",
   "metadata": {
    "execution": {
     "iopub.execute_input": "2025-08-31T17:20:06.270551Z",
     "iopub.status.busy": "2025-08-31T17:20:06.269648Z",
     "iopub.status.idle": "2025-08-31T17:20:07.613230Z",
     "shell.execute_reply": "2025-08-31T17:20:07.609259Z"
    }
   },
   "outputs": [
    {
     "ename": "NameError",
     "evalue": "name 'folium' is not defined",
     "output_type": "error",
     "traceback": [
      "\u001b[31m---------------------------------------------------------------------------\u001b[39m",
      "\u001b[31mNameError\u001b[39m                                 Traceback (most recent call last)",
      "\u001b[36mCell\u001b[39m\u001b[36m \u001b[39m\u001b[32mIn[5]\u001b[39m\u001b[32m, line 1\u001b[39m\n\u001b[32m----> \u001b[39m\u001b[32m1\u001b[39m \u001b[43mitami_wifi\u001b[49m\u001b[43m.\u001b[49m\u001b[43mloc\u001b[49m\u001b[43m[\u001b[49m\u001b[43m:\u001b[49m\u001b[43m,\u001b[49m\u001b[43m \u001b[49m\u001b[43m[\u001b[49m\u001b[33;43m\"\u001b[39;49m\u001b[33;43m緯度\u001b[39;49m\u001b[33;43m\"\u001b[39;49m\u001b[43m,\u001b[49m\u001b[43m \u001b[49m\u001b[33;43m\"\u001b[39;49m\u001b[33;43m経度\u001b[39;49m\u001b[33;43m\"\u001b[39;49m\u001b[43m]\u001b[49m\u001b[43m]\u001b[49m\u001b[43m.\u001b[49m\u001b[43mapply\u001b[49m\u001b[43m(\u001b[49m\n\u001b[32m      2\u001b[39m \u001b[43m    \u001b[49m\u001b[38;5;28;43;01mlambda\u001b[39;49;00m\u001b[43m \u001b[49m\u001b[43mx\u001b[49m\u001b[43m:\u001b[49m\u001b[43m \u001b[49m\u001b[43mfolium\u001b[49m\u001b[43m.\u001b[49m\u001b[43mMarker\u001b[49m\u001b[43m(\u001b[49m\u001b[43mlocation\u001b[49m\u001b[43m=\u001b[49m\u001b[43mx\u001b[49m\u001b[43m)\u001b[49m\u001b[43m.\u001b[49m\u001b[43madd_to\u001b[49m\u001b[43m(\u001b[49m\u001b[43mitami_wifi_map\u001b[49m\u001b[43m)\u001b[49m\u001b[43m,\u001b[49m\n\u001b[32m      3\u001b[39m \u001b[43m    \u001b[49m\u001b[43maxis\u001b[49m\u001b[43m=\u001b[49m\u001b[32;43m1\u001b[39;49m\u001b[43m,\u001b[49m\n\u001b[32m      4\u001b[39m \u001b[43m)\u001b[49m\n\u001b[32m      5\u001b[39m itami_wifi_map\n",
      "\u001b[36mFile \u001b[39m\u001b[32m~/workspace/musashiuniv/musashiuniv_manuscript/.venv/lib/python3.12/site-packages/pandas/core/frame.py:10381\u001b[39m, in \u001b[36mDataFrame.apply\u001b[39m\u001b[34m(self, func, axis, raw, result_type, args, by_row, engine, engine_kwargs, **kwargs)\u001b[39m\n\u001b[32m  10367\u001b[39m \u001b[38;5;28;01mfrom\u001b[39;00m\u001b[38;5;250m \u001b[39m\u001b[34;01mpandas\u001b[39;00m\u001b[34;01m.\u001b[39;00m\u001b[34;01mcore\u001b[39;00m\u001b[34;01m.\u001b[39;00m\u001b[34;01mapply\u001b[39;00m\u001b[38;5;250m \u001b[39m\u001b[38;5;28;01mimport\u001b[39;00m frame_apply\n\u001b[32m  10369\u001b[39m op = frame_apply(\n\u001b[32m  10370\u001b[39m     \u001b[38;5;28mself\u001b[39m,\n\u001b[32m  10371\u001b[39m     func=func,\n\u001b[32m   (...)\u001b[39m\u001b[32m  10379\u001b[39m     kwargs=kwargs,\n\u001b[32m  10380\u001b[39m )\n\u001b[32m> \u001b[39m\u001b[32m10381\u001b[39m \u001b[38;5;28;01mreturn\u001b[39;00m \u001b[43mop\u001b[49m\u001b[43m.\u001b[49m\u001b[43mapply\u001b[49m\u001b[43m(\u001b[49m\u001b[43m)\u001b[49m.__finalize__(\u001b[38;5;28mself\u001b[39m, method=\u001b[33m\"\u001b[39m\u001b[33mapply\u001b[39m\u001b[33m\"\u001b[39m)\n",
      "\u001b[36mFile \u001b[39m\u001b[32m~/workspace/musashiuniv/musashiuniv_manuscript/.venv/lib/python3.12/site-packages/pandas/core/apply.py:916\u001b[39m, in \u001b[36mFrameApply.apply\u001b[39m\u001b[34m(self)\u001b[39m\n\u001b[32m    913\u001b[39m \u001b[38;5;28;01melif\u001b[39;00m \u001b[38;5;28mself\u001b[39m.raw:\n\u001b[32m    914\u001b[39m     \u001b[38;5;28;01mreturn\u001b[39;00m \u001b[38;5;28mself\u001b[39m.apply_raw(engine=\u001b[38;5;28mself\u001b[39m.engine, engine_kwargs=\u001b[38;5;28mself\u001b[39m.engine_kwargs)\n\u001b[32m--> \u001b[39m\u001b[32m916\u001b[39m \u001b[38;5;28;01mreturn\u001b[39;00m \u001b[38;5;28;43mself\u001b[39;49m\u001b[43m.\u001b[49m\u001b[43mapply_standard\u001b[49m\u001b[43m(\u001b[49m\u001b[43m)\u001b[49m\n",
      "\u001b[36mFile \u001b[39m\u001b[32m~/workspace/musashiuniv/musashiuniv_manuscript/.venv/lib/python3.12/site-packages/pandas/core/apply.py:1063\u001b[39m, in \u001b[36mFrameApply.apply_standard\u001b[39m\u001b[34m(self)\u001b[39m\n\u001b[32m   1061\u001b[39m \u001b[38;5;28;01mdef\u001b[39;00m\u001b[38;5;250m \u001b[39m\u001b[34mapply_standard\u001b[39m(\u001b[38;5;28mself\u001b[39m):\n\u001b[32m   1062\u001b[39m     \u001b[38;5;28;01mif\u001b[39;00m \u001b[38;5;28mself\u001b[39m.engine == \u001b[33m\"\u001b[39m\u001b[33mpython\u001b[39m\u001b[33m\"\u001b[39m:\n\u001b[32m-> \u001b[39m\u001b[32m1063\u001b[39m         results, res_index = \u001b[38;5;28;43mself\u001b[39;49m\u001b[43m.\u001b[49m\u001b[43mapply_series_generator\u001b[49m\u001b[43m(\u001b[49m\u001b[43m)\u001b[49m\n\u001b[32m   1064\u001b[39m     \u001b[38;5;28;01melse\u001b[39;00m:\n\u001b[32m   1065\u001b[39m         results, res_index = \u001b[38;5;28mself\u001b[39m.apply_series_numba()\n",
      "\u001b[36mFile \u001b[39m\u001b[32m~/workspace/musashiuniv/musashiuniv_manuscript/.venv/lib/python3.12/site-packages/pandas/core/apply.py:1081\u001b[39m, in \u001b[36mFrameApply.apply_series_generator\u001b[39m\u001b[34m(self)\u001b[39m\n\u001b[32m   1078\u001b[39m \u001b[38;5;28;01mwith\u001b[39;00m option_context(\u001b[33m\"\u001b[39m\u001b[33mmode.chained_assignment\u001b[39m\u001b[33m\"\u001b[39m, \u001b[38;5;28;01mNone\u001b[39;00m):\n\u001b[32m   1079\u001b[39m     \u001b[38;5;28;01mfor\u001b[39;00m i, v \u001b[38;5;129;01min\u001b[39;00m \u001b[38;5;28menumerate\u001b[39m(series_gen):\n\u001b[32m   1080\u001b[39m         \u001b[38;5;66;03m# ignore SettingWithCopy here in case the user mutates\u001b[39;00m\n\u001b[32m-> \u001b[39m\u001b[32m1081\u001b[39m         results[i] = \u001b[38;5;28;43mself\u001b[39;49m\u001b[43m.\u001b[49m\u001b[43mfunc\u001b[49m\u001b[43m(\u001b[49m\u001b[43mv\u001b[49m\u001b[43m,\u001b[49m\u001b[43m \u001b[49m\u001b[43m*\u001b[49m\u001b[38;5;28;43mself\u001b[39;49m\u001b[43m.\u001b[49m\u001b[43margs\u001b[49m\u001b[43m,\u001b[49m\u001b[43m \u001b[49m\u001b[43m*\u001b[49m\u001b[43m*\u001b[49m\u001b[38;5;28;43mself\u001b[39;49m\u001b[43m.\u001b[49m\u001b[43mkwargs\u001b[49m\u001b[43m)\u001b[49m\n\u001b[32m   1082\u001b[39m         \u001b[38;5;28;01mif\u001b[39;00m \u001b[38;5;28misinstance\u001b[39m(results[i], ABCSeries):\n\u001b[32m   1083\u001b[39m             \u001b[38;5;66;03m# If we have a view on v, we need to make a copy because\u001b[39;00m\n\u001b[32m   1084\u001b[39m             \u001b[38;5;66;03m#  series_generator will swap out the underlying data\u001b[39;00m\n\u001b[32m   1085\u001b[39m             results[i] = results[i].copy(deep=\u001b[38;5;28;01mFalse\u001b[39;00m)\n",
      "\u001b[36mCell\u001b[39m\u001b[36m \u001b[39m\u001b[32mIn[5]\u001b[39m\u001b[32m, line 2\u001b[39m, in \u001b[36m<lambda>\u001b[39m\u001b[34m(x)\u001b[39m\n\u001b[32m      1\u001b[39m itami_wifi.loc[:, [\u001b[33m\"\u001b[39m\u001b[33m緯度\u001b[39m\u001b[33m\"\u001b[39m, \u001b[33m\"\u001b[39m\u001b[33m経度\u001b[39m\u001b[33m\"\u001b[39m]].apply(\n\u001b[32m----> \u001b[39m\u001b[32m2\u001b[39m     \u001b[38;5;28;01mlambda\u001b[39;00m x: \u001b[43mfolium\u001b[49m.Marker(location=x).add_to(itami_wifi_map),\n\u001b[32m      3\u001b[39m     axis=\u001b[32m1\u001b[39m,\n\u001b[32m      4\u001b[39m )\n\u001b[32m      5\u001b[39m itami_wifi_map\n",
      "\u001b[31mNameError\u001b[39m: name 'folium' is not defined"
     ]
    }
   ],
   "source": [
    "itami_wifi.loc[:, [\"緯度\", \"経度\"]].apply(\n",
    "    lambda x: folium.Marker(location=x).add_to(itami_wifi_map),\n",
    "    axis=1,\n",
    ")\n",
    "itami_wifi_map"
   ]
  },
  {
   "cell_type": "code",
   "execution_count": 6,
   "id": "420b2eb3",
   "metadata": {
    "execution": {
     "iopub.execute_input": "2025-08-31T17:20:07.624897Z",
     "iopub.status.busy": "2025-08-31T17:20:07.623338Z",
     "iopub.status.idle": "2025-08-31T17:20:07.718683Z",
     "shell.execute_reply": "2025-08-31T17:20:07.714234Z"
    }
   },
   "outputs": [
    {
     "ename": "ModuleNotFoundError",
     "evalue": "No module named 'geopandas'",
     "output_type": "error",
     "traceback": [
      "\u001b[31m---------------------------------------------------------------------------\u001b[39m",
      "\u001b[31mModuleNotFoundError\u001b[39m                       Traceback (most recent call last)",
      "\u001b[36mCell\u001b[39m\u001b[36m \u001b[39m\u001b[32mIn[6]\u001b[39m\u001b[32m, line 1\u001b[39m\n\u001b[32m----> \u001b[39m\u001b[32m1\u001b[39m \u001b[38;5;28;01mimport\u001b[39;00m\u001b[38;5;250m \u001b[39m\u001b[34;01mgeopandas\u001b[39;00m\u001b[38;5;250m \u001b[39m\u001b[38;5;28;01mas\u001b[39;00m\u001b[38;5;250m \u001b[39m\u001b[34;01mgpd\u001b[39;00m\n\u001b[32m      3\u001b[39m land_price_gdf = (\n\u001b[32m      4\u001b[39m     gpd.read_file(\n\u001b[32m      5\u001b[39m         \u001b[33m\"\u001b[39m\u001b[33mhttps://nlftp.mlit.go.jp/ksj/gml/data/L01/L01-22/L01-22_25_GML.zip\u001b[39m\u001b[33m\"\u001b[39m\n\u001b[32m   (...)\u001b[39m\u001b[32m      8\u001b[39m     .get_group(\u001b[33m\"\u001b[39m\u001b[33m2022\u001b[39m\u001b[33m\"\u001b[39m)\n\u001b[32m      9\u001b[39m )\n\u001b[32m     10\u001b[39m land_price_gdf.loc[:\u001b[32m3\u001b[39m, [\u001b[33m\"\u001b[39m\u001b[33mL01_006\u001b[39m\u001b[33m\"\u001b[39m, \u001b[33m\"\u001b[39m\u001b[33mL01_023\u001b[39m\u001b[33m\"\u001b[39m, \u001b[33m\"\u001b[39m\u001b[33mgeometry\u001b[39m\u001b[33m\"\u001b[39m]]\n",
      "\u001b[31mModuleNotFoundError\u001b[39m: No module named 'geopandas'"
     ]
    }
   ],
   "source": [
    "import geopandas as gpd\n",
    "\n",
    "land_price_gdf = (\n",
    "    gpd.read_file(\n",
    "        \"https://nlftp.mlit.go.jp/ksj/gml/data/L01/L01-22/L01-22_25_GML.zip\"\n",
    "    )\n",
    "    .groupby(\"L01_005\")\n",
    "    .get_group(\"2022\")\n",
    ")\n",
    "land_price_gdf.loc[:3, [\"L01_006\", \"L01_023\", \"geometry\"]]"
   ]
  },
  {
   "cell_type": "code",
   "execution_count": 7,
   "id": "f0f070b2",
   "metadata": {
    "execution": {
     "iopub.execute_input": "2025-08-31T17:20:07.728727Z",
     "iopub.status.busy": "2025-08-31T17:20:07.727571Z",
     "iopub.status.idle": "2025-08-31T17:20:07.821055Z",
     "shell.execute_reply": "2025-08-31T17:20:07.816626Z"
    }
   },
   "outputs": [
    {
     "ename": "NameError",
     "evalue": "name 'land_price_gdf' is not defined",
     "output_type": "error",
     "traceback": [
      "\u001b[31m---------------------------------------------------------------------------\u001b[39m",
      "\u001b[31mNameError\u001b[39m                                 Traceback (most recent call last)",
      "\u001b[36mCell\u001b[39m\u001b[36m \u001b[39m\u001b[32mIn[7]\u001b[39m\u001b[32m, line 1\u001b[39m\n\u001b[32m----> \u001b[39m\u001b[32m1\u001b[39m land_price = \u001b[43mland_price_gdf\u001b[49m.apply(\n\u001b[32m      2\u001b[39m     \u001b[38;5;28;01mlambda\u001b[39;00m s: pd.Series(\n\u001b[32m      3\u001b[39m         (\n\u001b[32m      4\u001b[39m             s[\u001b[33m\"\u001b[39m\u001b[33mgeometry\u001b[39m\u001b[33m\"\u001b[39m].y,\n\u001b[32m      5\u001b[39m             s[\u001b[33m\"\u001b[39m\u001b[33mgeometry\u001b[39m\u001b[33m\"\u001b[39m].x,\n\u001b[32m      6\u001b[39m             s[\u001b[33m\"\u001b[39m\u001b[33mL01_006\u001b[39m\u001b[33m\"\u001b[39m],\n\u001b[32m      7\u001b[39m         )\n\u001b[32m      8\u001b[39m     ),\n\u001b[32m      9\u001b[39m     axis=\u001b[32m1\u001b[39m,\n\u001b[32m     10\u001b[39m ).values\n\u001b[32m     11\u001b[39m land_price[:\u001b[32m3\u001b[39m]\n",
      "\u001b[31mNameError\u001b[39m: name 'land_price_gdf' is not defined"
     ]
    }
   ],
   "source": [
    "land_price = land_price_gdf.apply(\n",
    "    lambda s: pd.Series(\n",
    "        (\n",
    "            s[\"geometry\"].y,\n",
    "            s[\"geometry\"].x,\n",
    "            s[\"L01_006\"],\n",
    "        )\n",
    "    ),\n",
    "    axis=1,\n",
    ").values\n",
    "land_price[:3]"
   ]
  },
  {
   "cell_type": "code",
   "execution_count": 8,
   "id": "a816f6ad",
   "metadata": {
    "execution": {
     "iopub.execute_input": "2025-08-31T17:20:07.827975Z",
     "iopub.status.busy": "2025-08-31T17:20:07.827002Z",
     "iopub.status.idle": "2025-08-31T17:20:07.896116Z",
     "shell.execute_reply": "2025-08-31T17:20:07.892865Z"
    }
   },
   "outputs": [
    {
     "ename": "ModuleNotFoundError",
     "evalue": "No module named 'folium'",
     "output_type": "error",
     "traceback": [
      "\u001b[31m---------------------------------------------------------------------------\u001b[39m",
      "\u001b[31mModuleNotFoundError\u001b[39m                       Traceback (most recent call last)",
      "\u001b[36mCell\u001b[39m\u001b[36m \u001b[39m\u001b[32mIn[8]\u001b[39m\u001b[32m, line 1\u001b[39m\n\u001b[32m----> \u001b[39m\u001b[32m1\u001b[39m \u001b[38;5;28;01mfrom\u001b[39;00m\u001b[38;5;250m \u001b[39m\u001b[34;01mfolium\u001b[39;00m\u001b[34;01m.\u001b[39;00m\u001b[34;01mplugins\u001b[39;00m\u001b[38;5;250m \u001b[39m\u001b[38;5;28;01mimport\u001b[39;00m HeatMap\n\u001b[32m      3\u001b[39m shiga_center = (\n\u001b[32m      4\u001b[39m     land_price_gdf.loc[:, \u001b[33m\"\u001b[39m\u001b[33mgeometry\u001b[39m\u001b[33m\"\u001b[39m].y.mean(),\n\u001b[32m      5\u001b[39m     land_price_gdf.loc[:, \u001b[33m\"\u001b[39m\u001b[33mgeometry\u001b[39m\u001b[33m\"\u001b[39m].x.mean(),\n\u001b[32m      6\u001b[39m )\n\u001b[32m      7\u001b[39m land_price_map = folium.Map(\n\u001b[32m      8\u001b[39m     location=shiga_center,\n\u001b[32m      9\u001b[39m     zoom_start=\u001b[32m10\u001b[39m,\n\u001b[32m     10\u001b[39m )\n",
      "\u001b[31mModuleNotFoundError\u001b[39m: No module named 'folium'"
     ]
    }
   ],
   "source": [
    "from folium.plugins import HeatMap\n",
    "\n",
    "shiga_center = (\n",
    "    land_price_gdf.loc[:, \"geometry\"].y.mean(),\n",
    "    land_price_gdf.loc[:, \"geometry\"].x.mean(),\n",
    ")\n",
    "land_price_map = folium.Map(\n",
    "    location=shiga_center,\n",
    "    zoom_start=10,\n",
    ")\n",
    "HeatMap(\n",
    "    data=land_price,\n",
    "    radius=12,\n",
    ").add_to(land_price_map)\n",
    "land_price_map"
   ]
  },
  {
   "attachments": {},
   "cell_type": "markdown",
   "id": "ac5c2b33",
   "metadata": {},
   "source": [
    "## ラインの可視化"
   ]
  },
  {
   "cell_type": "code",
   "execution_count": 9,
   "id": "741bec8c",
   "metadata": {
    "execution": {
     "iopub.execute_input": "2025-08-31T17:20:07.905269Z",
     "iopub.status.busy": "2025-08-31T17:20:07.903296Z",
     "iopub.status.idle": "2025-08-31T17:20:07.977584Z",
     "shell.execute_reply": "2025-08-31T17:20:07.976023Z"
    }
   },
   "outputs": [
    {
     "ename": "NameError",
     "evalue": "name 'land_price_gdf' is not defined",
     "output_type": "error",
     "traceback": [
      "\u001b[31m---------------------------------------------------------------------------\u001b[39m",
      "\u001b[31mNameError\u001b[39m                                 Traceback (most recent call last)",
      "\u001b[36mCell\u001b[39m\u001b[36m \u001b[39m\u001b[32mIn[9]\u001b[39m\u001b[32m, line 1\u001b[39m\n\u001b[32m----> \u001b[39m\u001b[32m1\u001b[39m minx, miny = \u001b[43mland_price_gdf\u001b[49m.loc[:, \u001b[33m\"\u001b[39m\u001b[33mgeometry\u001b[39m\u001b[33m\"\u001b[39m].bounds.min()[\n\u001b[32m      2\u001b[39m     [\u001b[33m\"\u001b[39m\u001b[33mminx\u001b[39m\u001b[33m\"\u001b[39m, \u001b[33m\"\u001b[39m\u001b[33mminy\u001b[39m\u001b[33m\"\u001b[39m]\n\u001b[32m      3\u001b[39m ]\n\u001b[32m      4\u001b[39m maxx, maxy = land_price_gdf.loc[:, \u001b[33m\"\u001b[39m\u001b[33mgeometry\u001b[39m\u001b[33m\"\u001b[39m].bounds.max()[\n\u001b[32m      5\u001b[39m     [\u001b[33m\"\u001b[39m\u001b[33mmaxx\u001b[39m\u001b[33m\"\u001b[39m, \u001b[33m\"\u001b[39m\u001b[33mmaxy\u001b[39m\u001b[33m\"\u001b[39m]\n\u001b[32m      6\u001b[39m ]\n\u001b[32m      7\u001b[39m rail_gdf = gpd.read_file(\n\u001b[32m      8\u001b[39m     \u001b[33m\"\u001b[39m\u001b[33mhttps://nlftp.mlit.go.jp/ksj/gml/data/N02/N02-21/N02-21_GML.zip\u001b[39m\u001b[33m\"\u001b[39m\n\u001b[32m      9\u001b[39m ).cx[minx:maxx, miny:maxy]\n",
      "\u001b[31mNameError\u001b[39m: name 'land_price_gdf' is not defined"
     ]
    }
   ],
   "source": [
    "minx, miny = land_price_gdf.loc[:, \"geometry\"].bounds.min()[\n",
    "    [\"minx\", \"miny\"]\n",
    "]\n",
    "maxx, maxy = land_price_gdf.loc[:, \"geometry\"].bounds.max()[\n",
    "    [\"maxx\", \"maxy\"]\n",
    "]\n",
    "rail_gdf = gpd.read_file(\n",
    "    \"https://nlftp.mlit.go.jp/ksj/gml/data/N02/N02-21/N02-21_GML.zip\"\n",
    ").cx[minx:maxx, miny:maxy]\n",
    "rail_gdf.head()"
   ]
  },
  {
   "cell_type": "code",
   "execution_count": 10,
   "id": "10d258fb",
   "metadata": {
    "execution": {
     "iopub.execute_input": "2025-08-31T17:20:07.985121Z",
     "iopub.status.busy": "2025-08-31T17:20:07.983756Z",
     "iopub.status.idle": "2025-08-31T17:20:08.044049Z",
     "shell.execute_reply": "2025-08-31T17:20:08.041690Z"
    }
   },
   "outputs": [
    {
     "ename": "NameError",
     "evalue": "name 'rail_gdf' is not defined",
     "output_type": "error",
     "traceback": [
      "\u001b[31m---------------------------------------------------------------------------\u001b[39m",
      "\u001b[31mNameError\u001b[39m                                 Traceback (most recent call last)",
      "\u001b[36mCell\u001b[39m\u001b[36m \u001b[39m\u001b[32mIn[10]\u001b[39m\u001b[32m, line 2\u001b[39m\n\u001b[32m      1\u001b[39m \u001b[38;5;66;03m# 京津線のデータを抽出\u001b[39;00m\n\u001b[32m----> \u001b[39m\u001b[32m2\u001b[39m keishinsen = \u001b[43mrail_gdf\u001b[49m.groupby(\u001b[33m\"\u001b[39m\u001b[33mN02_003\u001b[39m\u001b[33m\"\u001b[39m)[\u001b[33m\"\u001b[39m\u001b[33mgeometry\u001b[39m\u001b[33m\"\u001b[39m].get_group(\u001b[33m\"\u001b[39m\u001b[33m京津線\u001b[39m\u001b[33m\"\u001b[39m)\n\u001b[32m      3\u001b[39m \u001b[38;5;66;03m# 中心となる座標\u001b[39;00m\n\u001b[32m      4\u001b[39m keishinsen_center = (\n\u001b[32m      5\u001b[39m     keishinsen.map(\u001b[38;5;28;01mlambda\u001b[39;00m p: p.centroid.y).mean(),\n\u001b[32m      6\u001b[39m     keishinsen.map(\u001b[38;5;28;01mlambda\u001b[39;00m p: p.centroid.x).mean(),\n\u001b[32m      7\u001b[39m )\n",
      "\u001b[31mNameError\u001b[39m: name 'rail_gdf' is not defined"
     ]
    }
   ],
   "source": [
    "# 京津線のデータを抽出\n",
    "keishinsen = rail_gdf.groupby(\"N02_003\")[\"geometry\"].get_group(\"京津線\")\n",
    "# 中心となる座標\n",
    "keishinsen_center = (\n",
    "    keishinsen.map(lambda p: p.centroid.y).mean(),\n",
    "    keishinsen.map(lambda p: p.centroid.x).mean(),\n",
    ")\n",
    "keishinsen_center"
   ]
  },
  {
   "cell_type": "code",
   "execution_count": 11,
   "id": "82d43503",
   "metadata": {
    "execution": {
     "iopub.execute_input": "2025-08-31T17:20:08.050009Z",
     "iopub.status.busy": "2025-08-31T17:20:08.049088Z",
     "iopub.status.idle": "2025-08-31T17:20:08.102552Z",
     "shell.execute_reply": "2025-08-31T17:20:08.100825Z"
    }
   },
   "outputs": [
    {
     "ename": "NameError",
     "evalue": "name 'folium' is not defined",
     "output_type": "error",
     "traceback": [
      "\u001b[31m---------------------------------------------------------------------------\u001b[39m",
      "\u001b[31mNameError\u001b[39m                                 Traceback (most recent call last)",
      "\u001b[36mCell\u001b[39m\u001b[36m \u001b[39m\u001b[32mIn[11]\u001b[39m\u001b[32m, line 4\u001b[39m\n\u001b[32m      1\u001b[39m \u001b[38;5;28;01mimport\u001b[39;00m\u001b[38;5;250m \u001b[39m\u001b[34;01mnumpy\u001b[39;00m\u001b[38;5;250m \u001b[39m\u001b[38;5;28;01mas\u001b[39;00m\u001b[38;5;250m \u001b[39m\u001b[34;01mnp\u001b[39;00m\n\u001b[32m----> \u001b[39m\u001b[32m4\u001b[39m keishinsen_map = \u001b[43mfolium\u001b[49m.Map(\n\u001b[32m      5\u001b[39m     location=keishinsen_center,\n\u001b[32m      6\u001b[39m     zoom_start=\u001b[32m14\u001b[39m,\n\u001b[32m      7\u001b[39m )\n\u001b[32m      8\u001b[39m keishinsen.apply(\n\u001b[32m      9\u001b[39m     \u001b[38;5;28;01mlambda\u001b[39;00m s: folium.PolyLine(\n\u001b[32m     10\u001b[39m         \u001b[38;5;66;03m# 緯度, 経度の順番に変換、fliplr関数で順序を反転\u001b[39;00m\n\u001b[32m   (...)\u001b[39m\u001b[32m     13\u001b[39m     ).add_to(keishinsen_map)\n\u001b[32m     14\u001b[39m )\n\u001b[32m     15\u001b[39m keishinsen_map\n",
      "\u001b[31mNameError\u001b[39m: name 'folium' is not defined"
     ]
    }
   ],
   "source": [
    "import numpy as np\n",
    "\n",
    "\n",
    "keishinsen_map = folium.Map(\n",
    "    location=keishinsen_center,\n",
    "    zoom_start=14,\n",
    ")\n",
    "keishinsen.apply(\n",
    "    lambda s: folium.PolyLine(\n",
    "        # 緯度, 経度の順番に変換、fliplr関数で順序を反転\n",
    "        locations=np.fliplr(s.coords),\n",
    "        weight=15  # 線の太さ\n",
    "    ).add_to(keishinsen_map)\n",
    ")\n",
    "keishinsen_map"
   ]
  },
  {
   "cell_type": "code",
   "execution_count": 12,
   "id": "9a663e67",
   "metadata": {
    "execution": {
     "iopub.execute_input": "2025-08-31T17:20:08.107164Z",
     "iopub.status.busy": "2025-08-31T17:20:08.106338Z",
     "iopub.status.idle": "2025-08-31T17:20:08.150997Z",
     "shell.execute_reply": "2025-08-31T17:20:08.149288Z"
    }
   },
   "outputs": [
    {
     "ename": "NameError",
     "evalue": "name 'folium' is not defined",
     "output_type": "error",
     "traceback": [
      "\u001b[31m---------------------------------------------------------------------------\u001b[39m",
      "\u001b[31mNameError\u001b[39m                                 Traceback (most recent call last)",
      "\u001b[36mCell\u001b[39m\u001b[36m \u001b[39m\u001b[32mIn[12]\u001b[39m\u001b[32m, line 1\u001b[39m\n\u001b[32m----> \u001b[39m\u001b[32m1\u001b[39m rail_map = \u001b[43mfolium\u001b[49m.Map(\n\u001b[32m      2\u001b[39m     location=shiga_center,\n\u001b[32m      3\u001b[39m     zoom_start=\u001b[32m10\u001b[39m,\n\u001b[32m      4\u001b[39m )\n\u001b[32m      5\u001b[39m folium.features.GeoJson(rail_gdf).add_to(rail_map)\n\u001b[32m      6\u001b[39m rail_map\n",
      "\u001b[31mNameError\u001b[39m: name 'folium' is not defined"
     ]
    }
   ],
   "source": [
    "rail_map = folium.Map(\n",
    "    location=shiga_center,\n",
    "    zoom_start=10,\n",
    ")\n",
    "folium.features.GeoJson(rail_gdf).add_to(rail_map)\n",
    "rail_map"
   ]
  },
  {
   "attachments": {},
   "cell_type": "markdown",
   "id": "343d080f",
   "metadata": {},
   "source": [
    "## ポリゴンの可視化"
   ]
  },
  {
   "cell_type": "code",
   "execution_count": 13,
   "id": "e56f33ef",
   "metadata": {
    "execution": {
     "iopub.execute_input": "2025-08-31T17:20:08.156657Z",
     "iopub.status.busy": "2025-08-31T17:20:08.155860Z",
     "iopub.status.idle": "2025-08-31T17:20:08.197418Z",
     "shell.execute_reply": "2025-08-31T17:20:08.195910Z"
    }
   },
   "outputs": [
    {
     "ename": "NameError",
     "evalue": "name 'gpd' is not defined",
     "output_type": "error",
     "traceback": [
      "\u001b[31m---------------------------------------------------------------------------\u001b[39m",
      "\u001b[31mNameError\u001b[39m                                 Traceback (most recent call last)",
      "\u001b[36mCell\u001b[39m\u001b[36m \u001b[39m\u001b[32mIn[13]\u001b[39m\u001b[32m, line 1\u001b[39m\n\u001b[32m----> \u001b[39m\u001b[32m1\u001b[39m did_gdf = \u001b[43mgpd\u001b[49m.read_file(\u001b[33m\"\u001b[39m\u001b[33m./data/A16-15_25_DID.geojson\u001b[39m\u001b[33m\"\u001b[39m)\n\u001b[32m      2\u001b[39m did_gdf.head()\n",
      "\u001b[31mNameError\u001b[39m: name 'gpd' is not defined"
     ]
    }
   ],
   "source": [
    "did_gdf = gpd.read_file(\"./data/A16-15_25_DID.geojson\")\n",
    "did_gdf.head()"
   ]
  },
  {
   "cell_type": "code",
   "execution_count": 14,
   "id": "7f0b5c5f",
   "metadata": {
    "execution": {
     "iopub.execute_input": "2025-08-31T17:20:08.201829Z",
     "iopub.status.busy": "2025-08-31T17:20:08.201167Z",
     "iopub.status.idle": "2025-08-31T17:20:08.249102Z",
     "shell.execute_reply": "2025-08-31T17:20:08.247127Z"
    }
   },
   "outputs": [
    {
     "ename": "NameError",
     "evalue": "name 'folium' is not defined",
     "output_type": "error",
     "traceback": [
      "\u001b[31m---------------------------------------------------------------------------\u001b[39m",
      "\u001b[31mNameError\u001b[39m                                 Traceback (most recent call last)",
      "\u001b[36mCell\u001b[39m\u001b[36m \u001b[39m\u001b[32mIn[14]\u001b[39m\u001b[32m, line 1\u001b[39m\n\u001b[32m----> \u001b[39m\u001b[32m1\u001b[39m did_map = \u001b[43mfolium\u001b[49m.Map(\n\u001b[32m      2\u001b[39m     location=shiga_center,\n\u001b[32m      3\u001b[39m     zoom_start=\u001b[32m10\u001b[39m,\n\u001b[32m      4\u001b[39m )\n\u001b[32m      5\u001b[39m folium.GeoJson(did_gdf).add_to(did_map)\n\u001b[32m      6\u001b[39m did_map\n",
      "\u001b[31mNameError\u001b[39m: name 'folium' is not defined"
     ]
    }
   ],
   "source": [
    "did_map = folium.Map(\n",
    "    location=shiga_center,\n",
    "    zoom_start=10,\n",
    ")\n",
    "folium.GeoJson(did_gdf).add_to(did_map)\n",
    "did_map"
   ]
  },
  {
   "cell_type": "code",
   "execution_count": 15,
   "id": "03519d5e",
   "metadata": {
    "execution": {
     "iopub.execute_input": "2025-08-31T17:20:08.254424Z",
     "iopub.status.busy": "2025-08-31T17:20:08.253028Z",
     "iopub.status.idle": "2025-08-31T17:20:08.304609Z",
     "shell.execute_reply": "2025-08-31T17:20:08.302839Z"
    }
   },
   "outputs": [
    {
     "ename": "NameError",
     "evalue": "name 'folium' is not defined",
     "output_type": "error",
     "traceback": [
      "\u001b[31m---------------------------------------------------------------------------\u001b[39m",
      "\u001b[31mNameError\u001b[39m                                 Traceback (most recent call last)",
      "\u001b[36mCell\u001b[39m\u001b[36m \u001b[39m\u001b[32mIn[15]\u001b[39m\u001b[32m, line 1\u001b[39m\n\u001b[32m----> \u001b[39m\u001b[32m1\u001b[39m did_choroplethmap = \u001b[43mfolium\u001b[49m.Map(\n\u001b[32m      2\u001b[39m     location=shiga_center,\n\u001b[32m      3\u001b[39m     zoom_start=\u001b[32m10\u001b[39m,\n\u001b[32m      4\u001b[39m )\n\u001b[32m      5\u001b[39m folium.features.Choropleth(\n\u001b[32m      6\u001b[39m     geo_data=did_gdf,\n\u001b[32m      7\u001b[39m     data=did_gdf,\n\u001b[32m   (...)\u001b[39m\u001b[32m     10\u001b[39m     legend_name=\u001b[33m\"\u001b[39m\u001b[33m人口\u001b[39m\u001b[33m\"\u001b[39m,\n\u001b[32m     11\u001b[39m ).add_to(did_choroplethmap)\n\u001b[32m     12\u001b[39m did_choroplethmap\n",
      "\u001b[31mNameError\u001b[39m: name 'folium' is not defined"
     ]
    }
   ],
   "source": [
    "did_choroplethmap = folium.Map(\n",
    "    location=shiga_center,\n",
    "    zoom_start=10,\n",
    ")\n",
    "folium.features.Choropleth(\n",
    "    geo_data=did_gdf,\n",
    "    data=did_gdf,\n",
    "    key_on=\"feature.properties.DIDid\",\n",
    "    columns=[\"DIDid\", \"人口\"],\n",
    "    legend_name=\"人口\",\n",
    ").add_to(did_choroplethmap)\n",
    "did_choroplethmap"
   ]
  }
 ],
 "metadata": {
  "kernelspec": {
   "display_name": "Python 3 (ipykernel)",
   "language": "python",
   "name": "python3"
  },
  "language_info": {
   "codemirror_mode": {
    "name": "ipython",
    "version": 3
   },
   "file_extension": ".py",
   "mimetype": "text/x-python",
   "name": "python",
   "nbconvert_exporter": "python",
   "pygments_lexer": "ipython3",
   "version": "3.12.3"
  }
 },
 "nbformat": 4,
 "nbformat_minor": 5
}
