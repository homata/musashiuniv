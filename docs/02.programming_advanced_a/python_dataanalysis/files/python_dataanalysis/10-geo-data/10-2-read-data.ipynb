{
 "cells": [
  {
   "cell_type": "markdown",
   "id": "1c6b465a",
   "metadata": {},
   "source": [
    "# 地理空間データのファイル形式と読み込み"
   ]
  },
  {
   "cell_type": "markdown",
   "id": "ea8eeb83",
   "metadata": {},
   "source": [
    "## GeoJSON"
   ]
  },
  {
   "cell_type": "code",
   "execution_count": 1,
   "id": "845d4d70",
   "metadata": {
    "execution": {
     "iopub.execute_input": "2025-08-31T17:19:49.698339Z",
     "iopub.status.busy": "2025-08-31T17:19:49.697563Z",
     "iopub.status.idle": "2025-08-31T17:19:50.058053Z",
     "shell.execute_reply": "2025-08-31T17:19:50.056389Z"
    }
   },
   "outputs": [
    {
     "ename": "ModuleNotFoundError",
     "evalue": "No module named 'shapely'",
     "output_type": "error",
     "traceback": [
      "\u001b[31m---------------------------------------------------------------------------\u001b[39m",
      "\u001b[31mModuleNotFoundError\u001b[39m                       Traceback (most recent call last)",
      "\u001b[36mCell\u001b[39m\u001b[36m \u001b[39m\u001b[32mIn[1]\u001b[39m\u001b[32m, line 1\u001b[39m\n\u001b[32m----> \u001b[39m\u001b[32m1\u001b[39m \u001b[38;5;28;01mfrom\u001b[39;00m\u001b[38;5;250m \u001b[39m\u001b[34;01mshapely\u001b[39;00m\u001b[38;5;250m \u001b[39m\u001b[38;5;28;01mimport\u001b[39;00m from_geojson\n\u001b[32m      3\u001b[39m geojson = \u001b[33m\"\"\"\u001b[39m\u001b[33m{\u001b[39m\n\u001b[32m      4\u001b[39m \u001b[33m    \u001b[39m\u001b[33m\"\u001b[39m\u001b[33mtype\u001b[39m\u001b[33m\"\u001b[39m\u001b[33m: \u001b[39m\u001b[33m\"\u001b[39m\u001b[33mFeatureCollection\u001b[39m\u001b[33m\"\u001b[39m\u001b[33m,\u001b[39m\n\u001b[32m      5\u001b[39m \u001b[33m    \u001b[39m\u001b[33m\"\u001b[39m\u001b[33mfeatures\u001b[39m\u001b[33m\"\u001b[39m\u001b[33m: [\u001b[39m\n\u001b[32m   (...)\u001b[39m\u001b[32m     38\u001b[39m \u001b[33m    ]\u001b[39m\n\u001b[32m     39\u001b[39m \u001b[33m}\u001b[39m\u001b[33m\"\"\"\u001b[39m\n\u001b[32m     40\u001b[39m geo_collection = from_geojson(geojson)\n",
      "\u001b[31mModuleNotFoundError\u001b[39m: No module named 'shapely'"
     ]
    }
   ],
   "source": [
    "from shapely import from_geojson\n",
    "\n",
    "geojson = \"\"\"{\n",
    "    \"type\": \"FeatureCollection\",\n",
    "    \"features\": [\n",
    "        {\n",
    "            \"type\": \"Feature\",\n",
    "            \"properties\": {\n",
    "                \"name\": \"yurakucho\"\n",
    "            },\n",
    "            \"geometry\": {\n",
    "                \"type\": \"Point\",\n",
    "                \"coordinates\": [\n",
    "                    35.675056,\n",
    "                    139.763333\n",
    "                ]\n",
    "            }\n",
    "        },\n",
    "        {\n",
    "            \"type\": \"Feature\",\n",
    "            \"properties\": {\n",
    "                \"name\": \"tokyo-kanda\"\n",
    "            },\n",
    "            \"geometry\": {\n",
    "                \"type\": \"LineString\",\n",
    "                \"coordinates\": [\n",
    "                    [\n",
    "                        35.681111,\n",
    "                        139.766667\n",
    "                    ],\n",
    "                    [\n",
    "                        35.691667,\n",
    "                        139.770833\n",
    "                    ]\n",
    "                ]\n",
    "            }\n",
    "        }\n",
    "    ]\n",
    "}\"\"\"\n",
    "geo_collection = from_geojson(geojson)"
   ]
  },
  {
   "cell_type": "code",
   "execution_count": 2,
   "id": "5b8187a3",
   "metadata": {
    "execution": {
     "iopub.execute_input": "2025-08-31T17:19:50.063549Z",
     "iopub.status.busy": "2025-08-31T17:19:50.062151Z",
     "iopub.status.idle": "2025-08-31T17:19:50.100756Z",
     "shell.execute_reply": "2025-08-31T17:19:50.099437Z"
    }
   },
   "outputs": [
    {
     "ename": "NameError",
     "evalue": "name 'geo_collection' is not defined",
     "output_type": "error",
     "traceback": [
      "\u001b[31m---------------------------------------------------------------------------\u001b[39m",
      "\u001b[31mNameError\u001b[39m                                 Traceback (most recent call last)",
      "\u001b[36mCell\u001b[39m\u001b[36m \u001b[39m\u001b[32mIn[2]\u001b[39m\u001b[32m, line 1\u001b[39m\n\u001b[32m----> \u001b[39m\u001b[32m1\u001b[39m \u001b[38;5;28mtype\u001b[39m(\u001b[43mgeo_collection\u001b[49m)\n",
      "\u001b[31mNameError\u001b[39m: name 'geo_collection' is not defined"
     ]
    }
   ],
   "source": [
    "type(geo_collection)"
   ]
  },
  {
   "cell_type": "code",
   "execution_count": 3,
   "id": "235fc374",
   "metadata": {
    "execution": {
     "iopub.execute_input": "2025-08-31T17:19:50.105653Z",
     "iopub.status.busy": "2025-08-31T17:19:50.104522Z",
     "iopub.status.idle": "2025-08-31T17:19:50.143337Z",
     "shell.execute_reply": "2025-08-31T17:19:50.141629Z"
    }
   },
   "outputs": [
    {
     "ename": "ModuleNotFoundError",
     "evalue": "No module named 'shapely'",
     "output_type": "error",
     "traceback": [
      "\u001b[31m---------------------------------------------------------------------------\u001b[39m",
      "\u001b[31mModuleNotFoundError\u001b[39m                       Traceback (most recent call last)",
      "\u001b[36mCell\u001b[39m\u001b[36m \u001b[39m\u001b[32mIn[3]\u001b[39m\u001b[32m, line 1\u001b[39m\n\u001b[32m----> \u001b[39m\u001b[32m1\u001b[39m \u001b[38;5;28;01mfrom\u001b[39;00m\u001b[38;5;250m \u001b[39m\u001b[34;01mshapely\u001b[39;00m\u001b[38;5;250m \u001b[39m\u001b[38;5;28;01mimport\u001b[39;00m to_geojson\n\u001b[32m      3\u001b[39m \u001b[38;5;28mprint\u001b[39m(to_geojson(geo_collection, indent=\u001b[32m4\u001b[39m))\n",
      "\u001b[31mModuleNotFoundError\u001b[39m: No module named 'shapely'"
     ]
    }
   ],
   "source": [
    "from shapely import to_geojson\n",
    "\n",
    "print(to_geojson(geo_collection, indent=4))"
   ]
  },
  {
   "cell_type": "code",
   "execution_count": 4,
   "id": "ba937f64",
   "metadata": {
    "execution": {
     "iopub.execute_input": "2025-08-31T17:19:50.147550Z",
     "iopub.status.busy": "2025-08-31T17:19:50.147129Z",
     "iopub.status.idle": "2025-08-31T17:19:50.188424Z",
     "shell.execute_reply": "2025-08-31T17:19:50.186796Z"
    }
   },
   "outputs": [
    {
     "ename": "ModuleNotFoundError",
     "evalue": "No module named 'geopandas'",
     "output_type": "error",
     "traceback": [
      "\u001b[31m---------------------------------------------------------------------------\u001b[39m",
      "\u001b[31mModuleNotFoundError\u001b[39m                       Traceback (most recent call last)",
      "\u001b[36mCell\u001b[39m\u001b[36m \u001b[39m\u001b[32mIn[4]\u001b[39m\u001b[32m, line 2\u001b[39m\n\u001b[32m      1\u001b[39m \u001b[38;5;28;01mfrom\u001b[39;00m\u001b[38;5;250m \u001b[39m\u001b[34;01mio\u001b[39;00m\u001b[38;5;250m \u001b[39m\u001b[38;5;28;01mimport\u001b[39;00m StringIO\n\u001b[32m----> \u001b[39m\u001b[32m2\u001b[39m \u001b[38;5;28;01mimport\u001b[39;00m\u001b[38;5;250m \u001b[39m\u001b[34;01mgeopandas\u001b[39;00m\u001b[38;5;250m \u001b[39m\u001b[38;5;28;01mas\u001b[39;00m\u001b[38;5;250m \u001b[39m\u001b[34;01mgpd\u001b[39;00m\n\u001b[32m      4\u001b[39m geojson_gdf = gpd.read_file(StringIO(geojson))\n\u001b[32m      5\u001b[39m geojson_gdf\n",
      "\u001b[31mModuleNotFoundError\u001b[39m: No module named 'geopandas'"
     ]
    }
   ],
   "source": [
    "from io import StringIO\n",
    "import geopandas as gpd\n",
    "\n",
    "geojson_gdf = gpd.read_file(StringIO(geojson))\n",
    "geojson_gdf"
   ]
  },
  {
   "cell_type": "code",
   "execution_count": 5,
   "id": "7e8702b1",
   "metadata": {
    "execution": {
     "iopub.execute_input": "2025-08-31T17:19:50.192728Z",
     "iopub.status.busy": "2025-08-31T17:19:50.192313Z",
     "iopub.status.idle": "2025-08-31T17:19:50.237792Z",
     "shell.execute_reply": "2025-08-31T17:19:50.236089Z"
    }
   },
   "outputs": [
    {
     "ename": "NameError",
     "evalue": "name 'geojson_gdf' is not defined",
     "output_type": "error",
     "traceback": [
      "\u001b[31m---------------------------------------------------------------------------\u001b[39m",
      "\u001b[31mNameError\u001b[39m                                 Traceback (most recent call last)",
      "\u001b[36mCell\u001b[39m\u001b[36m \u001b[39m\u001b[32mIn[5]\u001b[39m\u001b[32m, line 1\u001b[39m\n\u001b[32m----> \u001b[39m\u001b[32m1\u001b[39m \u001b[38;5;28mtype\u001b[39m(\u001b[43mgeojson_gdf\u001b[49m.loc[\u001b[32m0\u001b[39m, \u001b[33m\"\u001b[39m\u001b[33mgeometry\u001b[39m\u001b[33m\"\u001b[39m])\n",
      "\u001b[31mNameError\u001b[39m: name 'geojson_gdf' is not defined"
     ]
    }
   ],
   "source": [
    "type(geojson_gdf.loc[0, \"geometry\"])"
   ]
  },
  {
   "cell_type": "code",
   "execution_count": 6,
   "id": "ea316a0e",
   "metadata": {
    "execution": {
     "iopub.execute_input": "2025-08-31T17:19:50.241891Z",
     "iopub.status.busy": "2025-08-31T17:19:50.241408Z",
     "iopub.status.idle": "2025-08-31T17:19:50.279939Z",
     "shell.execute_reply": "2025-08-31T17:19:50.278012Z"
    }
   },
   "outputs": [
    {
     "ename": "NameError",
     "evalue": "name 'geojson_gdf' is not defined",
     "output_type": "error",
     "traceback": [
      "\u001b[31m---------------------------------------------------------------------------\u001b[39m",
      "\u001b[31mNameError\u001b[39m                                 Traceback (most recent call last)",
      "\u001b[36mCell\u001b[39m\u001b[36m \u001b[39m\u001b[32mIn[6]\u001b[39m\u001b[32m, line 1\u001b[39m\n\u001b[32m----> \u001b[39m\u001b[32m1\u001b[39m \u001b[43mgeojson_gdf\u001b[49m.loc[\u001b[32m0\u001b[39m, \u001b[33m\"\u001b[39m\u001b[33mgeometry\u001b[39m\u001b[33m\"\u001b[39m]\n",
      "\u001b[31mNameError\u001b[39m: name 'geojson_gdf' is not defined"
     ]
    }
   ],
   "source": [
    "geojson_gdf.loc[0, \"geometry\"]"
   ]
  },
  {
   "cell_type": "code",
   "execution_count": 7,
   "id": "f3ae47fc",
   "metadata": {
    "execution": {
     "iopub.execute_input": "2025-08-31T17:19:50.284389Z",
     "iopub.status.busy": "2025-08-31T17:19:50.283927Z",
     "iopub.status.idle": "2025-08-31T17:19:50.323203Z",
     "shell.execute_reply": "2025-08-31T17:19:50.321502Z"
    }
   },
   "outputs": [
    {
     "ename": "NameError",
     "evalue": "name 'geojson_gdf' is not defined",
     "output_type": "error",
     "traceback": [
      "\u001b[31m---------------------------------------------------------------------------\u001b[39m",
      "\u001b[31mNameError\u001b[39m                                 Traceback (most recent call last)",
      "\u001b[36mCell\u001b[39m\u001b[36m \u001b[39m\u001b[32mIn[7]\u001b[39m\u001b[32m, line 1\u001b[39m\n\u001b[32m----> \u001b[39m\u001b[32m1\u001b[39m \u001b[38;5;28mtype\u001b[39m(\u001b[43mgeojson_gdf\u001b[49m.loc[\u001b[32m1\u001b[39m, \u001b[33m\"\u001b[39m\u001b[33mgeometry\u001b[39m\u001b[33m\"\u001b[39m])\n",
      "\u001b[31mNameError\u001b[39m: name 'geojson_gdf' is not defined"
     ]
    }
   ],
   "source": [
    "type(geojson_gdf.loc[1, \"geometry\"])"
   ]
  },
  {
   "cell_type": "code",
   "execution_count": 8,
   "id": "d005c393",
   "metadata": {
    "execution": {
     "iopub.execute_input": "2025-08-31T17:19:50.327324Z",
     "iopub.status.busy": "2025-08-31T17:19:50.326884Z",
     "iopub.status.idle": "2025-08-31T17:19:50.366640Z",
     "shell.execute_reply": "2025-08-31T17:19:50.364598Z"
    }
   },
   "outputs": [
    {
     "ename": "NameError",
     "evalue": "name 'geojson_gdf' is not defined",
     "output_type": "error",
     "traceback": [
      "\u001b[31m---------------------------------------------------------------------------\u001b[39m",
      "\u001b[31mNameError\u001b[39m                                 Traceback (most recent call last)",
      "\u001b[36mCell\u001b[39m\u001b[36m \u001b[39m\u001b[32mIn[8]\u001b[39m\u001b[32m, line 1\u001b[39m\n\u001b[32m----> \u001b[39m\u001b[32m1\u001b[39m \u001b[43mgeojson_gdf\u001b[49m.loc[\u001b[32m1\u001b[39m, \u001b[33m\"\u001b[39m\u001b[33mgeometry\u001b[39m\u001b[33m\"\u001b[39m]\n",
      "\u001b[31mNameError\u001b[39m: name 'geojson_gdf' is not defined"
     ]
    }
   ],
   "source": [
    "geojson_gdf.loc[1, \"geometry\"]"
   ]
  },
  {
   "cell_type": "code",
   "execution_count": 9,
   "id": "f8c92708",
   "metadata": {
    "execution": {
     "iopub.execute_input": "2025-08-31T17:19:50.370983Z",
     "iopub.status.busy": "2025-08-31T17:19:50.370509Z",
     "iopub.status.idle": "2025-08-31T17:19:50.411246Z",
     "shell.execute_reply": "2025-08-31T17:19:50.409263Z"
    }
   },
   "outputs": [
    {
     "ename": "NameError",
     "evalue": "name 'geojson_gdf' is not defined",
     "output_type": "error",
     "traceback": [
      "\u001b[31m---------------------------------------------------------------------------\u001b[39m",
      "\u001b[31mNameError\u001b[39m                                 Traceback (most recent call last)",
      "\u001b[36mCell\u001b[39m\u001b[36m \u001b[39m\u001b[32mIn[9]\u001b[39m\u001b[32m, line 1\u001b[39m\n\u001b[32m----> \u001b[39m\u001b[32m1\u001b[39m \u001b[38;5;28mprint\u001b[39m(\u001b[43mgeojson_gdf\u001b[49m.to_json(indent=\u001b[32m4\u001b[39m))\n",
      "\u001b[31mNameError\u001b[39m: name 'geojson_gdf' is not defined"
     ]
    }
   ],
   "source": [
    "print(geojson_gdf.to_json(indent=4))"
   ]
  },
  {
   "cell_type": "code",
   "execution_count": 10,
   "id": "2866cff0",
   "metadata": {
    "execution": {
     "iopub.execute_input": "2025-08-31T17:19:50.415135Z",
     "iopub.status.busy": "2025-08-31T17:19:50.414680Z",
     "iopub.status.idle": "2025-08-31T17:19:50.454276Z",
     "shell.execute_reply": "2025-08-31T17:19:50.452504Z"
    }
   },
   "outputs": [
    {
     "ename": "NameError",
     "evalue": "name 'geojson_gdf' is not defined",
     "output_type": "error",
     "traceback": [
      "\u001b[31m---------------------------------------------------------------------------\u001b[39m",
      "\u001b[31mNameError\u001b[39m                                 Traceback (most recent call last)",
      "\u001b[36mCell\u001b[39m\u001b[36m \u001b[39m\u001b[32mIn[10]\u001b[39m\u001b[32m, line 1\u001b[39m\n\u001b[32m----> \u001b[39m\u001b[32m1\u001b[39m \u001b[43mgeojson_gdf\u001b[49m.to_file(\n\u001b[32m      2\u001b[39m     \u001b[33m\"\u001b[39m\u001b[33m./data/yurakucho-kanda.geojson\u001b[39m\u001b[33m\"\u001b[39m,\n\u001b[32m      3\u001b[39m     driver=\u001b[33m\"\u001b[39m\u001b[33mGeoJSON\u001b[39m\u001b[33m\"\u001b[39m,\n\u001b[32m      4\u001b[39m )\n",
      "\u001b[31mNameError\u001b[39m: name 'geojson_gdf' is not defined"
     ]
    }
   ],
   "source": [
    "geojson_gdf.to_file(\n",
    "    \"./data/yurakucho-kanda.geojson\",\n",
    "    driver=\"GeoJSON\",\n",
    ")"
   ]
  },
  {
   "cell_type": "code",
   "execution_count": 11,
   "id": "5b310667",
   "metadata": {
    "execution": {
     "iopub.execute_input": "2025-08-31T17:19:50.457304Z",
     "iopub.status.busy": "2025-08-31T17:19:50.456966Z",
     "iopub.status.idle": "2025-08-31T17:19:50.616130Z",
     "shell.execute_reply": "2025-08-31T17:19:50.613418Z"
    }
   },
   "outputs": [],
   "source": [
    "# 生成したファイルを削除\n",
    "!rm -f ./data/yurakucho-kanda.geojson"
   ]
  },
  {
   "cell_type": "markdown",
   "id": "3b20ccac",
   "metadata": {},
   "source": [
    "## シェープファイル"
   ]
  },
  {
   "cell_type": "code",
   "execution_count": 12,
   "id": "545c87f7",
   "metadata": {
    "execution": {
     "iopub.execute_input": "2025-08-31T17:19:50.622296Z",
     "iopub.status.busy": "2025-08-31T17:19:50.621649Z",
     "iopub.status.idle": "2025-08-31T17:19:50.669238Z",
     "shell.execute_reply": "2025-08-31T17:19:50.667542Z"
    }
   },
   "outputs": [
    {
     "ename": "NameError",
     "evalue": "name 'gpd' is not defined",
     "output_type": "error",
     "traceback": [
      "\u001b[31m---------------------------------------------------------------------------\u001b[39m",
      "\u001b[31mNameError\u001b[39m                                 Traceback (most recent call last)",
      "\u001b[36mCell\u001b[39m\u001b[36m \u001b[39m\u001b[32mIn[12]\u001b[39m\u001b[32m, line 1\u001b[39m\n\u001b[32m----> \u001b[39m\u001b[32m1\u001b[39m shapefile_gdf = \u001b[43mgpd\u001b[49m.read_file(\u001b[33m\"\u001b[39m\u001b[33m./data/yurakucho\u001b[39m\u001b[33m\"\u001b[39m)\n\u001b[32m      2\u001b[39m shapefile_gdf\n",
      "\u001b[31mNameError\u001b[39m: name 'gpd' is not defined"
     ]
    }
   ],
   "source": [
    "shapefile_gdf = gpd.read_file(\"./data/yurakucho\")\n",
    "shapefile_gdf"
   ]
  },
  {
   "cell_type": "code",
   "execution_count": 13,
   "id": "5016cfcd",
   "metadata": {
    "execution": {
     "iopub.execute_input": "2025-08-31T17:19:50.673817Z",
     "iopub.status.busy": "2025-08-31T17:19:50.673258Z",
     "iopub.status.idle": "2025-08-31T17:19:50.718534Z",
     "shell.execute_reply": "2025-08-31T17:19:50.716511Z"
    }
   },
   "outputs": [
    {
     "ename": "NameError",
     "evalue": "name 'shapefile_gdf' is not defined",
     "output_type": "error",
     "traceback": [
      "\u001b[31m---------------------------------------------------------------------------\u001b[39m",
      "\u001b[31mNameError\u001b[39m                                 Traceback (most recent call last)",
      "\u001b[36mCell\u001b[39m\u001b[36m \u001b[39m\u001b[32mIn[13]\u001b[39m\u001b[32m, line 1\u001b[39m\n\u001b[32m----> \u001b[39m\u001b[32m1\u001b[39m \u001b[43mshapefile_gdf\u001b[49m.to_file(\u001b[33m\"\u001b[39m\u001b[33m./data/yurakucho\u001b[39m\u001b[33m\"\u001b[39m)\n",
      "\u001b[31mNameError\u001b[39m: name 'shapefile_gdf' is not defined"
     ]
    }
   ],
   "source": [
    "shapefile_gdf.to_file(\"./data/yurakucho\")"
   ]
  },
  {
   "cell_type": "markdown",
   "id": "5bde2f9e",
   "metadata": {},
   "source": [
    "## GeoTIFF"
   ]
  },
  {
   "cell_type": "code",
   "execution_count": 14,
   "id": "26a9c8c3",
   "metadata": {
    "execution": {
     "iopub.execute_input": "2025-08-31T17:19:50.723243Z",
     "iopub.status.busy": "2025-08-31T17:19:50.722761Z",
     "iopub.status.idle": "2025-08-31T17:19:50.757575Z",
     "shell.execute_reply": "2025-08-31T17:19:50.756396Z"
    }
   },
   "outputs": [
    {
     "ename": "ModuleNotFoundError",
     "evalue": "No module named 'rasterio'",
     "output_type": "error",
     "traceback": [
      "\u001b[31m---------------------------------------------------------------------------\u001b[39m",
      "\u001b[31mModuleNotFoundError\u001b[39m                       Traceback (most recent call last)",
      "\u001b[36mCell\u001b[39m\u001b[36m \u001b[39m\u001b[32mIn[14]\u001b[39m\u001b[32m, line 1\u001b[39m\n\u001b[32m----> \u001b[39m\u001b[32m1\u001b[39m \u001b[38;5;28;01mimport\u001b[39;00m\u001b[38;5;250m \u001b[39m\u001b[34;01mrasterio\u001b[39;00m\n\u001b[32m      3\u001b[39m dataset = rasterio.open(\u001b[33m\"\u001b[39m\u001b[33m./data/L03-b-14_5236.tif\u001b[39m\u001b[33m\"\u001b[39m)\n",
      "\u001b[31mModuleNotFoundError\u001b[39m: No module named 'rasterio'"
     ]
    }
   ],
   "source": [
    "import rasterio\n",
    "\n",
    "dataset = rasterio.open(\"./data/L03-b-14_5236.tif\")"
   ]
  },
  {
   "cell_type": "code",
   "execution_count": 15,
   "id": "13a7901d",
   "metadata": {
    "execution": {
     "iopub.execute_input": "2025-08-31T17:19:50.760526Z",
     "iopub.status.busy": "2025-08-31T17:19:50.760205Z",
     "iopub.status.idle": "2025-08-31T17:19:50.790724Z",
     "shell.execute_reply": "2025-08-31T17:19:50.789391Z"
    }
   },
   "outputs": [
    {
     "ename": "NameError",
     "evalue": "name 'dataset' is not defined",
     "output_type": "error",
     "traceback": [
      "\u001b[31m---------------------------------------------------------------------------\u001b[39m",
      "\u001b[31mNameError\u001b[39m                                 Traceback (most recent call last)",
      "\u001b[36mCell\u001b[39m\u001b[36m \u001b[39m\u001b[32mIn[15]\u001b[39m\u001b[32m, line 1\u001b[39m\n\u001b[32m----> \u001b[39m\u001b[32m1\u001b[39m \u001b[43mdataset\u001b[49m.bounds\n",
      "\u001b[31mNameError\u001b[39m: name 'dataset' is not defined"
     ]
    }
   ],
   "source": [
    "dataset.bounds"
   ]
  },
  {
   "cell_type": "code",
   "execution_count": 16,
   "id": "46c4da9b",
   "metadata": {
    "execution": {
     "iopub.execute_input": "2025-08-31T17:19:50.794819Z",
     "iopub.status.busy": "2025-08-31T17:19:50.793548Z",
     "iopub.status.idle": "2025-08-31T17:19:50.825060Z",
     "shell.execute_reply": "2025-08-31T17:19:50.823842Z"
    }
   },
   "outputs": [
    {
     "ename": "NameError",
     "evalue": "name 'dataset' is not defined",
     "output_type": "error",
     "traceback": [
      "\u001b[31m---------------------------------------------------------------------------\u001b[39m",
      "\u001b[31mNameError\u001b[39m                                 Traceback (most recent call last)",
      "\u001b[36mCell\u001b[39m\u001b[36m \u001b[39m\u001b[32mIn[16]\u001b[39m\u001b[32m, line 1\u001b[39m\n\u001b[32m----> \u001b[39m\u001b[32m1\u001b[39m \u001b[43mdataset\u001b[49m.crs\n",
      "\u001b[31mNameError\u001b[39m: name 'dataset' is not defined"
     ]
    }
   ],
   "source": [
    "dataset.crs"
   ]
  },
  {
   "cell_type": "code",
   "execution_count": 17,
   "id": "74c695eb-862d-4901-9c5c-94b312df5e7d",
   "metadata": {
    "execution": {
     "iopub.execute_input": "2025-08-31T17:19:50.828328Z",
     "iopub.status.busy": "2025-08-31T17:19:50.827895Z",
     "iopub.status.idle": "2025-08-31T17:19:50.860861Z",
     "shell.execute_reply": "2025-08-31T17:19:50.859417Z"
    }
   },
   "outputs": [
    {
     "ename": "NameError",
     "evalue": "name 'dataset' is not defined",
     "output_type": "error",
     "traceback": [
      "\u001b[31m---------------------------------------------------------------------------\u001b[39m",
      "\u001b[31mNameError\u001b[39m                                 Traceback (most recent call last)",
      "\u001b[36mCell\u001b[39m\u001b[36m \u001b[39m\u001b[32mIn[17]\u001b[39m\u001b[32m, line 1\u001b[39m\n\u001b[32m----> \u001b[39m\u001b[32m1\u001b[39m \u001b[38;5;28mtype\u001b[39m(\u001b[43mdataset\u001b[49m.crs)\n",
      "\u001b[31mNameError\u001b[39m: name 'dataset' is not defined"
     ]
    }
   ],
   "source": [
    "type(dataset.crs)"
   ]
  },
  {
   "cell_type": "code",
   "execution_count": 18,
   "id": "b6ac166f",
   "metadata": {
    "execution": {
     "iopub.execute_input": "2025-08-31T17:19:50.864046Z",
     "iopub.status.busy": "2025-08-31T17:19:50.863658Z",
     "iopub.status.idle": "2025-08-31T17:19:50.899200Z",
     "shell.execute_reply": "2025-08-31T17:19:50.897398Z"
    }
   },
   "outputs": [
    {
     "ename": "NameError",
     "evalue": "name 'dataset' is not defined",
     "output_type": "error",
     "traceback": [
      "\u001b[31m---------------------------------------------------------------------------\u001b[39m",
      "\u001b[31mNameError\u001b[39m                                 Traceback (most recent call last)",
      "\u001b[36mCell\u001b[39m\u001b[36m \u001b[39m\u001b[32mIn[18]\u001b[39m\u001b[32m, line 1\u001b[39m\n\u001b[32m----> \u001b[39m\u001b[32m1\u001b[39m \u001b[43mdataset\u001b[49m.indexes\n",
      "\u001b[31mNameError\u001b[39m: name 'dataset' is not defined"
     ]
    }
   ],
   "source": [
    "dataset.indexes"
   ]
  },
  {
   "cell_type": "code",
   "execution_count": 19,
   "id": "70104188",
   "metadata": {
    "execution": {
     "iopub.execute_input": "2025-08-31T17:19:50.903065Z",
     "iopub.status.busy": "2025-08-31T17:19:50.902644Z",
     "iopub.status.idle": "2025-08-31T17:19:50.939273Z",
     "shell.execute_reply": "2025-08-31T17:19:50.937923Z"
    }
   },
   "outputs": [
    {
     "ename": "NameError",
     "evalue": "name 'dataset' is not defined",
     "output_type": "error",
     "traceback": [
      "\u001b[31m---------------------------------------------------------------------------\u001b[39m",
      "\u001b[31mNameError\u001b[39m                                 Traceback (most recent call last)",
      "\u001b[36mCell\u001b[39m\u001b[36m \u001b[39m\u001b[32mIn[19]\u001b[39m\u001b[32m, line 1\u001b[39m\n\u001b[32m----> \u001b[39m\u001b[32m1\u001b[39m \u001b[43mdataset\u001b[49m.read(\u001b[32m1\u001b[39m)\n",
      "\u001b[31mNameError\u001b[39m: name 'dataset' is not defined"
     ]
    }
   ],
   "source": [
    "dataset.read(1)"
   ]
  },
  {
   "cell_type": "code",
   "execution_count": 20,
   "id": "8fb79c8f",
   "metadata": {
    "execution": {
     "iopub.execute_input": "2025-08-31T17:19:50.943224Z",
     "iopub.status.busy": "2025-08-31T17:19:50.942474Z",
     "iopub.status.idle": "2025-08-31T17:19:51.065709Z",
     "shell.execute_reply": "2025-08-31T17:19:51.064039Z"
    }
   },
   "outputs": [
    {
     "ename": "NameError",
     "evalue": "name 'dataset' is not defined",
     "output_type": "error",
     "traceback": [
      "\u001b[31m---------------------------------------------------------------------------\u001b[39m",
      "\u001b[31mNameError\u001b[39m                                 Traceback (most recent call last)",
      "\u001b[36mCell\u001b[39m\u001b[36m \u001b[39m\u001b[32mIn[20]\u001b[39m\u001b[32m, line 3\u001b[39m\n\u001b[32m      1\u001b[39m \u001b[38;5;28;01mfrom\u001b[39;00m\u001b[38;5;250m \u001b[39m\u001b[34;01mPIL\u001b[39;00m\u001b[38;5;250m \u001b[39m\u001b[38;5;28;01mimport\u001b[39;00m Image\n\u001b[32m----> \u001b[39m\u001b[32m3\u001b[39m Image.fromarray(\u001b[43mdataset\u001b[49m.read(\u001b[32m1\u001b[39m))\n",
      "\u001b[31mNameError\u001b[39m: name 'dataset' is not defined"
     ]
    }
   ],
   "source": [
    "from PIL import Image\n",
    "\n",
    "Image.fromarray(dataset.read(1))"
   ]
  }
 ],
 "metadata": {
  "kernelspec": {
   "display_name": "Python 3 (ipykernel)",
   "language": "python",
   "name": "python3"
  },
  "language_info": {
   "codemirror_mode": {
    "name": "ipython",
    "version": 3
   },
   "file_extension": ".py",
   "mimetype": "text/x-python",
   "name": "python",
   "nbconvert_exporter": "python",
   "pygments_lexer": "ipython3",
   "version": "3.12.3"
  }
 },
 "nbformat": 4,
 "nbformat_minor": 5
}
