{
 "cells": [
  {
   "cell_type": "markdown",
   "id": "f7561894",
   "metadata": {},
   "source": [
    "# 定性的評価（可視化）"
   ]
  },
  {
   "cell_type": "markdown",
   "id": "9b160726",
   "metadata": {},
   "source": [
    "### pandas.DataFrameの `plot()`"
   ]
  },
  {
   "cell_type": "code",
   "execution_count": 1,
   "id": "b4fc9a7e",
   "metadata": {
    "execution": {
     "iopub.execute_input": "2025-08-31T17:18:55.159299Z",
     "iopub.status.busy": "2025-08-31T17:18:55.158239Z",
     "iopub.status.idle": "2025-08-31T17:18:56.232123Z",
     "shell.execute_reply": "2025-08-31T17:18:56.230398Z"
    }
   },
   "outputs": [
    {
     "ename": "ImportError",
     "evalue": "Unable to find a usable engine; tried using: 'pyarrow', 'fastparquet'.\nA suitable version of pyarrow or fastparquet is required for parquet support.\nTrying to import the above resulted in these errors:\n - Missing optional dependency 'pyarrow'. pyarrow is required for parquet support. Use pip or conda to install pyarrow.\n - Missing optional dependency 'fastparquet'. fastparquet is required for parquet support. Use pip or conda to install fastparquet.",
     "output_type": "error",
     "traceback": [
      "\u001b[31m---------------------------------------------------------------------------\u001b[39m",
      "\u001b[31mImportError\u001b[39m                               Traceback (most recent call last)",
      "\u001b[36mCell\u001b[39m\u001b[36m \u001b[39m\u001b[32mIn[1]\u001b[39m\u001b[32m, line 3\u001b[39m\n\u001b[32m      1\u001b[39m \u001b[38;5;28;01mimport\u001b[39;00m\u001b[38;5;250m \u001b[39m\u001b[34;01mpandas\u001b[39;00m\u001b[38;5;250m \u001b[39m\u001b[38;5;28;01mas\u001b[39;00m\u001b[38;5;250m \u001b[39m\u001b[34;01mpd\u001b[39;00m\n\u001b[32m----> \u001b[39m\u001b[32m3\u001b[39m df = \u001b[43mpd\u001b[49m\u001b[43m.\u001b[49m\u001b[43mread_parquet\u001b[49m\u001b[43m(\u001b[49m\u001b[33;43m\"\u001b[39;49m\u001b[33;43mdata/penguins.parquet\u001b[39;49m\u001b[33;43m\"\u001b[39;49m\u001b[43m)\u001b[49m\n\u001b[32m      5\u001b[39m \u001b[38;5;66;03m# ペンギンのくちばしの長さ（横軸）とひれの長さ（縦軸）の散布図\u001b[39;00m\n\u001b[32m      6\u001b[39m df.plot(\n\u001b[32m      7\u001b[39m     x=\u001b[33m\"\u001b[39m\u001b[33mCulmen_Length\u001b[39m\u001b[33m\"\u001b[39m,\n\u001b[32m      8\u001b[39m     y=\u001b[33m\"\u001b[39m\u001b[33mFlipper_Length\u001b[39m\u001b[33m\"\u001b[39m,\n\u001b[32m      9\u001b[39m     kind=\u001b[33m\"\u001b[39m\u001b[33mscatter\u001b[39m\u001b[33m\"\u001b[39m,\n\u001b[32m     10\u001b[39m )\n",
      "\u001b[36mFile \u001b[39m\u001b[32m~/workspace/musashiuniv/musashiuniv_manuscript/.venv/lib/python3.12/site-packages/pandas/io/parquet.py:653\u001b[39m, in \u001b[36mread_parquet\u001b[39m\u001b[34m(path, engine, columns, storage_options, use_nullable_dtypes, dtype_backend, filesystem, filters, **kwargs)\u001b[39m\n\u001b[32m    500\u001b[39m \u001b[38;5;129m@doc\u001b[39m(storage_options=_shared_docs[\u001b[33m\"\u001b[39m\u001b[33mstorage_options\u001b[39m\u001b[33m\"\u001b[39m])\n\u001b[32m    501\u001b[39m \u001b[38;5;28;01mdef\u001b[39;00m\u001b[38;5;250m \u001b[39m\u001b[34mread_parquet\u001b[39m(\n\u001b[32m    502\u001b[39m     path: FilePath | ReadBuffer[\u001b[38;5;28mbytes\u001b[39m],\n\u001b[32m   (...)\u001b[39m\u001b[32m    510\u001b[39m     **kwargs,\n\u001b[32m    511\u001b[39m ) -> DataFrame:\n\u001b[32m    512\u001b[39m \u001b[38;5;250m    \u001b[39m\u001b[33;03m\"\"\"\u001b[39;00m\n\u001b[32m    513\u001b[39m \u001b[33;03m    Load a parquet object from the file path, returning a DataFrame.\u001b[39;00m\n\u001b[32m    514\u001b[39m \n\u001b[32m   (...)\u001b[39m\u001b[32m    650\u001b[39m \u001b[33;03m    1    4    9\u001b[39;00m\n\u001b[32m    651\u001b[39m \u001b[33;03m    \"\"\"\u001b[39;00m\n\u001b[32m--> \u001b[39m\u001b[32m653\u001b[39m     impl = \u001b[43mget_engine\u001b[49m\u001b[43m(\u001b[49m\u001b[43mengine\u001b[49m\u001b[43m)\u001b[49m\n\u001b[32m    655\u001b[39m     \u001b[38;5;28;01mif\u001b[39;00m use_nullable_dtypes \u001b[38;5;129;01mis\u001b[39;00m \u001b[38;5;129;01mnot\u001b[39;00m lib.no_default:\n\u001b[32m    656\u001b[39m         msg = (\n\u001b[32m    657\u001b[39m             \u001b[33m\"\u001b[39m\u001b[33mThe argument \u001b[39m\u001b[33m'\u001b[39m\u001b[33muse_nullable_dtypes\u001b[39m\u001b[33m'\u001b[39m\u001b[33m is deprecated and will be removed \u001b[39m\u001b[33m\"\u001b[39m\n\u001b[32m    658\u001b[39m             \u001b[33m\"\u001b[39m\u001b[33min a future version.\u001b[39m\u001b[33m\"\u001b[39m\n\u001b[32m    659\u001b[39m         )\n",
      "\u001b[36mFile \u001b[39m\u001b[32m~/workspace/musashiuniv/musashiuniv_manuscript/.venv/lib/python3.12/site-packages/pandas/io/parquet.py:68\u001b[39m, in \u001b[36mget_engine\u001b[39m\u001b[34m(engine)\u001b[39m\n\u001b[32m     65\u001b[39m         \u001b[38;5;28;01mexcept\u001b[39;00m \u001b[38;5;167;01mImportError\u001b[39;00m \u001b[38;5;28;01mas\u001b[39;00m err:\n\u001b[32m     66\u001b[39m             error_msgs += \u001b[33m\"\u001b[39m\u001b[38;5;130;01m\\n\u001b[39;00m\u001b[33m - \u001b[39m\u001b[33m\"\u001b[39m + \u001b[38;5;28mstr\u001b[39m(err)\n\u001b[32m---> \u001b[39m\u001b[32m68\u001b[39m     \u001b[38;5;28;01mraise\u001b[39;00m \u001b[38;5;167;01mImportError\u001b[39;00m(\n\u001b[32m     69\u001b[39m         \u001b[33m\"\u001b[39m\u001b[33mUnable to find a usable engine; \u001b[39m\u001b[33m\"\u001b[39m\n\u001b[32m     70\u001b[39m         \u001b[33m\"\u001b[39m\u001b[33mtried using: \u001b[39m\u001b[33m'\u001b[39m\u001b[33mpyarrow\u001b[39m\u001b[33m'\u001b[39m\u001b[33m, \u001b[39m\u001b[33m'\u001b[39m\u001b[33mfastparquet\u001b[39m\u001b[33m'\u001b[39m\u001b[33m.\u001b[39m\u001b[38;5;130;01m\\n\u001b[39;00m\u001b[33m\"\u001b[39m\n\u001b[32m     71\u001b[39m         \u001b[33m\"\u001b[39m\u001b[33mA suitable version of \u001b[39m\u001b[33m\"\u001b[39m\n\u001b[32m     72\u001b[39m         \u001b[33m\"\u001b[39m\u001b[33mpyarrow or fastparquet is required for parquet \u001b[39m\u001b[33m\"\u001b[39m\n\u001b[32m     73\u001b[39m         \u001b[33m\"\u001b[39m\u001b[33msupport.\u001b[39m\u001b[38;5;130;01m\\n\u001b[39;00m\u001b[33m\"\u001b[39m\n\u001b[32m     74\u001b[39m         \u001b[33m\"\u001b[39m\u001b[33mTrying to import the above resulted in these errors:\u001b[39m\u001b[33m\"\u001b[39m\n\u001b[32m     75\u001b[39m         \u001b[33mf\u001b[39m\u001b[33m\"\u001b[39m\u001b[38;5;132;01m{\u001b[39;00merror_msgs\u001b[38;5;132;01m}\u001b[39;00m\u001b[33m\"\u001b[39m\n\u001b[32m     76\u001b[39m     )\n\u001b[32m     78\u001b[39m \u001b[38;5;28;01mif\u001b[39;00m engine == \u001b[33m\"\u001b[39m\u001b[33mpyarrow\u001b[39m\u001b[33m\"\u001b[39m:\n\u001b[32m     79\u001b[39m     \u001b[38;5;28;01mreturn\u001b[39;00m PyArrowImpl()\n",
      "\u001b[31mImportError\u001b[39m: Unable to find a usable engine; tried using: 'pyarrow', 'fastparquet'.\nA suitable version of pyarrow or fastparquet is required for parquet support.\nTrying to import the above resulted in these errors:\n - Missing optional dependency 'pyarrow'. pyarrow is required for parquet support. Use pip or conda to install pyarrow.\n - Missing optional dependency 'fastparquet'. fastparquet is required for parquet support. Use pip or conda to install fastparquet."
     ]
    }
   ],
   "source": [
    "import pandas as pd\n",
    "\n",
    "df = pd.read_parquet(\"data/penguins.parquet\")\n",
    "\n",
    "# ペンギンのくちばしの長さ（横軸）とひれの長さ（縦軸）の散布図\n",
    "df.plot(\n",
    "    x=\"Culmen_Length\",\n",
    "    y=\"Flipper_Length\",\n",
    "    kind=\"scatter\",\n",
    ")"
   ]
  },
  {
   "cell_type": "markdown",
   "id": "44da1dce",
   "metadata": {},
   "source": [
    "### Matplotlibを使ったグラフ描画"
   ]
  },
  {
   "cell_type": "code",
   "execution_count": 2,
   "id": "1cd54da0",
   "metadata": {
    "execution": {
     "iopub.execute_input": "2025-08-31T17:18:56.236462Z",
     "iopub.status.busy": "2025-08-31T17:18:56.236030Z",
     "iopub.status.idle": "2025-08-31T17:18:57.436432Z",
     "shell.execute_reply": "2025-08-31T17:18:57.434691Z"
    }
   },
   "outputs": [
    {
     "ename": "NameError",
     "evalue": "name 'df' is not defined",
     "output_type": "error",
     "traceback": [
      "\u001b[31m---------------------------------------------------------------------------\u001b[39m",
      "\u001b[31mNameError\u001b[39m                                 Traceback (most recent call last)",
      "\u001b[36mCell\u001b[39m\u001b[36m \u001b[39m\u001b[32mIn[2]\u001b[39m\u001b[32m, line 8\u001b[39m\n\u001b[32m      4\u001b[39m _, ax = plt.subplots()\n\u001b[32m      6\u001b[39m \u001b[38;5;66;03m# くちばしの長さ（横軸）とひれの長さ（縦軸）の散布図\u001b[39;00m\n\u001b[32m      7\u001b[39m ax.scatter(\n\u001b[32m----> \u001b[39m\u001b[32m8\u001b[39m     x=\u001b[43mdf\u001b[49m.loc[:, \u001b[33m\"\u001b[39m\u001b[33mCulmen_Length\u001b[39m\u001b[33m\"\u001b[39m],\n\u001b[32m      9\u001b[39m     y=df.loc[:, \u001b[33m\"\u001b[39m\u001b[33mFlipper_Length\u001b[39m\u001b[33m\"\u001b[39m],\n\u001b[32m     10\u001b[39m )\n\u001b[32m     11\u001b[39m plt.show()\n",
      "\u001b[31mNameError\u001b[39m: name 'df' is not defined"
     ]
    },
    {
     "data": {
      "image/png": "[encoded data removed]",
      "text/plain": [
       "<Figure size 640x480 with 1 Axes>"
      ]
     },
     "metadata": {},
     "output_type": "display_data"
    }
   ],
   "source": [
    "import matplotlib.pyplot as plt\n",
    "\n",
    "# 準備（subplotsコンストラクターを呼び出してAxesクラスのインスタンスを生成）\n",
    "_, ax = plt.subplots()\n",
    "\n",
    "# くちばしの長さ（横軸）とひれの長さ（縦軸）の散布図\n",
    "ax.scatter(\n",
    "    x=df.loc[:, \"Culmen_Length\"],\n",
    "    y=df.loc[:, \"Flipper_Length\"],\n",
    ")\n",
    "plt.show()"
   ]
  },
  {
   "cell_type": "markdown",
   "id": "de6d953e",
   "metadata": {},
   "source": [
    "### Plotlyを使ったグラフ描画"
   ]
  },
  {
   "cell_type": "code",
   "execution_count": 3,
   "id": "a6564cf1",
   "metadata": {
    "execution": {
     "iopub.execute_input": "2025-08-31T17:18:57.441016Z",
     "iopub.status.busy": "2025-08-31T17:18:57.440068Z",
     "iopub.status.idle": "2025-08-31T17:18:57.486057Z",
     "shell.execute_reply": "2025-08-31T17:18:57.484611Z"
    }
   },
   "outputs": [
    {
     "ename": "ModuleNotFoundError",
     "evalue": "No module named 'plotly'",
     "output_type": "error",
     "traceback": [
      "\u001b[31m---------------------------------------------------------------------------\u001b[39m",
      "\u001b[31mModuleNotFoundError\u001b[39m                       Traceback (most recent call last)",
      "\u001b[36mCell\u001b[39m\u001b[36m \u001b[39m\u001b[32mIn[3]\u001b[39m\u001b[32m, line 1\u001b[39m\n\u001b[32m----> \u001b[39m\u001b[32m1\u001b[39m \u001b[38;5;28;01mimport\u001b[39;00m\u001b[38;5;250m \u001b[39m\u001b[34;01mplotly\u001b[39;00m\u001b[34;01m.\u001b[39;00m\u001b[34;01mexpress\u001b[39;00m\u001b[38;5;250m \u001b[39m\u001b[38;5;28;01mas\u001b[39;00m\u001b[38;5;250m \u001b[39m\u001b[34;01mpx\u001b[39;00m\n\u001b[32m      3\u001b[39m \u001b[38;5;66;03m# くちばしの長さ（横軸）とひれの長さ（縦軸）の散布図\u001b[39;00m\n\u001b[32m      4\u001b[39m px.scatter(\n\u001b[32m      5\u001b[39m     df,\n\u001b[32m      6\u001b[39m     x=\u001b[33m\"\u001b[39m\u001b[33mCulmen_Length\u001b[39m\u001b[33m\"\u001b[39m,\n\u001b[32m      7\u001b[39m     y=\u001b[33m\"\u001b[39m\u001b[33mFlipper_Length\u001b[39m\u001b[33m\"\u001b[39m,\n\u001b[32m      8\u001b[39m )\n",
      "\u001b[31mModuleNotFoundError\u001b[39m: No module named 'plotly'"
     ]
    }
   ],
   "source": [
    "import plotly.express as px\n",
    "\n",
    "# くちばしの長さ（横軸）とひれの長さ（縦軸）の散布図\n",
    "px.scatter(\n",
    "    df,\n",
    "    x=\"Culmen_Length\",\n",
    "    y=\"Flipper_Length\",\n",
    ")"
   ]
  },
  {
   "cell_type": "markdown",
   "id": "b9885123",
   "metadata": {},
   "source": [
    "## グラフの種類"
   ]
  },
  {
   "cell_type": "markdown",
   "id": "63da71ab",
   "metadata": {},
   "source": [
    "### 散布図"
   ]
  },
  {
   "cell_type": "code",
   "execution_count": 4,
   "id": "4b6d1a62",
   "metadata": {
    "execution": {
     "iopub.execute_input": "2025-08-31T17:18:57.490263Z",
     "iopub.status.busy": "2025-08-31T17:18:57.489718Z",
     "iopub.status.idle": "2025-08-31T17:18:57.534717Z",
     "shell.execute_reply": "2025-08-31T17:18:57.532793Z"
    }
   },
   "outputs": [
    {
     "ename": "NameError",
     "evalue": "name 'px' is not defined",
     "output_type": "error",
     "traceback": [
      "\u001b[31m---------------------------------------------------------------------------\u001b[39m",
      "\u001b[31mNameError\u001b[39m                                 Traceback (most recent call last)",
      "\u001b[36mCell\u001b[39m\u001b[36m \u001b[39m\u001b[32mIn[4]\u001b[39m\u001b[32m, line 2\u001b[39m\n\u001b[32m      1\u001b[39m \u001b[38;5;66;03m# くちばしの長さ（横軸）とひれの長さ（縦軸）の散布図\u001b[39;00m\n\u001b[32m----> \u001b[39m\u001b[32m2\u001b[39m \u001b[43mpx\u001b[49m.scatter(\n\u001b[32m      3\u001b[39m     df,\n\u001b[32m      4\u001b[39m     x=\u001b[33m\"\u001b[39m\u001b[33mCulmen_Length\u001b[39m\u001b[33m\"\u001b[39m,\n\u001b[32m      5\u001b[39m     y=\u001b[33m\"\u001b[39m\u001b[33mFlipper_Length\u001b[39m\u001b[33m\"\u001b[39m,\n\u001b[32m      6\u001b[39m )\n",
      "\u001b[31mNameError\u001b[39m: name 'px' is not defined"
     ]
    }
   ],
   "source": [
    "# くちばしの長さ（横軸）とひれの長さ（縦軸）の散布図\n",
    "px.scatter(\n",
    "    df,\n",
    "    x=\"Culmen_Length\",\n",
    "    y=\"Flipper_Length\",\n",
    ")"
   ]
  },
  {
   "cell_type": "code",
   "execution_count": 5,
   "id": "318555f7",
   "metadata": {
    "execution": {
     "iopub.execute_input": "2025-08-31T17:18:57.540355Z",
     "iopub.status.busy": "2025-08-31T17:18:57.539351Z",
     "iopub.status.idle": "2025-08-31T17:18:57.587651Z",
     "shell.execute_reply": "2025-08-31T17:18:57.585992Z"
    }
   },
   "outputs": [
    {
     "ename": "NameError",
     "evalue": "name 'px' is not defined",
     "output_type": "error",
     "traceback": [
      "\u001b[31m---------------------------------------------------------------------------\u001b[39m",
      "\u001b[31mNameError\u001b[39m                                 Traceback (most recent call last)",
      "\u001b[36mCell\u001b[39m\u001b[36m \u001b[39m\u001b[32mIn[5]\u001b[39m\u001b[32m, line 1\u001b[39m\n\u001b[32m----> \u001b[39m\u001b[32m1\u001b[39m \u001b[43mpx\u001b[49m.scatter(\n\u001b[32m      2\u001b[39m     df,\n\u001b[32m      3\u001b[39m     x=\u001b[33m\"\u001b[39m\u001b[33mCulmen_Length\u001b[39m\u001b[33m\"\u001b[39m,\n\u001b[32m      4\u001b[39m     y=\u001b[33m\"\u001b[39m\u001b[33mFlipper_Length\u001b[39m\u001b[33m\"\u001b[39m,\n\u001b[32m      5\u001b[39m     color=\u001b[33m\"\u001b[39m\u001b[33mSpecies_short\u001b[39m\u001b[33m\"\u001b[39m,\n\u001b[32m      6\u001b[39m     color_discrete_sequence=px.colors.qualitative.Dark2,\n\u001b[32m      7\u001b[39m     symbol=\u001b[33m\"\u001b[39m\u001b[33mSpecies_short\u001b[39m\u001b[33m\"\u001b[39m,\n\u001b[32m      8\u001b[39m )\n",
      "\u001b[31mNameError\u001b[39m: name 'px' is not defined"
     ]
    }
   ],
   "source": [
    "px.scatter(\n",
    "    df,\n",
    "    x=\"Culmen_Length\",\n",
    "    y=\"Flipper_Length\",\n",
    "    color=\"Species_short\",\n",
    "    color_discrete_sequence=px.colors.qualitative.Dark2,\n",
    "    symbol=\"Species_short\",\n",
    ")"
   ]
  },
  {
   "cell_type": "markdown",
   "id": "ee70f847",
   "metadata": {},
   "source": [
    "### 折れ線グラフ"
   ]
  },
  {
   "cell_type": "markdown",
   "id": "f6689899",
   "metadata": {},
   "source": [
    "#### 平均体重の計算"
   ]
  },
  {
   "cell_type": "code",
   "execution_count": 6,
   "id": "7df9e905",
   "metadata": {
    "execution": {
     "iopub.execute_input": "2025-08-31T17:18:57.593531Z",
     "iopub.status.busy": "2025-08-31T17:18:57.592152Z",
     "iopub.status.idle": "2025-08-31T17:18:57.715062Z",
     "shell.execute_reply": "2025-08-31T17:18:57.712116Z"
    }
   },
   "outputs": [
    {
     "ename": "NameError",
     "evalue": "name 'df' is not defined",
     "output_type": "error",
     "traceback": [
      "\u001b[31m---------------------------------------------------------------------------\u001b[39m",
      "\u001b[31mNameError\u001b[39m                                 Traceback (most recent call last)",
      "\u001b[36mCell\u001b[39m\u001b[36m \u001b[39m\u001b[32mIn[6]\u001b[39m\u001b[32m, line 2\u001b[39m\n\u001b[32m      1\u001b[39m df_avg_weight_year = (\n\u001b[32m----> \u001b[39m\u001b[32m2\u001b[39m     \u001b[43mdf\u001b[49m.assign(year=df.loc[:, \u001b[33m\"\u001b[39m\u001b[33mDate_Egg\u001b[39m\u001b[33m\"\u001b[39m].dt.to_period(\u001b[33m\"\u001b[39m\u001b[33mY\u001b[39m\u001b[33m\"\u001b[39m))\n\u001b[32m      3\u001b[39m     .groupby([\u001b[33m\"\u001b[39m\u001b[33mSpecies_short\u001b[39m\u001b[33m\"\u001b[39m, \u001b[33m\"\u001b[39m\u001b[33myear\u001b[39m\u001b[33m\"\u001b[39m], as_index=\u001b[38;5;28;01mFalse\u001b[39;00m)[\u001b[33m\"\u001b[39m\u001b[33mBody_Mass\u001b[39m\u001b[33m\"\u001b[39m]\n\u001b[32m      4\u001b[39m     .mean()\n\u001b[32m      5\u001b[39m )\n\u001b[32m      6\u001b[39m df_avg_weight_year\n",
      "\u001b[31mNameError\u001b[39m: name 'df' is not defined"
     ]
    }
   ],
   "source": [
    "df_avg_weight_year = (\n",
    "    df.assign(year=df.loc[:, \"Date_Egg\"].dt.to_period(\"Y\"))\n",
    "    .groupby([\"Species_short\", \"year\"], as_index=False)[\"Body_Mass\"]\n",
    "    .mean()\n",
    ")\n",
    "df_avg_weight_year"
   ]
  },
  {
   "cell_type": "markdown",
   "id": "fdf760ea",
   "metadata": {},
   "source": [
    "#### 折れ線グラフの描画"
   ]
  },
  {
   "cell_type": "code",
   "execution_count": 7,
   "id": "39fb119c",
   "metadata": {
    "execution": {
     "iopub.execute_input": "2025-08-31T17:18:57.719465Z",
     "iopub.status.busy": "2025-08-31T17:18:57.719019Z",
     "iopub.status.idle": "2025-08-31T17:18:57.770220Z",
     "shell.execute_reply": "2025-08-31T17:18:57.768237Z"
    }
   },
   "outputs": [
    {
     "ename": "NameError",
     "evalue": "name 'px' is not defined",
     "output_type": "error",
     "traceback": [
      "\u001b[31m---------------------------------------------------------------------------\u001b[39m",
      "\u001b[31mNameError\u001b[39m                                 Traceback (most recent call last)",
      "\u001b[36mCell\u001b[39m\u001b[36m \u001b[39m\u001b[32mIn[7]\u001b[39m\u001b[32m, line 1\u001b[39m\n\u001b[32m----> \u001b[39m\u001b[32m1\u001b[39m fig_line = \u001b[43mpx\u001b[49m.line(\n\u001b[32m      2\u001b[39m     df_avg_weight_year.assign(\n\u001b[32m      3\u001b[39m         year=\u001b[38;5;28;01mlambda\u001b[39;00m x: x.loc[:, \u001b[33m\"\u001b[39m\u001b[33myear\u001b[39m\u001b[33m\"\u001b[39m].dt.to_timestamp()\n\u001b[32m      4\u001b[39m     ),\n\u001b[32m      5\u001b[39m     x=\u001b[33m\"\u001b[39m\u001b[33myear\u001b[39m\u001b[33m\"\u001b[39m,\n\u001b[32m      6\u001b[39m     y=\u001b[33m\"\u001b[39m\u001b[33mBody_Mass\u001b[39m\u001b[33m\"\u001b[39m,\n\u001b[32m      7\u001b[39m     color=\u001b[33m\"\u001b[39m\u001b[33mSpecies_short\u001b[39m\u001b[33m\"\u001b[39m,\n\u001b[32m      8\u001b[39m     color_discrete_sequence=px.colors.qualitative.Dark2,\n\u001b[32m      9\u001b[39m     line_dash=\u001b[33m\"\u001b[39m\u001b[33mSpecies_short\u001b[39m\u001b[33m\"\u001b[39m,\n\u001b[32m     10\u001b[39m     symbol=\u001b[33m\"\u001b[39m\u001b[33mSpecies_short\u001b[39m\u001b[33m\"\u001b[39m,\n\u001b[32m     11\u001b[39m )\n\u001b[32m     13\u001b[39m fig_line.update_yaxes(rangemode=\u001b[33m\"\u001b[39m\u001b[33mtozero\u001b[39m\u001b[33m\"\u001b[39m)  \u001b[38;5;66;03m# 縦軸の最小値を0にする\u001b[39;00m\n\u001b[32m     14\u001b[39m fig_line.update_xaxes(\n\u001b[32m     15\u001b[39m     tickformat=\u001b[33m\"\u001b[39m\u001b[33m%\u001b[39m\u001b[33mY\u001b[39m\u001b[33m\"\u001b[39m, dtick=\u001b[33m\"\u001b[39m\u001b[33mM12\u001b[39m\u001b[33m\"\u001b[39m\n\u001b[32m     16\u001b[39m )  \u001b[38;5;66;03m# 目盛に年だけを表示し、間隔を12か月に設定\u001b[39;00m\n",
      "\u001b[31mNameError\u001b[39m: name 'px' is not defined"
     ]
    }
   ],
   "source": [
    "fig_line = px.line(\n",
    "    df_avg_weight_year.assign(\n",
    "        year=lambda x: x.loc[:, \"year\"].dt.to_timestamp()\n",
    "    ),\n",
    "    x=\"year\",\n",
    "    y=\"Body_Mass\",\n",
    "    color=\"Species_short\",\n",
    "    color_discrete_sequence=px.colors.qualitative.Dark2,\n",
    "    line_dash=\"Species_short\",\n",
    "    symbol=\"Species_short\",\n",
    ")\n",
    "\n",
    "fig_line.update_yaxes(rangemode=\"tozero\")  # 縦軸の最小値を0にする\n",
    "fig_line.update_xaxes(\n",
    "    tickformat=\"%Y\", dtick=\"M12\"\n",
    ")  # 目盛に年だけを表示し、間隔を12か月に設定\n",
    "fig_line.show()"
   ]
  },
  {
   "cell_type": "markdown",
   "id": "a1b0ac7c",
   "metadata": {},
   "source": [
    "### 棒グラフ"
   ]
  },
  {
   "cell_type": "markdown",
   "id": "0c207a4a",
   "metadata": {},
   "source": [
    "#### 平均体重の計算"
   ]
  },
  {
   "cell_type": "code",
   "execution_count": 8,
   "id": "b339f560",
   "metadata": {
    "execution": {
     "iopub.execute_input": "2025-08-31T17:18:57.774567Z",
     "iopub.status.busy": "2025-08-31T17:18:57.774117Z",
     "iopub.status.idle": "2025-08-31T17:18:57.817124Z",
     "shell.execute_reply": "2025-08-31T17:18:57.815266Z"
    }
   },
   "outputs": [
    {
     "ename": "NameError",
     "evalue": "name 'df' is not defined",
     "output_type": "error",
     "traceback": [
      "\u001b[31m---------------------------------------------------------------------------\u001b[39m",
      "\u001b[31mNameError\u001b[39m                                 Traceback (most recent call last)",
      "\u001b[36mCell\u001b[39m\u001b[36m \u001b[39m\u001b[32mIn[8]\u001b[39m\u001b[32m, line 1\u001b[39m\n\u001b[32m----> \u001b[39m\u001b[32m1\u001b[39m df_avg_weight_island = \u001b[43mdf\u001b[49m.groupby(\n\u001b[32m      2\u001b[39m     [\u001b[33m\"\u001b[39m\u001b[33mSpecies_short\u001b[39m\u001b[33m\"\u001b[39m, \u001b[33m\"\u001b[39m\u001b[33mIsland\u001b[39m\u001b[33m\"\u001b[39m], as_index=\u001b[38;5;28;01mFalse\u001b[39;00m\n\u001b[32m      3\u001b[39m )[\u001b[33m\"\u001b[39m\u001b[33mBody_Mass\u001b[39m\u001b[33m\"\u001b[39m].mean()\n\u001b[32m      4\u001b[39m df_avg_weight_island\n",
      "\u001b[31mNameError\u001b[39m: name 'df' is not defined"
     ]
    }
   ],
   "source": [
    "df_avg_weight_island = df.groupby(\n",
    "    [\"Species_short\", \"Island\"], as_index=False\n",
    ")[\"Body_Mass\"].mean()\n",
    "df_avg_weight_island"
   ]
  },
  {
   "cell_type": "markdown",
   "id": "359c39ec",
   "metadata": {},
   "source": [
    "#### 棒グラフの描画"
   ]
  },
  {
   "cell_type": "code",
   "execution_count": 9,
   "id": "3588a1b7",
   "metadata": {
    "execution": {
     "iopub.execute_input": "2025-08-31T17:18:57.821499Z",
     "iopub.status.busy": "2025-08-31T17:18:57.820959Z",
     "iopub.status.idle": "2025-08-31T17:18:57.866158Z",
     "shell.execute_reply": "2025-08-31T17:18:57.864321Z"
    }
   },
   "outputs": [
    {
     "ename": "NameError",
     "evalue": "name 'px' is not defined",
     "output_type": "error",
     "traceback": [
      "\u001b[31m---------------------------------------------------------------------------\u001b[39m",
      "\u001b[31mNameError\u001b[39m                                 Traceback (most recent call last)",
      "\u001b[36mCell\u001b[39m\u001b[36m \u001b[39m\u001b[32mIn[9]\u001b[39m\u001b[32m, line 1\u001b[39m\n\u001b[32m----> \u001b[39m\u001b[32m1\u001b[39m \u001b[43mpx\u001b[49m.bar(\n\u001b[32m      2\u001b[39m     df_avg_weight_island,\n\u001b[32m      3\u001b[39m     x=\u001b[33m\"\u001b[39m\u001b[33mSpecies_short\u001b[39m\u001b[33m\"\u001b[39m,\n\u001b[32m      4\u001b[39m     y=\u001b[33m\"\u001b[39m\u001b[33mBody_Mass\u001b[39m\u001b[33m\"\u001b[39m,\n\u001b[32m      5\u001b[39m     color=\u001b[33m\"\u001b[39m\u001b[33mIsland\u001b[39m\u001b[33m\"\u001b[39m,\n\u001b[32m      6\u001b[39m     color_discrete_sequence=px.colors.qualitative.Dark2,\n\u001b[32m      7\u001b[39m     pattern_shape=\u001b[33m\"\u001b[39m\u001b[33mIsland\u001b[39m\u001b[33m\"\u001b[39m,\n\u001b[32m      8\u001b[39m     barmode=\u001b[33m\"\u001b[39m\u001b[33mgroup\u001b[39m\u001b[33m\"\u001b[39m,\n\u001b[32m      9\u001b[39m )\n",
      "\u001b[31mNameError\u001b[39m: name 'px' is not defined"
     ]
    }
   ],
   "source": [
    "px.bar(\n",
    "    df_avg_weight_island,\n",
    "    x=\"Species_short\",\n",
    "    y=\"Body_Mass\",\n",
    "    color=\"Island\",\n",
    "    color_discrete_sequence=px.colors.qualitative.Dark2,\n",
    "    pattern_shape=\"Island\",\n",
    "    barmode=\"group\",\n",
    ")"
   ]
  },
  {
   "cell_type": "markdown",
   "id": "65336509",
   "metadata": {},
   "source": [
    "### ヒストグラム"
   ]
  },
  {
   "cell_type": "code",
   "execution_count": 10,
   "id": "b909081a",
   "metadata": {
    "execution": {
     "iopub.execute_input": "2025-08-31T17:18:57.871456Z",
     "iopub.status.busy": "2025-08-31T17:18:57.869968Z",
     "iopub.status.idle": "2025-08-31T17:18:57.913390Z",
     "shell.execute_reply": "2025-08-31T17:18:57.911580Z"
    }
   },
   "outputs": [
    {
     "ename": "NameError",
     "evalue": "name 'px' is not defined",
     "output_type": "error",
     "traceback": [
      "\u001b[31m---------------------------------------------------------------------------\u001b[39m",
      "\u001b[31mNameError\u001b[39m                                 Traceback (most recent call last)",
      "\u001b[36mCell\u001b[39m\u001b[36m \u001b[39m\u001b[32mIn[10]\u001b[39m\u001b[32m, line 1\u001b[39m\n\u001b[32m----> \u001b[39m\u001b[32m1\u001b[39m \u001b[43mpx\u001b[49m.histogram(\n\u001b[32m      2\u001b[39m     df,\n\u001b[32m      3\u001b[39m     x=\u001b[33m\"\u001b[39m\u001b[33mBody_Mass\u001b[39m\u001b[33m\"\u001b[39m,\n\u001b[32m      4\u001b[39m     color=\u001b[33m\"\u001b[39m\u001b[33mSpecies_short\u001b[39m\u001b[33m\"\u001b[39m,\n\u001b[32m      5\u001b[39m     color_discrete_sequence=px.colors.qualitative.Dark2,\n\u001b[32m      6\u001b[39m     pattern_shape=\u001b[33m\"\u001b[39m\u001b[33mSpecies_short\u001b[39m\u001b[33m\"\u001b[39m,\n\u001b[32m      7\u001b[39m     opacity=\u001b[32m0.7\u001b[39m,\n\u001b[32m      8\u001b[39m     barmode=\u001b[33m\"\u001b[39m\u001b[33moverlay\u001b[39m\u001b[33m\"\u001b[39m,\n\u001b[32m      9\u001b[39m )\n",
      "\u001b[31mNameError\u001b[39m: name 'px' is not defined"
     ]
    }
   ],
   "source": [
    "px.histogram(\n",
    "    df,\n",
    "    x=\"Body_Mass\",\n",
    "    color=\"Species_short\",\n",
    "    color_discrete_sequence=px.colors.qualitative.Dark2,\n",
    "    pattern_shape=\"Species_short\",\n",
    "    opacity=0.7,\n",
    "    barmode=\"overlay\",\n",
    ")"
   ]
  },
  {
   "cell_type": "code",
   "execution_count": 11,
   "id": "d305a6c5",
   "metadata": {
    "execution": {
     "iopub.execute_input": "2025-08-31T17:18:57.918623Z",
     "iopub.status.busy": "2025-08-31T17:18:57.918159Z",
     "iopub.status.idle": "2025-08-31T17:18:57.961419Z",
     "shell.execute_reply": "2025-08-31T17:18:57.959750Z"
    }
   },
   "outputs": [
    {
     "ename": "NameError",
     "evalue": "name 'px' is not defined",
     "output_type": "error",
     "traceback": [
      "\u001b[31m---------------------------------------------------------------------------\u001b[39m",
      "\u001b[31mNameError\u001b[39m                                 Traceback (most recent call last)",
      "\u001b[36mCell\u001b[39m\u001b[36m \u001b[39m\u001b[32mIn[11]\u001b[39m\u001b[32m, line 2\u001b[39m\n\u001b[32m      1\u001b[39m \u001b[38;5;66;03m# 種ごとのヒストグラムを横に並べる\u001b[39;00m\n\u001b[32m----> \u001b[39m\u001b[32m2\u001b[39m fig_col = \u001b[43mpx\u001b[49m.histogram(\n\u001b[32m      3\u001b[39m     df,\n\u001b[32m      4\u001b[39m     x=\u001b[33m\"\u001b[39m\u001b[33mBody_Mass\u001b[39m\u001b[33m\"\u001b[39m,\n\u001b[32m      5\u001b[39m     facet_col=\u001b[33m\"\u001b[39m\u001b[33mSpecies_short\u001b[39m\u001b[33m\"\u001b[39m,\n\u001b[32m      6\u001b[39m )\n",
      "\u001b[31mNameError\u001b[39m: name 'px' is not defined"
     ]
    }
   ],
   "source": [
    "# 種ごとのヒストグラムを横に並べる\n",
    "fig_col = px.histogram(\n",
    "    df,\n",
    "    x=\"Body_Mass\",\n",
    "    facet_col=\"Species_short\",\n",
    ")"
   ]
  },
  {
   "cell_type": "code",
   "execution_count": 12,
   "id": "6c08e095",
   "metadata": {
    "execution": {
     "iopub.execute_input": "2025-08-31T17:18:57.965926Z",
     "iopub.status.busy": "2025-08-31T17:18:57.965397Z",
     "iopub.status.idle": "2025-08-31T17:18:58.014611Z",
     "shell.execute_reply": "2025-08-31T17:18:58.013022Z"
    }
   },
   "outputs": [
    {
     "ename": "NameError",
     "evalue": "name 'fig_col' is not defined",
     "output_type": "error",
     "traceback": [
      "\u001b[31m---------------------------------------------------------------------------\u001b[39m",
      "\u001b[31mNameError\u001b[39m                                 Traceback (most recent call last)",
      "\u001b[36mCell\u001b[39m\u001b[36m \u001b[39m\u001b[32mIn[12]\u001b[39m\u001b[32m, line 6\u001b[39m\n\u001b[32m      1\u001b[39m \u001b[38;5;28;01mimport\u001b[39;00m\u001b[38;5;250m \u001b[39m\u001b[34;01mre\u001b[39;00m\n\u001b[32m      3\u001b[39m RE_TITLE = re.compile(\n\u001b[32m      4\u001b[39m     \u001b[33mr\u001b[39m\u001b[33m\"\u001b[39m\u001b[33m(?<=Species_short=).+\u001b[39m\u001b[33m\"\u001b[39m\n\u001b[32m      5\u001b[39m )  \u001b[38;5;66;03m# 「Species_short=」に続く任意の文字列にマッチ\u001b[39;00m\n\u001b[32m----> \u001b[39m\u001b[32m6\u001b[39m \u001b[43mfig_col\u001b[49m.for_each_annotation(\n\u001b[32m      7\u001b[39m     \u001b[38;5;28;01mlambda\u001b[39;00m a: a.update(text=re.search(RE_TITLE, a.text)[\u001b[32m0\u001b[39m])\n\u001b[32m      8\u001b[39m )\n\u001b[32m      9\u001b[39m fig_col.show()\n",
      "\u001b[31mNameError\u001b[39m: name 'fig_col' is not defined"
     ]
    }
   ],
   "source": [
    "import re\n",
    "\n",
    "RE_TITLE = re.compile(\n",
    "    r\"(?<=Species_short=).+\"\n",
    ")  # 「Species_short=」に続く任意の文字列にマッチ\n",
    "fig_col.for_each_annotation(\n",
    "    lambda a: a.update(text=re.search(RE_TITLE, a.text)[0])\n",
    ")\n",
    "fig_col.show()"
   ]
  },
  {
   "cell_type": "code",
   "execution_count": 13,
   "id": "1a3549d0",
   "metadata": {
    "execution": {
     "iopub.execute_input": "2025-08-31T17:18:58.018785Z",
     "iopub.status.busy": "2025-08-31T17:18:58.018309Z",
     "iopub.status.idle": "2025-08-31T17:18:58.070259Z",
     "shell.execute_reply": "2025-08-31T17:18:58.068300Z"
    }
   },
   "outputs": [
    {
     "ename": "ModuleNotFoundError",
     "evalue": "No module named 'plotly'",
     "output_type": "error",
     "traceback": [
      "\u001b[31m---------------------------------------------------------------------------\u001b[39m",
      "\u001b[31mModuleNotFoundError\u001b[39m                       Traceback (most recent call last)",
      "\u001b[36mCell\u001b[39m\u001b[36m \u001b[39m\u001b[32mIn[13]\u001b[39m\u001b[32m, line 1\u001b[39m\n\u001b[32m----> \u001b[39m\u001b[32m1\u001b[39m \u001b[38;5;28;01mimport\u001b[39;00m\u001b[38;5;250m \u001b[39m\u001b[34;01mplotly\u001b[39;00m\u001b[34;01m.\u001b[39;00m\u001b[34;01mgraph_objects\u001b[39;00m\u001b[38;5;250m \u001b[39m\u001b[38;5;28;01mas\u001b[39;00m\u001b[38;5;250m \u001b[39m\u001b[34;01mgo\u001b[39;00m\n\u001b[32m      3\u001b[39m fig_col_notshared = go.Figure(fig_col)  \u001b[38;5;66;03m# 元のオブジェクトをコピー\u001b[39;00m\n\u001b[32m      5\u001b[39m fig_col_notshared.update_xaxes(matches=\u001b[38;5;28;01mNone\u001b[39;00m)\n",
      "\u001b[31mModuleNotFoundError\u001b[39m: No module named 'plotly'"
     ]
    }
   ],
   "source": [
    "import plotly.graph_objects as go\n",
    "\n",
    "fig_col_notshared = go.Figure(fig_col)  # 元のオブジェクトをコピー\n",
    "\n",
    "fig_col_notshared.update_xaxes(matches=None)\n",
    "fig_col_notshared.update_yaxes(matches=None)\n",
    "fig_col_notshared.for_each_yaxis(lambda y: y.update(showticklabels=True))\n",
    "fig_col_notshared.show()"
   ]
  },
  {
   "cell_type": "code",
   "execution_count": 14,
   "id": "b7282ebe",
   "metadata": {
    "execution": {
     "iopub.execute_input": "2025-08-31T17:18:58.076310Z",
     "iopub.status.busy": "2025-08-31T17:18:58.075317Z",
     "iopub.status.idle": "2025-08-31T17:18:58.133139Z",
     "shell.execute_reply": "2025-08-31T17:18:58.131468Z"
    }
   },
   "outputs": [
    {
     "ename": "NameError",
     "evalue": "name 'px' is not defined",
     "output_type": "error",
     "traceback": [
      "\u001b[31m---------------------------------------------------------------------------\u001b[39m",
      "\u001b[31mNameError\u001b[39m                                 Traceback (most recent call last)",
      "\u001b[36mCell\u001b[39m\u001b[36m \u001b[39m\u001b[32mIn[14]\u001b[39m\u001b[32m, line 1\u001b[39m\n\u001b[32m----> \u001b[39m\u001b[32m1\u001b[39m fig_row = \u001b[43mpx\u001b[49m.histogram(\n\u001b[32m      2\u001b[39m     df,\n\u001b[32m      3\u001b[39m     x=\u001b[33m\"\u001b[39m\u001b[33mBody_Mass\u001b[39m\u001b[33m\"\u001b[39m,\n\u001b[32m      4\u001b[39m     facet_row=\u001b[33m\"\u001b[39m\u001b[33mSpecies_short\u001b[39m\u001b[33m\"\u001b[39m,\n\u001b[32m      5\u001b[39m )\n\u001b[32m      6\u001b[39m fig_row.for_each_annotation(\n\u001b[32m      7\u001b[39m     \u001b[38;5;28;01mlambda\u001b[39;00m a: a.update(text=re.search(RE_TITLE, a.text)[\u001b[32m0\u001b[39m])\n\u001b[32m      8\u001b[39m )\n\u001b[32m      9\u001b[39m fig_row.update_xaxes(matches=\u001b[38;5;28;01mNone\u001b[39;00m)\n",
      "\u001b[31mNameError\u001b[39m: name 'px' is not defined"
     ]
    }
   ],
   "source": [
    "fig_row = px.histogram(\n",
    "    df,\n",
    "    x=\"Body_Mass\",\n",
    "    facet_row=\"Species_short\",\n",
    ")\n",
    "fig_row.for_each_annotation(\n",
    "    lambda a: a.update(text=re.search(RE_TITLE, a.text)[0])\n",
    ")\n",
    "fig_row.update_xaxes(matches=None)\n",
    "fig_row.update_yaxes(matches=None)\n",
    "fig_row.for_each_xaxis(lambda x: x.update(showticklabels=True))\n",
    "fig_row.show()"
   ]
  },
  {
   "cell_type": "markdown",
   "id": "dc730fcc",
   "metadata": {},
   "source": [
    "### 箱ひげ図"
   ]
  },
  {
   "cell_type": "code",
   "execution_count": 15,
   "id": "ec36ed92",
   "metadata": {
    "execution": {
     "iopub.execute_input": "2025-08-31T17:18:58.138608Z",
     "iopub.status.busy": "2025-08-31T17:18:58.138104Z",
     "iopub.status.idle": "2025-08-31T17:18:58.187522Z",
     "shell.execute_reply": "2025-08-31T17:18:58.185461Z"
    }
   },
   "outputs": [
    {
     "ename": "NameError",
     "evalue": "name 'px' is not defined",
     "output_type": "error",
     "traceback": [
      "\u001b[31m---------------------------------------------------------------------------\u001b[39m",
      "\u001b[31mNameError\u001b[39m                                 Traceback (most recent call last)",
      "\u001b[36mCell\u001b[39m\u001b[36m \u001b[39m\u001b[32mIn[15]\u001b[39m\u001b[32m, line 1\u001b[39m\n\u001b[32m----> \u001b[39m\u001b[32m1\u001b[39m \u001b[43mpx\u001b[49m.box(df, x=\u001b[33m\"\u001b[39m\u001b[33mSpecies_short\u001b[39m\u001b[33m\"\u001b[39m, y=\u001b[33m\"\u001b[39m\u001b[33mBody_Mass\u001b[39m\u001b[33m\"\u001b[39m)\n",
      "\u001b[31mNameError\u001b[39m: name 'px' is not defined"
     ]
    }
   ],
   "source": [
    "px.box(df, x=\"Species_short\", y=\"Body_Mass\")"
   ]
  }
 ],
 "metadata": {
  "language_info": {
   "codemirror_mode": {
    "name": "ipython",
    "version": 3
   },
   "file_extension": ".py",
   "mimetype": "text/x-python",
   "name": "python",
   "nbconvert_exporter": "python",
   "pygments_lexer": "ipython3",
   "version": "3.12.3"
  }
 },
 "nbformat": 4,
 "nbformat_minor": 5
}
