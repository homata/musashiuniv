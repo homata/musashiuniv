{
 "cells": [
  {
   "cell_type": "markdown",
   "id": "a3252545",
   "metadata": {},
   "source": [
    "# 欠損値"
   ]
  },
  {
   "cell_type": "markdown",
   "id": "b7f076b8",
   "metadata": {},
   "source": [
    "## 欠損値の基礎知識\n",
    "### データ型"
   ]
  },
  {
   "cell_type": "code",
   "execution_count": 1,
   "id": "51445022",
   "metadata": {
    "execution": {
     "iopub.execute_input": "2025-08-31T17:19:15.849464Z",
     "iopub.status.busy": "2025-08-31T17:19:15.848544Z",
     "iopub.status.idle": "2025-08-31T17:19:16.747573Z",
     "shell.execute_reply": "2025-08-31T17:19:16.745286Z"
    }
   },
   "outputs": [
    {
     "data": {
      "text/plain": [
       "0    0.511822\n",
       "1         NaN\n",
       "2    0.950464\n",
       "3         NaN\n",
       "dtype: float64"
      ]
     },
     "execution_count": 1,
     "metadata": {},
     "output_type": "execute_result"
    }
   ],
   "source": [
    "import numpy as np\n",
    "import pandas as pd\n",
    "\n",
    "rng = np.random.default_rng(1)\n",
    "float_ser = pd.Series(rng.random(4), index=range(0, 8, 2)).reindex(range(4))\n",
    "float_ser"
   ]
  },
  {
   "cell_type": "code",
   "execution_count": 2,
   "id": "8a9621c9",
   "metadata": {
    "execution": {
     "iopub.execute_input": "2025-08-31T17:19:16.755460Z",
     "iopub.status.busy": "2025-08-31T17:19:16.753461Z",
     "iopub.status.idle": "2025-08-31T17:19:16.775661Z",
     "shell.execute_reply": "2025-08-31T17:19:16.773714Z"
    }
   },
   "outputs": [
    {
     "data": {
      "text/plain": [
       "0   2023-01-01\n",
       "1          NaT\n",
       "2   2023-01-02\n",
       "3          NaT\n",
       "dtype: datetime64[ns]"
      ]
     },
     "execution_count": 2,
     "metadata": {},
     "output_type": "execute_result"
    }
   ],
   "source": [
    "dt_ser = pd.Series(\n",
    "    pd.date_range(\"2023-01-01\", periods=4),\n",
    "    index=range(0, 8, 2),\n",
    ").reindex(range(4))\n",
    "dt_ser"
   ]
  },
  {
   "cell_type": "code",
   "execution_count": 3,
   "id": "eae4624d",
   "metadata": {
    "execution": {
     "iopub.execute_input": "2025-08-31T17:19:16.779730Z",
     "iopub.status.busy": "2025-08-31T17:19:16.779297Z",
     "iopub.status.idle": "2025-08-31T17:19:16.792687Z",
     "shell.execute_reply": "2025-08-31T17:19:16.791068Z"
    }
   },
   "outputs": [
    {
     "data": {
      "text/plain": [
       "0       2\n",
       "1    <NA>\n",
       "2       3\n",
       "3    <NA>\n",
       "dtype: Int64"
      ]
     },
     "execution_count": 3,
     "metadata": {},
     "output_type": "execute_result"
    }
   ],
   "source": [
    "int_ser = pd.Series(\n",
    "    rng.integers(0, 10, 4),\n",
    "    index=range(0, 8, 2),\n",
    "    dtype=pd.Int64Dtype(),\n",
    ").reindex(range(4))\n",
    "int_ser"
   ]
  },
  {
   "cell_type": "code",
   "execution_count": 4,
   "id": "d83aecf1",
   "metadata": {
    "execution": {
     "iopub.execute_input": "2025-08-31T17:19:16.796701Z",
     "iopub.status.busy": "2025-08-31T17:19:16.796216Z",
     "iopub.status.idle": "2025-08-31T17:19:16.805541Z",
     "shell.execute_reply": "2025-08-31T17:19:16.803896Z"
    }
   },
   "outputs": [
    {
     "data": {
      "text/plain": [
       "Int64Dtype()"
      ]
     },
     "execution_count": 4,
     "metadata": {},
     "output_type": "execute_result"
    }
   ],
   "source": [
    "int_ser.dtype"
   ]
  },
  {
   "cell_type": "markdown",
   "id": "85513aba",
   "metadata": {},
   "source": [
    "### データの型変換"
   ]
  },
  {
   "cell_type": "code",
   "execution_count": 5,
   "id": "55960188",
   "metadata": {
    "execution": {
     "iopub.execute_input": "2025-08-31T17:19:16.809999Z",
     "iopub.status.busy": "2025-08-31T17:19:16.809488Z",
     "iopub.status.idle": "2025-08-31T17:19:16.821300Z",
     "shell.execute_reply": "2025-08-31T17:19:16.819462Z"
    }
   },
   "outputs": [
    {
     "data": {
      "text/plain": [
       "0    1.0\n",
       "1    NaN\n",
       "2    3.0\n",
       "dtype: float64"
      ]
     },
     "execution_count": 5,
     "metadata": {},
     "output_type": "execute_result"
    }
   ],
   "source": [
    "# int型\n",
    "pd.Series([1, None, 3])"
   ]
  },
  {
   "cell_type": "code",
   "execution_count": 6,
   "id": "d33f51be",
   "metadata": {
    "execution": {
     "iopub.execute_input": "2025-08-31T17:19:16.825303Z",
     "iopub.status.busy": "2025-08-31T17:19:16.824830Z",
     "iopub.status.idle": "2025-08-31T17:19:16.836726Z",
     "shell.execute_reply": "2025-08-31T17:19:16.834853Z"
    }
   },
   "outputs": [
    {
     "data": {
      "text/plain": [
       "0     True\n",
       "1     None\n",
       "2    False\n",
       "dtype: object"
      ]
     },
     "execution_count": 6,
     "metadata": {},
     "output_type": "execute_result"
    }
   ],
   "source": [
    "# bool型\n",
    "pd.Series([True, None, False])"
   ]
  },
  {
   "cell_type": "code",
   "execution_count": 7,
   "id": "07eeb47a",
   "metadata": {
    "execution": {
     "iopub.execute_input": "2025-08-31T17:19:16.841487Z",
     "iopub.status.busy": "2025-08-31T17:19:16.841034Z",
     "iopub.status.idle": "2025-08-31T17:19:16.853145Z",
     "shell.execute_reply": "2025-08-31T17:19:16.851300Z"
    }
   },
   "outputs": [
    {
     "data": {
      "text/plain": [
       "0    1.0\n",
       "1    NaN\n",
       "2    3.0\n",
       "dtype: float64"
      ]
     },
     "execution_count": 7,
     "metadata": {},
     "output_type": "execute_result"
    }
   ],
   "source": [
    "# float型\n",
    "pd.Series([1.0, None, 3.0])"
   ]
  },
  {
   "cell_type": "code",
   "execution_count": 8,
   "id": "5fa76111",
   "metadata": {
    "execution": {
     "iopub.execute_input": "2025-08-31T17:19:16.857608Z",
     "iopub.status.busy": "2025-08-31T17:19:16.857119Z",
     "iopub.status.idle": "2025-08-31T17:19:16.868130Z",
     "shell.execute_reply": "2025-08-31T17:19:16.866307Z"
    }
   },
   "outputs": [
    {
     "data": {
      "text/plain": [
       "0       a\n",
       "1    None\n",
       "2       c\n",
       "dtype: object"
      ]
     },
     "execution_count": 8,
     "metadata": {},
     "output_type": "execute_result"
    }
   ],
   "source": [
    "# object型\n",
    "pd.Series([\"a\", None, \"c\"])"
   ]
  },
  {
   "cell_type": "markdown",
   "id": "78fe5d39",
   "metadata": {},
   "source": [
    "### 欠損値を含むデータの評価"
   ]
  },
  {
   "cell_type": "code",
   "execution_count": 9,
   "id": "1c8a31ec",
   "metadata": {
    "execution": {
     "iopub.execute_input": "2025-08-31T17:19:16.874194Z",
     "iopub.status.busy": "2025-08-31T17:19:16.872349Z",
     "iopub.status.idle": "2025-08-31T17:19:16.883673Z",
     "shell.execute_reply": "2025-08-31T17:19:16.881998Z"
    }
   },
   "outputs": [
    {
     "data": {
      "text/plain": [
       "False"
      ]
     },
     "execution_count": 9,
     "metadata": {},
     "output_type": "execute_result"
    }
   ],
   "source": [
    "np.nan == np.nan"
   ]
  },
  {
   "cell_type": "code",
   "execution_count": 10,
   "id": "faba76c2",
   "metadata": {
    "execution": {
     "iopub.execute_input": "2025-08-31T17:19:16.888455Z",
     "iopub.status.busy": "2025-08-31T17:19:16.887709Z",
     "iopub.status.idle": "2025-08-31T17:19:16.897175Z",
     "shell.execute_reply": "2025-08-31T17:19:16.895592Z"
    }
   },
   "outputs": [
    {
     "data": {
      "text/plain": [
       "False"
      ]
     },
     "execution_count": 10,
     "metadata": {},
     "output_type": "execute_result"
    }
   ],
   "source": [
    "np.nan > np.nan"
   ]
  },
  {
   "cell_type": "code",
   "execution_count": 11,
   "id": "d8f38adc",
   "metadata": {
    "execution": {
     "iopub.execute_input": "2025-08-31T17:19:16.901114Z",
     "iopub.status.busy": "2025-08-31T17:19:16.900635Z",
     "iopub.status.idle": "2025-08-31T17:19:16.911083Z",
     "shell.execute_reply": "2025-08-31T17:19:16.909229Z"
    }
   },
   "outputs": [
    {
     "data": {
      "text/plain": [
       "False"
      ]
     },
     "execution_count": 11,
     "metadata": {},
     "output_type": "execute_result"
    }
   ],
   "source": [
    "pd.NaT == pd.NaT"
   ]
  },
  {
   "cell_type": "code",
   "execution_count": 12,
   "id": "3904c993",
   "metadata": {
    "execution": {
     "iopub.execute_input": "2025-08-31T17:19:16.915166Z",
     "iopub.status.busy": "2025-08-31T17:19:16.914740Z",
     "iopub.status.idle": "2025-08-31T17:19:16.924346Z",
     "shell.execute_reply": "2025-08-31T17:19:16.922771Z"
    }
   },
   "outputs": [
    {
     "data": {
      "text/plain": [
       "<NA>"
      ]
     },
     "execution_count": 12,
     "metadata": {},
     "output_type": "execute_result"
    }
   ],
   "source": [
    "pd.NA == pd.NA"
   ]
  },
  {
   "cell_type": "code",
   "execution_count": 13,
   "id": "a26766ed",
   "metadata": {
    "execution": {
     "iopub.execute_input": "2025-08-31T17:19:16.928697Z",
     "iopub.status.busy": "2025-08-31T17:19:16.928262Z",
     "iopub.status.idle": "2025-08-31T17:19:16.939572Z",
     "shell.execute_reply": "2025-08-31T17:19:16.937994Z"
    }
   },
   "outputs": [
    {
     "data": {
      "text/plain": [
       "0    False\n",
       "1     True\n",
       "2    False\n",
       "3     True\n",
       "dtype: bool"
      ]
     },
     "execution_count": 13,
     "metadata": {},
     "output_type": "execute_result"
    }
   ],
   "source": [
    "pd.isna(float_ser)\n",
    "# or\n",
    "pd.isnull(float_ser)\n",
    "# or\n",
    "float_ser.isna()\n",
    "# or\n",
    "float_ser.isnull()"
   ]
  },
  {
   "cell_type": "code",
   "execution_count": 14,
   "id": "11cc9e7d",
   "metadata": {
    "execution": {
     "iopub.execute_input": "2025-08-31T17:19:16.944801Z",
     "iopub.status.busy": "2025-08-31T17:19:16.944312Z",
     "iopub.status.idle": "2025-08-31T17:19:16.955733Z",
     "shell.execute_reply": "2025-08-31T17:19:16.953921Z"
    }
   },
   "outputs": [
    {
     "data": {
      "text/plain": [
       "0    False\n",
       "1     True\n",
       "2    False\n",
       "3     True\n",
       "dtype: bool"
      ]
     },
     "execution_count": 14,
     "metadata": {},
     "output_type": "execute_result"
    }
   ],
   "source": [
    "int_ser.isna()"
   ]
  },
  {
   "cell_type": "code",
   "execution_count": 15,
   "id": "b54b5334",
   "metadata": {
    "execution": {
     "iopub.execute_input": "2025-08-31T17:19:16.960241Z",
     "iopub.status.busy": "2025-08-31T17:19:16.959206Z",
     "iopub.status.idle": "2025-08-31T17:19:16.969829Z",
     "shell.execute_reply": "2025-08-31T17:19:16.968066Z"
    }
   },
   "outputs": [
    {
     "data": {
      "text/plain": [
       "0    False\n",
       "1     True\n",
       "2    False\n",
       "3     True\n",
       "dtype: bool"
      ]
     },
     "execution_count": 15,
     "metadata": {},
     "output_type": "execute_result"
    }
   ],
   "source": [
    "dt_ser.isna()"
   ]
  },
  {
   "cell_type": "markdown",
   "id": "3200eb1d",
   "metadata": {},
   "source": [
    "### 欠損値を含むデータの演算"
   ]
  },
  {
   "cell_type": "code",
   "execution_count": 16,
   "id": "e07489bd",
   "metadata": {
    "execution": {
     "iopub.execute_input": "2025-08-31T17:19:16.976531Z",
     "iopub.status.busy": "2025-08-31T17:19:16.975334Z",
     "iopub.status.idle": "2025-08-31T17:19:16.986418Z",
     "shell.execute_reply": "2025-08-31T17:19:16.984277Z"
    }
   },
   "outputs": [
    {
     "data": {
      "text/plain": [
       "np.int64(5)"
      ]
     },
     "execution_count": 16,
     "metadata": {},
     "output_type": "execute_result"
    }
   ],
   "source": [
    "int_ser.sum()"
   ]
  },
  {
   "cell_type": "code",
   "execution_count": 17,
   "id": "e0d25fc7",
   "metadata": {
    "execution": {
     "iopub.execute_input": "2025-08-31T17:19:16.991080Z",
     "iopub.status.busy": "2025-08-31T17:19:16.990566Z",
     "iopub.status.idle": "2025-08-31T17:19:17.003777Z",
     "shell.execute_reply": "2025-08-31T17:19:17.001312Z"
    }
   },
   "outputs": [
    {
     "data": {
      "text/plain": [
       "0       2\n",
       "1    <NA>\n",
       "2       5\n",
       "3    <NA>\n",
       "dtype: Int64"
      ]
     },
     "execution_count": 17,
     "metadata": {},
     "output_type": "execute_result"
    }
   ],
   "source": [
    "int_ser.cumsum()"
   ]
  },
  {
   "cell_type": "code",
   "execution_count": 18,
   "id": "2e7df6af",
   "metadata": {
    "execution": {
     "iopub.execute_input": "2025-08-31T17:19:17.009334Z",
     "iopub.status.busy": "2025-08-31T17:19:17.008754Z",
     "iopub.status.idle": "2025-08-31T17:19:17.022928Z",
     "shell.execute_reply": "2025-08-31T17:19:17.020941Z"
    }
   },
   "outputs": [
    {
     "data": {
      "text/plain": [
       "<NA>"
      ]
     },
     "execution_count": 18,
     "metadata": {},
     "output_type": "execute_result"
    }
   ],
   "source": [
    "int_ser.sum(skipna=False)"
   ]
  },
  {
   "cell_type": "markdown",
   "id": "16fe01fb",
   "metadata": {},
   "source": [
    "## 欠損値の発生パターン（メカニズム）と対処方法"
   ]
  },
  {
   "cell_type": "markdown",
   "id": "a570d54c",
   "metadata": {},
   "source": [
    "### 欠損値の確認"
   ]
  },
  {
   "cell_type": "code",
   "execution_count": 19,
   "id": "51a787a4",
   "metadata": {
    "execution": {
     "iopub.execute_input": "2025-08-31T17:19:17.028920Z",
     "iopub.status.busy": "2025-08-31T17:19:17.028180Z",
     "iopub.status.idle": "2025-08-31T17:19:17.564915Z",
     "shell.execute_reply": "2025-08-31T17:19:17.563796Z"
    }
   },
   "outputs": [
    {
     "ename": "ImportError",
     "evalue": "Unable to find a usable engine; tried using: 'pyarrow', 'fastparquet'.\nA suitable version of pyarrow or fastparquet is required for parquet support.\nTrying to import the above resulted in these errors:\n - Missing optional dependency 'pyarrow'. pyarrow is required for parquet support. Use pip or conda to install pyarrow.\n - Missing optional dependency 'fastparquet'. fastparquet is required for parquet support. Use pip or conda to install fastparquet.",
     "output_type": "error",
     "traceback": [
      "\u001b[31m---------------------------------------------------------------------------\u001b[39m",
      "\u001b[31mImportError\u001b[39m                               Traceback (most recent call last)",
      "\u001b[36mCell\u001b[39m\u001b[36m \u001b[39m\u001b[32mIn[19]\u001b[39m\u001b[32m, line 1\u001b[39m\n\u001b[32m----> \u001b[39m\u001b[32m1\u001b[39m df = \u001b[43mpd\u001b[49m\u001b[43m.\u001b[49m\u001b[43mread_parquet\u001b[49m\u001b[43m(\u001b[49m\u001b[33;43m\"\u001b[39;49m\u001b[33;43mdata/penguins.parquet\u001b[39;49m\u001b[33;43m\"\u001b[39;49m\u001b[43m)\u001b[49m\n\u001b[32m      3\u001b[39m \u001b[38;5;28mprint\u001b[39m(df.isna().sum())\n",
      "\u001b[36mFile \u001b[39m\u001b[32m~/workspace/musashiuniv/musashiuniv_manuscript/.venv/lib/python3.12/site-packages/pandas/io/parquet.py:653\u001b[39m, in \u001b[36mread_parquet\u001b[39m\u001b[34m(path, engine, columns, storage_options, use_nullable_dtypes, dtype_backend, filesystem, filters, **kwargs)\u001b[39m\n\u001b[32m    500\u001b[39m \u001b[38;5;129m@doc\u001b[39m(storage_options=_shared_docs[\u001b[33m\"\u001b[39m\u001b[33mstorage_options\u001b[39m\u001b[33m\"\u001b[39m])\n\u001b[32m    501\u001b[39m \u001b[38;5;28;01mdef\u001b[39;00m\u001b[38;5;250m \u001b[39m\u001b[34mread_parquet\u001b[39m(\n\u001b[32m    502\u001b[39m     path: FilePath | ReadBuffer[\u001b[38;5;28mbytes\u001b[39m],\n\u001b[32m   (...)\u001b[39m\u001b[32m    510\u001b[39m     **kwargs,\n\u001b[32m    511\u001b[39m ) -> DataFrame:\n\u001b[32m    512\u001b[39m \u001b[38;5;250m    \u001b[39m\u001b[33;03m\"\"\"\u001b[39;00m\n\u001b[32m    513\u001b[39m \u001b[33;03m    Load a parquet object from the file path, returning a DataFrame.\u001b[39;00m\n\u001b[32m    514\u001b[39m \n\u001b[32m   (...)\u001b[39m\u001b[32m    650\u001b[39m \u001b[33;03m    1    4    9\u001b[39;00m\n\u001b[32m    651\u001b[39m \u001b[33;03m    \"\"\"\u001b[39;00m\n\u001b[32m--> \u001b[39m\u001b[32m653\u001b[39m     impl = \u001b[43mget_engine\u001b[49m\u001b[43m(\u001b[49m\u001b[43mengine\u001b[49m\u001b[43m)\u001b[49m\n\u001b[32m    655\u001b[39m     \u001b[38;5;28;01mif\u001b[39;00m use_nullable_dtypes \u001b[38;5;129;01mis\u001b[39;00m \u001b[38;5;129;01mnot\u001b[39;00m lib.no_default:\n\u001b[32m    656\u001b[39m         msg = (\n\u001b[32m    657\u001b[39m             \u001b[33m\"\u001b[39m\u001b[33mThe argument \u001b[39m\u001b[33m'\u001b[39m\u001b[33muse_nullable_dtypes\u001b[39m\u001b[33m'\u001b[39m\u001b[33m is deprecated and will be removed \u001b[39m\u001b[33m\"\u001b[39m\n\u001b[32m    658\u001b[39m             \u001b[33m\"\u001b[39m\u001b[33min a future version.\u001b[39m\u001b[33m\"\u001b[39m\n\u001b[32m    659\u001b[39m         )\n",
      "\u001b[36mFile \u001b[39m\u001b[32m~/workspace/musashiuniv/musashiuniv_manuscript/.venv/lib/python3.12/site-packages/pandas/io/parquet.py:68\u001b[39m, in \u001b[36mget_engine\u001b[39m\u001b[34m(engine)\u001b[39m\n\u001b[32m     65\u001b[39m         \u001b[38;5;28;01mexcept\u001b[39;00m \u001b[38;5;167;01mImportError\u001b[39;00m \u001b[38;5;28;01mas\u001b[39;00m err:\n\u001b[32m     66\u001b[39m             error_msgs += \u001b[33m\"\u001b[39m\u001b[38;5;130;01m\\n\u001b[39;00m\u001b[33m - \u001b[39m\u001b[33m\"\u001b[39m + \u001b[38;5;28mstr\u001b[39m(err)\n\u001b[32m---> \u001b[39m\u001b[32m68\u001b[39m     \u001b[38;5;28;01mraise\u001b[39;00m \u001b[38;5;167;01mImportError\u001b[39;00m(\n\u001b[32m     69\u001b[39m         \u001b[33m\"\u001b[39m\u001b[33mUnable to find a usable engine; \u001b[39m\u001b[33m\"\u001b[39m\n\u001b[32m     70\u001b[39m         \u001b[33m\"\u001b[39m\u001b[33mtried using: \u001b[39m\u001b[33m'\u001b[39m\u001b[33mpyarrow\u001b[39m\u001b[33m'\u001b[39m\u001b[33m, \u001b[39m\u001b[33m'\u001b[39m\u001b[33mfastparquet\u001b[39m\u001b[33m'\u001b[39m\u001b[33m.\u001b[39m\u001b[38;5;130;01m\\n\u001b[39;00m\u001b[33m\"\u001b[39m\n\u001b[32m     71\u001b[39m         \u001b[33m\"\u001b[39m\u001b[33mA suitable version of \u001b[39m\u001b[33m\"\u001b[39m\n\u001b[32m     72\u001b[39m         \u001b[33m\"\u001b[39m\u001b[33mpyarrow or fastparquet is required for parquet \u001b[39m\u001b[33m\"\u001b[39m\n\u001b[32m     73\u001b[39m         \u001b[33m\"\u001b[39m\u001b[33msupport.\u001b[39m\u001b[38;5;130;01m\\n\u001b[39;00m\u001b[33m\"\u001b[39m\n\u001b[32m     74\u001b[39m         \u001b[33m\"\u001b[39m\u001b[33mTrying to import the above resulted in these errors:\u001b[39m\u001b[33m\"\u001b[39m\n\u001b[32m     75\u001b[39m         \u001b[33mf\u001b[39m\u001b[33m\"\u001b[39m\u001b[38;5;132;01m{\u001b[39;00merror_msgs\u001b[38;5;132;01m}\u001b[39;00m\u001b[33m\"\u001b[39m\n\u001b[32m     76\u001b[39m     )\n\u001b[32m     78\u001b[39m \u001b[38;5;28;01mif\u001b[39;00m engine == \u001b[33m\"\u001b[39m\u001b[33mpyarrow\u001b[39m\u001b[33m\"\u001b[39m:\n\u001b[32m     79\u001b[39m     \u001b[38;5;28;01mreturn\u001b[39;00m PyArrowImpl()\n",
      "\u001b[31mImportError\u001b[39m: Unable to find a usable engine; tried using: 'pyarrow', 'fastparquet'.\nA suitable version of pyarrow or fastparquet is required for parquet support.\nTrying to import the above resulted in these errors:\n - Missing optional dependency 'pyarrow'. pyarrow is required for parquet support. Use pip or conda to install pyarrow.\n - Missing optional dependency 'fastparquet'. fastparquet is required for parquet support. Use pip or conda to install fastparquet."
     ]
    }
   ],
   "source": [
    "df = pd.read_parquet(\"data/penguins.parquet\")\n",
    "\n",
    "print(df.isna().sum())"
   ]
  },
  {
   "cell_type": "markdown",
   "id": "28f66c90",
   "metadata": {},
   "source": [
    "### 欠損値の発生が完全にランダム(MCAR)な場合"
   ]
  },
  {
   "cell_type": "code",
   "execution_count": 20,
   "id": "c60ffafa",
   "metadata": {
    "execution": {
     "iopub.execute_input": "2025-08-31T17:19:17.569418Z",
     "iopub.status.busy": "2025-08-31T17:19:17.569076Z",
     "iopub.status.idle": "2025-08-31T17:19:17.609106Z",
     "shell.execute_reply": "2025-08-31T17:19:17.607077Z"
    }
   },
   "outputs": [
    {
     "ename": "NameError",
     "evalue": "name 'df' is not defined",
     "output_type": "error",
     "traceback": [
      "\u001b[31m---------------------------------------------------------------------------\u001b[39m",
      "\u001b[31mNameError\u001b[39m                                 Traceback (most recent call last)",
      "\u001b[36mCell\u001b[39m\u001b[36m \u001b[39m\u001b[32mIn[20]\u001b[39m\u001b[32m, line 1\u001b[39m\n\u001b[32m----> \u001b[39m\u001b[32m1\u001b[39m \u001b[38;5;28mprint\u001b[39m(\u001b[43mdf\u001b[49m.shape)\n",
      "\u001b[31mNameError\u001b[39m: name 'df' is not defined"
     ]
    }
   ],
   "source": [
    "print(df.shape)"
   ]
  },
  {
   "cell_type": "code",
   "execution_count": 21,
   "id": "f7cb2422",
   "metadata": {
    "execution": {
     "iopub.execute_input": "2025-08-31T17:19:17.613051Z",
     "iopub.status.busy": "2025-08-31T17:19:17.612607Z",
     "iopub.status.idle": "2025-08-31T17:19:17.656501Z",
     "shell.execute_reply": "2025-08-31T17:19:17.654686Z"
    }
   },
   "outputs": [
    {
     "ename": "NameError",
     "evalue": "name 'df' is not defined",
     "output_type": "error",
     "traceback": [
      "\u001b[31m---------------------------------------------------------------------------\u001b[39m",
      "\u001b[31mNameError\u001b[39m                                 Traceback (most recent call last)",
      "\u001b[36mCell\u001b[39m\u001b[36m \u001b[39m\u001b[32mIn[21]\u001b[39m\u001b[32m, line 1\u001b[39m\n\u001b[32m----> \u001b[39m\u001b[32m1\u001b[39m \u001b[38;5;28mprint\u001b[39m(\u001b[43mdf\u001b[49m.dropna(subset=[\u001b[33m\"\u001b[39m\u001b[33mCulmen_Length\u001b[39m\u001b[33m\"\u001b[39m]).shape)\n",
      "\u001b[31mNameError\u001b[39m: name 'df' is not defined"
     ]
    }
   ],
   "source": [
    "print(df.dropna(subset=[\"Culmen_Length\"]).shape)"
   ]
  },
  {
   "cell_type": "code",
   "execution_count": 22,
   "id": "eba5027d",
   "metadata": {
    "execution": {
     "iopub.execute_input": "2025-08-31T17:19:17.660823Z",
     "iopub.status.busy": "2025-08-31T17:19:17.660377Z",
     "iopub.status.idle": "2025-08-31T17:19:17.724192Z",
     "shell.execute_reply": "2025-08-31T17:19:17.721679Z"
    }
   },
   "outputs": [
    {
     "ename": "NameError",
     "evalue": "name 'df' is not defined",
     "output_type": "error",
     "traceback": [
      "\u001b[31m---------------------------------------------------------------------------\u001b[39m",
      "\u001b[31mNameError\u001b[39m                                 Traceback (most recent call last)",
      "\u001b[36mCell\u001b[39m\u001b[36m \u001b[39m\u001b[32mIn[22]\u001b[39m\u001b[32m, line 1\u001b[39m\n\u001b[32m----> \u001b[39m\u001b[32m1\u001b[39m \u001b[38;5;28mprint\u001b[39m(\u001b[43mdf\u001b[49m.dropna(subset=[\u001b[33m\"\u001b[39m\u001b[33mCulmen_Length\u001b[39m\u001b[33m\"\u001b[39m, \u001b[33m\"\u001b[39m\u001b[33mSex\u001b[39m\u001b[33m\"\u001b[39m]).shape)\n",
      "\u001b[31mNameError\u001b[39m: name 'df' is not defined"
     ]
    }
   ],
   "source": [
    "print(df.dropna(subset=[\"Culmen_Length\", \"Sex\"]).shape)"
   ]
  },
  {
   "cell_type": "code",
   "execution_count": 23,
   "id": "be6cd3c0",
   "metadata": {
    "execution": {
     "iopub.execute_input": "2025-08-31T17:19:17.732854Z",
     "iopub.status.busy": "2025-08-31T17:19:17.730792Z",
     "iopub.status.idle": "2025-08-31T17:19:17.793586Z",
     "shell.execute_reply": "2025-08-31T17:19:17.791863Z"
    }
   },
   "outputs": [
    {
     "ename": "NameError",
     "evalue": "name 'df' is not defined",
     "output_type": "error",
     "traceback": [
      "\u001b[31m---------------------------------------------------------------------------\u001b[39m",
      "\u001b[31mNameError\u001b[39m                                 Traceback (most recent call last)",
      "\u001b[36mCell\u001b[39m\u001b[36m \u001b[39m\u001b[32mIn[23]\u001b[39m\u001b[32m, line 1\u001b[39m\n\u001b[32m----> \u001b[39m\u001b[32m1\u001b[39m \u001b[38;5;28mprint\u001b[39m(\u001b[43mdf\u001b[49m.dropna().shape)\n",
      "\u001b[31mNameError\u001b[39m: name 'df' is not defined"
     ]
    }
   ],
   "source": [
    "print(df.dropna().shape)"
   ]
  },
  {
   "cell_type": "code",
   "execution_count": 24,
   "id": "5944104d",
   "metadata": {
    "execution": {
     "iopub.execute_input": "2025-08-31T17:19:17.799987Z",
     "iopub.status.busy": "2025-08-31T17:19:17.798937Z",
     "iopub.status.idle": "2025-08-31T17:19:17.849638Z",
     "shell.execute_reply": "2025-08-31T17:19:17.848044Z"
    }
   },
   "outputs": [
    {
     "ename": "NameError",
     "evalue": "name 'df' is not defined",
     "output_type": "error",
     "traceback": [
      "\u001b[31m---------------------------------------------------------------------------\u001b[39m",
      "\u001b[31mNameError\u001b[39m                                 Traceback (most recent call last)",
      "\u001b[36mCell\u001b[39m\u001b[36m \u001b[39m\u001b[32mIn[24]\u001b[39m\u001b[32m, line 1\u001b[39m\n\u001b[32m----> \u001b[39m\u001b[32m1\u001b[39m \u001b[38;5;28mprint\u001b[39m(\u001b[43mdf\u001b[49m.dropna(axis=\u001b[32m1\u001b[39m).shape)\n",
      "\u001b[31mNameError\u001b[39m: name 'df' is not defined"
     ]
    }
   ],
   "source": [
    "print(df.dropna(axis=1).shape)"
   ]
  },
  {
   "cell_type": "code",
   "execution_count": 25,
   "id": "f8abbbbb",
   "metadata": {
    "execution": {
     "iopub.execute_input": "2025-08-31T17:19:17.854641Z",
     "iopub.status.busy": "2025-08-31T17:19:17.853685Z",
     "iopub.status.idle": "2025-08-31T17:19:17.903115Z",
     "shell.execute_reply": "2025-08-31T17:19:17.901277Z"
    }
   },
   "outputs": [
    {
     "ename": "NameError",
     "evalue": "name 'df' is not defined",
     "output_type": "error",
     "traceback": [
      "\u001b[31m---------------------------------------------------------------------------\u001b[39m",
      "\u001b[31mNameError\u001b[39m                                 Traceback (most recent call last)",
      "\u001b[36mCell\u001b[39m\u001b[36m \u001b[39m\u001b[32mIn[25]\u001b[39m\u001b[32m, line 2\u001b[39m\n\u001b[32m      1\u001b[39m \u001b[38;5;28mprint\u001b[39m(\n\u001b[32m----> \u001b[39m\u001b[32m2\u001b[39m     \u001b[43mdf\u001b[49m.dropna(\n\u001b[32m      3\u001b[39m         subset=[\u001b[33m\"\u001b[39m\u001b[33mCulmen_Length\u001b[39m\u001b[33m\"\u001b[39m, \u001b[33m\"\u001b[39m\u001b[33mSex\u001b[39m\u001b[33m\"\u001b[39m],\n\u001b[32m      4\u001b[39m         how=\u001b[33m\"\u001b[39m\u001b[33mall\u001b[39m\u001b[33m\"\u001b[39m,\n\u001b[32m      5\u001b[39m     ).shape\n\u001b[32m      6\u001b[39m )\n",
      "\u001b[31mNameError\u001b[39m: name 'df' is not defined"
     ]
    }
   ],
   "source": [
    "print(\n",
    "    df.dropna(\n",
    "        subset=[\"Culmen_Length\", \"Sex\"],\n",
    "        how=\"all\",\n",
    "    ).shape\n",
    ")"
   ]
  },
  {
   "cell_type": "code",
   "execution_count": 26,
   "id": "36e691bd",
   "metadata": {
    "execution": {
     "iopub.execute_input": "2025-08-31T17:19:17.907441Z",
     "iopub.status.busy": "2025-08-31T17:19:17.906853Z",
     "iopub.status.idle": "2025-08-31T17:19:17.955529Z",
     "shell.execute_reply": "2025-08-31T17:19:17.953342Z"
    }
   },
   "outputs": [
    {
     "ename": "NameError",
     "evalue": "name 'df' is not defined",
     "output_type": "error",
     "traceback": [
      "\u001b[31m---------------------------------------------------------------------------\u001b[39m",
      "\u001b[31mNameError\u001b[39m                                 Traceback (most recent call last)",
      "\u001b[36mCell\u001b[39m\u001b[36m \u001b[39m\u001b[32mIn[26]\u001b[39m\u001b[32m, line 1\u001b[39m\n\u001b[32m----> \u001b[39m\u001b[32m1\u001b[39m \u001b[43mdf\u001b[49m.loc[:, \u001b[33m\"\u001b[39m\u001b[33mCulmen_Length\u001b[39m\u001b[33m\"\u001b[39m].dropna()\n",
      "\u001b[31mNameError\u001b[39m: name 'df' is not defined"
     ]
    }
   ],
   "source": [
    "df.loc[:, \"Culmen_Length\"].dropna()"
   ]
  },
  {
   "cell_type": "markdown",
   "id": "12cd07b1",
   "metadata": {},
   "source": [
    "### 欠損値の発生が何らかの原因による場合\n",
    "#### 単変量補完と多変量補完"
   ]
  },
  {
   "cell_type": "code",
   "execution_count": 27,
   "id": "fdb9a87c",
   "metadata": {
    "execution": {
     "iopub.execute_input": "2025-08-31T17:19:17.965601Z",
     "iopub.status.busy": "2025-08-31T17:19:17.964206Z",
     "iopub.status.idle": "2025-08-31T17:19:18.017239Z",
     "shell.execute_reply": "2025-08-31T17:19:18.014857Z"
    }
   },
   "outputs": [
    {
     "ename": "NameError",
     "evalue": "name 'df' is not defined",
     "output_type": "error",
     "traceback": [
      "\u001b[31m---------------------------------------------------------------------------\u001b[39m",
      "\u001b[31mNameError\u001b[39m                                 Traceback (most recent call last)",
      "\u001b[36mCell\u001b[39m\u001b[36m \u001b[39m\u001b[32mIn[27]\u001b[39m\u001b[32m, line 2\u001b[39m\n\u001b[32m      1\u001b[39m \u001b[38;5;66;03m# 種ごとの平均体重の確認\u001b[39;00m\n\u001b[32m----> \u001b[39m\u001b[32m2\u001b[39m \u001b[43mdf\u001b[49m.groupby(\u001b[33m\"\u001b[39m\u001b[33mSpecies_short\u001b[39m\u001b[33m\"\u001b[39m)[\u001b[33m\"\u001b[39m\u001b[33mBody_Mass\u001b[39m\u001b[33m\"\u001b[39m].mean()\n",
      "\u001b[31mNameError\u001b[39m: name 'df' is not defined"
     ]
    }
   ],
   "source": [
    "# 種ごとの平均体重の確認\n",
    "df.groupby(\"Species_short\")[\"Body_Mass\"].mean()"
   ]
  },
  {
   "cell_type": "code",
   "execution_count": 28,
   "id": "1691f424",
   "metadata": {
    "execution": {
     "iopub.execute_input": "2025-08-31T17:19:18.025194Z",
     "iopub.status.busy": "2025-08-31T17:19:18.024167Z",
     "iopub.status.idle": "2025-08-31T17:19:18.072344Z",
     "shell.execute_reply": "2025-08-31T17:19:18.070629Z"
    }
   },
   "outputs": [
    {
     "ename": "NameError",
     "evalue": "name 'df' is not defined",
     "output_type": "error",
     "traceback": [
      "\u001b[31m---------------------------------------------------------------------------\u001b[39m",
      "\u001b[31mNameError\u001b[39m                                 Traceback (most recent call last)",
      "\u001b[36mCell\u001b[39m\u001b[36m \u001b[39m\u001b[32mIn[28]\u001b[39m\u001b[32m, line 2\u001b[39m\n\u001b[32m      1\u001b[39m \u001b[38;5;66;03m# 種ごとの欠損値の件数\u001b[39;00m\n\u001b[32m----> \u001b[39m\u001b[32m2\u001b[39m \u001b[43mdf\u001b[49m.groupby(\u001b[33m\"\u001b[39m\u001b[33mSpecies_short\u001b[39m\u001b[33m\"\u001b[39m)[\u001b[33m\"\u001b[39m\u001b[33mBody_Mass\u001b[39m\u001b[33m\"\u001b[39m].agg(\u001b[38;5;28;01mlambda\u001b[39;00m x: x.isna().sum())\n",
      "\u001b[31mNameError\u001b[39m: name 'df' is not defined"
     ]
    }
   ],
   "source": [
    "# 種ごとの欠損値の件数\n",
    "df.groupby(\"Species_short\")[\"Body_Mass\"].agg(lambda x: x.isna().sum())"
   ]
  },
  {
   "cell_type": "code",
   "execution_count": 29,
   "id": "03a640ba",
   "metadata": {
    "execution": {
     "iopub.execute_input": "2025-08-31T17:19:18.077287Z",
     "iopub.status.busy": "2025-08-31T17:19:18.076489Z",
     "iopub.status.idle": "2025-08-31T17:19:18.132105Z",
     "shell.execute_reply": "2025-08-31T17:19:18.130223Z"
    }
   },
   "outputs": [
    {
     "ename": "NameError",
     "evalue": "name 'df' is not defined",
     "output_type": "error",
     "traceback": [
      "\u001b[31m---------------------------------------------------------------------------\u001b[39m",
      "\u001b[31mNameError\u001b[39m                                 Traceback (most recent call last)",
      "\u001b[36mCell\u001b[39m\u001b[36m \u001b[39m\u001b[32mIn[29]\u001b[39m\u001b[32m, line 2\u001b[39m\n\u001b[32m      1\u001b[39m \u001b[38;5;66;03m# 種ごとに平均体重で補完\u001b[39;00m\n\u001b[32m----> \u001b[39m\u001b[32m2\u001b[39m \u001b[43mdf\u001b[49m.groupby(\u001b[33m\"\u001b[39m\u001b[33mSpecies_short\u001b[39m\u001b[33m\"\u001b[39m)[\u001b[33m\"\u001b[39m\u001b[33mBody_Mass\u001b[39m\u001b[33m\"\u001b[39m].transform(\n\u001b[32m      3\u001b[39m     \u001b[38;5;28;01mlambda\u001b[39;00m x: x.fillna(x.mean())\n\u001b[32m      4\u001b[39m )\n",
      "\u001b[31mNameError\u001b[39m: name 'df' is not defined"
     ]
    }
   ],
   "source": [
    "# 種ごとに平均体重で補完\n",
    "df.groupby(\"Species_short\")[\"Body_Mass\"].transform(\n",
    "    lambda x: x.fillna(x.mean())\n",
    ")"
   ]
  },
  {
   "cell_type": "markdown",
   "id": "0238a5f0",
   "metadata": {},
   "source": [
    "### 行どうしに順序がある場合の補間"
   ]
  },
  {
   "cell_type": "code",
   "execution_count": 30,
   "id": "1618363b",
   "metadata": {
    "execution": {
     "iopub.execute_input": "2025-08-31T17:19:18.138412Z",
     "iopub.status.busy": "2025-08-31T17:19:18.136652Z",
     "iopub.status.idle": "2025-08-31T17:19:18.181875Z",
     "shell.execute_reply": "2025-08-31T17:19:18.180122Z"
    }
   },
   "outputs": [
    {
     "ename": "NameError",
     "evalue": "name 'df' is not defined",
     "output_type": "error",
     "traceback": [
      "\u001b[31m---------------------------------------------------------------------------\u001b[39m",
      "\u001b[31mNameError\u001b[39m                                 Traceback (most recent call last)",
      "\u001b[36mCell\u001b[39m\u001b[36m \u001b[39m\u001b[32mIn[30]\u001b[39m\u001b[32m, line 1\u001b[39m\n\u001b[32m----> \u001b[39m\u001b[32m1\u001b[39m \u001b[43mdf\u001b[49m.loc[:, \u001b[33m\"\u001b[39m\u001b[33mBody_Mass\u001b[39m\u001b[33m\"\u001b[39m].head()\n",
      "\u001b[31mNameError\u001b[39m: name 'df' is not defined"
     ]
    }
   ],
   "source": [
    "df.loc[:, \"Body_Mass\"].head()"
   ]
  },
  {
   "cell_type": "code",
   "execution_count": 31,
   "id": "384392cb",
   "metadata": {
    "execution": {
     "iopub.execute_input": "2025-08-31T17:19:18.185966Z",
     "iopub.status.busy": "2025-08-31T17:19:18.185299Z",
     "iopub.status.idle": "2025-08-31T17:19:18.231569Z",
     "shell.execute_reply": "2025-08-31T17:19:18.229464Z"
    }
   },
   "outputs": [
    {
     "ename": "NameError",
     "evalue": "name 'df' is not defined",
     "output_type": "error",
     "traceback": [
      "\u001b[31m---------------------------------------------------------------------------\u001b[39m",
      "\u001b[31mNameError\u001b[39m                                 Traceback (most recent call last)",
      "\u001b[36mCell\u001b[39m\u001b[36m \u001b[39m\u001b[32mIn[31]\u001b[39m\u001b[32m, line 1\u001b[39m\n\u001b[32m----> \u001b[39m\u001b[32m1\u001b[39m \u001b[43mdf\u001b[49m.loc[:, \u001b[33m\"\u001b[39m\u001b[33mBody_Mass\u001b[39m\u001b[33m\"\u001b[39m].fillna(method=\u001b[33m\"\u001b[39m\u001b[33mffill\u001b[39m\u001b[33m\"\u001b[39m)\n",
      "\u001b[31mNameError\u001b[39m: name 'df' is not defined"
     ]
    }
   ],
   "source": [
    "df.loc[:, \"Body_Mass\"].fillna(method=\"ffill\")"
   ]
  },
  {
   "cell_type": "code",
   "execution_count": 32,
   "id": "652fcf85",
   "metadata": {
    "execution": {
     "iopub.execute_input": "2025-08-31T17:19:18.235695Z",
     "iopub.status.busy": "2025-08-31T17:19:18.235232Z",
     "iopub.status.idle": "2025-08-31T17:19:18.280640Z",
     "shell.execute_reply": "2025-08-31T17:19:18.278940Z"
    }
   },
   "outputs": [
    {
     "ename": "NameError",
     "evalue": "name 'df' is not defined",
     "output_type": "error",
     "traceback": [
      "\u001b[31m---------------------------------------------------------------------------\u001b[39m",
      "\u001b[31mNameError\u001b[39m                                 Traceback (most recent call last)",
      "\u001b[36mCell\u001b[39m\u001b[36m \u001b[39m\u001b[32mIn[32]\u001b[39m\u001b[32m, line 1\u001b[39m\n\u001b[32m----> \u001b[39m\u001b[32m1\u001b[39m \u001b[43mdf\u001b[49m.loc[:, \u001b[33m\"\u001b[39m\u001b[33mBody_Mass\u001b[39m\u001b[33m\"\u001b[39m].fillna(method=\u001b[33m\"\u001b[39m\u001b[33mbfill\u001b[39m\u001b[33m\"\u001b[39m)\n",
      "\u001b[31mNameError\u001b[39m: name 'df' is not defined"
     ]
    }
   ],
   "source": [
    "df.loc[:, \"Body_Mass\"].fillna(method=\"bfill\")"
   ]
  },
  {
   "cell_type": "code",
   "execution_count": 33,
   "id": "b38b68c1",
   "metadata": {
    "execution": {
     "iopub.execute_input": "2025-08-31T17:19:18.286275Z",
     "iopub.status.busy": "2025-08-31T17:19:18.284602Z",
     "iopub.status.idle": "2025-08-31T17:19:18.335037Z",
     "shell.execute_reply": "2025-08-31T17:19:18.332829Z"
    }
   },
   "outputs": [
    {
     "ename": "NameError",
     "evalue": "name 'df' is not defined",
     "output_type": "error",
     "traceback": [
      "\u001b[31m---------------------------------------------------------------------------\u001b[39m",
      "\u001b[31mNameError\u001b[39m                                 Traceback (most recent call last)",
      "\u001b[36mCell\u001b[39m\u001b[36m \u001b[39m\u001b[32mIn[33]\u001b[39m\u001b[32m, line 1\u001b[39m\n\u001b[32m----> \u001b[39m\u001b[32m1\u001b[39m \u001b[43mdf\u001b[49m.loc[:, \u001b[33m\"\u001b[39m\u001b[33mBody_Mass\u001b[39m\u001b[33m\"\u001b[39m].interpolate(method=\u001b[33m\"\u001b[39m\u001b[33mlinear\u001b[39m\u001b[33m\"\u001b[39m)\n",
      "\u001b[31mNameError\u001b[39m: name 'df' is not defined"
     ]
    }
   ],
   "source": [
    "df.loc[:, \"Body_Mass\"].interpolate(method=\"linear\")"
   ]
  },
  {
   "cell_type": "code",
   "execution_count": 34,
   "id": "c210dec2",
   "metadata": {
    "execution": {
     "iopub.execute_input": "2025-08-31T17:19:18.340279Z",
     "iopub.status.busy": "2025-08-31T17:19:18.339240Z",
     "iopub.status.idle": "2025-08-31T17:19:18.353325Z",
     "shell.execute_reply": "2025-08-31T17:19:18.351463Z"
    }
   },
   "outputs": [
    {
     "data": {
      "text/plain": [
       "1       1.0\n",
       "10      5.5\n",
       "100    10.0\n",
       "dtype: float64"
      ]
     },
     "execution_count": 34,
     "metadata": {},
     "output_type": "execute_result"
    }
   ],
   "source": [
    "# \"linear\"の場合\n",
    "pd.Series([1.0, None, 10], index=[1, 10, 100]).interpolate(method=\"linear\")"
   ]
  },
  {
   "cell_type": "code",
   "execution_count": 35,
   "id": "0ae00239",
   "metadata": {
    "execution": {
     "iopub.execute_input": "2025-08-31T17:19:18.358059Z",
     "iopub.status.busy": "2025-08-31T17:19:18.357299Z",
     "iopub.status.idle": "2025-08-31T17:19:18.374946Z",
     "shell.execute_reply": "2025-08-31T17:19:18.372646Z"
    }
   },
   "outputs": [
    {
     "data": {
      "text/plain": [
       "1       1.000000\n",
       "10      1.818182\n",
       "100    10.000000\n",
       "dtype: float64"
      ]
     },
     "execution_count": 35,
     "metadata": {},
     "output_type": "execute_result"
    }
   ],
   "source": [
    "# \"index\"の場合（\"values\"も同じ結果）\n",
    "pd.Series([1.0, None, 10], index=[1, 10, 100]).interpolate(method=\"index\")"
   ]
  },
  {
   "cell_type": "code",
   "execution_count": 36,
   "id": "9f9fe347",
   "metadata": {
    "execution": {
     "iopub.execute_input": "2025-08-31T17:19:18.380947Z",
     "iopub.status.busy": "2025-08-31T17:19:18.379874Z",
     "iopub.status.idle": "2025-08-31T17:19:18.395670Z",
     "shell.execute_reply": "2025-08-31T17:19:18.393737Z"
    }
   },
   "outputs": [
    {
     "data": {
      "text/plain": [
       "2023-01-01     1.000000\n",
       "2023-01-10     1.818182\n",
       "2023-04-10    10.000000\n",
       "dtype: float64"
      ]
     },
     "execution_count": 36,
     "metadata": {},
     "output_type": "execute_result"
    }
   ],
   "source": [
    "pd.Series(\n",
    "    [1.0, None, 10.0],\n",
    "    index=[\n",
    "        pd.Timestamp(\"2023-01-01\"),\n",
    "        pd.Timestamp(\"2023-01-10\"),\n",
    "        pd.Timestamp(\"2023-04-10\"),\n",
    "    ],\n",
    ").interpolate(method=\"time\")"
   ]
  }
 ],
 "metadata": {
  "language_info": {
   "codemirror_mode": {
    "name": "ipython",
    "version": 3
   },
   "file_extension": ".py",
   "mimetype": "text/x-python",
   "name": "python",
   "nbconvert_exporter": "python",
   "pygments_lexer": "ipython3",
   "version": "3.12.3"
  }
 },
 "nbformat": 4,
 "nbformat_minor": 5
}
