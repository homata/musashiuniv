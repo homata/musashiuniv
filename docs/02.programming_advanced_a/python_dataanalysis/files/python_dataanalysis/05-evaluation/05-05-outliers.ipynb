{
 "cells": [
  {
   "cell_type": "markdown",
   "id": "1b45650c",
   "metadata": {},
   "source": [
    "# 外れ値、異常値"
   ]
  },
  {
   "cell_type": "markdown",
   "id": "d1084f56",
   "metadata": {},
   "source": [
    "## 外れ値の確認"
   ]
  },
  {
   "cell_type": "markdown",
   "id": "1b8d96d9",
   "metadata": {},
   "source": [
    "### 箱ひげ図による外れ値の確認"
   ]
  },
  {
   "cell_type": "code",
   "execution_count": 1,
   "id": "32498126",
   "metadata": {
    "execution": {
     "iopub.execute_input": "2025-08-31T17:19:08.946003Z",
     "iopub.status.busy": "2025-08-31T17:19:08.944142Z",
     "iopub.status.idle": "2025-08-31T17:19:10.183635Z",
     "shell.execute_reply": "2025-08-31T17:19:10.181897Z"
    }
   },
   "outputs": [
    {
     "ename": "ModuleNotFoundError",
     "evalue": "No module named 'plotly'",
     "output_type": "error",
     "traceback": [
      "\u001b[31m---------------------------------------------------------------------------\u001b[39m",
      "\u001b[31mModuleNotFoundError\u001b[39m                       Traceback (most recent call last)",
      "\u001b[36mCell\u001b[39m\u001b[36m \u001b[39m\u001b[32mIn[1]\u001b[39m\u001b[32m, line 2\u001b[39m\n\u001b[32m      1\u001b[39m \u001b[38;5;28;01mimport\u001b[39;00m\u001b[38;5;250m \u001b[39m\u001b[34;01mpandas\u001b[39;00m\u001b[38;5;250m \u001b[39m\u001b[38;5;28;01mas\u001b[39;00m\u001b[38;5;250m \u001b[39m\u001b[34;01mpd\u001b[39;00m\n\u001b[32m----> \u001b[39m\u001b[32m2\u001b[39m \u001b[38;5;28;01mimport\u001b[39;00m\u001b[38;5;250m \u001b[39m\u001b[34;01mplotly\u001b[39;00m\u001b[34;01m.\u001b[39;00m\u001b[34;01mexpress\u001b[39;00m\u001b[38;5;250m \u001b[39m\u001b[38;5;28;01mas\u001b[39;00m\u001b[38;5;250m \u001b[39m\u001b[34;01mpx\u001b[39;00m\n\u001b[32m      4\u001b[39m df = pd.read_parquet(\u001b[33m\"\u001b[39m\u001b[33mdata/penguins.parquet\u001b[39m\u001b[33m\"\u001b[39m)\n\u001b[32m      5\u001b[39m px.box(df, x=\u001b[33m\"\u001b[39m\u001b[33mSpecies_short\u001b[39m\u001b[33m\"\u001b[39m, y=\u001b[33m\"\u001b[39m\u001b[33mBody_Mass\u001b[39m\u001b[33m\"\u001b[39m)\n",
      "\u001b[31mModuleNotFoundError\u001b[39m: No module named 'plotly'"
     ]
    }
   ],
   "source": [
    "import pandas as pd\n",
    "import plotly.express as px\n",
    "\n",
    "df = pd.read_parquet(\"data/penguins.parquet\")\n",
    "px.box(df, x=\"Species_short\", y=\"Body_Mass\")"
   ]
  },
  {
   "cell_type": "markdown",
   "id": "b6485458",
   "metadata": {},
   "source": [
    "### 分位点による外れ値の確認"
   ]
  },
  {
   "cell_type": "code",
   "execution_count": 2,
   "id": "0e158cfa",
   "metadata": {
    "execution": {
     "iopub.execute_input": "2025-08-31T17:19:10.188570Z",
     "iopub.status.busy": "2025-08-31T17:19:10.187947Z",
     "iopub.status.idle": "2025-08-31T17:19:10.236246Z",
     "shell.execute_reply": "2025-08-31T17:19:10.234760Z"
    }
   },
   "outputs": [
    {
     "ename": "NameError",
     "evalue": "name 'df' is not defined",
     "output_type": "error",
     "traceback": [
      "\u001b[31m---------------------------------------------------------------------------\u001b[39m",
      "\u001b[31mNameError\u001b[39m                                 Traceback (most recent call last)",
      "\u001b[36mCell\u001b[39m\u001b[36m \u001b[39m\u001b[32mIn[2]\u001b[39m\u001b[32m, line 1\u001b[39m\n\u001b[32m----> \u001b[39m\u001b[32m1\u001b[39m \u001b[43mdf\u001b[49m.groupby(\u001b[33m\"\u001b[39m\u001b[33mSpecies_short\u001b[39m\u001b[33m\"\u001b[39m)[\u001b[33m\"\u001b[39m\u001b[33mBody_Mass\u001b[39m\u001b[33m\"\u001b[39m].quantile(\n\u001b[32m      2\u001b[39m     q=[\u001b[32m0\u001b[39m, \u001b[32m0.01\u001b[39m, \u001b[32m0.05\u001b[39m, \u001b[32m0.95\u001b[39m, \u001b[32m0.99\u001b[39m, \u001b[32m1\u001b[39m]\n\u001b[32m      3\u001b[39m )\n",
      "\u001b[31mNameError\u001b[39m: name 'df' is not defined"
     ]
    }
   ],
   "source": [
    "df.groupby(\"Species_short\")[\"Body_Mass\"].quantile(\n",
    "    q=[0, 0.01, 0.05, 0.95, 0.99, 1]\n",
    ")"
   ]
  },
  {
   "cell_type": "markdown",
   "id": "52c693b0",
   "metadata": {},
   "source": [
    "### 正規分布と$2\\sigma$範囲による外れ値の確認"
   ]
  },
  {
   "cell_type": "code",
   "execution_count": 3,
   "id": "9d50d87a",
   "metadata": {
    "execution": {
     "iopub.execute_input": "2025-08-31T17:19:10.242579Z",
     "iopub.status.busy": "2025-08-31T17:19:10.241538Z",
     "iopub.status.idle": "2025-08-31T17:19:10.287595Z",
     "shell.execute_reply": "2025-08-31T17:19:10.285873Z"
    }
   },
   "outputs": [
    {
     "ename": "NameError",
     "evalue": "name 'df' is not defined",
     "output_type": "error",
     "traceback": [
      "\u001b[31m---------------------------------------------------------------------------\u001b[39m",
      "\u001b[31mNameError\u001b[39m                                 Traceback (most recent call last)",
      "\u001b[36mCell\u001b[39m\u001b[36m \u001b[39m\u001b[32mIn[3]\u001b[39m\u001b[32m, line 1\u001b[39m\n\u001b[32m----> \u001b[39m\u001b[32m1\u001b[39m df_chinstrap = \u001b[43mdf\u001b[49m.loc[df.loc[:, \u001b[33m\"\u001b[39m\u001b[33mSpecies_short\u001b[39m\u001b[33m\"\u001b[39m] == \u001b[33m\"\u001b[39m\u001b[33mChinstrap\u001b[39m\u001b[33m\"\u001b[39m, :]\n\u001b[32m      3\u001b[39m px.histogram(df_chinstrap, x=\u001b[33m\"\u001b[39m\u001b[33mBody_Mass\u001b[39m\u001b[33m\"\u001b[39m)\n",
      "\u001b[31mNameError\u001b[39m: name 'df' is not defined"
     ]
    }
   ],
   "source": [
    "df_chinstrap = df.loc[df.loc[:, \"Species_short\"] == \"Chinstrap\", :]\n",
    "\n",
    "px.histogram(df_chinstrap, x=\"Body_Mass\")"
   ]
  },
  {
   "cell_type": "code",
   "execution_count": 4,
   "id": "52a5ef43",
   "metadata": {
    "execution": {
     "iopub.execute_input": "2025-08-31T17:19:10.291841Z",
     "iopub.status.busy": "2025-08-31T17:19:10.291385Z",
     "iopub.status.idle": "2025-08-31T17:19:12.139905Z",
     "shell.execute_reply": "2025-08-31T17:19:12.138246Z"
    }
   },
   "outputs": [
    {
     "ename": "NameError",
     "evalue": "name 'df_chinstrap' is not defined",
     "output_type": "error",
     "traceback": [
      "\u001b[31m---------------------------------------------------------------------------\u001b[39m",
      "\u001b[31mNameError\u001b[39m                                 Traceback (most recent call last)",
      "\u001b[36mCell\u001b[39m\u001b[36m \u001b[39m\u001b[32mIn[4]\u001b[39m\u001b[32m, line 3\u001b[39m\n\u001b[32m      1\u001b[39m \u001b[38;5;28;01mimport\u001b[39;00m\u001b[38;5;250m \u001b[39m\u001b[34;01mscipy\u001b[39;00m\u001b[34;01m.\u001b[39;00m\u001b[34;01mstats\u001b[39;00m\u001b[38;5;250m \u001b[39m\u001b[38;5;28;01mas\u001b[39;00m\u001b[38;5;250m \u001b[39m\u001b[34;01mstats\u001b[39;00m\n\u001b[32m----> \u001b[39m\u001b[32m3\u001b[39m stats.shapiro(\u001b[43mdf_chinstrap\u001b[49m.loc[:, \u001b[33m\"\u001b[39m\u001b[33mBody_Mass\u001b[39m\u001b[33m\"\u001b[39m])\n",
      "\u001b[31mNameError\u001b[39m: name 'df_chinstrap' is not defined"
     ]
    }
   ],
   "source": [
    "import scipy.stats as stats\n",
    "\n",
    "stats.shapiro(df_chinstrap.loc[:, \"Body_Mass\"])"
   ]
  },
  {
   "cell_type": "code",
   "execution_count": 5,
   "id": "100da24b",
   "metadata": {
    "execution": {
     "iopub.execute_input": "2025-08-31T17:19:12.145108Z",
     "iopub.status.busy": "2025-08-31T17:19:12.144160Z",
     "iopub.status.idle": "2025-08-31T17:19:12.183496Z",
     "shell.execute_reply": "2025-08-31T17:19:12.182038Z"
    }
   },
   "outputs": [
    {
     "ename": "NameError",
     "evalue": "name 'df_chinstrap' is not defined",
     "output_type": "error",
     "traceback": [
      "\u001b[31m---------------------------------------------------------------------------\u001b[39m",
      "\u001b[31mNameError\u001b[39m                                 Traceback (most recent call last)",
      "\u001b[36mCell\u001b[39m\u001b[36m \u001b[39m\u001b[32mIn[5]\u001b[39m\u001b[32m, line 1\u001b[39m\n\u001b[32m----> \u001b[39m\u001b[32m1\u001b[39m sigma = \u001b[43mdf_chinstrap\u001b[49m.loc[:, \u001b[33m\"\u001b[39m\u001b[33mBody_Mass\u001b[39m\u001b[33m\"\u001b[39m].std()  \u001b[38;5;66;03m# 標準偏差\u001b[39;00m\n\u001b[32m      2\u001b[39m avg = df_chinstrap.loc[:, \u001b[33m\"\u001b[39m\u001b[33mBody_Mass\u001b[39m\u001b[33m\"\u001b[39m].mean()\n\u001b[32m      3\u001b[39m \u001b[38;5;28mprint\u001b[39m(\u001b[33mf\u001b[39m\u001b[33m\"\u001b[39m\u001b[33m下限値：\u001b[39m\u001b[38;5;132;01m{\u001b[39;00mavg\u001b[38;5;250m \u001b[39m-\u001b[38;5;250m \u001b[39m\u001b[32m2\u001b[39m\u001b[38;5;250m \u001b[39m*\u001b[38;5;250m \u001b[39msigma\u001b[38;5;132;01m}\u001b[39;00m\u001b[33m 上限値：\u001b[39m\u001b[38;5;132;01m{\u001b[39;00mavg\u001b[38;5;250m \u001b[39m+\u001b[38;5;250m \u001b[39m\u001b[32m2\u001b[39m\u001b[38;5;250m \u001b[39m*\u001b[38;5;250m \u001b[39msigma\u001b[38;5;132;01m}\u001b[39;00m\u001b[33m\"\u001b[39m)\n",
      "\u001b[31mNameError\u001b[39m: name 'df_chinstrap' is not defined"
     ]
    }
   ],
   "source": [
    "sigma = df_chinstrap.loc[:, \"Body_Mass\"].std()  # 標準偏差\n",
    "avg = df_chinstrap.loc[:, \"Body_Mass\"].mean()\n",
    "print(f\"下限値：{avg - 2 * sigma} 上限値：{avg + 2 * sigma}\")"
   ]
  },
  {
   "cell_type": "code",
   "execution_count": 6,
   "id": "464d2a87",
   "metadata": {
    "execution": {
     "iopub.execute_input": "2025-08-31T17:19:12.186961Z",
     "iopub.status.busy": "2025-08-31T17:19:12.186608Z",
     "iopub.status.idle": "2025-08-31T17:19:12.234090Z",
     "shell.execute_reply": "2025-08-31T17:19:12.232152Z"
    }
   },
   "outputs": [
    {
     "ename": "NameError",
     "evalue": "name 'df_chinstrap' is not defined",
     "output_type": "error",
     "traceback": [
      "\u001b[31m---------------------------------------------------------------------------\u001b[39m",
      "\u001b[31mNameError\u001b[39m                                 Traceback (most recent call last)",
      "\u001b[36mCell\u001b[39m\u001b[36m \u001b[39m\u001b[32mIn[6]\u001b[39m\u001b[32m, line 1\u001b[39m\n\u001b[32m----> \u001b[39m\u001b[32m1\u001b[39m \u001b[43mdf_chinstrap\u001b[49m.loc[:, \u001b[33m\"\u001b[39m\u001b[33mBody_Mass\u001b[39m\u001b[33m\"\u001b[39m].quantile(q=[\u001b[32m0.025\u001b[39m, \u001b[32m0.975\u001b[39m])\n",
      "\u001b[31mNameError\u001b[39m: name 'df_chinstrap' is not defined"
     ]
    }
   ],
   "source": [
    "df_chinstrap.loc[:, \"Body_Mass\"].quantile(q=[0.025, 0.975])"
   ]
  },
  {
   "cell_type": "markdown",
   "id": "8ffa851d",
   "metadata": {},
   "source": [
    "## 外れ値への対処方法"
   ]
  },
  {
   "cell_type": "markdown",
   "id": "2fa5678b",
   "metadata": {},
   "source": [
    "### 上限値と下限値の設定"
   ]
  },
  {
   "cell_type": "code",
   "execution_count": 7,
   "id": "17b3b739",
   "metadata": {
    "execution": {
     "iopub.execute_input": "2025-08-31T17:19:12.238710Z",
     "iopub.status.busy": "2025-08-31T17:19:12.238199Z",
     "iopub.status.idle": "2025-08-31T17:19:12.424217Z",
     "shell.execute_reply": "2025-08-31T17:19:12.422427Z"
    }
   },
   "outputs": [
    {
     "ename": "NameError",
     "evalue": "name 'df_chinstrap' is not defined",
     "output_type": "error",
     "traceback": [
      "\u001b[31m---------------------------------------------------------------------------\u001b[39m",
      "\u001b[31mNameError\u001b[39m                                 Traceback (most recent call last)",
      "\u001b[36mCell\u001b[39m\u001b[36m \u001b[39m\u001b[32mIn[7]\u001b[39m\u001b[32m, line 1\u001b[39m\n\u001b[32m----> \u001b[39m\u001b[32m1\u001b[39m df_chinstrap = \u001b[43mdf_chinstrap\u001b[49m.assign(\n\u001b[32m      2\u001b[39m     Body_Mass_clipped=df_chinstrap.loc[:, \u001b[33m\"\u001b[39m\u001b[33mBody_Mass\u001b[39m\u001b[33m\"\u001b[39m].clip(\n\u001b[32m      3\u001b[39m         lower=avg - \u001b[32m2\u001b[39m * sigma,\n\u001b[32m      4\u001b[39m         upper=avg + \u001b[32m2\u001b[39m * sigma,\n\u001b[32m      5\u001b[39m     )\n\u001b[32m      6\u001b[39m )\n",
      "\u001b[31mNameError\u001b[39m: name 'df_chinstrap' is not defined"
     ]
    }
   ],
   "source": [
    "df_chinstrap = df_chinstrap.assign(\n",
    "    Body_Mass_clipped=df_chinstrap.loc[:, \"Body_Mass\"].clip(\n",
    "        lower=avg - 2 * sigma,\n",
    "        upper=avg + 2 * sigma,\n",
    "    )\n",
    ")"
   ]
  },
  {
   "cell_type": "code",
   "execution_count": 8,
   "id": "06764deb",
   "metadata": {
    "execution": {
     "iopub.execute_input": "2025-08-31T17:19:12.429818Z",
     "iopub.status.busy": "2025-08-31T17:19:12.429259Z",
     "iopub.status.idle": "2025-08-31T17:19:12.479503Z",
     "shell.execute_reply": "2025-08-31T17:19:12.477539Z"
    }
   },
   "outputs": [
    {
     "ename": "NameError",
     "evalue": "name 'px' is not defined",
     "output_type": "error",
     "traceback": [
      "\u001b[31m---------------------------------------------------------------------------\u001b[39m",
      "\u001b[31mNameError\u001b[39m                                 Traceback (most recent call last)",
      "\u001b[36mCell\u001b[39m\u001b[36m \u001b[39m\u001b[32mIn[8]\u001b[39m\u001b[32m, line 1\u001b[39m\n\u001b[32m----> \u001b[39m\u001b[32m1\u001b[39m \u001b[43mpx\u001b[49m.histogram(\n\u001b[32m      2\u001b[39m     df_chinstrap.melt(\n\u001b[32m      3\u001b[39m         id_vars=\u001b[33m\"\u001b[39m\u001b[33mIndividual_ID\u001b[39m\u001b[33m\"\u001b[39m,\n\u001b[32m      4\u001b[39m         value_vars=[\u001b[33m\"\u001b[39m\u001b[33mBody_Mass\u001b[39m\u001b[33m\"\u001b[39m, \u001b[33m\"\u001b[39m\u001b[33mBody_Mass_clipped\u001b[39m\u001b[33m\"\u001b[39m],\n\u001b[32m      5\u001b[39m     ),\n\u001b[32m      6\u001b[39m     x=\u001b[33m\"\u001b[39m\u001b[33mvalue\u001b[39m\u001b[33m\"\u001b[39m,\n\u001b[32m      7\u001b[39m     facet_col=\u001b[33m\"\u001b[39m\u001b[33mvariable\u001b[39m\u001b[33m\"\u001b[39m,\n\u001b[32m      8\u001b[39m )\n",
      "\u001b[31mNameError\u001b[39m: name 'px' is not defined"
     ]
    }
   ],
   "source": [
    "px.histogram(\n",
    "    df_chinstrap.melt(\n",
    "        id_vars=\"Individual_ID\",\n",
    "        value_vars=[\"Body_Mass\", \"Body_Mass_clipped\"],\n",
    "    ),\n",
    "    x=\"value\",\n",
    "    facet_col=\"variable\",\n",
    ")"
   ]
  }
 ],
 "metadata": {
  "language_info": {
   "codemirror_mode": {
    "name": "ipython",
    "version": 3
   },
   "file_extension": ".py",
   "mimetype": "text/x-python",
   "name": "python",
   "nbconvert_exporter": "python",
   "pygments_lexer": "ipython3",
   "version": "3.12.3"
  }
 },
 "nbformat": 4,
 "nbformat_minor": 5
}
