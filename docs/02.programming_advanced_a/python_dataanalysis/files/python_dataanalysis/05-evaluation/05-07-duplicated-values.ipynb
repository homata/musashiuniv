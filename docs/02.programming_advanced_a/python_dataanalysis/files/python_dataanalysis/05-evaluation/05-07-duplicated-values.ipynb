{
 "cells": [
  {
   "cell_type": "markdown",
   "id": "97caabd6",
   "metadata": {},
   "source": [
    "# 値の重複"
   ]
  },
  {
   "cell_type": "markdown",
   "id": "5fa187d4",
   "metadata": {},
   "source": [
    "## 重複の有無の確認方法"
   ]
  },
  {
   "cell_type": "code",
   "execution_count": 1,
   "id": "efa21f03",
   "metadata": {
    "execution": {
     "iopub.execute_input": "2025-08-31T17:19:22.220934Z",
     "iopub.status.busy": "2025-08-31T17:19:22.220301Z",
     "iopub.status.idle": "2025-08-31T17:19:23.734220Z",
     "shell.execute_reply": "2025-08-31T17:19:23.730900Z"
    }
   },
   "outputs": [
    {
     "ename": "ImportError",
     "evalue": "Unable to find a usable engine; tried using: 'pyarrow', 'fastparquet'.\nA suitable version of pyarrow or fastparquet is required for parquet support.\nTrying to import the above resulted in these errors:\n - Missing optional dependency 'pyarrow'. pyarrow is required for parquet support. Use pip or conda to install pyarrow.\n - Missing optional dependency 'fastparquet'. fastparquet is required for parquet support. Use pip or conda to install fastparquet.",
     "output_type": "error",
     "traceback": [
      "\u001b[31m---------------------------------------------------------------------------\u001b[39m",
      "\u001b[31mImportError\u001b[39m                               Traceback (most recent call last)",
      "\u001b[36mCell\u001b[39m\u001b[36m \u001b[39m\u001b[32mIn[1]\u001b[39m\u001b[32m, line 3\u001b[39m\n\u001b[32m      1\u001b[39m \u001b[38;5;28;01mimport\u001b[39;00m\u001b[38;5;250m \u001b[39m\u001b[34;01mpandas\u001b[39;00m\u001b[38;5;250m \u001b[39m\u001b[38;5;28;01mas\u001b[39;00m\u001b[38;5;250m \u001b[39m\u001b[34;01mpd\u001b[39;00m\n\u001b[32m----> \u001b[39m\u001b[32m3\u001b[39m df = \u001b[43mpd\u001b[49m\u001b[43m.\u001b[49m\u001b[43mread_parquet\u001b[49m\u001b[43m(\u001b[49m\u001b[33;43m\"\u001b[39;49m\u001b[33;43mdata/penguins.parquet\u001b[39;49m\u001b[33;43m\"\u001b[39;49m\u001b[43m)\u001b[49m\n\u001b[32m      4\u001b[39m df_adelie = df.loc[df.loc[:, \u001b[33m\"\u001b[39m\u001b[33mSpecies_short\u001b[39m\u001b[33m\"\u001b[39m] == \u001b[33m\"\u001b[39m\u001b[33mAdelie\u001b[39m\u001b[33m\"\u001b[39m]  \u001b[38;5;66;03m# Adelieのみ\u001b[39;00m\n\u001b[32m      5\u001b[39m \u001b[38;5;28mprint\u001b[39m(df_adelie.shape)\n",
      "\u001b[36mFile \u001b[39m\u001b[32m~/workspace/musashiuniv/musashiuniv_manuscript/.venv/lib/python3.12/site-packages/pandas/io/parquet.py:653\u001b[39m, in \u001b[36mread_parquet\u001b[39m\u001b[34m(path, engine, columns, storage_options, use_nullable_dtypes, dtype_backend, filesystem, filters, **kwargs)\u001b[39m\n\u001b[32m    500\u001b[39m \u001b[38;5;129m@doc\u001b[39m(storage_options=_shared_docs[\u001b[33m\"\u001b[39m\u001b[33mstorage_options\u001b[39m\u001b[33m\"\u001b[39m])\n\u001b[32m    501\u001b[39m \u001b[38;5;28;01mdef\u001b[39;00m\u001b[38;5;250m \u001b[39m\u001b[34mread_parquet\u001b[39m(\n\u001b[32m    502\u001b[39m     path: FilePath | ReadBuffer[\u001b[38;5;28mbytes\u001b[39m],\n\u001b[32m   (...)\u001b[39m\u001b[32m    510\u001b[39m     **kwargs,\n\u001b[32m    511\u001b[39m ) -> DataFrame:\n\u001b[32m    512\u001b[39m \u001b[38;5;250m    \u001b[39m\u001b[33;03m\"\"\"\u001b[39;00m\n\u001b[32m    513\u001b[39m \u001b[33;03m    Load a parquet object from the file path, returning a DataFrame.\u001b[39;00m\n\u001b[32m    514\u001b[39m \n\u001b[32m   (...)\u001b[39m\u001b[32m    650\u001b[39m \u001b[33;03m    1    4    9\u001b[39;00m\n\u001b[32m    651\u001b[39m \u001b[33;03m    \"\"\"\u001b[39;00m\n\u001b[32m--> \u001b[39m\u001b[32m653\u001b[39m     impl = \u001b[43mget_engine\u001b[49m\u001b[43m(\u001b[49m\u001b[43mengine\u001b[49m\u001b[43m)\u001b[49m\n\u001b[32m    655\u001b[39m     \u001b[38;5;28;01mif\u001b[39;00m use_nullable_dtypes \u001b[38;5;129;01mis\u001b[39;00m \u001b[38;5;129;01mnot\u001b[39;00m lib.no_default:\n\u001b[32m    656\u001b[39m         msg = (\n\u001b[32m    657\u001b[39m             \u001b[33m\"\u001b[39m\u001b[33mThe argument \u001b[39m\u001b[33m'\u001b[39m\u001b[33muse_nullable_dtypes\u001b[39m\u001b[33m'\u001b[39m\u001b[33m is deprecated and will be removed \u001b[39m\u001b[33m\"\u001b[39m\n\u001b[32m    658\u001b[39m             \u001b[33m\"\u001b[39m\u001b[33min a future version.\u001b[39m\u001b[33m\"\u001b[39m\n\u001b[32m    659\u001b[39m         )\n",
      "\u001b[36mFile \u001b[39m\u001b[32m~/workspace/musashiuniv/musashiuniv_manuscript/.venv/lib/python3.12/site-packages/pandas/io/parquet.py:68\u001b[39m, in \u001b[36mget_engine\u001b[39m\u001b[34m(engine)\u001b[39m\n\u001b[32m     65\u001b[39m         \u001b[38;5;28;01mexcept\u001b[39;00m \u001b[38;5;167;01mImportError\u001b[39;00m \u001b[38;5;28;01mas\u001b[39;00m err:\n\u001b[32m     66\u001b[39m             error_msgs += \u001b[33m\"\u001b[39m\u001b[38;5;130;01m\\n\u001b[39;00m\u001b[33m - \u001b[39m\u001b[33m\"\u001b[39m + \u001b[38;5;28mstr\u001b[39m(err)\n\u001b[32m---> \u001b[39m\u001b[32m68\u001b[39m     \u001b[38;5;28;01mraise\u001b[39;00m \u001b[38;5;167;01mImportError\u001b[39;00m(\n\u001b[32m     69\u001b[39m         \u001b[33m\"\u001b[39m\u001b[33mUnable to find a usable engine; \u001b[39m\u001b[33m\"\u001b[39m\n\u001b[32m     70\u001b[39m         \u001b[33m\"\u001b[39m\u001b[33mtried using: \u001b[39m\u001b[33m'\u001b[39m\u001b[33mpyarrow\u001b[39m\u001b[33m'\u001b[39m\u001b[33m, \u001b[39m\u001b[33m'\u001b[39m\u001b[33mfastparquet\u001b[39m\u001b[33m'\u001b[39m\u001b[33m.\u001b[39m\u001b[38;5;130;01m\\n\u001b[39;00m\u001b[33m\"\u001b[39m\n\u001b[32m     71\u001b[39m         \u001b[33m\"\u001b[39m\u001b[33mA suitable version of \u001b[39m\u001b[33m\"\u001b[39m\n\u001b[32m     72\u001b[39m         \u001b[33m\"\u001b[39m\u001b[33mpyarrow or fastparquet is required for parquet \u001b[39m\u001b[33m\"\u001b[39m\n\u001b[32m     73\u001b[39m         \u001b[33m\"\u001b[39m\u001b[33msupport.\u001b[39m\u001b[38;5;130;01m\\n\u001b[39;00m\u001b[33m\"\u001b[39m\n\u001b[32m     74\u001b[39m         \u001b[33m\"\u001b[39m\u001b[33mTrying to import the above resulted in these errors:\u001b[39m\u001b[33m\"\u001b[39m\n\u001b[32m     75\u001b[39m         \u001b[33mf\u001b[39m\u001b[33m\"\u001b[39m\u001b[38;5;132;01m{\u001b[39;00merror_msgs\u001b[38;5;132;01m}\u001b[39;00m\u001b[33m\"\u001b[39m\n\u001b[32m     76\u001b[39m     )\n\u001b[32m     78\u001b[39m \u001b[38;5;28;01mif\u001b[39;00m engine == \u001b[33m\"\u001b[39m\u001b[33mpyarrow\u001b[39m\u001b[33m\"\u001b[39m:\n\u001b[32m     79\u001b[39m     \u001b[38;5;28;01mreturn\u001b[39;00m PyArrowImpl()\n",
      "\u001b[31mImportError\u001b[39m: Unable to find a usable engine; tried using: 'pyarrow', 'fastparquet'.\nA suitable version of pyarrow or fastparquet is required for parquet support.\nTrying to import the above resulted in these errors:\n - Missing optional dependency 'pyarrow'. pyarrow is required for parquet support. Use pip or conda to install pyarrow.\n - Missing optional dependency 'fastparquet'. fastparquet is required for parquet support. Use pip or conda to install fastparquet."
     ]
    }
   ],
   "source": [
    "import pandas as pd\n",
    "\n",
    "df = pd.read_parquet(\"data/penguins.parquet\")\n",
    "df_adelie = df.loc[df.loc[:, \"Species_short\"] == \"Adelie\"]  # Adelieのみ\n",
    "print(df_adelie.shape)"
   ]
  },
  {
   "cell_type": "code",
   "execution_count": 2,
   "id": "e5b38d2b",
   "metadata": {
    "execution": {
     "iopub.execute_input": "2025-08-31T17:19:23.741563Z",
     "iopub.status.busy": "2025-08-31T17:19:23.740348Z",
     "iopub.status.idle": "2025-08-31T17:19:23.795492Z",
     "shell.execute_reply": "2025-08-31T17:19:23.793944Z"
    }
   },
   "outputs": [
    {
     "ename": "NameError",
     "evalue": "name 'df_adelie' is not defined",
     "output_type": "error",
     "traceback": [
      "\u001b[31m---------------------------------------------------------------------------\u001b[39m",
      "\u001b[31mNameError\u001b[39m                                 Traceback (most recent call last)",
      "\u001b[36mCell\u001b[39m\u001b[36m \u001b[39m\u001b[32mIn[2]\u001b[39m\u001b[32m, line 1\u001b[39m\n\u001b[32m----> \u001b[39m\u001b[32m1\u001b[39m \u001b[43mdf_adelie\u001b[49m.nunique(dropna=\u001b[38;5;28;01mFalse\u001b[39;00m)\n",
      "\u001b[31mNameError\u001b[39m: name 'df_adelie' is not defined"
     ]
    }
   ],
   "source": [
    "df_adelie.nunique(dropna=False)"
   ]
  },
  {
   "cell_type": "code",
   "execution_count": 3,
   "id": "2101cf10",
   "metadata": {
    "execution": {
     "iopub.execute_input": "2025-08-31T17:19:23.800810Z",
     "iopub.status.busy": "2025-08-31T17:19:23.799837Z",
     "iopub.status.idle": "2025-08-31T17:19:23.848761Z",
     "shell.execute_reply": "2025-08-31T17:19:23.846830Z"
    }
   },
   "outputs": [
    {
     "ename": "NameError",
     "evalue": "name 'df_adelie' is not defined",
     "output_type": "error",
     "traceback": [
      "\u001b[31m---------------------------------------------------------------------------\u001b[39m",
      "\u001b[31mNameError\u001b[39m                                 Traceback (most recent call last)",
      "\u001b[36mCell\u001b[39m\u001b[36m \u001b[39m\u001b[32mIn[3]\u001b[39m\u001b[32m, line 2\u001b[39m\n\u001b[32m      1\u001b[39m \u001b[38;5;66;03m# データ全体\u001b[39;00m\n\u001b[32m----> \u001b[39m\u001b[32m2\u001b[39m \u001b[43mdf_adelie\u001b[49m.duplicated().sum()  \u001b[38;5;66;03m# 単に重複の有無を調べる場合はany()メソッド\u001b[39;00m\n",
      "\u001b[31mNameError\u001b[39m: name 'df_adelie' is not defined"
     ]
    }
   ],
   "source": [
    "# データ全体\n",
    "df_adelie.duplicated().sum()  # 単に重複の有無を調べる場合はany()メソッド"
   ]
  },
  {
   "cell_type": "code",
   "execution_count": 4,
   "id": "cb4d39ee",
   "metadata": {
    "execution": {
     "iopub.execute_input": "2025-08-31T17:19:23.854392Z",
     "iopub.status.busy": "2025-08-31T17:19:23.853411Z",
     "iopub.status.idle": "2025-08-31T17:19:23.903662Z",
     "shell.execute_reply": "2025-08-31T17:19:23.901365Z"
    }
   },
   "outputs": [
    {
     "ename": "NameError",
     "evalue": "name 'df_adelie' is not defined",
     "output_type": "error",
     "traceback": [
      "\u001b[31m---------------------------------------------------------------------------\u001b[39m",
      "\u001b[31mNameError\u001b[39m                                 Traceback (most recent call last)",
      "\u001b[36mCell\u001b[39m\u001b[36m \u001b[39m\u001b[32mIn[4]\u001b[39m\u001b[32m, line 2\u001b[39m\n\u001b[32m      1\u001b[39m \u001b[38;5;66;03m# subsetを指定する例\u001b[39;00m\n\u001b[32m----> \u001b[39m\u001b[32m2\u001b[39m \u001b[43mdf_adelie\u001b[49m.duplicated(\n\u001b[32m      3\u001b[39m     subset=[\n\u001b[32m      4\u001b[39m         \u001b[33m\"\u001b[39m\u001b[33mIndividual_ID\u001b[39m\u001b[33m\"\u001b[39m,\n\u001b[32m      5\u001b[39m     ]\n\u001b[32m      6\u001b[39m ).sum()\n",
      "\u001b[31mNameError\u001b[39m: name 'df_adelie' is not defined"
     ]
    }
   ],
   "source": [
    "# subsetを指定する例\n",
    "df_adelie.duplicated(\n",
    "    subset=[\n",
    "        \"Individual_ID\",\n",
    "    ]\n",
    ").sum()"
   ]
  },
  {
   "cell_type": "code",
   "execution_count": 5,
   "id": "6c8fbd06",
   "metadata": {
    "execution": {
     "iopub.execute_input": "2025-08-31T17:19:23.915625Z",
     "iopub.status.busy": "2025-08-31T17:19:23.914306Z",
     "iopub.status.idle": "2025-08-31T17:19:23.994680Z",
     "shell.execute_reply": "2025-08-31T17:19:23.992143Z"
    }
   },
   "outputs": [
    {
     "ename": "NameError",
     "evalue": "name 'df_adelie' is not defined",
     "output_type": "error",
     "traceback": [
      "\u001b[31m---------------------------------------------------------------------------\u001b[39m",
      "\u001b[31mNameError\u001b[39m                                 Traceback (most recent call last)",
      "\u001b[36mCell\u001b[39m\u001b[36m \u001b[39m\u001b[32mIn[5]\u001b[39m\u001b[32m, line 2\u001b[39m\n\u001b[32m      1\u001b[39m \u001b[38;5;66;03m# Individual_IDが重複している箇所（すべて、先頭部分）\u001b[39;00m\n\u001b[32m----> \u001b[39m\u001b[32m2\u001b[39m \u001b[43mdf_adelie\u001b[49m.loc[\n\u001b[32m      3\u001b[39m     df_adelie.loc[:, \u001b[33m\"\u001b[39m\u001b[33mIndividual_ID\u001b[39m\u001b[33m\"\u001b[39m].duplicated(keep=\u001b[38;5;28;01mFalse\u001b[39;00m)\n\u001b[32m      4\u001b[39m ].sort_values(by=\u001b[33m\"\u001b[39m\u001b[33mIndividual_ID\u001b[39m\u001b[33m\"\u001b[39m).head()\n",
      "\u001b[31mNameError\u001b[39m: name 'df_adelie' is not defined"
     ]
    }
   ],
   "source": [
    "# Individual_IDが重複している箇所（すべて、先頭部分）\n",
    "df_adelie.loc[\n",
    "    df_adelie.loc[:, \"Individual_ID\"].duplicated(keep=False)\n",
    "].sort_values(by=\"Individual_ID\").head()"
   ]
  },
  {
   "cell_type": "code",
   "execution_count": 6,
   "id": "253244aa",
   "metadata": {
    "execution": {
     "iopub.execute_input": "2025-08-31T17:19:24.000135Z",
     "iopub.status.busy": "2025-08-31T17:19:23.999156Z",
     "iopub.status.idle": "2025-08-31T17:19:24.060487Z",
     "shell.execute_reply": "2025-08-31T17:19:24.058677Z"
    }
   },
   "outputs": [
    {
     "ename": "NameError",
     "evalue": "name 'df_adelie' is not defined",
     "output_type": "error",
     "traceback": [
      "\u001b[31m---------------------------------------------------------------------------\u001b[39m",
      "\u001b[31mNameError\u001b[39m                                 Traceback (most recent call last)",
      "\u001b[36mCell\u001b[39m\u001b[36m \u001b[39m\u001b[32mIn[6]\u001b[39m\u001b[32m, line 2\u001b[39m\n\u001b[32m      1\u001b[39m \u001b[38;5;66;03m# Individual_IDが重複している箇所（最初の出現は含まない）\u001b[39;00m\n\u001b[32m----> \u001b[39m\u001b[32m2\u001b[39m \u001b[43mdf_adelie\u001b[49m.loc[\n\u001b[32m      3\u001b[39m     df_adelie.loc[:, \u001b[33m\"\u001b[39m\u001b[33mIndividual_ID\u001b[39m\u001b[33m\"\u001b[39m].duplicated(keep=\u001b[33m\"\u001b[39m\u001b[33mfirst\u001b[39m\u001b[33m\"\u001b[39m)\n\u001b[32m      4\u001b[39m ].sort_values(by=\u001b[33m\"\u001b[39m\u001b[33mIndividual_ID\u001b[39m\u001b[33m\"\u001b[39m).head()\n",
      "\u001b[31mNameError\u001b[39m: name 'df_adelie' is not defined"
     ]
    }
   ],
   "source": [
    "# Individual_IDが重複している箇所（最初の出現は含まない）\n",
    "df_adelie.loc[\n",
    "    df_adelie.loc[:, \"Individual_ID\"].duplicated(keep=\"first\")\n",
    "].sort_values(by=\"Individual_ID\").head()"
   ]
  },
  {
   "cell_type": "markdown",
   "id": "79b621af",
   "metadata": {},
   "source": [
    "## 重複の発生パターンと対処方法"
   ]
  },
  {
   "cell_type": "markdown",
   "id": "d66f0c87",
   "metadata": {},
   "source": [
    "### 行全体の重複への対処"
   ]
  },
  {
   "cell_type": "code",
   "execution_count": 7,
   "id": "5c079763",
   "metadata": {
    "execution": {
     "iopub.execute_input": "2025-08-31T17:19:24.066383Z",
     "iopub.status.busy": "2025-08-31T17:19:24.065291Z",
     "iopub.status.idle": "2025-08-31T17:19:24.126512Z",
     "shell.execute_reply": "2025-08-31T17:19:24.124898Z"
    }
   },
   "outputs": [
    {
     "ename": "NameError",
     "evalue": "name 'df_adelie' is not defined",
     "output_type": "error",
     "traceback": [
      "\u001b[31m---------------------------------------------------------------------------\u001b[39m",
      "\u001b[31mNameError\u001b[39m                                 Traceback (most recent call last)",
      "\u001b[36mCell\u001b[39m\u001b[36m \u001b[39m\u001b[32mIn[7]\u001b[39m\u001b[32m, line 2\u001b[39m\n\u001b[32m      1\u001b[39m df_adelie_duplicated = pd.concat(\n\u001b[32m----> \u001b[39m\u001b[32m2\u001b[39m     [\u001b[43mdf_adelie\u001b[49m, df_adelie]\n\u001b[32m      3\u001b[39m )  \u001b[38;5;66;03m# 重複のあるDataFrameを作成。\u001b[39;00m\n\u001b[32m      4\u001b[39m \u001b[38;5;28mprint\u001b[39m(\u001b[33mf\u001b[39m\u001b[33m\"\u001b[39m\u001b[33m重複あり：\u001b[39m\u001b[38;5;132;01m{\u001b[39;00mdf_adelie_duplicated.shape\u001b[38;5;132;01m}\u001b[39;00m\u001b[33m\"\u001b[39m)\n\u001b[32m      6\u001b[39m \u001b[38;5;28mprint\u001b[39m(\u001b[33mf\u001b[39m\u001b[33m\"\u001b[39m\u001b[33m重複除去：\u001b[39m\u001b[38;5;132;01m{\u001b[39;00mdf_adelie_duplicated.drop_duplicates().shape\u001b[38;5;132;01m}\u001b[39;00m\u001b[33m\"\u001b[39m)  \u001b[38;5;66;03m# 元と同じ\u001b[39;00m\n",
      "\u001b[31mNameError\u001b[39m: name 'df_adelie' is not defined"
     ]
    }
   ],
   "source": [
    "df_adelie_duplicated = pd.concat(\n",
    "    [df_adelie, df_adelie]\n",
    ")  # 重複のあるDataFrameを作成。\n",
    "print(f\"重複あり：{df_adelie_duplicated.shape}\")\n",
    "\n",
    "print(f\"重複除去：{df_adelie_duplicated.drop_duplicates().shape}\")  # 元と同じ"
   ]
  },
  {
   "cell_type": "markdown",
   "id": "41d239b0",
   "metadata": {},
   "source": [
    "### 一部の列の重複への対処"
   ]
  },
  {
   "cell_type": "code",
   "execution_count": 8,
   "id": "803c04b6",
   "metadata": {
    "execution": {
     "iopub.execute_input": "2025-08-31T17:19:24.133382Z",
     "iopub.status.busy": "2025-08-31T17:19:24.131735Z",
     "iopub.status.idle": "2025-08-31T17:19:24.179883Z",
     "shell.execute_reply": "2025-08-31T17:19:24.178259Z"
    }
   },
   "outputs": [
    {
     "ename": "NameError",
     "evalue": "name 'df_adelie' is not defined",
     "output_type": "error",
     "traceback": [
      "\u001b[31m---------------------------------------------------------------------------\u001b[39m",
      "\u001b[31mNameError\u001b[39m                                 Traceback (most recent call last)",
      "\u001b[36mCell\u001b[39m\u001b[36m \u001b[39m\u001b[32mIn[8]\u001b[39m\u001b[32m, line 2\u001b[39m\n\u001b[32m      1\u001b[39m \u001b[38;5;66;03m# 最初の出現を残す\u001b[39;00m\n\u001b[32m----> \u001b[39m\u001b[32m2\u001b[39m \u001b[43mdf_adelie\u001b[49m.drop_duplicates(\n\u001b[32m      3\u001b[39m     subset=[\n\u001b[32m      4\u001b[39m         \u001b[33m\"\u001b[39m\u001b[33mIndividual_ID\u001b[39m\u001b[33m\"\u001b[39m,\n\u001b[32m      5\u001b[39m     ],\n\u001b[32m      6\u001b[39m     keep=\u001b[33m\"\u001b[39m\u001b[33mfirst\u001b[39m\u001b[33m\"\u001b[39m,\n\u001b[32m      7\u001b[39m ).head()\n",
      "\u001b[31mNameError\u001b[39m: name 'df_adelie' is not defined"
     ]
    }
   ],
   "source": [
    "# 最初の出現を残す\n",
    "df_adelie.drop_duplicates(\n",
    "    subset=[\n",
    "        \"Individual_ID\",\n",
    "    ],\n",
    "    keep=\"first\",\n",
    ").head()"
   ]
  },
  {
   "cell_type": "code",
   "execution_count": 9,
   "id": "380cb8b3",
   "metadata": {
    "execution": {
     "iopub.execute_input": "2025-08-31T17:19:24.186564Z",
     "iopub.status.busy": "2025-08-31T17:19:24.184765Z",
     "iopub.status.idle": "2025-08-31T17:19:24.239984Z",
     "shell.execute_reply": "2025-08-31T17:19:24.238116Z"
    }
   },
   "outputs": [
    {
     "ename": "NameError",
     "evalue": "name 'df_adelie' is not defined",
     "output_type": "error",
     "traceback": [
      "\u001b[31m---------------------------------------------------------------------------\u001b[39m",
      "\u001b[31mNameError\u001b[39m                                 Traceback (most recent call last)",
      "\u001b[36mCell\u001b[39m\u001b[36m \u001b[39m\u001b[32mIn[9]\u001b[39m\u001b[32m, line 2\u001b[39m\n\u001b[32m      1\u001b[39m \u001b[38;5;66;03m# 最後の出現を残す\u001b[39;00m\n\u001b[32m----> \u001b[39m\u001b[32m2\u001b[39m \u001b[43mdf_adelie\u001b[49m.drop_duplicates(\n\u001b[32m      3\u001b[39m     subset=[\n\u001b[32m      4\u001b[39m         \u001b[33m\"\u001b[39m\u001b[33mIndividual_ID\u001b[39m\u001b[33m\"\u001b[39m,\n\u001b[32m      5\u001b[39m     ],\n\u001b[32m      6\u001b[39m     keep=\u001b[33m\"\u001b[39m\u001b[33mlast\u001b[39m\u001b[33m\"\u001b[39m,\n\u001b[32m      7\u001b[39m ).head()\n",
      "\u001b[31mNameError\u001b[39m: name 'df_adelie' is not defined"
     ]
    }
   ],
   "source": [
    "# 最後の出現を残す\n",
    "df_adelie.drop_duplicates(\n",
    "    subset=[\n",
    "        \"Individual_ID\",\n",
    "    ],\n",
    "    keep=\"last\",\n",
    ").head()"
   ]
  },
  {
   "cell_type": "code",
   "execution_count": 10,
   "id": "a8ebde79",
   "metadata": {
    "execution": {
     "iopub.execute_input": "2025-08-31T17:19:24.246618Z",
     "iopub.status.busy": "2025-08-31T17:19:24.245894Z",
     "iopub.status.idle": "2025-08-31T17:19:24.306170Z",
     "shell.execute_reply": "2025-08-31T17:19:24.304188Z"
    }
   },
   "outputs": [
    {
     "ename": "NameError",
     "evalue": "name 'df_adelie' is not defined",
     "output_type": "error",
     "traceback": [
      "\u001b[31m---------------------------------------------------------------------------\u001b[39m",
      "\u001b[31mNameError\u001b[39m                                 Traceback (most recent call last)",
      "\u001b[36mCell\u001b[39m\u001b[36m \u001b[39m\u001b[32mIn[10]\u001b[39m\u001b[32m, line 1\u001b[39m\n\u001b[32m----> \u001b[39m\u001b[32m1\u001b[39m \u001b[43mdf_adelie\u001b[49m.sort_values(by=\u001b[33m\"\u001b[39m\u001b[33mDate_Egg\u001b[39m\u001b[33m\"\u001b[39m, ascending=\u001b[38;5;28;01mFalse\u001b[39;00m).drop_duplicates(\n\u001b[32m      2\u001b[39m     subset=\u001b[33m\"\u001b[39m\u001b[33mIndividual_ID\u001b[39m\u001b[33m\"\u001b[39m, keep=\u001b[33m\"\u001b[39m\u001b[33mfirst\u001b[39m\u001b[33m\"\u001b[39m\n\u001b[32m      3\u001b[39m ).head()\n",
      "\u001b[31mNameError\u001b[39m: name 'df_adelie' is not defined"
     ]
    }
   ],
   "source": [
    "df_adelie.sort_values(by=\"Date_Egg\", ascending=False).drop_duplicates(\n",
    "    subset=\"Individual_ID\", keep=\"first\"\n",
    ").head()"
   ]
  },
  {
   "cell_type": "code",
   "execution_count": 11,
   "id": "67f86f05",
   "metadata": {
    "execution": {
     "iopub.execute_input": "2025-08-31T17:19:24.311421Z",
     "iopub.status.busy": "2025-08-31T17:19:24.310872Z",
     "iopub.status.idle": "2025-08-31T17:19:24.364597Z",
     "shell.execute_reply": "2025-08-31T17:19:24.362845Z"
    }
   },
   "outputs": [
    {
     "ename": "NameError",
     "evalue": "name 'df_adelie' is not defined",
     "output_type": "error",
     "traceback": [
      "\u001b[31m---------------------------------------------------------------------------\u001b[39m",
      "\u001b[31mNameError\u001b[39m                                 Traceback (most recent call last)",
      "\u001b[36mCell\u001b[39m\u001b[36m \u001b[39m\u001b[32mIn[11]\u001b[39m\u001b[32m, line 2\u001b[39m\n\u001b[32m      1\u001b[39m \u001b[38;5;66;03m# 平均値に集約\u001b[39;00m\n\u001b[32m----> \u001b[39m\u001b[32m2\u001b[39m df_adelie_agg = \u001b[43mdf_adelie\u001b[49m.groupby(\u001b[33m\"\u001b[39m\u001b[33mIndividual_ID\u001b[39m\u001b[33m\"\u001b[39m)[\u001b[33m\"\u001b[39m\u001b[33mFlipper_Length\u001b[39m\u001b[33m\"\u001b[39m].mean()\n\u001b[32m      3\u001b[39m df_adelie_agg.head()\n",
      "\u001b[31mNameError\u001b[39m: name 'df_adelie' is not defined"
     ]
    }
   ],
   "source": [
    "# 平均値に集約\n",
    "df_adelie_agg = df_adelie.groupby(\"Individual_ID\")[\"Flipper_Length\"].mean()\n",
    "df_adelie_agg.head()"
   ]
  },
  {
   "cell_type": "code",
   "execution_count": 12,
   "id": "8748bb1e",
   "metadata": {
    "execution": {
     "iopub.execute_input": "2025-08-31T17:19:24.371025Z",
     "iopub.status.busy": "2025-08-31T17:19:24.369697Z",
     "iopub.status.idle": "2025-08-31T17:19:24.423516Z",
     "shell.execute_reply": "2025-08-31T17:19:24.421453Z"
    }
   },
   "outputs": [
    {
     "ename": "NameError",
     "evalue": "name 'df_adelie_agg' is not defined",
     "output_type": "error",
     "traceback": [
      "\u001b[31m---------------------------------------------------------------------------\u001b[39m",
      "\u001b[31mNameError\u001b[39m                                 Traceback (most recent call last)",
      "\u001b[36mCell\u001b[39m\u001b[36m \u001b[39m\u001b[32mIn[12]\u001b[39m\u001b[32m, line 1\u001b[39m\n\u001b[32m----> \u001b[39m\u001b[32m1\u001b[39m \u001b[43mdf_adelie_agg\u001b[49m.shape\n",
      "\u001b[31mNameError\u001b[39m: name 'df_adelie_agg' is not defined"
     ]
    }
   ],
   "source": [
    "df_adelie_agg.shape"
   ]
  }
 ],
 "metadata": {
  "language_info": {
   "codemirror_mode": {
    "name": "ipython",
    "version": 3
   },
   "file_extension": ".py",
   "mimetype": "text/x-python",
   "name": "python",
   "nbconvert_exporter": "python",
   "pygments_lexer": "ipython3",
   "version": "3.12.3"
  }
 },
 "nbformat": 4,
 "nbformat_minor": 5
}
