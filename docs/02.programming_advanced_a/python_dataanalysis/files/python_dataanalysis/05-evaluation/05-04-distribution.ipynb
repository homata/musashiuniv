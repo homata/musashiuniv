{
 "cells": [
  {
   "cell_type": "markdown",
   "id": "40588a25",
   "metadata": {},
   "source": [
    "# データの分布の確認"
   ]
  },
  {
   "cell_type": "markdown",
   "id": "79f5f5fa",
   "metadata": {},
   "source": [
    "## 統計的な確認"
   ]
  },
  {
   "cell_type": "code",
   "execution_count": 1,
   "id": "a0b1c50d",
   "metadata": {
    "execution": {
     "iopub.execute_input": "2025-08-31T17:19:01.212930Z",
     "iopub.status.busy": "2025-08-31T17:19:01.212450Z",
     "iopub.status.idle": "2025-08-31T17:19:02.249848Z",
     "shell.execute_reply": "2025-08-31T17:19:02.248260Z"
    }
   },
   "outputs": [
    {
     "ename": "ImportError",
     "evalue": "Unable to find a usable engine; tried using: 'pyarrow', 'fastparquet'.\nA suitable version of pyarrow or fastparquet is required for parquet support.\nTrying to import the above resulted in these errors:\n - Missing optional dependency 'pyarrow'. pyarrow is required for parquet support. Use pip or conda to install pyarrow.\n - Missing optional dependency 'fastparquet'. fastparquet is required for parquet support. Use pip or conda to install fastparquet.",
     "output_type": "error",
     "traceback": [
      "\u001b[31m---------------------------------------------------------------------------\u001b[39m",
      "\u001b[31mImportError\u001b[39m                               Traceback (most recent call last)",
      "\u001b[36mCell\u001b[39m\u001b[36m \u001b[39m\u001b[32mIn[1]\u001b[39m\u001b[32m, line 3\u001b[39m\n\u001b[32m      1\u001b[39m \u001b[38;5;28;01mimport\u001b[39;00m\u001b[38;5;250m \u001b[39m\u001b[34;01mpandas\u001b[39;00m\u001b[38;5;250m \u001b[39m\u001b[38;5;28;01mas\u001b[39;00m\u001b[38;5;250m \u001b[39m\u001b[34;01mpd\u001b[39;00m\n\u001b[32m----> \u001b[39m\u001b[32m3\u001b[39m df = \u001b[43mpd\u001b[49m\u001b[43m.\u001b[49m\u001b[43mread_parquet\u001b[49m\u001b[43m(\u001b[49m\u001b[33;43m\"\u001b[39;49m\u001b[33;43mdata/penguins.parquet\u001b[39;49m\u001b[33;43m\"\u001b[39;49m\u001b[43m)\u001b[49m\n\u001b[32m      4\u001b[39m df.shape  \u001b[38;5;66;03m# 行数と列数\u001b[39;00m\n",
      "\u001b[36mFile \u001b[39m\u001b[32m~/workspace/musashiuniv/musashiuniv_manuscript/.venv/lib/python3.12/site-packages/pandas/io/parquet.py:653\u001b[39m, in \u001b[36mread_parquet\u001b[39m\u001b[34m(path, engine, columns, storage_options, use_nullable_dtypes, dtype_backend, filesystem, filters, **kwargs)\u001b[39m\n\u001b[32m    500\u001b[39m \u001b[38;5;129m@doc\u001b[39m(storage_options=_shared_docs[\u001b[33m\"\u001b[39m\u001b[33mstorage_options\u001b[39m\u001b[33m\"\u001b[39m])\n\u001b[32m    501\u001b[39m \u001b[38;5;28;01mdef\u001b[39;00m\u001b[38;5;250m \u001b[39m\u001b[34mread_parquet\u001b[39m(\n\u001b[32m    502\u001b[39m     path: FilePath | ReadBuffer[\u001b[38;5;28mbytes\u001b[39m],\n\u001b[32m   (...)\u001b[39m\u001b[32m    510\u001b[39m     **kwargs,\n\u001b[32m    511\u001b[39m ) -> DataFrame:\n\u001b[32m    512\u001b[39m \u001b[38;5;250m    \u001b[39m\u001b[33;03m\"\"\"\u001b[39;00m\n\u001b[32m    513\u001b[39m \u001b[33;03m    Load a parquet object from the file path, returning a DataFrame.\u001b[39;00m\n\u001b[32m    514\u001b[39m \n\u001b[32m   (...)\u001b[39m\u001b[32m    650\u001b[39m \u001b[33;03m    1    4    9\u001b[39;00m\n\u001b[32m    651\u001b[39m \u001b[33;03m    \"\"\"\u001b[39;00m\n\u001b[32m--> \u001b[39m\u001b[32m653\u001b[39m     impl = \u001b[43mget_engine\u001b[49m\u001b[43m(\u001b[49m\u001b[43mengine\u001b[49m\u001b[43m)\u001b[49m\n\u001b[32m    655\u001b[39m     \u001b[38;5;28;01mif\u001b[39;00m use_nullable_dtypes \u001b[38;5;129;01mis\u001b[39;00m \u001b[38;5;129;01mnot\u001b[39;00m lib.no_default:\n\u001b[32m    656\u001b[39m         msg = (\n\u001b[32m    657\u001b[39m             \u001b[33m\"\u001b[39m\u001b[33mThe argument \u001b[39m\u001b[33m'\u001b[39m\u001b[33muse_nullable_dtypes\u001b[39m\u001b[33m'\u001b[39m\u001b[33m is deprecated and will be removed \u001b[39m\u001b[33m\"\u001b[39m\n\u001b[32m    658\u001b[39m             \u001b[33m\"\u001b[39m\u001b[33min a future version.\u001b[39m\u001b[33m\"\u001b[39m\n\u001b[32m    659\u001b[39m         )\n",
      "\u001b[36mFile \u001b[39m\u001b[32m~/workspace/musashiuniv/musashiuniv_manuscript/.venv/lib/python3.12/site-packages/pandas/io/parquet.py:68\u001b[39m, in \u001b[36mget_engine\u001b[39m\u001b[34m(engine)\u001b[39m\n\u001b[32m     65\u001b[39m         \u001b[38;5;28;01mexcept\u001b[39;00m \u001b[38;5;167;01mImportError\u001b[39;00m \u001b[38;5;28;01mas\u001b[39;00m err:\n\u001b[32m     66\u001b[39m             error_msgs += \u001b[33m\"\u001b[39m\u001b[38;5;130;01m\\n\u001b[39;00m\u001b[33m - \u001b[39m\u001b[33m\"\u001b[39m + \u001b[38;5;28mstr\u001b[39m(err)\n\u001b[32m---> \u001b[39m\u001b[32m68\u001b[39m     \u001b[38;5;28;01mraise\u001b[39;00m \u001b[38;5;167;01mImportError\u001b[39;00m(\n\u001b[32m     69\u001b[39m         \u001b[33m\"\u001b[39m\u001b[33mUnable to find a usable engine; \u001b[39m\u001b[33m\"\u001b[39m\n\u001b[32m     70\u001b[39m         \u001b[33m\"\u001b[39m\u001b[33mtried using: \u001b[39m\u001b[33m'\u001b[39m\u001b[33mpyarrow\u001b[39m\u001b[33m'\u001b[39m\u001b[33m, \u001b[39m\u001b[33m'\u001b[39m\u001b[33mfastparquet\u001b[39m\u001b[33m'\u001b[39m\u001b[33m.\u001b[39m\u001b[38;5;130;01m\\n\u001b[39;00m\u001b[33m\"\u001b[39m\n\u001b[32m     71\u001b[39m         \u001b[33m\"\u001b[39m\u001b[33mA suitable version of \u001b[39m\u001b[33m\"\u001b[39m\n\u001b[32m     72\u001b[39m         \u001b[33m\"\u001b[39m\u001b[33mpyarrow or fastparquet is required for parquet \u001b[39m\u001b[33m\"\u001b[39m\n\u001b[32m     73\u001b[39m         \u001b[33m\"\u001b[39m\u001b[33msupport.\u001b[39m\u001b[38;5;130;01m\\n\u001b[39;00m\u001b[33m\"\u001b[39m\n\u001b[32m     74\u001b[39m         \u001b[33m\"\u001b[39m\u001b[33mTrying to import the above resulted in these errors:\u001b[39m\u001b[33m\"\u001b[39m\n\u001b[32m     75\u001b[39m         \u001b[33mf\u001b[39m\u001b[33m\"\u001b[39m\u001b[38;5;132;01m{\u001b[39;00merror_msgs\u001b[38;5;132;01m}\u001b[39;00m\u001b[33m\"\u001b[39m\n\u001b[32m     76\u001b[39m     )\n\u001b[32m     78\u001b[39m \u001b[38;5;28;01mif\u001b[39;00m engine == \u001b[33m\"\u001b[39m\u001b[33mpyarrow\u001b[39m\u001b[33m\"\u001b[39m:\n\u001b[32m     79\u001b[39m     \u001b[38;5;28;01mreturn\u001b[39;00m PyArrowImpl()\n",
      "\u001b[31mImportError\u001b[39m: Unable to find a usable engine; tried using: 'pyarrow', 'fastparquet'.\nA suitable version of pyarrow or fastparquet is required for parquet support.\nTrying to import the above resulted in these errors:\n - Missing optional dependency 'pyarrow'. pyarrow is required for parquet support. Use pip or conda to install pyarrow.\n - Missing optional dependency 'fastparquet'. fastparquet is required for parquet support. Use pip or conda to install fastparquet."
     ]
    }
   ],
   "source": [
    "import pandas as pd\n",
    "\n",
    "df = pd.read_parquet(\"data/penguins.parquet\")\n",
    "df.shape  # 行数と列数"
   ]
  },
  {
   "cell_type": "code",
   "execution_count": 2,
   "id": "c7aac597",
   "metadata": {
    "execution": {
     "iopub.execute_input": "2025-08-31T17:19:02.253632Z",
     "iopub.status.busy": "2025-08-31T17:19:02.253240Z",
     "iopub.status.idle": "2025-08-31T17:19:02.288714Z",
     "shell.execute_reply": "2025-08-31T17:19:02.287122Z"
    }
   },
   "outputs": [
    {
     "ename": "NameError",
     "evalue": "name 'df' is not defined",
     "output_type": "error",
     "traceback": [
      "\u001b[31m---------------------------------------------------------------------------\u001b[39m",
      "\u001b[31mNameError\u001b[39m                                 Traceback (most recent call last)",
      "\u001b[36mCell\u001b[39m\u001b[36m \u001b[39m\u001b[32mIn[2]\u001b[39m\u001b[32m, line 1\u001b[39m\n\u001b[32m----> \u001b[39m\u001b[32m1\u001b[39m \u001b[43mdf\u001b[49m.loc[:, \u001b[33m\"\u001b[39m\u001b[33mSex\u001b[39m\u001b[33m\"\u001b[39m].value_counts(dropna=\u001b[38;5;28;01mFalse\u001b[39;00m)\n",
      "\u001b[31mNameError\u001b[39m: name 'df' is not defined"
     ]
    }
   ],
   "source": [
    "df.loc[:, \"Sex\"].value_counts(dropna=False)"
   ]
  },
  {
   "cell_type": "code",
   "execution_count": 3,
   "id": "41a9cfbb",
   "metadata": {
    "execution": {
     "iopub.execute_input": "2025-08-31T17:19:02.292131Z",
     "iopub.status.busy": "2025-08-31T17:19:02.291781Z",
     "iopub.status.idle": "2025-08-31T17:19:02.330332Z",
     "shell.execute_reply": "2025-08-31T17:19:02.328681Z"
    }
   },
   "outputs": [
    {
     "ename": "NameError",
     "evalue": "name 'df' is not defined",
     "output_type": "error",
     "traceback": [
      "\u001b[31m---------------------------------------------------------------------------\u001b[39m",
      "\u001b[31mNameError\u001b[39m                                 Traceback (most recent call last)",
      "\u001b[36mCell\u001b[39m\u001b[36m \u001b[39m\u001b[32mIn[3]\u001b[39m\u001b[32m, line 1\u001b[39m\n\u001b[32m----> \u001b[39m\u001b[32m1\u001b[39m \u001b[43mdf\u001b[49m.loc[:, \u001b[33m\"\u001b[39m\u001b[33mSex\u001b[39m\u001b[33m\"\u001b[39m].value_counts(ascending=\u001b[38;5;28;01mTrue\u001b[39;00m, dropna=\u001b[38;5;28;01mFalse\u001b[39;00m)\n",
      "\u001b[31mNameError\u001b[39m: name 'df' is not defined"
     ]
    }
   ],
   "source": [
    "df.loc[:, \"Sex\"].value_counts(ascending=True, dropna=False)"
   ]
  },
  {
   "cell_type": "code",
   "execution_count": 4,
   "id": "c8a8139a",
   "metadata": {
    "execution": {
     "iopub.execute_input": "2025-08-31T17:19:02.334488Z",
     "iopub.status.busy": "2025-08-31T17:19:02.334046Z",
     "iopub.status.idle": "2025-08-31T17:19:02.376904Z",
     "shell.execute_reply": "2025-08-31T17:19:02.375049Z"
    }
   },
   "outputs": [
    {
     "ename": "NameError",
     "evalue": "name 'df' is not defined",
     "output_type": "error",
     "traceback": [
      "\u001b[31m---------------------------------------------------------------------------\u001b[39m",
      "\u001b[31mNameError\u001b[39m                                 Traceback (most recent call last)",
      "\u001b[36mCell\u001b[39m\u001b[36m \u001b[39m\u001b[32mIn[4]\u001b[39m\u001b[32m, line 1\u001b[39m\n\u001b[32m----> \u001b[39m\u001b[32m1\u001b[39m \u001b[43mdf\u001b[49m.loc[:, \u001b[33m\"\u001b[39m\u001b[33mSex\u001b[39m\u001b[33m\"\u001b[39m].value_counts(sort=\u001b[38;5;28;01mFalse\u001b[39;00m, dropna=\u001b[38;5;28;01mFalse\u001b[39;00m)\n",
      "\u001b[31mNameError\u001b[39m: name 'df' is not defined"
     ]
    }
   ],
   "source": [
    "df.loc[:, \"Sex\"].value_counts(sort=False, dropna=False)"
   ]
  },
  {
   "cell_type": "code",
   "execution_count": 5,
   "id": "28d97406",
   "metadata": {
    "execution": {
     "iopub.execute_input": "2025-08-31T17:19:02.380881Z",
     "iopub.status.busy": "2025-08-31T17:19:02.380432Z",
     "iopub.status.idle": "2025-08-31T17:19:02.423399Z",
     "shell.execute_reply": "2025-08-31T17:19:02.421504Z"
    }
   },
   "outputs": [
    {
     "ename": "NameError",
     "evalue": "name 'df' is not defined",
     "output_type": "error",
     "traceback": [
      "\u001b[31m---------------------------------------------------------------------------\u001b[39m",
      "\u001b[31mNameError\u001b[39m                                 Traceback (most recent call last)",
      "\u001b[36mCell\u001b[39m\u001b[36m \u001b[39m\u001b[32mIn[5]\u001b[39m\u001b[32m, line 1\u001b[39m\n\u001b[32m----> \u001b[39m\u001b[32m1\u001b[39m \u001b[43mdf\u001b[49m.loc[:, \u001b[33m\"\u001b[39m\u001b[33mSex\u001b[39m\u001b[33m\"\u001b[39m].value_counts(normalize=\u001b[38;5;28;01mTrue\u001b[39;00m, dropna=\u001b[38;5;28;01mFalse\u001b[39;00m)\n",
      "\u001b[31mNameError\u001b[39m: name 'df' is not defined"
     ]
    }
   ],
   "source": [
    "df.loc[:, \"Sex\"].value_counts(normalize=True, dropna=False)"
   ]
  },
  {
   "cell_type": "markdown",
   "id": "cca9b097",
   "metadata": {},
   "source": [
    "## ヒストグラムによる分布の確認"
   ]
  },
  {
   "cell_type": "code",
   "execution_count": 6,
   "id": "e48dc328",
   "metadata": {
    "execution": {
     "iopub.execute_input": "2025-08-31T17:19:02.427339Z",
     "iopub.status.busy": "2025-08-31T17:19:02.426917Z",
     "iopub.status.idle": "2025-08-31T17:19:02.471004Z",
     "shell.execute_reply": "2025-08-31T17:19:02.469279Z"
    }
   },
   "outputs": [
    {
     "ename": "ModuleNotFoundError",
     "evalue": "No module named 'plotly'",
     "output_type": "error",
     "traceback": [
      "\u001b[31m---------------------------------------------------------------------------\u001b[39m",
      "\u001b[31mModuleNotFoundError\u001b[39m                       Traceback (most recent call last)",
      "\u001b[36mCell\u001b[39m\u001b[36m \u001b[39m\u001b[32mIn[6]\u001b[39m\u001b[32m, line 1\u001b[39m\n\u001b[32m----> \u001b[39m\u001b[32m1\u001b[39m \u001b[38;5;28;01mimport\u001b[39;00m\u001b[38;5;250m \u001b[39m\u001b[34;01mplotly\u001b[39;00m\u001b[34;01m.\u001b[39;00m\u001b[34;01mexpress\u001b[39;00m\u001b[38;5;250m \u001b[39m\u001b[38;5;28;01mas\u001b[39;00m\u001b[38;5;250m \u001b[39m\u001b[34;01mpx\u001b[39;00m\n\u001b[32m      3\u001b[39m px.histogram(df, x=\u001b[33m\"\u001b[39m\u001b[33mFlipper_Length\u001b[39m\u001b[33m\"\u001b[39m)\n",
      "\u001b[31mModuleNotFoundError\u001b[39m: No module named 'plotly'"
     ]
    }
   ],
   "source": [
    "import plotly.express as px\n",
    "\n",
    "px.histogram(df, x=\"Flipper_Length\")"
   ]
  },
  {
   "cell_type": "code",
   "execution_count": 7,
   "id": "f285a416",
   "metadata": {
    "execution": {
     "iopub.execute_input": "2025-08-31T17:19:02.475523Z",
     "iopub.status.busy": "2025-08-31T17:19:02.475098Z",
     "iopub.status.idle": "2025-08-31T17:19:02.520487Z",
     "shell.execute_reply": "2025-08-31T17:19:02.518799Z"
    }
   },
   "outputs": [
    {
     "ename": "NameError",
     "evalue": "name 'df' is not defined",
     "output_type": "error",
     "traceback": [
      "\u001b[31m---------------------------------------------------------------------------\u001b[39m",
      "\u001b[31mNameError\u001b[39m                                 Traceback (most recent call last)",
      "\u001b[36mCell\u001b[39m\u001b[36m \u001b[39m\u001b[32mIn[7]\u001b[39m\u001b[32m, line 2\u001b[39m\n\u001b[32m      1\u001b[39m flipper_ranges = pd.cut(\n\u001b[32m----> \u001b[39m\u001b[32m2\u001b[39m     \u001b[43mdf\u001b[49m.loc[:, \u001b[33m\"\u001b[39m\u001b[33mFlipper_Length\u001b[39m\u001b[33m\"\u001b[39m],\n\u001b[32m      3\u001b[39m     bins=[\u001b[32m0\u001b[39m, \u001b[32m205\u001b[39m, \u001b[32m300\u001b[39m],\n\u001b[32m      4\u001b[39m )\n\u001b[32m      5\u001b[39m df.groupby(flipper_ranges)[\u001b[33m\"\u001b[39m\u001b[33mSpecies_short\u001b[39m\u001b[33m\"\u001b[39m].value_counts()\n",
      "\u001b[31mNameError\u001b[39m: name 'df' is not defined"
     ]
    }
   ],
   "source": [
    "flipper_ranges = pd.cut(\n",
    "    df.loc[:, \"Flipper_Length\"],\n",
    "    bins=[0, 205, 300],\n",
    ")\n",
    "df.groupby(flipper_ranges)[\"Species_short\"].value_counts()"
   ]
  },
  {
   "cell_type": "code",
   "execution_count": 8,
   "id": "413acc07",
   "metadata": {
    "execution": {
     "iopub.execute_input": "2025-08-31T17:19:02.524713Z",
     "iopub.status.busy": "2025-08-31T17:19:02.523947Z",
     "iopub.status.idle": "2025-08-31T17:19:02.575860Z",
     "shell.execute_reply": "2025-08-31T17:19:02.572885Z"
    }
   },
   "outputs": [
    {
     "ename": "NameError",
     "evalue": "name 'px' is not defined",
     "output_type": "error",
     "traceback": [
      "\u001b[31m---------------------------------------------------------------------------\u001b[39m",
      "\u001b[31mNameError\u001b[39m                                 Traceback (most recent call last)",
      "\u001b[36mCell\u001b[39m\u001b[36m \u001b[39m\u001b[32mIn[8]\u001b[39m\u001b[32m, line 1\u001b[39m\n\u001b[32m----> \u001b[39m\u001b[32m1\u001b[39m \u001b[43mpx\u001b[49m.histogram(\n\u001b[32m      2\u001b[39m     df,\n\u001b[32m      3\u001b[39m     x=\u001b[33m\"\u001b[39m\u001b[33mFlipper_Length\u001b[39m\u001b[33m\"\u001b[39m,\n\u001b[32m      4\u001b[39m     color=\u001b[33m\"\u001b[39m\u001b[33mSpecies_short\u001b[39m\u001b[33m\"\u001b[39m,\n\u001b[32m      5\u001b[39m     color_discrete_sequence=px.colors.qualitative.Dark2,\n\u001b[32m      6\u001b[39m     pattern_shape=\u001b[33m\"\u001b[39m\u001b[33mSpecies_short\u001b[39m\u001b[33m\"\u001b[39m,\n\u001b[32m      7\u001b[39m     opacity=\u001b[32m0.7\u001b[39m,\n\u001b[32m      8\u001b[39m     barmode=\u001b[33m\"\u001b[39m\u001b[33moverlay\u001b[39m\u001b[33m\"\u001b[39m,\n\u001b[32m      9\u001b[39m )\n",
      "\u001b[31mNameError\u001b[39m: name 'px' is not defined"
     ]
    }
   ],
   "source": [
    "px.histogram(\n",
    "    df,\n",
    "    x=\"Flipper_Length\",\n",
    "    color=\"Species_short\",\n",
    "    color_discrete_sequence=px.colors.qualitative.Dark2,\n",
    "    pattern_shape=\"Species_short\",\n",
    "    opacity=0.7,\n",
    "    barmode=\"overlay\",\n",
    ")"
   ]
  },
  {
   "cell_type": "code",
   "execution_count": 9,
   "id": "e0b8aaa1",
   "metadata": {
    "execution": {
     "iopub.execute_input": "2025-08-31T17:19:02.587668Z",
     "iopub.status.busy": "2025-08-31T17:19:02.586231Z",
     "iopub.status.idle": "2025-08-31T17:19:02.702305Z",
     "shell.execute_reply": "2025-08-31T17:19:02.700407Z"
    }
   },
   "outputs": [
    {
     "ename": "NameError",
     "evalue": "name 'px' is not defined",
     "output_type": "error",
     "traceback": [
      "\u001b[31m---------------------------------------------------------------------------\u001b[39m",
      "\u001b[31mNameError\u001b[39m                                 Traceback (most recent call last)",
      "\u001b[36mCell\u001b[39m\u001b[36m \u001b[39m\u001b[32mIn[9]\u001b[39m\u001b[32m, line 1\u001b[39m\n\u001b[32m----> \u001b[39m\u001b[32m1\u001b[39m \u001b[43mpx\u001b[49m.histogram(df, x=\u001b[33m\"\u001b[39m\u001b[33mFlipper_Length\u001b[39m\u001b[33m\"\u001b[39m, nbins=\u001b[32m4\u001b[39m)\n",
      "\u001b[31mNameError\u001b[39m: name 'px' is not defined"
     ]
    }
   ],
   "source": [
    "px.histogram(df, x=\"Flipper_Length\", nbins=4)"
   ]
  },
  {
   "cell_type": "code",
   "execution_count": 10,
   "id": "ed91f0ea",
   "metadata": {
    "execution": {
     "iopub.execute_input": "2025-08-31T17:19:02.707238Z",
     "iopub.status.busy": "2025-08-31T17:19:02.706607Z",
     "iopub.status.idle": "2025-08-31T17:19:02.769163Z",
     "shell.execute_reply": "2025-08-31T17:19:02.767606Z"
    }
   },
   "outputs": [
    {
     "ename": "NameError",
     "evalue": "name 'df' is not defined",
     "output_type": "error",
     "traceback": [
      "\u001b[31m---------------------------------------------------------------------------\u001b[39m",
      "\u001b[31mNameError\u001b[39m                                 Traceback (most recent call last)",
      "\u001b[36mCell\u001b[39m\u001b[36m \u001b[39m\u001b[32mIn[10]\u001b[39m\u001b[32m, line 4\u001b[39m\n\u001b[32m      1\u001b[39m \u001b[38;5;28;01mimport\u001b[39;00m\u001b[38;5;250m \u001b[39m\u001b[34;01mnumpy\u001b[39;00m\u001b[38;5;250m \u001b[39m\u001b[38;5;28;01mas\u001b[39;00m\u001b[38;5;250m \u001b[39m\u001b[34;01mnp\u001b[39;00m\n\u001b[32m      3\u001b[39m bin_edges = np.histogram_bin_edges(\n\u001b[32m----> \u001b[39m\u001b[32m4\u001b[39m     \u001b[43mdf\u001b[49m.loc[:, \u001b[33m\"\u001b[39m\u001b[33mFlipper_Length\u001b[39m\u001b[33m\"\u001b[39m].dropna(),\n\u001b[32m      5\u001b[39m     bins=\u001b[33m\"\u001b[39m\u001b[33mauto\u001b[39m\u001b[33m\"\u001b[39m,\n\u001b[32m      6\u001b[39m )\n\u001b[32m      7\u001b[39m \u001b[38;5;28mprint\u001b[39m(\u001b[38;5;28mlen\u001b[39m(bin_edges))  \u001b[38;5;66;03m# 区間のしきい値の数（両端含む）\u001b[39;00m\n",
      "\u001b[31mNameError\u001b[39m: name 'df' is not defined"
     ]
    }
   ],
   "source": [
    "import numpy as np\n",
    "\n",
    "bin_edges = np.histogram_bin_edges(\n",
    "    df.loc[:, \"Flipper_Length\"].dropna(),\n",
    "    bins=\"auto\",\n",
    ")\n",
    "print(len(bin_edges))  # 区間のしきい値の数（両端含む）"
   ]
  },
  {
   "cell_type": "markdown",
   "id": "afa7d1dd",
   "metadata": {},
   "source": [
    "## 散布図による分布の確認"
   ]
  },
  {
   "cell_type": "code",
   "execution_count": 11,
   "id": "63355942",
   "metadata": {
    "execution": {
     "iopub.execute_input": "2025-08-31T17:19:02.773874Z",
     "iopub.status.busy": "2025-08-31T17:19:02.773076Z",
     "iopub.status.idle": "2025-08-31T17:19:02.817933Z",
     "shell.execute_reply": "2025-08-31T17:19:02.815841Z"
    }
   },
   "outputs": [
    {
     "ename": "NameError",
     "evalue": "name 'px' is not defined",
     "output_type": "error",
     "traceback": [
      "\u001b[31m---------------------------------------------------------------------------\u001b[39m",
      "\u001b[31mNameError\u001b[39m                                 Traceback (most recent call last)",
      "\u001b[36mCell\u001b[39m\u001b[36m \u001b[39m\u001b[32mIn[11]\u001b[39m\u001b[32m, line 1\u001b[39m\n\u001b[32m----> \u001b[39m\u001b[32m1\u001b[39m \u001b[43mpx\u001b[49m.scatter(\n\u001b[32m      2\u001b[39m     df,\n\u001b[32m      3\u001b[39m     x=\u001b[33m\"\u001b[39m\u001b[33mCulmen_Length\u001b[39m\u001b[33m\"\u001b[39m,\n\u001b[32m      4\u001b[39m     y=\u001b[33m\"\u001b[39m\u001b[33mFlipper_Length\u001b[39m\u001b[33m\"\u001b[39m,\n\u001b[32m      5\u001b[39m     color=\u001b[33m\"\u001b[39m\u001b[33mSpecies_short\u001b[39m\u001b[33m\"\u001b[39m,\n\u001b[32m      6\u001b[39m     color_discrete_sequence=px.colors.qualitative.Dark2,\n\u001b[32m      7\u001b[39m     symbol=\u001b[33m\"\u001b[39m\u001b[33mSpecies_short\u001b[39m\u001b[33m\"\u001b[39m,\n\u001b[32m      8\u001b[39m )\n",
      "\u001b[31mNameError\u001b[39m: name 'px' is not defined"
     ]
    }
   ],
   "source": [
    "px.scatter(\n",
    "    df,\n",
    "    x=\"Culmen_Length\",\n",
    "    y=\"Flipper_Length\",\n",
    "    color=\"Species_short\",\n",
    "    color_discrete_sequence=px.colors.qualitative.Dark2,\n",
    "    symbol=\"Species_short\",\n",
    ")"
   ]
  },
  {
   "cell_type": "code",
   "execution_count": 12,
   "id": "075e806d",
   "metadata": {
    "execution": {
     "iopub.execute_input": "2025-08-31T17:19:02.822412Z",
     "iopub.status.busy": "2025-08-31T17:19:02.821859Z",
     "iopub.status.idle": "2025-08-31T17:19:02.867628Z",
     "shell.execute_reply": "2025-08-31T17:19:02.865936Z"
    }
   },
   "outputs": [
    {
     "ename": "NameError",
     "evalue": "name 'df' is not defined",
     "output_type": "error",
     "traceback": [
      "\u001b[31m---------------------------------------------------------------------------\u001b[39m",
      "\u001b[31mNameError\u001b[39m                                 Traceback (most recent call last)",
      "\u001b[36mCell\u001b[39m\u001b[36m \u001b[39m\u001b[32mIn[12]\u001b[39m\u001b[32m, line 1\u001b[39m\n\u001b[32m----> \u001b[39m\u001b[32m1\u001b[39m \u001b[43mdf\u001b[49m.groupby(\u001b[33m\"\u001b[39m\u001b[33mSpecies_short\u001b[39m\u001b[33m\"\u001b[39m)[[\u001b[33m\"\u001b[39m\u001b[33mCulmen_Length\u001b[39m\u001b[33m\"\u001b[39m, \u001b[33m\"\u001b[39m\u001b[33mFlipper_Length\u001b[39m\u001b[33m\"\u001b[39m]].corr()\n",
      "\u001b[31mNameError\u001b[39m: name 'df' is not defined"
     ]
    }
   ],
   "source": [
    "df.groupby(\"Species_short\")[[\"Culmen_Length\", \"Flipper_Length\"]].corr()"
   ]
  }
 ],
 "metadata": {
  "language_info": {
   "codemirror_mode": {
    "name": "ipython",
    "version": 3
   },
   "file_extension": ".py",
   "mimetype": "text/x-python",
   "name": "python",
   "nbconvert_exporter": "python",
   "pygments_lexer": "ipython3",
   "version": "3.12.3"
  }
 },
 "nbformat": 4,
 "nbformat_minor": 5
}
