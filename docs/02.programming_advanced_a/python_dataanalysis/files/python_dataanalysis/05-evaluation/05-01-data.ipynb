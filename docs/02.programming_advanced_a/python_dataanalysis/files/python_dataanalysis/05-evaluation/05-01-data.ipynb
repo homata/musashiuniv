{
 "cells": [
  {
   "cell_type": "markdown",
   "id": "a9aca60d",
   "metadata": {},
   "source": [
    "# 使用するデータの紹介と読み込み"
   ]
  },
  {
   "cell_type": "markdown",
   "id": "e160940b",
   "metadata": {},
   "source": [
    "## データ読み込み"
   ]
  },
  {
   "cell_type": "code",
   "execution_count": 1,
   "id": "ef7ce4a0",
   "metadata": {
    "execution": {
     "iopub.execute_input": "2025-08-31T17:18:39.978687Z",
     "iopub.status.busy": "2025-08-31T17:18:39.978033Z",
     "iopub.status.idle": "2025-08-31T17:18:44.086323Z",
     "shell.execute_reply": "2025-08-31T17:18:44.082843Z"
    }
   },
   "outputs": [],
   "source": [
    "# https://portal.edirepository.org/nis/mapbrowse?packageid=knb-lter-pal.219.5 にあるコードを改変\n",
    "import pandas as pd\n",
    "\n",
    "uris = [\n",
    "    # Adelie\n",
    "    \"https://pasta.lternet.edu/package/data/eml/knb-lter-pal/219/5/002f3893385f710df69eeebe893144ff\",\n",
    "    # Gentoo\n",
    "    \"https://pasta.lternet.edu/package/data/eml/knb-lter-pal/220/7/e03b43c924f226486f2f0ab6709d2381\",\n",
    "    # Chinstrap\n",
    "    \"https://pasta.lternet.edu/package/data/eml/knb-lter-pal/221/8/fe853aa8f7a59aa84cdd3197619ef462\",\n",
    "]\n",
    "\n",
    "\n",
    "def read_data(uri):\n",
    "    return pd.read_csv(\n",
    "        uri,\n",
    "        sep=\",\",\n",
    "        quotechar='\"',\n",
    "        usecols=[  # ・・①\n",
    "            \"Species\",\n",
    "            \"Island\",\n",
    "            \"Individual ID\",\n",
    "            \"Date Egg\",\n",
    "            \"Culmen Length (mm)\",\n",
    "            \"Culmen Depth (mm)\",\n",
    "            \"Flipper Length (mm)\",\n",
    "            \"Body Mass (g)\",\n",
    "            \"Sex\",\n",
    "            \"Comments\",\n",
    "        ],\n",
    "        na_values=\".\",  # 追加で欠損値として扱う文字列を指定\n",
    "    ).rename(  # ・・②\n",
    "        columns={\n",
    "            \"Individual ID\": \"Individual_ID\",\n",
    "            \"Date Egg\": \"Date_Egg\",\n",
    "            \"Culmen Length (mm)\": \"Culmen_Length\",\n",
    "            \"Culmen Depth (mm)\": \"Culmen_Depth\",\n",
    "            \"Flipper Length (mm)\": \"Flipper_Length\",\n",
    "            \"Body Mass (g)\": \"Body_Mass\",\n",
    "        }\n",
    "    )\n",
    "\n",
    "\n",
    "df = pd.concat([read_data(uri) for uri in uris], ignore_index=True)  # ・・③"
   ]
  },
  {
   "cell_type": "markdown",
   "id": "ff2074d4",
   "metadata": {},
   "source": [
    "## 読み込み結果の簡単なチェック"
   ]
  },
  {
   "cell_type": "code",
   "execution_count": 2,
   "id": "f1e01906",
   "metadata": {
    "execution": {
     "iopub.execute_input": "2025-08-31T17:18:44.099991Z",
     "iopub.status.busy": "2025-08-31T17:18:44.097255Z",
     "iopub.status.idle": "2025-08-31T17:18:44.138136Z",
     "shell.execute_reply": "2025-08-31T17:18:44.131290Z"
    }
   },
   "outputs": [
    {
     "data": {
      "text/plain": [
       "(344, 10)"
      ]
     },
     "execution_count": 2,
     "metadata": {},
     "output_type": "execute_result"
    }
   ],
   "source": [
    "df.shape"
   ]
  },
  {
   "cell_type": "code",
   "execution_count": 3,
   "id": "25de007a",
   "metadata": {
    "execution": {
     "iopub.execute_input": "2025-08-31T17:18:44.152058Z",
     "iopub.status.busy": "2025-08-31T17:18:44.150997Z",
     "iopub.status.idle": "2025-08-31T17:18:44.213131Z",
     "shell.execute_reply": "2025-08-31T17:18:44.210461Z"
    }
   },
   "outputs": [
    {
     "data": {
      "text/html": [
       "<div>\n",
       "<style scoped>\n",
       "    .dataframe tbody tr th:only-of-type {\n",
       "        vertical-align: middle;\n",
       "    }\n",
       "\n",
       "    .dataframe tbody tr th {\n",
       "        vertical-align: top;\n",
       "    }\n",
       "\n",
       "    .dataframe thead th {\n",
       "        text-align: right;\n",
       "    }\n",
       "</style>\n",
       "<table border=\"1\" class=\"dataframe\">\n",
       "  <thead>\n",
       "    <tr style=\"text-align: right;\">\n",
       "      <th></th>\n",
       "      <th>Species</th>\n",
       "      <th>Island</th>\n",
       "      <th>Individual_ID</th>\n",
       "      <th>Date_Egg</th>\n",
       "      <th>Culmen_Length</th>\n",
       "      <th>Culmen_Depth</th>\n",
       "      <th>Flipper_Length</th>\n",
       "      <th>Body_Mass</th>\n",
       "      <th>Sex</th>\n",
       "      <th>Comments</th>\n",
       "    </tr>\n",
       "  </thead>\n",
       "  <tbody>\n",
       "    <tr>\n",
       "      <th>0</th>\n",
       "      <td>Adelie Penguin (Pygoscelis adeliae)</td>\n",
       "      <td>Torgersen</td>\n",
       "      <td>N1A1</td>\n",
       "      <td>2007-11-11</td>\n",
       "      <td>39.1</td>\n",
       "      <td>18.7</td>\n",
       "      <td>181.0</td>\n",
       "      <td>3750.0</td>\n",
       "      <td>MALE</td>\n",
       "      <td>Not enough blood for isotopes.</td>\n",
       "    </tr>\n",
       "    <tr>\n",
       "      <th>1</th>\n",
       "      <td>Adelie Penguin (Pygoscelis adeliae)</td>\n",
       "      <td>Torgersen</td>\n",
       "      <td>N1A2</td>\n",
       "      <td>2007-11-11</td>\n",
       "      <td>39.5</td>\n",
       "      <td>17.4</td>\n",
       "      <td>186.0</td>\n",
       "      <td>3800.0</td>\n",
       "      <td>FEMALE</td>\n",
       "      <td>NaN</td>\n",
       "    </tr>\n",
       "    <tr>\n",
       "      <th>2</th>\n",
       "      <td>Adelie Penguin (Pygoscelis adeliae)</td>\n",
       "      <td>Torgersen</td>\n",
       "      <td>N2A1</td>\n",
       "      <td>2007-11-16</td>\n",
       "      <td>40.3</td>\n",
       "      <td>18.0</td>\n",
       "      <td>195.0</td>\n",
       "      <td>3250.0</td>\n",
       "      <td>FEMALE</td>\n",
       "      <td>NaN</td>\n",
       "    </tr>\n",
       "    <tr>\n",
       "      <th>3</th>\n",
       "      <td>Adelie Penguin (Pygoscelis adeliae)</td>\n",
       "      <td>Torgersen</td>\n",
       "      <td>N2A2</td>\n",
       "      <td>2007-11-16</td>\n",
       "      <td>NaN</td>\n",
       "      <td>NaN</td>\n",
       "      <td>NaN</td>\n",
       "      <td>NaN</td>\n",
       "      <td>NaN</td>\n",
       "      <td>Adult not sampled.</td>\n",
       "    </tr>\n",
       "    <tr>\n",
       "      <th>4</th>\n",
       "      <td>Adelie Penguin (Pygoscelis adeliae)</td>\n",
       "      <td>Torgersen</td>\n",
       "      <td>N3A1</td>\n",
       "      <td>2007-11-16</td>\n",
       "      <td>36.7</td>\n",
       "      <td>19.3</td>\n",
       "      <td>193.0</td>\n",
       "      <td>3450.0</td>\n",
       "      <td>FEMALE</td>\n",
       "      <td>NaN</td>\n",
       "    </tr>\n",
       "  </tbody>\n",
       "</table>\n",
       "</div>"
      ],
      "text/plain": [
       "                               Species     Island Individual_ID    Date_Egg  \\\n",
       "0  Adelie Penguin (Pygoscelis adeliae)  Torgersen          N1A1  2007-11-11   \n",
       "1  Adelie Penguin (Pygoscelis adeliae)  Torgersen          N1A2  2007-11-11   \n",
       "2  Adelie Penguin (Pygoscelis adeliae)  Torgersen          N2A1  2007-11-16   \n",
       "3  Adelie Penguin (Pygoscelis adeliae)  Torgersen          N2A2  2007-11-16   \n",
       "4  Adelie Penguin (Pygoscelis adeliae)  Torgersen          N3A1  2007-11-16   \n",
       "\n",
       "   Culmen_Length  Culmen_Depth  Flipper_Length  Body_Mass     Sex  \\\n",
       "0           39.1          18.7           181.0     3750.0    MALE   \n",
       "1           39.5          17.4           186.0     3800.0  FEMALE   \n",
       "2           40.3          18.0           195.0     3250.0  FEMALE   \n",
       "3            NaN           NaN             NaN        NaN     NaN   \n",
       "4           36.7          19.3           193.0     3450.0  FEMALE   \n",
       "\n",
       "                         Comments  \n",
       "0  Not enough blood for isotopes.  \n",
       "1                             NaN  \n",
       "2                             NaN  \n",
       "3              Adult not sampled.  \n",
       "4                             NaN  "
      ]
     },
     "execution_count": 3,
     "metadata": {},
     "output_type": "execute_result"
    }
   ],
   "source": [
    "# 先頭を表示\n",
    "df.head()"
   ]
  },
  {
   "cell_type": "code",
   "execution_count": 4,
   "id": "3217cfc3",
   "metadata": {
    "execution": {
     "iopub.execute_input": "2025-08-31T17:18:44.220836Z",
     "iopub.status.busy": "2025-08-31T17:18:44.219341Z",
     "iopub.status.idle": "2025-08-31T17:18:44.254206Z",
     "shell.execute_reply": "2025-08-31T17:18:44.251792Z"
    }
   },
   "outputs": [
    {
     "data": {
      "text/html": [
       "<div>\n",
       "<style scoped>\n",
       "    .dataframe tbody tr th:only-of-type {\n",
       "        vertical-align: middle;\n",
       "    }\n",
       "\n",
       "    .dataframe tbody tr th {\n",
       "        vertical-align: top;\n",
       "    }\n",
       "\n",
       "    .dataframe thead th {\n",
       "        text-align: right;\n",
       "    }\n",
       "</style>\n",
       "<table border=\"1\" class=\"dataframe\">\n",
       "  <thead>\n",
       "    <tr style=\"text-align: right;\">\n",
       "      <th></th>\n",
       "      <th>Species</th>\n",
       "      <th>Island</th>\n",
       "      <th>Individual_ID</th>\n",
       "      <th>Date_Egg</th>\n",
       "      <th>Culmen_Length</th>\n",
       "      <th>Culmen_Depth</th>\n",
       "      <th>Flipper_Length</th>\n",
       "      <th>Body_Mass</th>\n",
       "      <th>Sex</th>\n",
       "      <th>Comments</th>\n",
       "    </tr>\n",
       "  </thead>\n",
       "  <tbody>\n",
       "    <tr>\n",
       "      <th>339</th>\n",
       "      <td>Chinstrap penguin (Pygoscelis antarctica)</td>\n",
       "      <td>Dream</td>\n",
       "      <td>N98A2</td>\n",
       "      <td>2009-11-19</td>\n",
       "      <td>55.8</td>\n",
       "      <td>19.8</td>\n",
       "      <td>207.0</td>\n",
       "      <td>4000.0</td>\n",
       "      <td>MALE</td>\n",
       "      <td>NaN</td>\n",
       "    </tr>\n",
       "    <tr>\n",
       "      <th>340</th>\n",
       "      <td>Chinstrap penguin (Pygoscelis antarctica)</td>\n",
       "      <td>Dream</td>\n",
       "      <td>N99A1</td>\n",
       "      <td>2009-11-21</td>\n",
       "      <td>43.5</td>\n",
       "      <td>18.1</td>\n",
       "      <td>202.0</td>\n",
       "      <td>3400.0</td>\n",
       "      <td>FEMALE</td>\n",
       "      <td>Nest never observed with full clutch.</td>\n",
       "    </tr>\n",
       "    <tr>\n",
       "      <th>341</th>\n",
       "      <td>Chinstrap penguin (Pygoscelis antarctica)</td>\n",
       "      <td>Dream</td>\n",
       "      <td>N99A2</td>\n",
       "      <td>2009-11-21</td>\n",
       "      <td>49.6</td>\n",
       "      <td>18.2</td>\n",
       "      <td>193.0</td>\n",
       "      <td>3775.0</td>\n",
       "      <td>MALE</td>\n",
       "      <td>Nest never observed with full clutch.</td>\n",
       "    </tr>\n",
       "    <tr>\n",
       "      <th>342</th>\n",
       "      <td>Chinstrap penguin (Pygoscelis antarctica)</td>\n",
       "      <td>Dream</td>\n",
       "      <td>N100A1</td>\n",
       "      <td>2009-11-21</td>\n",
       "      <td>50.8</td>\n",
       "      <td>19.0</td>\n",
       "      <td>210.0</td>\n",
       "      <td>4100.0</td>\n",
       "      <td>MALE</td>\n",
       "      <td>NaN</td>\n",
       "    </tr>\n",
       "    <tr>\n",
       "      <th>343</th>\n",
       "      <td>Chinstrap penguin (Pygoscelis antarctica)</td>\n",
       "      <td>Dream</td>\n",
       "      <td>N100A2</td>\n",
       "      <td>2009-11-21</td>\n",
       "      <td>50.2</td>\n",
       "      <td>18.7</td>\n",
       "      <td>198.0</td>\n",
       "      <td>3775.0</td>\n",
       "      <td>FEMALE</td>\n",
       "      <td>NaN</td>\n",
       "    </tr>\n",
       "  </tbody>\n",
       "</table>\n",
       "</div>"
      ],
      "text/plain": [
       "                                       Species Island Individual_ID  \\\n",
       "339  Chinstrap penguin (Pygoscelis antarctica)  Dream         N98A2   \n",
       "340  Chinstrap penguin (Pygoscelis antarctica)  Dream         N99A1   \n",
       "341  Chinstrap penguin (Pygoscelis antarctica)  Dream         N99A2   \n",
       "342  Chinstrap penguin (Pygoscelis antarctica)  Dream        N100A1   \n",
       "343  Chinstrap penguin (Pygoscelis antarctica)  Dream        N100A2   \n",
       "\n",
       "       Date_Egg  Culmen_Length  Culmen_Depth  Flipper_Length  Body_Mass  \\\n",
       "339  2009-11-19           55.8          19.8           207.0     4000.0   \n",
       "340  2009-11-21           43.5          18.1           202.0     3400.0   \n",
       "341  2009-11-21           49.6          18.2           193.0     3775.0   \n",
       "342  2009-11-21           50.8          19.0           210.0     4100.0   \n",
       "343  2009-11-21           50.2          18.7           198.0     3775.0   \n",
       "\n",
       "        Sex                               Comments  \n",
       "339    MALE                                    NaN  \n",
       "340  FEMALE  Nest never observed with full clutch.  \n",
       "341    MALE  Nest never observed with full clutch.  \n",
       "342    MALE                                    NaN  \n",
       "343  FEMALE                                    NaN  "
      ]
     },
     "execution_count": 4,
     "metadata": {},
     "output_type": "execute_result"
    }
   ],
   "source": [
    "# 最後を表示\n",
    "df.tail()"
   ]
  },
  {
   "cell_type": "code",
   "execution_count": 5,
   "id": "16466004",
   "metadata": {
    "execution": {
     "iopub.execute_input": "2025-08-31T17:18:44.261160Z",
     "iopub.status.busy": "2025-08-31T17:18:44.259625Z",
     "iopub.status.idle": "2025-08-31T17:18:44.277345Z",
     "shell.execute_reply": "2025-08-31T17:18:44.273905Z"
    }
   },
   "outputs": [
    {
     "data": {
      "text/plain": [
       "Species            object\n",
       "Island             object\n",
       "Individual_ID      object\n",
       "Date_Egg           object\n",
       "Culmen_Length     float64\n",
       "Culmen_Depth      float64\n",
       "Flipper_Length    float64\n",
       "Body_Mass         float64\n",
       "Sex                object\n",
       "Comments           object\n",
       "dtype: object"
      ]
     },
     "execution_count": 5,
     "metadata": {},
     "output_type": "execute_result"
    }
   ],
   "source": [
    "df.dtypes"
   ]
  },
  {
   "cell_type": "code",
   "execution_count": 6,
   "id": "099c5ceb",
   "metadata": {
    "execution": {
     "iopub.execute_input": "2025-08-31T17:18:44.284629Z",
     "iopub.status.busy": "2025-08-31T17:18:44.282804Z",
     "iopub.status.idle": "2025-08-31T17:18:44.296391Z",
     "shell.execute_reply": "2025-08-31T17:18:44.294274Z"
    }
   },
   "outputs": [],
   "source": [
    "df[\"Date_Egg\"] = pd.to_datetime(df.loc[:, \"Date_Egg\"], format=\"%Y-%m-%d\")"
   ]
  },
  {
   "cell_type": "code",
   "execution_count": 7,
   "id": "03f1f404",
   "metadata": {
    "execution": {
     "iopub.execute_input": "2025-08-31T17:18:44.302195Z",
     "iopub.status.busy": "2025-08-31T17:18:44.301301Z",
     "iopub.status.idle": "2025-08-31T17:18:44.318625Z",
     "shell.execute_reply": "2025-08-31T17:18:44.316924Z"
    }
   },
   "outputs": [],
   "source": [
    "df[\"Species\"] = df.loc[:, \"Species\"].astype(\"category\")\n",
    "df[\"Island\"] = df.loc[:, \"Island\"].astype(\"category\")\n",
    "df[\"Sex\"] = df.loc[:, \"Sex\"].astype(\"category\")"
   ]
  },
  {
   "cell_type": "code",
   "execution_count": 8,
   "id": "491f1388",
   "metadata": {
    "execution": {
     "iopub.execute_input": "2025-08-31T17:18:44.323723Z",
     "iopub.status.busy": "2025-08-31T17:18:44.322577Z",
     "iopub.status.idle": "2025-08-31T17:18:44.335013Z",
     "shell.execute_reply": "2025-08-31T17:18:44.333299Z"
    }
   },
   "outputs": [],
   "source": [
    "import re\n",
    "\n",
    "RE_SHORT = re.compile(r\"^\\w+\")  # 先頭から連続するUnicodeの単語文字にマッチ\n",
    "df[\"Species_short\"] = df.loc[:, \"Species\"].apply(\n",
    "    lambda x: re.search(RE_SHORT, x)[0]\n",
    ")"
   ]
  },
  {
   "cell_type": "code",
   "execution_count": 9,
   "id": "04d3143b",
   "metadata": {
    "execution": {
     "iopub.execute_input": "2025-08-31T17:18:44.339808Z",
     "iopub.status.busy": "2025-08-31T17:18:44.338715Z",
     "iopub.status.idle": "2025-08-31T17:18:44.351573Z",
     "shell.execute_reply": "2025-08-31T17:18:44.349828Z"
    }
   },
   "outputs": [
    {
     "data": {
      "text/plain": [
       "Species                 category\n",
       "Island                  category\n",
       "Individual_ID             object\n",
       "Date_Egg          datetime64[ns]\n",
       "Culmen_Length            float64\n",
       "Culmen_Depth             float64\n",
       "Flipper_Length           float64\n",
       "Body_Mass                float64\n",
       "Sex                     category\n",
       "Comments                  object\n",
       "Species_short           category\n",
       "dtype: object"
      ]
     },
     "execution_count": 9,
     "metadata": {},
     "output_type": "execute_result"
    }
   ],
   "source": [
    "df.dtypes"
   ]
  },
  {
   "cell_type": "code",
   "execution_count": 10,
   "id": "1ced633d",
   "metadata": {
    "execution": {
     "iopub.execute_input": "2025-08-31T17:18:44.356168Z",
     "iopub.status.busy": "2025-08-31T17:18:44.355516Z",
     "iopub.status.idle": "2025-08-31T17:18:44.366785Z",
     "shell.execute_reply": "2025-08-31T17:18:44.365085Z"
    }
   },
   "outputs": [
    {
     "data": {
      "text/plain": [
       "Index(['Adelie', 'Chinstrap', 'Gentoo'], dtype='object')"
      ]
     },
     "execution_count": 10,
     "metadata": {},
     "output_type": "execute_result"
    }
   ],
   "source": [
    "df.loc[:, \"Species_short\"].cat.categories"
   ]
  },
  {
   "cell_type": "markdown",
   "id": "aeb4ba72",
   "metadata": {},
   "source": [
    "## 読み込んだデータの保存"
   ]
  },
  {
   "cell_type": "code",
   "execution_count": 11,
   "id": "ea298892",
   "metadata": {
    "execution": {
     "iopub.execute_input": "2025-08-31T17:18:44.371910Z",
     "iopub.status.busy": "2025-08-31T17:18:44.370872Z",
     "iopub.status.idle": "2025-08-31T17:18:45.313748Z",
     "shell.execute_reply": "2025-08-31T17:18:45.311958Z"
    }
   },
   "outputs": [
    {
     "ename": "ImportError",
     "evalue": "Unable to find a usable engine; tried using: 'pyarrow', 'fastparquet'.\nA suitable version of pyarrow or fastparquet is required for parquet support.\nTrying to import the above resulted in these errors:\n - Missing optional dependency 'pyarrow'. pyarrow is required for parquet support. Use pip or conda to install pyarrow.\n - Missing optional dependency 'fastparquet'. fastparquet is required for parquet support. Use pip or conda to install fastparquet.",
     "output_type": "error",
     "traceback": [
      "\u001b[31m---------------------------------------------------------------------------\u001b[39m",
      "\u001b[31mImportError\u001b[39m                               Traceback (most recent call last)",
      "\u001b[36mCell\u001b[39m\u001b[36m \u001b[39m\u001b[32mIn[11]\u001b[39m\u001b[32m, line 1\u001b[39m\n\u001b[32m----> \u001b[39m\u001b[32m1\u001b[39m \u001b[43mdf\u001b[49m\u001b[43m.\u001b[49m\u001b[43mto_parquet\u001b[49m\u001b[43m(\u001b[49m\u001b[33;43m\"\u001b[39;49m\u001b[33;43mdata/penguins.parquet\u001b[39;49m\u001b[33;43m\"\u001b[39;49m\u001b[43m)\u001b[49m\n",
      "\u001b[36mFile \u001b[39m\u001b[32m~/workspace/musashiuniv/musashiuniv_manuscript/.venv/lib/python3.12/site-packages/pandas/util/_decorators.py:333\u001b[39m, in \u001b[36mdeprecate_nonkeyword_arguments.<locals>.decorate.<locals>.wrapper\u001b[39m\u001b[34m(*args, **kwargs)\u001b[39m\n\u001b[32m    327\u001b[39m \u001b[38;5;28;01mif\u001b[39;00m \u001b[38;5;28mlen\u001b[39m(args) > num_allow_args:\n\u001b[32m    328\u001b[39m     warnings.warn(\n\u001b[32m    329\u001b[39m         msg.format(arguments=_format_argument_list(allow_args)),\n\u001b[32m    330\u001b[39m         \u001b[38;5;167;01mFutureWarning\u001b[39;00m,\n\u001b[32m    331\u001b[39m         stacklevel=find_stack_level(),\n\u001b[32m    332\u001b[39m     )\n\u001b[32m--> \u001b[39m\u001b[32m333\u001b[39m \u001b[38;5;28;01mreturn\u001b[39;00m \u001b[43mfunc\u001b[49m\u001b[43m(\u001b[49m\u001b[43m*\u001b[49m\u001b[43margs\u001b[49m\u001b[43m,\u001b[49m\u001b[43m \u001b[49m\u001b[43m*\u001b[49m\u001b[43m*\u001b[49m\u001b[43mkwargs\u001b[49m\u001b[43m)\u001b[49m\n",
      "\u001b[36mFile \u001b[39m\u001b[32m~/workspace/musashiuniv/musashiuniv_manuscript/.venv/lib/python3.12/site-packages/pandas/core/frame.py:3118\u001b[39m, in \u001b[36mDataFrame.to_parquet\u001b[39m\u001b[34m(self, path, engine, compression, index, partition_cols, storage_options, **kwargs)\u001b[39m\n\u001b[32m   3037\u001b[39m \u001b[38;5;250m\u001b[39m\u001b[33;03m\"\"\"\u001b[39;00m\n\u001b[32m   3038\u001b[39m \u001b[33;03mWrite a DataFrame to the binary parquet format.\u001b[39;00m\n\u001b[32m   3039\u001b[39m \n\u001b[32m   (...)\u001b[39m\u001b[32m   3114\u001b[39m \u001b[33;03m>>> content = f.read()\u001b[39;00m\n\u001b[32m   3115\u001b[39m \u001b[33;03m\"\"\"\u001b[39;00m\n\u001b[32m   3116\u001b[39m \u001b[38;5;28;01mfrom\u001b[39;00m\u001b[38;5;250m \u001b[39m\u001b[34;01mpandas\u001b[39;00m\u001b[34;01m.\u001b[39;00m\u001b[34;01mio\u001b[39;00m\u001b[34;01m.\u001b[39;00m\u001b[34;01mparquet\u001b[39;00m\u001b[38;5;250m \u001b[39m\u001b[38;5;28;01mimport\u001b[39;00m to_parquet\n\u001b[32m-> \u001b[39m\u001b[32m3118\u001b[39m \u001b[38;5;28;01mreturn\u001b[39;00m \u001b[43mto_parquet\u001b[49m\u001b[43m(\u001b[49m\n\u001b[32m   3119\u001b[39m \u001b[43m    \u001b[49m\u001b[38;5;28;43mself\u001b[39;49m\u001b[43m,\u001b[49m\n\u001b[32m   3120\u001b[39m \u001b[43m    \u001b[49m\u001b[43mpath\u001b[49m\u001b[43m,\u001b[49m\n\u001b[32m   3121\u001b[39m \u001b[43m    \u001b[49m\u001b[43mengine\u001b[49m\u001b[43m,\u001b[49m\n\u001b[32m   3122\u001b[39m \u001b[43m    \u001b[49m\u001b[43mcompression\u001b[49m\u001b[43m=\u001b[49m\u001b[43mcompression\u001b[49m\u001b[43m,\u001b[49m\n\u001b[32m   3123\u001b[39m \u001b[43m    \u001b[49m\u001b[43mindex\u001b[49m\u001b[43m=\u001b[49m\u001b[43mindex\u001b[49m\u001b[43m,\u001b[49m\n\u001b[32m   3124\u001b[39m \u001b[43m    \u001b[49m\u001b[43mpartition_cols\u001b[49m\u001b[43m=\u001b[49m\u001b[43mpartition_cols\u001b[49m\u001b[43m,\u001b[49m\n\u001b[32m   3125\u001b[39m \u001b[43m    \u001b[49m\u001b[43mstorage_options\u001b[49m\u001b[43m=\u001b[49m\u001b[43mstorage_options\u001b[49m\u001b[43m,\u001b[49m\n\u001b[32m   3126\u001b[39m \u001b[43m    \u001b[49m\u001b[43m*\u001b[49m\u001b[43m*\u001b[49m\u001b[43mkwargs\u001b[49m\u001b[43m,\u001b[49m\n\u001b[32m   3127\u001b[39m \u001b[43m\u001b[49m\u001b[43m)\u001b[49m\n",
      "\u001b[36mFile \u001b[39m\u001b[32m~/workspace/musashiuniv/musashiuniv_manuscript/.venv/lib/python3.12/site-packages/pandas/io/parquet.py:478\u001b[39m, in \u001b[36mto_parquet\u001b[39m\u001b[34m(df, path, engine, compression, index, storage_options, partition_cols, filesystem, **kwargs)\u001b[39m\n\u001b[32m    476\u001b[39m \u001b[38;5;28;01mif\u001b[39;00m \u001b[38;5;28misinstance\u001b[39m(partition_cols, \u001b[38;5;28mstr\u001b[39m):\n\u001b[32m    477\u001b[39m     partition_cols = [partition_cols]\n\u001b[32m--> \u001b[39m\u001b[32m478\u001b[39m impl = \u001b[43mget_engine\u001b[49m\u001b[43m(\u001b[49m\u001b[43mengine\u001b[49m\u001b[43m)\u001b[49m\n\u001b[32m    480\u001b[39m path_or_buf: FilePath | WriteBuffer[\u001b[38;5;28mbytes\u001b[39m] = io.BytesIO() \u001b[38;5;28;01mif\u001b[39;00m path \u001b[38;5;129;01mis\u001b[39;00m \u001b[38;5;28;01mNone\u001b[39;00m \u001b[38;5;28;01melse\u001b[39;00m path\n\u001b[32m    482\u001b[39m impl.write(\n\u001b[32m    483\u001b[39m     df,\n\u001b[32m    484\u001b[39m     path_or_buf,\n\u001b[32m   (...)\u001b[39m\u001b[32m    490\u001b[39m     **kwargs,\n\u001b[32m    491\u001b[39m )\n",
      "\u001b[36mFile \u001b[39m\u001b[32m~/workspace/musashiuniv/musashiuniv_manuscript/.venv/lib/python3.12/site-packages/pandas/io/parquet.py:68\u001b[39m, in \u001b[36mget_engine\u001b[39m\u001b[34m(engine)\u001b[39m\n\u001b[32m     65\u001b[39m         \u001b[38;5;28;01mexcept\u001b[39;00m \u001b[38;5;167;01mImportError\u001b[39;00m \u001b[38;5;28;01mas\u001b[39;00m err:\n\u001b[32m     66\u001b[39m             error_msgs += \u001b[33m\"\u001b[39m\u001b[38;5;130;01m\\n\u001b[39;00m\u001b[33m - \u001b[39m\u001b[33m\"\u001b[39m + \u001b[38;5;28mstr\u001b[39m(err)\n\u001b[32m---> \u001b[39m\u001b[32m68\u001b[39m     \u001b[38;5;28;01mraise\u001b[39;00m \u001b[38;5;167;01mImportError\u001b[39;00m(\n\u001b[32m     69\u001b[39m         \u001b[33m\"\u001b[39m\u001b[33mUnable to find a usable engine; \u001b[39m\u001b[33m\"\u001b[39m\n\u001b[32m     70\u001b[39m         \u001b[33m\"\u001b[39m\u001b[33mtried using: \u001b[39m\u001b[33m'\u001b[39m\u001b[33mpyarrow\u001b[39m\u001b[33m'\u001b[39m\u001b[33m, \u001b[39m\u001b[33m'\u001b[39m\u001b[33mfastparquet\u001b[39m\u001b[33m'\u001b[39m\u001b[33m.\u001b[39m\u001b[38;5;130;01m\\n\u001b[39;00m\u001b[33m\"\u001b[39m\n\u001b[32m     71\u001b[39m         \u001b[33m\"\u001b[39m\u001b[33mA suitable version of \u001b[39m\u001b[33m\"\u001b[39m\n\u001b[32m     72\u001b[39m         \u001b[33m\"\u001b[39m\u001b[33mpyarrow or fastparquet is required for parquet \u001b[39m\u001b[33m\"\u001b[39m\n\u001b[32m     73\u001b[39m         \u001b[33m\"\u001b[39m\u001b[33msupport.\u001b[39m\u001b[38;5;130;01m\\n\u001b[39;00m\u001b[33m\"\u001b[39m\n\u001b[32m     74\u001b[39m         \u001b[33m\"\u001b[39m\u001b[33mTrying to import the above resulted in these errors:\u001b[39m\u001b[33m\"\u001b[39m\n\u001b[32m     75\u001b[39m         \u001b[33mf\u001b[39m\u001b[33m\"\u001b[39m\u001b[38;5;132;01m{\u001b[39;00merror_msgs\u001b[38;5;132;01m}\u001b[39;00m\u001b[33m\"\u001b[39m\n\u001b[32m     76\u001b[39m     )\n\u001b[32m     78\u001b[39m \u001b[38;5;28;01mif\u001b[39;00m engine == \u001b[33m\"\u001b[39m\u001b[33mpyarrow\u001b[39m\u001b[33m\"\u001b[39m:\n\u001b[32m     79\u001b[39m     \u001b[38;5;28;01mreturn\u001b[39;00m PyArrowImpl()\n",
      "\u001b[31mImportError\u001b[39m: Unable to find a usable engine; tried using: 'pyarrow', 'fastparquet'.\nA suitable version of pyarrow or fastparquet is required for parquet support.\nTrying to import the above resulted in these errors:\n - Missing optional dependency 'pyarrow'. pyarrow is required for parquet support. Use pip or conda to install pyarrow.\n - Missing optional dependency 'fastparquet'. fastparquet is required for parquet support. Use pip or conda to install fastparquet."
     ]
    }
   ],
   "source": [
    "df.to_parquet(\"data/penguins.parquet\")"
   ]
  }
 ],
 "metadata": {
  "language_info": {
   "codemirror_mode": {
    "name": "ipython",
    "version": 3
   },
   "file_extension": ".py",
   "mimetype": "text/x-python",
   "name": "python",
   "nbconvert_exporter": "python",
   "pygments_lexer": "ipython3",
   "version": "3.12.3"
  }
 },
 "nbformat": 4,
 "nbformat_minor": 5
}
