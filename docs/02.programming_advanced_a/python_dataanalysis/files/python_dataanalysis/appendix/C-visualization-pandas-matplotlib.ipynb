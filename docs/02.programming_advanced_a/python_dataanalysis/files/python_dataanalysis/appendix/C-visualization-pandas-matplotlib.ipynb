{
 "cells": [
  {
   "cell_type": "markdown",
   "id": "3af0b774",
   "metadata": {},
   "source": [
    "# pandasとMatplotlibによる可視化"
   ]
  },
  {
   "cell_type": "markdown",
   "id": "05871356",
   "metadata": {},
   "source": [
    "## 使用データ\n",
    "※事前に、 `05-evaluation/05-01-data.ipynb` のコードをすべてを実行して、生成される `05-evaluation/data/penguins.parquet` を `appendix/data/penguins.parquet` にコピーしてください。"
   ]
  },
  {
   "cell_type": "code",
   "execution_count": 1,
   "id": "594f48ec",
   "metadata": {
    "execution": {
     "iopub.execute_input": "2025-08-31T17:20:18.913349Z",
     "iopub.status.busy": "2025-08-31T17:20:18.912256Z",
     "iopub.status.idle": "2025-08-31T17:20:18.968894Z",
     "shell.execute_reply": "2025-08-31T17:20:18.966553Z"
    }
   },
   "outputs": [],
   "source": [
    "%%bash\n",
    "mkdir -p ./data && cp ../05-evaluation/data/penguins.parquet ./data/."
   ]
  },
  {
   "cell_type": "code",
   "execution_count": 2,
   "id": "25f6fbed",
   "metadata": {
    "execution": {
     "iopub.execute_input": "2025-08-31T17:20:18.975616Z",
     "iopub.status.busy": "2025-08-31T17:20:18.974812Z",
     "iopub.status.idle": "2025-08-31T17:20:21.432354Z",
     "shell.execute_reply": "2025-08-31T17:20:21.430611Z"
    }
   },
   "outputs": [
    {
     "ename": "ImportError",
     "evalue": "Unable to find a usable engine; tried using: 'pyarrow', 'fastparquet'.\nA suitable version of pyarrow or fastparquet is required for parquet support.\nTrying to import the above resulted in these errors:\n - Missing optional dependency 'pyarrow'. pyarrow is required for parquet support. Use pip or conda to install pyarrow.\n - Missing optional dependency 'fastparquet'. fastparquet is required for parquet support. Use pip or conda to install fastparquet.",
     "output_type": "error",
     "traceback": [
      "\u001b[31m---------------------------------------------------------------------------\u001b[39m",
      "\u001b[31mImportError\u001b[39m                               Traceback (most recent call last)",
      "\u001b[36mCell\u001b[39m\u001b[36m \u001b[39m\u001b[32mIn[2]\u001b[39m\u001b[32m, line 5\u001b[39m\n\u001b[32m      2\u001b[39m \u001b[38;5;28;01mimport\u001b[39;00m\u001b[38;5;250m \u001b[39m\u001b[34;01mnumpy\u001b[39;00m\u001b[38;5;250m \u001b[39m\u001b[38;5;28;01mas\u001b[39;00m\u001b[38;5;250m \u001b[39m\u001b[34;01mnp\u001b[39;00m\n\u001b[32m      3\u001b[39m \u001b[38;5;28;01mimport\u001b[39;00m\u001b[38;5;250m \u001b[39m\u001b[34;01mpandas\u001b[39;00m\u001b[38;5;250m \u001b[39m\u001b[38;5;28;01mas\u001b[39;00m\u001b[38;5;250m \u001b[39m\u001b[34;01mpd\u001b[39;00m\n\u001b[32m----> \u001b[39m\u001b[32m5\u001b[39m df = \u001b[43mpd\u001b[49m\u001b[43m.\u001b[49m\u001b[43mread_parquet\u001b[49m\u001b[43m(\u001b[49m\u001b[33;43m\"\u001b[39;49m\u001b[33;43mdata/penguins.parquet\u001b[39;49m\u001b[33;43m\"\u001b[39;49m\u001b[43m)\u001b[49m\n\u001b[32m      6\u001b[39m df.head()\n",
      "\u001b[36mFile \u001b[39m\u001b[32m~/workspace/musashiuniv/musashiuniv_manuscript/.venv/lib/python3.12/site-packages/pandas/io/parquet.py:653\u001b[39m, in \u001b[36mread_parquet\u001b[39m\u001b[34m(path, engine, columns, storage_options, use_nullable_dtypes, dtype_backend, filesystem, filters, **kwargs)\u001b[39m\n\u001b[32m    500\u001b[39m \u001b[38;5;129m@doc\u001b[39m(storage_options=_shared_docs[\u001b[33m\"\u001b[39m\u001b[33mstorage_options\u001b[39m\u001b[33m\"\u001b[39m])\n\u001b[32m    501\u001b[39m \u001b[38;5;28;01mdef\u001b[39;00m\u001b[38;5;250m \u001b[39m\u001b[34mread_parquet\u001b[39m(\n\u001b[32m    502\u001b[39m     path: FilePath | ReadBuffer[\u001b[38;5;28mbytes\u001b[39m],\n\u001b[32m   (...)\u001b[39m\u001b[32m    510\u001b[39m     **kwargs,\n\u001b[32m    511\u001b[39m ) -> DataFrame:\n\u001b[32m    512\u001b[39m \u001b[38;5;250m    \u001b[39m\u001b[33;03m\"\"\"\u001b[39;00m\n\u001b[32m    513\u001b[39m \u001b[33;03m    Load a parquet object from the file path, returning a DataFrame.\u001b[39;00m\n\u001b[32m    514\u001b[39m \n\u001b[32m   (...)\u001b[39m\u001b[32m    650\u001b[39m \u001b[33;03m    1    4    9\u001b[39;00m\n\u001b[32m    651\u001b[39m \u001b[33;03m    \"\"\"\u001b[39;00m\n\u001b[32m--> \u001b[39m\u001b[32m653\u001b[39m     impl = \u001b[43mget_engine\u001b[49m\u001b[43m(\u001b[49m\u001b[43mengine\u001b[49m\u001b[43m)\u001b[49m\n\u001b[32m    655\u001b[39m     \u001b[38;5;28;01mif\u001b[39;00m use_nullable_dtypes \u001b[38;5;129;01mis\u001b[39;00m \u001b[38;5;129;01mnot\u001b[39;00m lib.no_default:\n\u001b[32m    656\u001b[39m         msg = (\n\u001b[32m    657\u001b[39m             \u001b[33m\"\u001b[39m\u001b[33mThe argument \u001b[39m\u001b[33m'\u001b[39m\u001b[33muse_nullable_dtypes\u001b[39m\u001b[33m'\u001b[39m\u001b[33m is deprecated and will be removed \u001b[39m\u001b[33m\"\u001b[39m\n\u001b[32m    658\u001b[39m             \u001b[33m\"\u001b[39m\u001b[33min a future version.\u001b[39m\u001b[33m\"\u001b[39m\n\u001b[32m    659\u001b[39m         )\n",
      "\u001b[36mFile \u001b[39m\u001b[32m~/workspace/musashiuniv/musashiuniv_manuscript/.venv/lib/python3.12/site-packages/pandas/io/parquet.py:68\u001b[39m, in \u001b[36mget_engine\u001b[39m\u001b[34m(engine)\u001b[39m\n\u001b[32m     65\u001b[39m         \u001b[38;5;28;01mexcept\u001b[39;00m \u001b[38;5;167;01mImportError\u001b[39;00m \u001b[38;5;28;01mas\u001b[39;00m err:\n\u001b[32m     66\u001b[39m             error_msgs += \u001b[33m\"\u001b[39m\u001b[38;5;130;01m\\n\u001b[39;00m\u001b[33m - \u001b[39m\u001b[33m\"\u001b[39m + \u001b[38;5;28mstr\u001b[39m(err)\n\u001b[32m---> \u001b[39m\u001b[32m68\u001b[39m     \u001b[38;5;28;01mraise\u001b[39;00m \u001b[38;5;167;01mImportError\u001b[39;00m(\n\u001b[32m     69\u001b[39m         \u001b[33m\"\u001b[39m\u001b[33mUnable to find a usable engine; \u001b[39m\u001b[33m\"\u001b[39m\n\u001b[32m     70\u001b[39m         \u001b[33m\"\u001b[39m\u001b[33mtried using: \u001b[39m\u001b[33m'\u001b[39m\u001b[33mpyarrow\u001b[39m\u001b[33m'\u001b[39m\u001b[33m, \u001b[39m\u001b[33m'\u001b[39m\u001b[33mfastparquet\u001b[39m\u001b[33m'\u001b[39m\u001b[33m.\u001b[39m\u001b[38;5;130;01m\\n\u001b[39;00m\u001b[33m\"\u001b[39m\n\u001b[32m     71\u001b[39m         \u001b[33m\"\u001b[39m\u001b[33mA suitable version of \u001b[39m\u001b[33m\"\u001b[39m\n\u001b[32m     72\u001b[39m         \u001b[33m\"\u001b[39m\u001b[33mpyarrow or fastparquet is required for parquet \u001b[39m\u001b[33m\"\u001b[39m\n\u001b[32m     73\u001b[39m         \u001b[33m\"\u001b[39m\u001b[33msupport.\u001b[39m\u001b[38;5;130;01m\\n\u001b[39;00m\u001b[33m\"\u001b[39m\n\u001b[32m     74\u001b[39m         \u001b[33m\"\u001b[39m\u001b[33mTrying to import the above resulted in these errors:\u001b[39m\u001b[33m\"\u001b[39m\n\u001b[32m     75\u001b[39m         \u001b[33mf\u001b[39m\u001b[33m\"\u001b[39m\u001b[38;5;132;01m{\u001b[39;00merror_msgs\u001b[38;5;132;01m}\u001b[39;00m\u001b[33m\"\u001b[39m\n\u001b[32m     76\u001b[39m     )\n\u001b[32m     78\u001b[39m \u001b[38;5;28;01mif\u001b[39;00m engine == \u001b[33m\"\u001b[39m\u001b[33mpyarrow\u001b[39m\u001b[33m\"\u001b[39m:\n\u001b[32m     79\u001b[39m     \u001b[38;5;28;01mreturn\u001b[39;00m PyArrowImpl()\n",
      "\u001b[31mImportError\u001b[39m: Unable to find a usable engine; tried using: 'pyarrow', 'fastparquet'.\nA suitable version of pyarrow or fastparquet is required for parquet support.\nTrying to import the above resulted in these errors:\n - Missing optional dependency 'pyarrow'. pyarrow is required for parquet support. Use pip or conda to install pyarrow.\n - Missing optional dependency 'fastparquet'. fastparquet is required for parquet support. Use pip or conda to install fastparquet."
     ]
    }
   ],
   "source": [
    "import matplotlib.pyplot as plt\n",
    "import numpy as np\n",
    "import pandas as pd\n",
    "\n",
    "df = pd.read_parquet(\"data/penguins.parquet\")\n",
    "df.head()"
   ]
  },
  {
   "cell_type": "markdown",
   "id": "b4d80c7a",
   "metadata": {},
   "source": [
    "## 散布図"
   ]
  },
  {
   "cell_type": "markdown",
   "id": "8b0b3f5f",
   "metadata": {},
   "source": [
    "### pandasによる可視化"
   ]
  },
  {
   "cell_type": "code",
   "execution_count": 3,
   "id": "9a561c88",
   "metadata": {
    "execution": {
     "iopub.execute_input": "2025-08-31T17:20:21.437628Z",
     "iopub.status.busy": "2025-08-31T17:20:21.436796Z",
     "iopub.status.idle": "2025-08-31T17:20:21.517716Z",
     "shell.execute_reply": "2025-08-31T17:20:21.512307Z"
    }
   },
   "outputs": [
    {
     "ename": "NameError",
     "evalue": "name 'df' is not defined",
     "output_type": "error",
     "traceback": [
      "\u001b[31m---------------------------------------------------------------------------\u001b[39m",
      "\u001b[31mNameError\u001b[39m                                 Traceback (most recent call last)",
      "\u001b[36mCell\u001b[39m\u001b[36m \u001b[39m\u001b[32mIn[3]\u001b[39m\u001b[32m, line 1\u001b[39m\n\u001b[32m----> \u001b[39m\u001b[32m1\u001b[39m \u001b[43mdf\u001b[49m.plot(\n\u001b[32m      2\u001b[39m     x=\u001b[33m\"\u001b[39m\u001b[33mCulmen_Length\u001b[39m\u001b[33m\"\u001b[39m,\n\u001b[32m      3\u001b[39m     y=\u001b[33m\"\u001b[39m\u001b[33mFlipper_Length\u001b[39m\u001b[33m\"\u001b[39m,\n\u001b[32m      4\u001b[39m     kind=\u001b[33m\"\u001b[39m\u001b[33mscatter\u001b[39m\u001b[33m\"\u001b[39m,\n\u001b[32m      5\u001b[39m     c=\u001b[33m\"\u001b[39m\u001b[33mSpecies_short\u001b[39m\u001b[33m\"\u001b[39m,\n\u001b[32m      6\u001b[39m     colormap=\u001b[33m\"\u001b[39m\u001b[33mDark2\u001b[39m\u001b[33m\"\u001b[39m,\n\u001b[32m      7\u001b[39m );\n",
      "\u001b[31mNameError\u001b[39m: name 'df' is not defined"
     ]
    }
   ],
   "source": [
    "df.plot(\n",
    "    x=\"Culmen_Length\",\n",
    "    y=\"Flipper_Length\",\n",
    "    kind=\"scatter\",\n",
    "    c=\"Species_short\",\n",
    "    colormap=\"Dark2\",\n",
    ");"
   ]
  },
  {
   "cell_type": "code",
   "execution_count": 4,
   "id": "ea839af1",
   "metadata": {
    "execution": {
     "iopub.execute_input": "2025-08-31T17:20:21.535922Z",
     "iopub.status.busy": "2025-08-31T17:20:21.534676Z",
     "iopub.status.idle": "2025-08-31T17:20:21.604374Z",
     "shell.execute_reply": "2025-08-31T17:20:21.602843Z"
    }
   },
   "outputs": [
    {
     "ename": "NameError",
     "evalue": "name 'df' is not defined",
     "output_type": "error",
     "traceback": [
      "\u001b[31m---------------------------------------------------------------------------\u001b[39m",
      "\u001b[31mNameError\u001b[39m                                 Traceback (most recent call last)",
      "\u001b[36mCell\u001b[39m\u001b[36m \u001b[39m\u001b[32mIn[4]\u001b[39m\u001b[32m, line 2\u001b[39m\n\u001b[32m      1\u001b[39m \u001b[38;5;66;03m# 種ごとに点の色と形（マーカー）を設定する準備\u001b[39;00m\n\u001b[32m----> \u001b[39m\u001b[32m2\u001b[39m codes = \u001b[43mdf\u001b[49m.loc[:, \u001b[33m\"\u001b[39m\u001b[33mSpecies_short\u001b[39m\u001b[33m\"\u001b[39m].cat.codes  \u001b[38;5;66;03m# 後で使う\u001b[39;00m\n\u001b[32m      3\u001b[39m cm = plt.get_cmap(\u001b[33m\"\u001b[39m\u001b[33mDark2\u001b[39m\u001b[33m\"\u001b[39m)\n\u001b[32m      4\u001b[39m markers = [\u001b[33m\"\u001b[39m\u001b[33m.\u001b[39m\u001b[33m\"\u001b[39m, \u001b[33m\"\u001b[39m\u001b[33ms\u001b[39m\u001b[33m\"\u001b[39m, \u001b[33m\"\u001b[39m\u001b[33m^\u001b[39m\u001b[33m\"\u001b[39m]  \u001b[38;5;66;03m# ●、■、▲\u001b[39;00m\n",
      "\u001b[31mNameError\u001b[39m: name 'df' is not defined"
     ]
    }
   ],
   "source": [
    "# 種ごとに点の色と形（マーカー）を設定する準備\n",
    "codes = df.loc[:, \"Species_short\"].cat.codes  # 後で使う\n",
    "cm = plt.get_cmap(\"Dark2\")\n",
    "markers = [\".\", \"s\", \"^\"]  # ●、■、▲\n",
    "\n",
    "# 種ごとにグループ化\n",
    "df_grouped = df.groupby(\"Species_short\")"
   ]
  },
  {
   "cell_type": "code",
   "execution_count": 5,
   "id": "c6c39aed",
   "metadata": {
    "execution": {
     "iopub.execute_input": "2025-08-31T17:20:21.610735Z",
     "iopub.status.busy": "2025-08-31T17:20:21.609526Z",
     "iopub.status.idle": "2025-08-31T17:20:21.901110Z",
     "shell.execute_reply": "2025-08-31T17:20:21.899348Z"
    }
   },
   "outputs": [
    {
     "ename": "NameError",
     "evalue": "name 'df_grouped' is not defined",
     "output_type": "error",
     "traceback": [
      "\u001b[31m---------------------------------------------------------------------------\u001b[39m",
      "\u001b[31mNameError\u001b[39m                                 Traceback (most recent call last)",
      "\u001b[36mCell\u001b[39m\u001b[36m \u001b[39m\u001b[32mIn[5]\u001b[39m\u001b[32m, line 2\u001b[39m\n\u001b[32m      1\u001b[39m _, ax_scatter_pandas = plt.subplots()\n\u001b[32m----> \u001b[39m\u001b[32m2\u001b[39m \u001b[38;5;28;01mfor\u001b[39;00m i, v \u001b[38;5;129;01min\u001b[39;00m \u001b[38;5;28menumerate\u001b[39m(\u001b[43mdf_grouped\u001b[49m):\n\u001b[32m      3\u001b[39m     label, group = v\n\u001b[32m      4\u001b[39m     group.plot(\n\u001b[32m      5\u001b[39m         x=\u001b[33m\"\u001b[39m\u001b[33mCulmen_Length\u001b[39m\u001b[33m\"\u001b[39m,\n\u001b[32m      6\u001b[39m         y=\u001b[33m\"\u001b[39m\u001b[33mFlipper_Length\u001b[39m\u001b[33m\"\u001b[39m,\n\u001b[32m   (...)\u001b[39m\u001b[32m     11\u001b[39m         ax=ax_scatter_pandas,  \u001b[38;5;66;03m# 重ね打ち\u001b[39;00m\n\u001b[32m     12\u001b[39m     )\n",
      "\u001b[31mNameError\u001b[39m: name 'df_grouped' is not defined"
     ]
    },
    {
     "data": {
      "image/png": "[encoded data removed]",
      "text/plain": [
       "<Figure size 640x480 with 1 Axes>"
      ]
     },
     "metadata": {},
     "output_type": "display_data"
    }
   ],
   "source": [
    "_, ax_scatter_pandas = plt.subplots()\n",
    "for i, v in enumerate(df_grouped):\n",
    "    label, group = v\n",
    "    group.plot(\n",
    "        x=\"Culmen_Length\",\n",
    "        y=\"Flipper_Length\",\n",
    "        kind=\"scatter\",\n",
    "        color=cm(i),\n",
    "        marker=markers[i],\n",
    "        label=label,\n",
    "        ax=ax_scatter_pandas,  # 重ね打ち\n",
    "    )"
   ]
  },
  {
   "cell_type": "markdown",
   "id": "ab49bf62",
   "metadata": {},
   "source": [
    "### Matplotlibによる可視化"
   ]
  },
  {
   "cell_type": "code",
   "execution_count": 6,
   "id": "564a38d0",
   "metadata": {
    "execution": {
     "iopub.execute_input": "2025-08-31T17:20:21.906953Z",
     "iopub.status.busy": "2025-08-31T17:20:21.905456Z",
     "iopub.status.idle": "2025-08-31T17:20:22.276464Z",
     "shell.execute_reply": "2025-08-31T17:20:22.274168Z"
    }
   },
   "outputs": [
    {
     "ename": "NameError",
     "evalue": "name 'df_grouped' is not defined",
     "output_type": "error",
     "traceback": [
      "\u001b[31m---------------------------------------------------------------------------\u001b[39m",
      "\u001b[31mNameError\u001b[39m                                 Traceback (most recent call last)",
      "\u001b[36mCell\u001b[39m\u001b[36m \u001b[39m\u001b[32mIn[6]\u001b[39m\u001b[32m, line 2\u001b[39m\n\u001b[32m      1\u001b[39m _, ax_scatter_matplotlib = plt.subplots()\n\u001b[32m----> \u001b[39m\u001b[32m2\u001b[39m \u001b[38;5;28;01mfor\u001b[39;00m i, v \u001b[38;5;129;01min\u001b[39;00m \u001b[38;5;28menumerate\u001b[39m(\u001b[43mdf_grouped\u001b[49m):\n\u001b[32m      3\u001b[39m     label, group = v\n\u001b[32m      4\u001b[39m     ax_scatter_matplotlib.scatter(\n\u001b[32m      5\u001b[39m         x=group[\u001b[33m\"\u001b[39m\u001b[33mCulmen_Length\u001b[39m\u001b[33m\"\u001b[39m],\n\u001b[32m      6\u001b[39m         y=group[\u001b[33m\"\u001b[39m\u001b[33mFlipper_Length\u001b[39m\u001b[33m\"\u001b[39m],\n\u001b[32m   (...)\u001b[39m\u001b[32m      9\u001b[39m         label=label,\n\u001b[32m     10\u001b[39m     )\n",
      "\u001b[31mNameError\u001b[39m: name 'df_grouped' is not defined"
     ]
    },
    {
     "data": {
      "image/png": "[encoded data removed]",
      "text/plain": [
       "<Figure size 640x480 with 1 Axes>"
      ]
     },
     "metadata": {},
     "output_type": "display_data"
    }
   ],
   "source": [
    "_, ax_scatter_matplotlib = plt.subplots()\n",
    "for i, v in enumerate(df_grouped):\n",
    "    label, group = v\n",
    "    ax_scatter_matplotlib.scatter(\n",
    "        x=group[\"Culmen_Length\"],\n",
    "        y=group[\"Flipper_Length\"],\n",
    "        color=cm(i),\n",
    "        marker=markers[i],\n",
    "        label=label,\n",
    "    )\n",
    "ax_scatter_matplotlib.legend()  # 凡例を表示\n",
    "plt.show()"
   ]
  },
  {
   "cell_type": "markdown",
   "id": "c642fe00",
   "metadata": {},
   "source": [
    "## 折れ線グラフ"
   ]
  },
  {
   "cell_type": "markdown",
   "id": "4b84440f",
   "metadata": {},
   "source": [
    "### 調査年と種ごとの平均体重の計算"
   ]
  },
  {
   "cell_type": "code",
   "execution_count": 7,
   "id": "5b14b19c",
   "metadata": {
    "execution": {
     "iopub.execute_input": "2025-08-31T17:20:22.282439Z",
     "iopub.status.busy": "2025-08-31T17:20:22.281723Z",
     "iopub.status.idle": "2025-08-31T17:20:22.345062Z",
     "shell.execute_reply": "2025-08-31T17:20:22.342861Z"
    }
   },
   "outputs": [
    {
     "ename": "NameError",
     "evalue": "name 'df' is not defined",
     "output_type": "error",
     "traceback": [
      "\u001b[31m---------------------------------------------------------------------------\u001b[39m",
      "\u001b[31mNameError\u001b[39m                                 Traceback (most recent call last)",
      "\u001b[36mCell\u001b[39m\u001b[36m \u001b[39m\u001b[32mIn[7]\u001b[39m\u001b[32m, line 2\u001b[39m\n\u001b[32m      1\u001b[39m df_avg_weight_year = (\n\u001b[32m----> \u001b[39m\u001b[32m2\u001b[39m     \u001b[43mdf\u001b[49m.assign(\n\u001b[32m      3\u001b[39m         year=df.loc[:, \u001b[33m\"\u001b[39m\u001b[33mDate_Egg\u001b[39m\u001b[33m\"\u001b[39m].dt.to_period(\u001b[33m\"\u001b[39m\u001b[33mY\u001b[39m\u001b[33m\"\u001b[39m)\n\u001b[32m      4\u001b[39m     )  \u001b[38;5;66;03m# pandasのPeriodオブジェクト（周期の単位：年）\u001b[39;00m\n\u001b[32m      5\u001b[39m     .groupby([\u001b[33m\"\u001b[39m\u001b[33mSpecies_short\u001b[39m\u001b[33m\"\u001b[39m, \u001b[33m\"\u001b[39m\u001b[33myear\u001b[39m\u001b[33m\"\u001b[39m], as_index=\u001b[38;5;28;01mFalse\u001b[39;00m)[\u001b[33m\"\u001b[39m\u001b[33mBody_Mass\u001b[39m\u001b[33m\"\u001b[39m]\n\u001b[32m      6\u001b[39m     .mean()\n\u001b[32m      7\u001b[39m )\n\u001b[32m      8\u001b[39m df_avg_weight_year\n",
      "\u001b[31mNameError\u001b[39m: name 'df' is not defined"
     ]
    }
   ],
   "source": [
    "df_avg_weight_year = (\n",
    "    df.assign(\n",
    "        year=df.loc[:, \"Date_Egg\"].dt.to_period(\"Y\")\n",
    "    )  # pandasのPeriodオブジェクト（周期の単位：年）\n",
    "    .groupby([\"Species_short\", \"year\"], as_index=False)[\"Body_Mass\"]\n",
    "    .mean()\n",
    ")\n",
    "df_avg_weight_year"
   ]
  },
  {
   "cell_type": "markdown",
   "id": "4c084f14",
   "metadata": {},
   "source": [
    "### pandasによる可視化"
   ]
  },
  {
   "cell_type": "code",
   "execution_count": 8,
   "id": "f209c5d4",
   "metadata": {
    "execution": {
     "iopub.execute_input": "2025-08-31T17:20:22.353456Z",
     "iopub.status.busy": "2025-08-31T17:20:22.352036Z",
     "iopub.status.idle": "2025-08-31T17:20:22.415711Z",
     "shell.execute_reply": "2025-08-31T17:20:22.413431Z"
    }
   },
   "outputs": [
    {
     "ename": "NameError",
     "evalue": "name 'df_avg_weight_year' is not defined",
     "output_type": "error",
     "traceback": [
      "\u001b[31m---------------------------------------------------------------------------\u001b[39m",
      "\u001b[31mNameError\u001b[39m                                 Traceback (most recent call last)",
      "\u001b[36mCell\u001b[39m\u001b[36m \u001b[39m\u001b[32mIn[8]\u001b[39m\u001b[32m, line 1\u001b[39m\n\u001b[32m----> \u001b[39m\u001b[32m1\u001b[39m df_avg_weight_year_pivoted = \u001b[43mdf_avg_weight_year\u001b[49m.pivot_table(\n\u001b[32m      2\u001b[39m     index=\u001b[33m\"\u001b[39m\u001b[33myear\u001b[39m\u001b[33m\"\u001b[39m,\n\u001b[32m      3\u001b[39m     columns=\u001b[33m\"\u001b[39m\u001b[33mSpecies_short\u001b[39m\u001b[33m\"\u001b[39m,\n\u001b[32m      4\u001b[39m     values=\u001b[33m\"\u001b[39m\u001b[33mBody_Mass\u001b[39m\u001b[33m\"\u001b[39m,\n\u001b[32m      5\u001b[39m )\n\u001b[32m      6\u001b[39m df_avg_weight_year_pivoted\n",
      "\u001b[31mNameError\u001b[39m: name 'df_avg_weight_year' is not defined"
     ]
    }
   ],
   "source": [
    "df_avg_weight_year_pivoted = df_avg_weight_year.pivot_table(\n",
    "    index=\"year\",\n",
    "    columns=\"Species_short\",\n",
    "    values=\"Body_Mass\",\n",
    ")\n",
    "df_avg_weight_year_pivoted"
   ]
  },
  {
   "cell_type": "code",
   "execution_count": 9,
   "id": "4714835c",
   "metadata": {
    "execution": {
     "iopub.execute_input": "2025-08-31T17:20:22.423036Z",
     "iopub.status.busy": "2025-08-31T17:20:22.421472Z",
     "iopub.status.idle": "2025-08-31T17:20:22.503775Z",
     "shell.execute_reply": "2025-08-31T17:20:22.501890Z"
    }
   },
   "outputs": [
    {
     "ename": "NameError",
     "evalue": "name 'codes' is not defined",
     "output_type": "error",
     "traceback": [
      "\u001b[31m---------------------------------------------------------------------------\u001b[39m",
      "\u001b[31mNameError\u001b[39m                                 Traceback (most recent call last)",
      "\u001b[36mCell\u001b[39m\u001b[36m \u001b[39m\u001b[32mIn[9]\u001b[39m\u001b[32m, line 2\u001b[39m\n\u001b[32m      1\u001b[39m \u001b[38;5;66;03m# 線の色とスタイル（種類）\u001b[39;00m\n\u001b[32m----> \u001b[39m\u001b[32m2\u001b[39m species_colors = [cm(i) \u001b[38;5;28;01mfor\u001b[39;00m i \u001b[38;5;129;01min\u001b[39;00m np.unique(\u001b[43mcodes\u001b[49m)]\n\u001b[32m      3\u001b[39m linestyles = [\n\u001b[32m      4\u001b[39m     \u001b[33m\"\u001b[39m\u001b[33m.-\u001b[39m\u001b[33m\"\u001b[39m,  \u001b[38;5;66;03m# ●と実線\u001b[39;00m\n\u001b[32m      5\u001b[39m     \u001b[33m\"\u001b[39m\u001b[33ms:\u001b[39m\u001b[33m\"\u001b[39m,  \u001b[38;5;66;03m# ■と点線（...）\u001b[39;00m\n\u001b[32m      6\u001b[39m     \u001b[33m\"\u001b[39m\u001b[33m^--\u001b[39m\u001b[33m\"\u001b[39m,  \u001b[38;5;66;03m# ▲と破線（---）\u001b[39;00m\n\u001b[32m      7\u001b[39m ]\n\u001b[32m      9\u001b[39m \u001b[38;5;66;03m# 描画\u001b[39;00m\n",
      "\u001b[31mNameError\u001b[39m: name 'codes' is not defined"
     ]
    }
   ],
   "source": [
    "# 線の色とスタイル（種類）\n",
    "species_colors = [cm(i) for i in np.unique(codes)]\n",
    "linestyles = [\n",
    "    \".-\",  # ●と実線\n",
    "    \"s:\",  # ■と点線（...）\n",
    "    \"^--\",  # ▲と破線（---）\n",
    "]\n",
    "\n",
    "# 描画\n",
    "df_avg_weight_year_pivoted.plot(\n",
    "    kind=\"line\",\n",
    "    color=species_colors,\n",
    "    style=linestyles,\n",
    "    ylim=[0, None],  # 縦軸の最小値を0にする\n",
    ");"
   ]
  },
  {
   "cell_type": "markdown",
   "id": "236254cb",
   "metadata": {},
   "source": [
    "### Matplotlibによる可視化"
   ]
  },
  {
   "cell_type": "code",
   "execution_count": 10,
   "id": "3c968238",
   "metadata": {
    "execution": {
     "iopub.execute_input": "2025-08-31T17:20:22.510146Z",
     "iopub.status.busy": "2025-08-31T17:20:22.508932Z",
     "iopub.status.idle": "2025-08-31T17:20:22.575605Z",
     "shell.execute_reply": "2025-08-31T17:20:22.573429Z"
    }
   },
   "outputs": [
    {
     "ename": "NameError",
     "evalue": "name 'df_avg_weight_year' is not defined",
     "output_type": "error",
     "traceback": [
      "\u001b[31m---------------------------------------------------------------------------\u001b[39m",
      "\u001b[31mNameError\u001b[39m                                 Traceback (most recent call last)",
      "\u001b[36mCell\u001b[39m\u001b[36m \u001b[39m\u001b[32mIn[10]\u001b[39m\u001b[32m, line 2\u001b[39m\n\u001b[32m      1\u001b[39m \u001b[38;5;66;03m# Species列でグループ化\u001b[39;00m\n\u001b[32m----> \u001b[39m\u001b[32m2\u001b[39m df_avg_weight_year_grouped = \u001b[43mdf_avg_weight_year\u001b[49m.assign(\n\u001b[32m      3\u001b[39m     year=\u001b[38;5;28;01mlambda\u001b[39;00m x: x.loc[:, \u001b[33m\"\u001b[39m\u001b[33myear\u001b[39m\u001b[33m\"\u001b[39m].dt.to_timestamp()\n\u001b[32m      4\u001b[39m ).groupby(\u001b[33m\"\u001b[39m\u001b[33mSpecies_short\u001b[39m\u001b[33m\"\u001b[39m)\n",
      "\u001b[31mNameError\u001b[39m: name 'df_avg_weight_year' is not defined"
     ]
    }
   ],
   "source": [
    "# Species列でグループ化\n",
    "df_avg_weight_year_grouped = df_avg_weight_year.assign(\n",
    "    year=lambda x: x.loc[:, \"year\"].dt.to_timestamp()\n",
    ").groupby(\"Species_short\")"
   ]
  },
  {
   "cell_type": "code",
   "execution_count": 11,
   "id": "4506ee82",
   "metadata": {
    "execution": {
     "iopub.execute_input": "2025-08-31T17:20:22.581910Z",
     "iopub.status.busy": "2025-08-31T17:20:22.580942Z",
     "iopub.status.idle": "2025-08-31T17:20:22.952054Z",
     "shell.execute_reply": "2025-08-31T17:20:22.949714Z"
    }
   },
   "outputs": [
    {
     "ename": "NameError",
     "evalue": "name 'df_avg_weight_year_grouped' is not defined",
     "output_type": "error",
     "traceback": [
      "\u001b[31m---------------------------------------------------------------------------\u001b[39m",
      "\u001b[31mNameError\u001b[39m                                 Traceback (most recent call last)",
      "\u001b[36mCell\u001b[39m\u001b[36m \u001b[39m\u001b[32mIn[11]\u001b[39m\u001b[32m, line 11\u001b[39m\n\u001b[32m      6\u001b[39m \u001b[38;5;66;03m# 種ごとにグラフを描き、重ね打ちする\u001b[39;00m\n\u001b[32m      7\u001b[39m _, ax_line_matplotlib = plt.subplots()\n\u001b[32m      8\u001b[39m \u001b[38;5;28;01mfor\u001b[39;00m (\n\u001b[32m      9\u001b[39m     i,\n\u001b[32m     10\u001b[39m     v,\n\u001b[32m---> \u001b[39m\u001b[32m11\u001b[39m ) \u001b[38;5;129;01min\u001b[39;00m \u001b[38;5;28menumerate\u001b[39m(\u001b[43mdf_avg_weight_year_grouped\u001b[49m):\n\u001b[32m     12\u001b[39m     label, group = v\n\u001b[32m     13\u001b[39m     ax_line_matplotlib.plot(\n\u001b[32m     14\u001b[39m         group[\u001b[33m\"\u001b[39m\u001b[33myear\u001b[39m\u001b[33m\"\u001b[39m],\n\u001b[32m     15\u001b[39m         group[\u001b[33m\"\u001b[39m\u001b[33mBody_Mass\u001b[39m\u001b[33m\"\u001b[39m],\n\u001b[32m   (...)\u001b[39m\u001b[32m     18\u001b[39m         label=label,\n\u001b[32m     19\u001b[39m     )\n",
      "\u001b[31mNameError\u001b[39m: name 'df_avg_weight_year_grouped' is not defined"
     ]
    },
    {
     "data": {
      "image/png": "[encoded data removed]",
      "text/plain": [
       "<Figure size 640x480 with 1 Axes>"
      ]
     },
     "metadata": {},
     "output_type": "display_data"
    }
   ],
   "source": [
    "from matplotlib.dates import (\n",
    "    DateFormatter,\n",
    "    YearLocator,\n",
    ")\n",
    "\n",
    "# 種ごとにグラフを描き、重ね打ちする\n",
    "_, ax_line_matplotlib = plt.subplots()\n",
    "for (\n",
    "    i,\n",
    "    v,\n",
    ") in enumerate(df_avg_weight_year_grouped):\n",
    "    label, group = v\n",
    "    ax_line_matplotlib.plot(\n",
    "        group[\"year\"],\n",
    "        group[\"Body_Mass\"],\n",
    "        linestyles[i],\n",
    "        color=cm(i),\n",
    "        label=label,\n",
    "    )\n",
    "ax_line_matplotlib.set_ylim(0)  # 縦軸の最小値を0にする\n",
    "\n",
    "# 横軸の目盛を調整\n",
    "ax_line_matplotlib.xaxis.set_major_formatter(\n",
    "    DateFormatter(\"%Y\")\n",
    ")  # 目盛に年だけを表示\n",
    "ax_line_matplotlib.xaxis.set_major_locator(YearLocator())  # 目盛の間隔を1年に設定\n",
    "\n",
    "ax_line_matplotlib.legend()\n",
    "plt.show()"
   ]
  },
  {
   "cell_type": "markdown",
   "id": "c12bed98",
   "metadata": {},
   "source": [
    "## 棒グラフ"
   ]
  },
  {
   "cell_type": "markdown",
   "id": "379b0951",
   "metadata": {},
   "source": [
    "### 島と種ごとの平均体重の計算"
   ]
  },
  {
   "cell_type": "code",
   "execution_count": 12,
   "id": "ab046f8a",
   "metadata": {
    "execution": {
     "iopub.execute_input": "2025-08-31T17:20:22.959065Z",
     "iopub.status.busy": "2025-08-31T17:20:22.958146Z",
     "iopub.status.idle": "2025-08-31T17:20:23.023652Z",
     "shell.execute_reply": "2025-08-31T17:20:23.021530Z"
    }
   },
   "outputs": [
    {
     "ename": "NameError",
     "evalue": "name 'df' is not defined",
     "output_type": "error",
     "traceback": [
      "\u001b[31m---------------------------------------------------------------------------\u001b[39m",
      "\u001b[31mNameError\u001b[39m                                 Traceback (most recent call last)",
      "\u001b[36mCell\u001b[39m\u001b[36m \u001b[39m\u001b[32mIn[12]\u001b[39m\u001b[32m, line 1\u001b[39m\n\u001b[32m----> \u001b[39m\u001b[32m1\u001b[39m df_avg_weight_island = \u001b[43mdf\u001b[49m.groupby(\n\u001b[32m      2\u001b[39m     [\u001b[33m\"\u001b[39m\u001b[33mSpecies_short\u001b[39m\u001b[33m\"\u001b[39m, \u001b[33m\"\u001b[39m\u001b[33mIsland\u001b[39m\u001b[33m\"\u001b[39m], as_index=\u001b[38;5;28;01mFalse\u001b[39;00m\n\u001b[32m      3\u001b[39m )[\u001b[33m\"\u001b[39m\u001b[33mBody_Mass\u001b[39m\u001b[33m\"\u001b[39m].mean()\n\u001b[32m      4\u001b[39m df_avg_weight_island\n",
      "\u001b[31mNameError\u001b[39m: name 'df' is not defined"
     ]
    }
   ],
   "source": [
    "df_avg_weight_island = df.groupby(\n",
    "    [\"Species_short\", \"Island\"], as_index=False\n",
    ")[\"Body_Mass\"].mean()\n",
    "df_avg_weight_island"
   ]
  },
  {
   "cell_type": "markdown",
   "id": "1b2eae4d",
   "metadata": {},
   "source": [
    "### pandasによる可視化"
   ]
  },
  {
   "cell_type": "code",
   "execution_count": 13,
   "id": "67a66c79",
   "metadata": {
    "execution": {
     "iopub.execute_input": "2025-08-31T17:20:23.030493Z",
     "iopub.status.busy": "2025-08-31T17:20:23.028636Z",
     "iopub.status.idle": "2025-08-31T17:20:23.089285Z",
     "shell.execute_reply": "2025-08-31T17:20:23.086849Z"
    }
   },
   "outputs": [
    {
     "ename": "NameError",
     "evalue": "name 'df_avg_weight_island' is not defined",
     "output_type": "error",
     "traceback": [
      "\u001b[31m---------------------------------------------------------------------------\u001b[39m",
      "\u001b[31mNameError\u001b[39m                                 Traceback (most recent call last)",
      "\u001b[36mCell\u001b[39m\u001b[36m \u001b[39m\u001b[32mIn[13]\u001b[39m\u001b[32m, line 2\u001b[39m\n\u001b[32m      1\u001b[39m \u001b[38;5;66;03m# 行方向に種、列方向に島となるように変形\u001b[39;00m\n\u001b[32m----> \u001b[39m\u001b[32m2\u001b[39m df_avg_weight_island_pivoted = \u001b[43mdf_avg_weight_island\u001b[49m.pivot_table(\n\u001b[32m      3\u001b[39m     index=\u001b[33m\"\u001b[39m\u001b[33mSpecies_short\u001b[39m\u001b[33m\"\u001b[39m,\n\u001b[32m      4\u001b[39m     columns=\u001b[33m\"\u001b[39m\u001b[33mIsland\u001b[39m\u001b[33m\"\u001b[39m,\n\u001b[32m      5\u001b[39m     values=\u001b[33m\"\u001b[39m\u001b[33mBody_Mass\u001b[39m\u001b[33m\"\u001b[39m,\n\u001b[32m      6\u001b[39m )\n\u001b[32m      7\u001b[39m df_avg_weight_island_pivoted\n",
      "\u001b[31mNameError\u001b[39m: name 'df_avg_weight_island' is not defined"
     ]
    }
   ],
   "source": [
    "# 行方向に種、列方向に島となるように変形\n",
    "df_avg_weight_island_pivoted = df_avg_weight_island.pivot_table(\n",
    "    index=\"Species_short\",\n",
    "    columns=\"Island\",\n",
    "    values=\"Body_Mass\",\n",
    ")\n",
    "df_avg_weight_island_pivoted"
   ]
  },
  {
   "cell_type": "code",
   "execution_count": 14,
   "id": "05a9642e",
   "metadata": {
    "execution": {
     "iopub.execute_input": "2025-08-31T17:20:23.094909Z",
     "iopub.status.busy": "2025-08-31T17:20:23.093800Z",
     "iopub.status.idle": "2025-08-31T17:20:23.157881Z",
     "shell.execute_reply": "2025-08-31T17:20:23.155764Z"
    }
   },
   "outputs": [
    {
     "ename": "NameError",
     "evalue": "name 'df' is not defined",
     "output_type": "error",
     "traceback": [
      "\u001b[31m---------------------------------------------------------------------------\u001b[39m",
      "\u001b[31mNameError\u001b[39m                                 Traceback (most recent call last)",
      "\u001b[36mCell\u001b[39m\u001b[36m \u001b[39m\u001b[32mIn[14]\u001b[39m\u001b[32m, line 1\u001b[39m\n\u001b[32m----> \u001b[39m\u001b[32m1\u001b[39m island_codes = \u001b[43mdf\u001b[49m.loc[:, \u001b[33m\"\u001b[39m\u001b[33mIsland\u001b[39m\u001b[33m\"\u001b[39m].cat.codes\n\u001b[32m      2\u001b[39m island_colors = [cm(i) \u001b[38;5;28;01mfor\u001b[39;00m i \u001b[38;5;129;01min\u001b[39;00m np.unique(island_codes)]\n\u001b[32m      3\u001b[39m hatches = [\u001b[33m\"\u001b[39m\u001b[33m/\u001b[39m\u001b[33m\"\u001b[39m, \u001b[33m\"\u001b[39m\u001b[38;5;130;01m\\\\\u001b[39;00m\u001b[33m\"\u001b[39m, \u001b[33m\"\u001b[39m\u001b[33m|\u001b[39m\u001b[33m\"\u001b[39m]\n",
      "\u001b[31mNameError\u001b[39m: name 'df' is not defined"
     ]
    }
   ],
   "source": [
    "island_codes = df.loc[:, \"Island\"].cat.codes\n",
    "island_colors = [cm(i) for i in np.unique(island_codes)]\n",
    "hatches = [\"/\", \"\\\\\", \"|\"]"
   ]
  },
  {
   "cell_type": "code",
   "execution_count": 15,
   "id": "47dfcc32",
   "metadata": {
    "execution": {
     "iopub.execute_input": "2025-08-31T17:20:23.164571Z",
     "iopub.status.busy": "2025-08-31T17:20:23.163130Z",
     "iopub.status.idle": "2025-08-31T17:20:23.478165Z",
     "shell.execute_reply": "2025-08-31T17:20:23.476260Z"
    }
   },
   "outputs": [
    {
     "ename": "NameError",
     "evalue": "name 'df_avg_weight_island_pivoted' is not defined",
     "output_type": "error",
     "traceback": [
      "\u001b[31m---------------------------------------------------------------------------\u001b[39m",
      "\u001b[31mNameError\u001b[39m                                 Traceback (most recent call last)",
      "\u001b[36mCell\u001b[39m\u001b[36m \u001b[39m\u001b[32mIn[15]\u001b[39m\u001b[32m, line 2\u001b[39m\n\u001b[32m      1\u001b[39m _, ax_bar_pandas = plt.subplots()\n\u001b[32m----> \u001b[39m\u001b[32m2\u001b[39m \u001b[43mdf_avg_weight_island_pivoted\u001b[49m.plot(\n\u001b[32m      3\u001b[39m     kind=\u001b[33m\"\u001b[39m\u001b[33mbar\u001b[39m\u001b[33m\"\u001b[39m,\n\u001b[32m      4\u001b[39m     color=island_colors,\n\u001b[32m      5\u001b[39m     rot=\u001b[32m0\u001b[39m,\n\u001b[32m      6\u001b[39m     ax=ax_bar_pandas,\n\u001b[32m      7\u001b[39m     legend=\u001b[38;5;28;01mFalse\u001b[39;00m,\n\u001b[32m      8\u001b[39m )\n\u001b[32m     10\u001b[39m \u001b[38;5;66;03m# ハッチングの設定\u001b[39;00m\n\u001b[32m     11\u001b[39m bars = ax_bar_pandas.patches\n",
      "\u001b[31mNameError\u001b[39m: name 'df_avg_weight_island_pivoted' is not defined"
     ]
    },
    {
     "data": {
      "image/png": "[encoded data removed]",
      "text/plain": [
       "<Figure size 640x480 with 1 Axes>"
      ]
     },
     "metadata": {},
     "output_type": "display_data"
    }
   ],
   "source": [
    "_, ax_bar_pandas = plt.subplots()\n",
    "df_avg_weight_island_pivoted.plot(\n",
    "    kind=\"bar\",\n",
    "    color=island_colors,\n",
    "    rot=0,\n",
    "    ax=ax_bar_pandas,\n",
    "    legend=False,\n",
    ")\n",
    "\n",
    "# ハッチングの設定\n",
    "bars = ax_bar_pandas.patches\n",
    "hatch_list = [\n",
    "    p for p in hatches for i in range(len(df_avg_weight_island_pivoted))\n",
    "]\n",
    "for bar, hatch in zip(bars, hatch_list):\n",
    "    bar.set_hatch(hatch)\n",
    "\n",
    "ax_bar_pandas.legend()\n",
    "plt.show()"
   ]
  },
  {
   "cell_type": "markdown",
   "id": "f0a129b7",
   "metadata": {},
   "source": [
    "### Matplotlibによる可視化（参考）"
   ]
  },
  {
   "cell_type": "code",
   "execution_count": 16,
   "id": "2ecd04bc",
   "metadata": {
    "execution": {
     "iopub.execute_input": "2025-08-31T17:20:23.485865Z",
     "iopub.status.busy": "2025-08-31T17:20:23.484652Z",
     "iopub.status.idle": "2025-08-31T17:20:23.562627Z",
     "shell.execute_reply": "2025-08-31T17:20:23.560191Z"
    }
   },
   "outputs": [
    {
     "ename": "NameError",
     "evalue": "name 'df_avg_weight_island' is not defined",
     "output_type": "error",
     "traceback": [
      "\u001b[31m---------------------------------------------------------------------------\u001b[39m",
      "\u001b[31mNameError\u001b[39m                                 Traceback (most recent call last)",
      "\u001b[36mCell\u001b[39m\u001b[36m \u001b[39m\u001b[32mIn[16]\u001b[39m\u001b[32m, line 2\u001b[39m\n\u001b[32m      1\u001b[39m \u001b[38;5;66;03m# 島でグループ化\u001b[39;00m\n\u001b[32m----> \u001b[39m\u001b[32m2\u001b[39m df_avg_weight_island_grouped = \u001b[43mdf_avg_weight_island\u001b[49m.groupby(\u001b[33m\"\u001b[39m\u001b[33mIsland\u001b[39m\u001b[33m\"\u001b[39m)\n\u001b[32m      4\u001b[39m \u001b[38;5;66;03m# 島ごとにグラフを描き、重ね打ちする\u001b[39;00m\n\u001b[32m      5\u001b[39m _, ax_bar_matplotlib = plt.subplots()\n",
      "\u001b[31mNameError\u001b[39m: name 'df_avg_weight_island' is not defined"
     ]
    }
   ],
   "source": [
    "# 島でグループ化\n",
    "df_avg_weight_island_grouped = df_avg_weight_island.groupby(\"Island\")\n",
    "\n",
    "# 島ごとにグラフを描き、重ね打ちする\n",
    "_, ax_bar_matplotlib = plt.subplots()\n",
    "species_codes = np.unique(\n",
    "    df_avg_weight_island.loc[:, \"Species_short\"].cat.codes.values\n",
    ")  # それぞれの種の基準となる位置（座標）\n",
    "n_species = df_avg_weight_island.loc[:, \"Species_short\"].nunique()  # 種の数\n",
    "width = 1 / (n_species + 1)  # それぞれの島の棒の幅（種どうしで間隔を空けるために分母に1を足す）\n",
    "for i, v in enumerate(df_avg_weight_island_grouped):\n",
    "    label, group = v\n",
    "    ax_bar_matplotlib.bar(\n",
    "        x=species_codes + width * i,  # グループ（島）ごとに位置をずらす\n",
    "        height=group[\"Body_Mass\"],\n",
    "        width=width,\n",
    "        color=cm(i),\n",
    "        hatch=hatches[i],\n",
    "        label=label,\n",
    "    )\n",
    "\n",
    "# 横軸を調整\n",
    "ax_bar_matplotlib.set_xlim(\n",
    "    min(species_codes) - 3 * width, max(species_codes) + 3 * width\n",
    ")\n",
    "ax_bar_matplotlib.set_xticks(\n",
    "    species_codes + width,\n",
    "    df_avg_weight_island.loc[:, \"Species_short\"].cat.categories,\n",
    "    rotation=0,\n",
    ")\n",
    "\n",
    "ax_bar_matplotlib.legend()\n",
    "plt.show()"
   ]
  },
  {
   "cell_type": "markdown",
   "id": "eb657f3b",
   "metadata": {},
   "source": [
    "## ヒストグラム"
   ]
  },
  {
   "cell_type": "code",
   "execution_count": 17,
   "id": "721d2c14",
   "metadata": {
    "execution": {
     "iopub.execute_input": "2025-08-31T17:20:23.569368Z",
     "iopub.status.busy": "2025-08-31T17:20:23.567989Z",
     "iopub.status.idle": "2025-08-31T17:20:23.858871Z",
     "shell.execute_reply": "2025-08-31T17:20:23.856850Z"
    }
   },
   "outputs": [
    {
     "ename": "NameError",
     "evalue": "name 'df_grouped' is not defined",
     "output_type": "error",
     "traceback": [
      "\u001b[31m---------------------------------------------------------------------------\u001b[39m",
      "\u001b[31mNameError\u001b[39m                                 Traceback (most recent call last)",
      "\u001b[36mCell\u001b[39m\u001b[36m \u001b[39m\u001b[32mIn[17]\u001b[39m\u001b[32m, line 2\u001b[39m\n\u001b[32m      1\u001b[39m _, ax_hist_pandas_grouped = plt.subplots()\n\u001b[32m----> \u001b[39m\u001b[32m2\u001b[39m \u001b[38;5;28;01mfor\u001b[39;00m i, v \u001b[38;5;129;01min\u001b[39;00m \u001b[38;5;28menumerate\u001b[39m(\u001b[43mdf_grouped\u001b[49m):\n\u001b[32m      3\u001b[39m     label, group = v\n\u001b[32m      4\u001b[39m     group.plot(\n\u001b[32m      5\u001b[39m         y=\u001b[33m\"\u001b[39m\u001b[33mBody_Mass\u001b[39m\u001b[33m\"\u001b[39m,\n\u001b[32m      6\u001b[39m         kind=\u001b[33m\"\u001b[39m\u001b[33mhist\u001b[39m\u001b[33m\"\u001b[39m,\n\u001b[32m   (...)\u001b[39m\u001b[32m     11\u001b[39m         ax=ax_hist_pandas_grouped,\n\u001b[32m     12\u001b[39m     )\n",
      "\u001b[31mNameError\u001b[39m: name 'df_grouped' is not defined"
     ]
    },
    {
     "data": {
      "image/png": "[encoded data removed]",
      "text/plain": [
       "<Figure size 640x480 with 1 Axes>"
      ]
     },
     "metadata": {},
     "output_type": "display_data"
    }
   ],
   "source": [
    "_, ax_hist_pandas_grouped = plt.subplots()\n",
    "for i, v in enumerate(df_grouped):\n",
    "    label, group = v\n",
    "    group.plot(\n",
    "        y=\"Body_Mass\",\n",
    "        kind=\"hist\",\n",
    "        color=cm(i),\n",
    "        alpha=0.7,\n",
    "        hatch=hatches[i],\n",
    "        label=label,\n",
    "        ax=ax_hist_pandas_grouped,\n",
    "    )\n",
    "\n",
    "ax_hist_pandas_grouped.legend()\n",
    "plt.show()"
   ]
  },
  {
   "cell_type": "code",
   "execution_count": 18,
   "id": "3d161d15",
   "metadata": {
    "execution": {
     "iopub.execute_input": "2025-08-31T17:20:23.864546Z",
     "iopub.status.busy": "2025-08-31T17:20:23.863428Z",
     "iopub.status.idle": "2025-08-31T17:20:23.912431Z",
     "shell.execute_reply": "2025-08-31T17:20:23.910478Z"
    }
   },
   "outputs": [
    {
     "ename": "NameError",
     "evalue": "name 'df' is not defined",
     "output_type": "error",
     "traceback": [
      "\u001b[31m---------------------------------------------------------------------------\u001b[39m",
      "\u001b[31mNameError\u001b[39m                                 Traceback (most recent call last)",
      "\u001b[36mCell\u001b[39m\u001b[36m \u001b[39m\u001b[32mIn[18]\u001b[39m\u001b[32m, line 1\u001b[39m\n\u001b[32m----> \u001b[39m\u001b[32m1\u001b[39m df_hist_pivoted = \u001b[43mdf\u001b[49m.pivot(columns=\u001b[33m\"\u001b[39m\u001b[33mSpecies_short\u001b[39m\u001b[33m\"\u001b[39m, values=\u001b[33m\"\u001b[39m\u001b[33mBody_Mass\u001b[39m\u001b[33m\"\u001b[39m)\n\u001b[32m      2\u001b[39m df_hist_pivoted.head()\n",
      "\u001b[31mNameError\u001b[39m: name 'df' is not defined"
     ]
    }
   ],
   "source": [
    "df_hist_pivoted = df.pivot(columns=\"Species_short\", values=\"Body_Mass\")\n",
    "df_hist_pivoted.head()"
   ]
  },
  {
   "cell_type": "code",
   "execution_count": 19,
   "id": "2f51310d",
   "metadata": {
    "execution": {
     "iopub.execute_input": "2025-08-31T17:20:23.917088Z",
     "iopub.status.busy": "2025-08-31T17:20:23.916454Z",
     "iopub.status.idle": "2025-08-31T17:20:24.158736Z",
     "shell.execute_reply": "2025-08-31T17:20:24.156621Z"
    }
   },
   "outputs": [
    {
     "ename": "NameError",
     "evalue": "name 'df_hist_pivoted' is not defined",
     "output_type": "error",
     "traceback": [
      "\u001b[31m---------------------------------------------------------------------------\u001b[39m",
      "\u001b[31mNameError\u001b[39m                                 Traceback (most recent call last)",
      "\u001b[36mCell\u001b[39m\u001b[36m \u001b[39m\u001b[32mIn[19]\u001b[39m\u001b[32m, line 2\u001b[39m\n\u001b[32m      1\u001b[39m _, ax_hist_pandas_pivoted = plt.subplots()\n\u001b[32m----> \u001b[39m\u001b[32m2\u001b[39m \u001b[43mdf_hist_pivoted\u001b[49m.plot(\n\u001b[32m      3\u001b[39m     kind=\u001b[33m\"\u001b[39m\u001b[33mhist\u001b[39m\u001b[33m\"\u001b[39m,\n\u001b[32m      4\u001b[39m     bins=\u001b[32m10\u001b[39m,\n\u001b[32m      5\u001b[39m     color=species_colors,\n\u001b[32m      6\u001b[39m     alpha=\u001b[32m0.7\u001b[39m,\n\u001b[32m      7\u001b[39m     ax=ax_hist_pandas_pivoted,\n\u001b[32m      8\u001b[39m     legend=\u001b[38;5;28;01mFalse\u001b[39;00m,\n\u001b[32m      9\u001b[39m )\n\u001b[32m     11\u001b[39m \u001b[38;5;66;03m# ハッチングの設定\u001b[39;00m\n\u001b[32m     12\u001b[39m bars = ax_hist_pandas_pivoted.patches\n",
      "\u001b[31mNameError\u001b[39m: name 'df_hist_pivoted' is not defined"
     ]
    },
    {
     "data": {
      "image/png": "[encoded data removed]",
      "text/plain": [
       "<Figure size 640x480 with 1 Axes>"
      ]
     },
     "metadata": {},
     "output_type": "display_data"
    }
   ],
   "source": [
    "_, ax_hist_pandas_pivoted = plt.subplots()\n",
    "df_hist_pivoted.plot(\n",
    "    kind=\"hist\",\n",
    "    bins=10,\n",
    "    color=species_colors,\n",
    "    alpha=0.7,\n",
    "    ax=ax_hist_pandas_pivoted,\n",
    "    legend=False,\n",
    ")\n",
    "\n",
    "# ハッチングの設定\n",
    "bars = ax_hist_pandas_pivoted.patches\n",
    "hatch_list = [\n",
    "    p for p in hatches for i in range(int(len(bars) / len(species_colors)))\n",
    "]\n",
    "for bar, hatch in zip(bars, hatch_list):\n",
    "    bar.set_hatch(hatch)\n",
    "\n",
    "ax_hist_pandas_pivoted.legend()\n",
    "plt.show()"
   ]
  },
  {
   "cell_type": "code",
   "execution_count": 20,
   "id": "a39d460e",
   "metadata": {
    "execution": {
     "iopub.execute_input": "2025-08-31T17:20:24.163196Z",
     "iopub.status.busy": "2025-08-31T17:20:24.162631Z",
     "iopub.status.idle": "2025-08-31T17:20:24.212857Z",
     "shell.execute_reply": "2025-08-31T17:20:24.210460Z"
    }
   },
   "outputs": [
    {
     "ename": "NameError",
     "evalue": "name 'df' is not defined",
     "output_type": "error",
     "traceback": [
      "\u001b[31m---------------------------------------------------------------------------\u001b[39m",
      "\u001b[31mNameError\u001b[39m                                 Traceback (most recent call last)",
      "\u001b[36mCell\u001b[39m\u001b[36m \u001b[39m\u001b[32mIn[20]\u001b[39m\u001b[32m, line 1\u001b[39m\n\u001b[32m----> \u001b[39m\u001b[32m1\u001b[39m fig_hist_pandas_facets = \u001b[43mdf\u001b[49m.plot(\n\u001b[32m      2\u001b[39m     kind=\u001b[33m\"\u001b[39m\u001b[33mhist\u001b[39m\u001b[33m\"\u001b[39m,\n\u001b[32m      3\u001b[39m     column=\u001b[33m\"\u001b[39m\u001b[33mBody_Mass\u001b[39m\u001b[33m\"\u001b[39m,\n\u001b[32m      4\u001b[39m     by=\u001b[33m\"\u001b[39m\u001b[33mSpecies_short\u001b[39m\u001b[33m\"\u001b[39m,\n\u001b[32m      5\u001b[39m     layout=(\u001b[32m1\u001b[39m, \u001b[32m3\u001b[39m),\n\u001b[32m      6\u001b[39m     legend=\u001b[38;5;28;01mFalse\u001b[39;00m,\n\u001b[32m      7\u001b[39m )\n\u001b[32m      9\u001b[39m \u001b[38;5;66;03m# 各グループのサブプロット間の距離を調整\u001b[39;00m\n\u001b[32m     10\u001b[39m plt.subplots_adjust(wspace=\u001b[32m0.6\u001b[39m)\n",
      "\u001b[31mNameError\u001b[39m: name 'df' is not defined"
     ]
    }
   ],
   "source": [
    "fig_hist_pandas_facets = df.plot(\n",
    "    kind=\"hist\",\n",
    "    column=\"Body_Mass\",\n",
    "    by=\"Species_short\",\n",
    "    layout=(1, 3),\n",
    "    legend=False,\n",
    ")\n",
    "\n",
    "# 各グループのサブプロット間の距離を調整\n",
    "plt.subplots_adjust(wspace=0.6)"
   ]
  },
  {
   "cell_type": "markdown",
   "id": "ea18b8dd",
   "metadata": {},
   "source": [
    "## 箱ひげ図"
   ]
  },
  {
   "cell_type": "code",
   "execution_count": 21,
   "id": "f027b436",
   "metadata": {
    "execution": {
     "iopub.execute_input": "2025-08-31T17:20:24.217248Z",
     "iopub.status.busy": "2025-08-31T17:20:24.216737Z",
     "iopub.status.idle": "2025-08-31T17:20:24.433104Z",
     "shell.execute_reply": "2025-08-31T17:20:24.431684Z"
    }
   },
   "outputs": [
    {
     "ename": "NameError",
     "evalue": "name 'df' is not defined",
     "output_type": "error",
     "traceback": [
      "\u001b[31m---------------------------------------------------------------------------\u001b[39m",
      "\u001b[31mNameError\u001b[39m                                 Traceback (most recent call last)",
      "\u001b[36mCell\u001b[39m\u001b[36m \u001b[39m\u001b[32mIn[21]\u001b[39m\u001b[32m, line 2\u001b[39m\n\u001b[32m      1\u001b[39m _, ax_box_pandas = plt.subplots()\n\u001b[32m----> \u001b[39m\u001b[32m2\u001b[39m \u001b[43mdf\u001b[49m.plot(\n\u001b[32m      3\u001b[39m     kind=\u001b[33m\"\u001b[39m\u001b[33mbox\u001b[39m\u001b[33m\"\u001b[39m,\n\u001b[32m      4\u001b[39m     column=\u001b[33m\"\u001b[39m\u001b[33mBody_Mass\u001b[39m\u001b[33m\"\u001b[39m,\n\u001b[32m      5\u001b[39m     by=\u001b[33m\"\u001b[39m\u001b[33mSpecies_short\u001b[39m\u001b[33m\"\u001b[39m,\n\u001b[32m      6\u001b[39m     rot=\u001b[32m0\u001b[39m,\n\u001b[32m      7\u001b[39m     ax=ax_box_pandas,\n\u001b[32m      8\u001b[39m )\n\u001b[32m      9\u001b[39m plt.show()\n",
      "\u001b[31mNameError\u001b[39m: name 'df' is not defined"
     ]
    },
    {
     "data": {
      "image/png": "[encoded data removed]",
      "text/plain": [
       "<Figure size 640x480 with 1 Axes>"
      ]
     },
     "metadata": {},
     "output_type": "display_data"
    }
   ],
   "source": [
    "_, ax_box_pandas = plt.subplots()\n",
    "df.plot(\n",
    "    kind=\"box\",\n",
    "    column=\"Body_Mass\",\n",
    "    by=\"Species_short\",\n",
    "    rot=0,\n",
    "    ax=ax_box_pandas,\n",
    ")\n",
    "plt.show()"
   ]
  },
  {
   "cell_type": "markdown",
   "id": "1fbe22b1",
   "metadata": {},
   "source": [
    "## 文字化けへの対処\n",
    "※事前に、IPA のフォントダウンロードページ [https://moji.or.jp/ipafont/ipafontdownload/](https://moji.or.jp/ipafont/ipafontdownload/) からIPAexゴシック(Ver.004.01)の `.zip` ファイルをダウンロードしてください。それを解凍して、 `ipaexg00401` フォルダごと `appendix/data/` 直下に配置します。"
   ]
  },
  {
   "cell_type": "code",
   "execution_count": 22,
   "id": "f024f8dd",
   "metadata": {
    "execution": {
     "iopub.execute_input": "2025-08-31T17:20:24.438173Z",
     "iopub.status.busy": "2025-08-31T17:20:24.437513Z",
     "iopub.status.idle": "2025-08-31T17:20:24.444432Z",
     "shell.execute_reply": "2025-08-31T17:20:24.442854Z"
    }
   },
   "outputs": [],
   "source": [
    "from matplotlib import font_manager\n",
    "\n",
    "fonts_before = font_manager.fontManager.get_font_names()"
   ]
  },
  {
   "cell_type": "code",
   "execution_count": 23,
   "id": "5a9868eb",
   "metadata": {
    "execution": {
     "iopub.execute_input": "2025-08-31T17:20:24.448931Z",
     "iopub.status.busy": "2025-08-31T17:20:24.448411Z",
     "iopub.status.idle": "2025-08-31T17:20:24.455484Z",
     "shell.execute_reply": "2025-08-31T17:20:24.453964Z"
    }
   },
   "outputs": [
    {
     "name": "stdout",
     "output_type": "stream",
     "text": [
      "False\n"
     ]
    }
   ],
   "source": [
    "print(\"IPAexGothic\" in fonts_before)"
   ]
  },
  {
   "cell_type": "code",
   "execution_count": 24,
   "id": "4c0b0bb2",
   "metadata": {
    "execution": {
     "iopub.execute_input": "2025-08-31T17:20:24.459350Z",
     "iopub.status.busy": "2025-08-31T17:20:24.458925Z",
     "iopub.status.idle": "2025-08-31T17:20:24.609205Z",
     "shell.execute_reply": "2025-08-31T17:20:24.607265Z"
    }
   },
   "outputs": [
    {
     "ename": "FileNotFoundError",
     "evalue": "[Errno 2] No such file or directory: 'data/ipaexg00401/ipaexg.ttf'",
     "output_type": "error",
     "traceback": [
      "\u001b[31m---------------------------------------------------------------------------\u001b[39m",
      "\u001b[31mFileNotFoundError\u001b[39m                         Traceback (most recent call last)",
      "\u001b[36mCell\u001b[39m\u001b[36m \u001b[39m\u001b[32mIn[24]\u001b[39m\u001b[32m, line 4\u001b[39m\n\u001b[32m      1\u001b[39m \u001b[38;5;28;01mfrom\u001b[39;00m\u001b[38;5;250m \u001b[39m\u001b[34;01mpathlib\u001b[39;00m\u001b[38;5;250m \u001b[39m\u001b[38;5;28;01mimport\u001b[39;00m Path\n\u001b[32m      3\u001b[39m font_path = Path(\u001b[33m\"\u001b[39m\u001b[33mdata/ipaexg00401/ipaexg.ttf\u001b[39m\u001b[33m\"\u001b[39m)\n\u001b[32m----> \u001b[39m\u001b[32m4\u001b[39m \u001b[43mfont_manager\u001b[49m\u001b[43m.\u001b[49m\u001b[43mfontManager\u001b[49m\u001b[43m.\u001b[49m\u001b[43maddfont\u001b[49m\u001b[43m(\u001b[49m\u001b[43mfont_path\u001b[49m\u001b[43m)\u001b[49m\n",
      "\u001b[36mFile \u001b[39m\u001b[32m~/workspace/musashiuniv/musashiuniv_manuscript/.venv/lib/python3.12/site-packages/matplotlib/font_manager.py:1136\u001b[39m, in \u001b[36mFontManager.addfont\u001b[39m\u001b[34m(self, path)\u001b[39m\n\u001b[32m   1134\u001b[39m     \u001b[38;5;28mself\u001b[39m.afmlist.append(prop)\n\u001b[32m   1135\u001b[39m \u001b[38;5;28;01melse\u001b[39;00m:\n\u001b[32m-> \u001b[39m\u001b[32m1136\u001b[39m     font = \u001b[43mft2font\u001b[49m\u001b[43m.\u001b[49m\u001b[43mFT2Font\u001b[49m\u001b[43m(\u001b[49m\u001b[43mpath\u001b[49m\u001b[43m)\u001b[49m\n\u001b[32m   1137\u001b[39m     prop = ttfFontProperty(font)\n\u001b[32m   1138\u001b[39m     \u001b[38;5;28mself\u001b[39m.ttflist.append(prop)\n",
      "\u001b[31mFileNotFoundError\u001b[39m: [Errno 2] No such file or directory: 'data/ipaexg00401/ipaexg.ttf'"
     ]
    }
   ],
   "source": [
    "from pathlib import Path\n",
    "\n",
    "font_path = Path(\"data/ipaexg00401/ipaexg.ttf\")\n",
    "font_manager.fontManager.addfont(font_path)"
   ]
  },
  {
   "cell_type": "code",
   "execution_count": 25,
   "id": "4adf90a1",
   "metadata": {
    "execution": {
     "iopub.execute_input": "2025-08-31T17:20:24.613503Z",
     "iopub.status.busy": "2025-08-31T17:20:24.613067Z",
     "iopub.status.idle": "2025-08-31T17:20:24.621288Z",
     "shell.execute_reply": "2025-08-31T17:20:24.619404Z"
    }
   },
   "outputs": [
    {
     "name": "stdout",
     "output_type": "stream",
     "text": [
      "False\n"
     ]
    }
   ],
   "source": [
    "fonts_after = font_manager.fontManager.get_font_names()\n",
    "print(\"IPAexGothic\" in fonts_after)"
   ]
  },
  {
   "cell_type": "code",
   "execution_count": 26,
   "id": "a26f4f92",
   "metadata": {
    "execution": {
     "iopub.execute_input": "2025-08-31T17:20:24.625953Z",
     "iopub.status.busy": "2025-08-31T17:20:24.625385Z",
     "iopub.status.idle": "2025-08-31T17:20:24.632300Z",
     "shell.execute_reply": "2025-08-31T17:20:24.630701Z"
    }
   },
   "outputs": [],
   "source": [
    "import matplotlib as mpl\n",
    "\n",
    "mpl.rc(\"font\", family=\"IPAexGothic\")"
   ]
  },
  {
   "cell_type": "code",
   "execution_count": 27,
   "id": "fdaac19d",
   "metadata": {
    "execution": {
     "iopub.execute_input": "2025-08-31T17:20:24.637328Z",
     "iopub.status.busy": "2025-08-31T17:20:24.636837Z",
     "iopub.status.idle": "2025-08-31T17:20:24.925265Z",
     "shell.execute_reply": "2025-08-31T17:20:24.923669Z"
    }
   },
   "outputs": [
    {
     "name": "stderr",
     "output_type": "stream",
     "text": [
      "findfont: Font family 'IPAexGothic' not found.\n"
     ]
    },
    {
     "name": "stderr",
     "output_type": "stream",
     "text": [
      "findfont: Font family 'IPAexGothic' not found.\n"
     ]
    },
    {
     "name": "stderr",
     "output_type": "stream",
     "text": [
      "findfont: Font family 'IPAexGothic' not found.\n"
     ]
    },
    {
     "name": "stderr",
     "output_type": "stream",
     "text": [
      "findfont: Font family 'IPAexGothic' not found.\n"
     ]
    },
    {
     "name": "stderr",
     "output_type": "stream",
     "text": [
      "findfont: Font family 'IPAexGothic' not found.\n"
     ]
    },
    {
     "name": "stderr",
     "output_type": "stream",
     "text": [
      "findfont: Font family 'IPAexGothic' not found.\n"
     ]
    },
    {
     "name": "stderr",
     "output_type": "stream",
     "text": [
      "findfont: Font family 'IPAexGothic' not found.\n"
     ]
    },
    {
     "name": "stderr",
     "output_type": "stream",
     "text": [
      "findfont: Font family 'IPAexGothic' not found.\n"
     ]
    },
    {
     "name": "stderr",
     "output_type": "stream",
     "text": [
      "findfont: Font family 'IPAexGothic' not found.\n"
     ]
    },
    {
     "name": "stderr",
     "output_type": "stream",
     "text": [
      "/home/homata/workspace/musashiuniv/musashiuniv_manuscript/.venv/lib/python3.12/site-packages/IPython/core/pylabtools.py:170: UserWarning: Glyph 26085 (\\N{CJK UNIFIED IDEOGRAPH-65E5}) missing from font(s) DejaVu Sans.\n",
      "  fig.canvas.print_figure(bytes_io, **kw)\n",
      "/home/homata/workspace/musashiuniv/musashiuniv_manuscript/.venv/lib/python3.12/site-packages/IPython/core/pylabtools.py:170: UserWarning: Glyph 26412 (\\N{CJK UNIFIED IDEOGRAPH-672C}) missing from font(s) DejaVu Sans.\n",
      "  fig.canvas.print_figure(bytes_io, **kw)\n",
      "/home/homata/workspace/musashiuniv/musashiuniv_manuscript/.venv/lib/python3.12/site-packages/IPython/core/pylabtools.py:170: UserWarning: Glyph 35486 (\\N{CJK UNIFIED IDEOGRAPH-8A9E}) missing from font(s) DejaVu Sans.\n",
      "  fig.canvas.print_figure(bytes_io, **kw)\n",
      "/home/homata/workspace/musashiuniv/musashiuniv_manuscript/.venv/lib/python3.12/site-packages/IPython/core/pylabtools.py:170: UserWarning: Glyph 12398 (\\N{HIRAGANA LETTER NO}) missing from font(s) DejaVu Sans.\n",
      "  fig.canvas.print_figure(bytes_io, **kw)\n",
      "/home/homata/workspace/musashiuniv/musashiuniv_manuscript/.venv/lib/python3.12/site-packages/IPython/core/pylabtools.py:170: UserWarning: Glyph 12479 (\\N{KATAKANA LETTER TA}) missing from font(s) DejaVu Sans.\n",
      "  fig.canvas.print_figure(bytes_io, **kw)\n",
      "/home/homata/workspace/musashiuniv/musashiuniv_manuscript/.venv/lib/python3.12/site-packages/IPython/core/pylabtools.py:170: UserWarning: Glyph 12452 (\\N{KATAKANA LETTER I}) missing from font(s) DejaVu Sans.\n",
      "  fig.canvas.print_figure(bytes_io, **kw)\n",
      "/home/homata/workspace/musashiuniv/musashiuniv_manuscript/.venv/lib/python3.12/site-packages/IPython/core/pylabtools.py:170: UserWarning: Glyph 12488 (\\N{KATAKANA LETTER TO}) missing from font(s) DejaVu Sans.\n",
      "  fig.canvas.print_figure(bytes_io, **kw)\n",
      "/home/homata/workspace/musashiuniv/musashiuniv_manuscript/.venv/lib/python3.12/site-packages/IPython/core/pylabtools.py:170: UserWarning: Glyph 12523 (\\N{KATAKANA LETTER RU}) missing from font(s) DejaVu Sans.\n",
      "  fig.canvas.print_figure(bytes_io, **kw)\n",
      "findfont: Font family 'IPAexGothic' not found.\n"
     ]
    },
    {
     "name": "stderr",
     "output_type": "stream",
     "text": [
      "findfont: Font family 'IPAexGothic' not found.\n"
     ]
    },
    {
     "name": "stderr",
     "output_type": "stream",
     "text": [
      "findfont: Font family 'IPAexGothic' not found.\n"
     ]
    },
    {
     "name": "stderr",
     "output_type": "stream",
     "text": [
      "findfont: Font family 'IPAexGothic' not found.\n"
     ]
    },
    {
     "name": "stderr",
     "output_type": "stream",
     "text": [
      "findfont: Font family 'IPAexGothic' not found.\n"
     ]
    },
    {
     "name": "stderr",
     "output_type": "stream",
     "text": [
      "findfont: Font family 'IPAexGothic' not found.\n"
     ]
    },
    {
     "name": "stderr",
     "output_type": "stream",
     "text": [
      "findfont: Font family 'IPAexGothic' not found.\n"
     ]
    },
    {
     "name": "stderr",
     "output_type": "stream",
     "text": [
      "findfont: Font family 'IPAexGothic' not found.\n"
     ]
    },
    {
     "name": "stderr",
     "output_type": "stream",
     "text": [
      "findfont: Font family 'IPAexGothic' not found.\n"
     ]
    },
    {
     "name": "stderr",
     "output_type": "stream",
     "text": [
      "findfont: Font family 'IPAexGothic' not found.\n"
     ]
    },
    {
     "name": "stderr",
     "output_type": "stream",
     "text": [
      "findfont: Font family 'IPAexGothic' not found.\n"
     ]
    },
    {
     "name": "stderr",
     "output_type": "stream",
     "text": [
      "findfont: Font family 'IPAexGothic' not found.\n"
     ]
    },
    {
     "name": "stderr",
     "output_type": "stream",
     "text": [
      "findfont: Font family 'IPAexGothic' not found.\n"
     ]
    },
    {
     "name": "stderr",
     "output_type": "stream",
     "text": [
      "findfont: Font family 'IPAexGothic' not found.\n"
     ]
    },
    {
     "name": "stderr",
     "output_type": "stream",
     "text": [
      "findfont: Font family 'IPAexGothic' not found.\n"
     ]
    },
    {
     "name": "stderr",
     "output_type": "stream",
     "text": [
      "findfont: Font family 'IPAexGothic' not found.\n"
     ]
    },
    {
     "name": "stderr",
     "output_type": "stream",
     "text": [
      "findfont: Font family 'IPAexGothic' not found.\n"
     ]
    },
    {
     "name": "stderr",
     "output_type": "stream",
     "text": [
      "findfont: Font family 'IPAexGothic' not found.\n"
     ]
    },
    {
     "name": "stderr",
     "output_type": "stream",
     "text": [
      "findfont: Font family 'IPAexGothic' not found.\n"
     ]
    },
    {
     "name": "stderr",
     "output_type": "stream",
     "text": [
      "findfont: Font family 'IPAexGothic' not found.\n"
     ]
    },
    {
     "name": "stderr",
     "output_type": "stream",
     "text": [
      "findfont: Font family 'IPAexGothic' not found.\n"
     ]
    },
    {
     "name": "stderr",
     "output_type": "stream",
     "text": [
      "findfont: Font family 'IPAexGothic' not found.\n"
     ]
    },
    {
     "data": {
      "image/png": "[encoded data removed]",
      "text/plain": [
       "<Figure size 640x480 with 1 Axes>"
      ]
     },
     "metadata": {},
     "output_type": "display_data"
    }
   ],
   "source": [
    "import matplotlib.pyplot as plt\n",
    "\n",
    "plt.plot([0, 1])\n",
    "plt.title(\"日本語のタイトル\")\n",
    "plt.show()"
   ]
  },
  {
   "cell_type": "code",
   "execution_count": 28,
   "id": "b131c2b8f48e7f43",
   "metadata": {
    "collapsed": false,
    "execution": {
     "iopub.execute_input": "2025-08-31T17:20:24.931193Z",
     "iopub.status.busy": "2025-08-31T17:20:24.929944Z",
     "iopub.status.idle": "2025-08-31T17:20:24.940658Z",
     "shell.execute_reply": "2025-08-31T17:20:24.938361Z"
    }
   },
   "outputs": [
    {
     "data": {
      "text/plain": [
       "'/home/homata/workspace/musashiuniv/musashiuniv_manuscript/.venv/lib/python3.12/site-packages/matplotlib/mpl-data/matplotlibrc'"
      ]
     },
     "execution_count": 28,
     "metadata": {},
     "output_type": "execute_result"
    }
   ],
   "source": [
    "mpl.matplotlib_fname()"
   ]
  }
 ],
 "metadata": {
  "kernelspec": {
   "display_name": "venv",
   "language": "python",
   "name": "python3"
  },
  "language_info": {
   "codemirror_mode": {
    "name": "ipython",
    "version": 3
   },
   "file_extension": ".py",
   "mimetype": "text/x-python",
   "name": "python",
   "nbconvert_exporter": "python",
   "pygments_lexer": "ipython3",
   "version": "3.12.3"
  }
 },
 "nbformat": 4,
 "nbformat_minor": 5
}
